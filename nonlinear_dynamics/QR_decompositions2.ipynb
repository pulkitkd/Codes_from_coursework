{
 "cells": [
  {
   "cell_type": "markdown",
   "metadata": {},
   "source": [
    "# IAM 961 HW4: QR decomp\n",
    "\n",
    "Due Wednesday Oct 28, 2020. Some basic Julia syntax tips are provided at the end of this notebook.\n",
    "\n",
    "## Problem 1.\n",
    "Write the following Julia functions for computing the QR decomposition of a matrix\n",
    "  + `qrcgs(A)` via Classical Gram-Schmidt orthogonalization,\n",
    "  + `qrmgs(A)` via Modified Gram-Schmidt orthogonalization, and\n",
    "  + `qrhouse(A)` via Householder triangularization.\n",
    "  \n",
    "Each function should return the two matrices Q and R. If you want you can assume A is square."
   ]
  },
  {
   "cell_type": "code",
   "execution_count": 1,
   "metadata": {},
   "outputs": [
    {
     "data": {
      "text/plain": [
       "qrhouse (generic function with 1 method)"
      ]
     },
     "execution_count": 1,
     "metadata": {},
     "output_type": "execute_result"
    }
   ],
   "source": [
    "using LinearAlgebra\n",
    "\n",
    "m = 50\n",
    "A = randn(m,m)\n",
    "\n",
    "function qrcgs(A)\n",
    "    # Assuming A is a square matrix\n",
    "    m = size(A)[1]\n",
    "    Q = zeros(m,m)\n",
    "    R = zeros(m,m)\n",
    "\n",
    "    for i in 1:m\n",
    "        v = A[:,i]\n",
    "        for j = 1:i-1\n",
    "            R[j,i] = dot(Q[:,j], A[:,i])\n",
    "            v = v - R[j,i]*Q[:,j]\n",
    "        end\n",
    "        R[i,i] = norm(v)\n",
    "        Q[:,i] = v/norm(v)\n",
    "    end\n",
    "    \n",
    "    return Q, R\n",
    "end\n",
    "\n",
    "function qrmgs(A)\n",
    "    Q = zeros(m,m)\n",
    "    R = zeros(m,m)\n",
    "\n",
    "    for i in 1:m\n",
    "        v = A[:,i]\n",
    "        for j = 1:i-1\n",
    "            R[j,i] = dot(Q[:,j], v)\n",
    "            v = v - R[j,i]*Q[:,j]\n",
    "        end\n",
    "        R[i,i] = norm(v)\n",
    "        Q[:,i] = v/norm(v)\n",
    "    end\n",
    "    \n",
    "    return Q, R\n",
    "end\n",
    "\n",
    "function qrhouse(A)\n",
    "    Q = 1.0*Matrix(I,m,m)\n",
    "    R = deepcopy(A)\n",
    "    \n",
    "    for i in 1:m-1\n",
    "        #create the unit vector along which reflection is desired\n",
    "        e = zeros(m-i+1)\n",
    "        e[1] = 1.0\n",
    "\n",
    "        #create the projection matrix about plane perpendicular to v\n",
    "        #this reflects the ith column of A and gives the ith column of Q \n",
    "        v = R[i:end,i] + sign(R[i,i])*norm(R[i:end,i])*e\n",
    "        v = v/norm(v)\n",
    "        F = I - 2*v*v'\n",
    "\n",
    "        #create Qi = Qi-1 * ... Q3 * Q2 * Q1\n",
    "        #it has the form Q = [I 0;0 F]\n",
    "        Q1 = 1.0*Matrix(I, m, m)\n",
    "        Q1[i:end,i:end] = F[1:end,1:end]\n",
    "        Q = Q1*Q\n",
    "\n",
    "        #create R\n",
    "        R[i:end,i:end] = F*R[i:end,i:end]\n",
    "    end\n",
    "    Q = Q';\n",
    "    return Q, R\n",
    "end  "
   ]
  },
  {
   "cell_type": "markdown",
   "metadata": {},
   "source": [
    "## Problem 2.\n",
    "Test that your QR algorithms work correctly on a fairly small and well-conditioned matrix (e.g. a 5 x 5 matrix with normally distributed elements, `A = randn(5,5)`).  You should test that $Q$ is unitary and that $QR \\approx A$. Verify to your own satisfaction that $R$ is upper-triangular. Make these tests as compact and readable as you can!"
   ]
  },
  {
   "cell_type": "code",
   "execution_count": 2,
   "metadata": {
    "scrolled": false
   },
   "outputs": [
    {
     "name": "stdout",
     "output_type": "stream",
     "text": [
      "CGS works \n",
      "MGS works \n",
      "Householder works \n"
     ]
    }
   ],
   "source": [
    "(Q1,R1) = qrcgs(A);\n",
    "(Q2,R2) = qrmgs(A);\n",
    "(Q3,R3) = qrhouse(A);\n",
    "\n",
    "#Check for CGS\n",
    "testC1 = Q1*R1 - A; #QR = A ?\n",
    "testC2 = Q1[:,1]'*Q1[:,2:end] #Q is unitary ?\n",
    "testC3 = R1 - UpperTriangular(R1) #R is upper triangular ?\n",
    "\n",
    "#Check for MGS\n",
    "testM1 = Q2*R2 - A;\n",
    "testM2 = Q2[:,1]'*Q2[:,2:end]\n",
    "testM3 = R2 - UpperTriangular(R2)\n",
    "\n",
    "#Checks for Householder\n",
    "testH1 = Q3*R3 - A;\n",
    "testH2 = Q3[:,1]'*Q3[:,2:end]\n",
    "testH3 = R3 - UpperTriangular(R3)\n",
    "\n",
    "tol = 10^(-13)\n",
    "if norm(testC1) > tol\n",
    "    print(\"Error! CGS algorithm did not yield QR = A\\n\")\n",
    "elseif norm(testC3) > tol\n",
    "    print(\"Error! CGS algorithm did not yield a unitary Q\")\n",
    "elseif norm(testC3) > tol\n",
    "    print(\"Error! CGS algorithm did not yield an upper triangular R\\n\")\n",
    "    else \n",
    "    print(\"CGS works \\n\")\n",
    "end\n",
    "\n",
    "if norm(testM1) > tol\n",
    "    print(\"Error! MGS algorithm did not yield QR = A\\n\")\n",
    "elseif norm(testM2) > tol\n",
    "    print(\"Error! MGS algorithm did not yield a unitary Q\")\n",
    "elseif norm(testM3) > tol\n",
    "    print(\"Error! MGS algorithm did not yield an upper triangular R\\n\")\n",
    "    else \n",
    "    print(\"MGS works \\n\")\n",
    "end\n",
    "\n",
    "if norm(testH1) > tol\n",
    "    print(\"Error! Householder algorithm did not yield QR = A \\n\")\n",
    "elseif norm(testH2) > tol\n",
    "    print(\"Error! Householder algorithm did not yield a unitary Q\")\n",
    "elseif norm(testH3) > tol\n",
    "    print(\"Error! Householder algorithm did not yield an upper triangular R\\n\")\n",
    "    else \n",
    "    print(\"Householder works \\n\")\n",
    "end"
   ]
  },
  {
   "cell_type": "markdown",
   "metadata": {},
   "source": [
    "## Problem 3. \n",
    "Write a `backsub(R,b)` function that returns the solution $x$ of the upper-triangular system $Rx=b$ by backsubstitution. You can assume that $R$ is square and nonsingular. Test your backsubstitution function by solving an $Ax=b$ problem with your 5 x 5 $A$ matrix, one of your QR algorithms, and a known solution $x$. \n"
   ]
  },
  {
   "cell_type": "code",
   "execution_count": 3,
   "metadata": {},
   "outputs": [
    {
     "data": {
      "text/plain": [
       "backsub (generic function with 1 method)"
      ]
     },
     "execution_count": 3,
     "metadata": {},
     "output_type": "execute_result"
    }
   ],
   "source": [
    "function backsub(A, b)\n",
    "    A = UpperTriangular(A)\n",
    "    x = zeros(m)\n",
    "    for i in m:-1:1\n",
    "        temp = 0\n",
    "        for j in i+1:m\n",
    "            temp = temp + A[i,j]*x[j]\n",
    "        end\n",
    "        x[i] = (b[i] - temp)/A[i,i]\n",
    "    end\n",
    "    return x\n",
    "end"
   ]
  },
  {
   "cell_type": "markdown",
   "metadata": {},
   "source": [
    "\\begin{align}\n",
    "Ax &= b\\\\\n",
    "\\Rightarrow QRx &= b\\\\\n",
    "\\Rightarrow Rx &= Q^T b\n",
    "\\end{align}"
   ]
  },
  {
   "cell_type": "code",
   "execution_count": 4,
   "metadata": {},
   "outputs": [
    {
     "name": "stdout",
     "output_type": "stream",
     "text": [
      "backsub() works"
     ]
    }
   ],
   "source": [
    "# backsub() check-1: against an unknown solution\n",
    "\n",
    "m = 50\n",
    "A = randn(m, m)\n",
    "b = randn(m)\n",
    "(Q, R) = qrhouse(A)\n",
    "x = backsub(R, Q'*b)\n",
    "if norm(R*x - Q'*b) > tol\n",
    "    print(\"Error! backsub() is not working correctly\")\n",
    "else\n",
    "    print(\"backsub() works\")\n",
    "end"
   ]
  },
  {
   "cell_type": "code",
   "execution_count": 5,
   "metadata": {},
   "outputs": [
    {
     "name": "stdout",
     "output_type": "stream",
     "text": [
      "backsub() works"
     ]
    }
   ],
   "source": [
    "# backsub check-2: against a known solution\n",
    "\n",
    "m = 30\n",
    "x = ones(m)\n",
    "y = zeros(m)\n",
    "A = randn(m, m)\n",
    "b = A*x\n",
    "(Q, R) = qrhouse(A)\n",
    "b = Q'*b\n",
    "# check for backsub\n",
    "if norm(x - backsub(R,b)) > tol\n",
    "    print(\"Error! backsub() is not working correctly\")\n",
    "else\n",
    "    print(\"backsub() works\")\n",
    "end"
   ]
  },
  {
   "cell_type": "markdown",
   "metadata": {},
   "source": [
    "## Problem 4. \n",
    "Write a function `A = randommatrix(m,n kappa)` function that returns an m x n\n",
    "random matrix with condition number kappa and exponentially graded singular values\n",
    "(i.e. $\\sigma_1/\\sigma_m = \\kappa$ and $\\sigma_{j+1}/\\sigma_{j} = \\text{const}$). \n",
    "You can use the Matlab code at the top of pg 65 in Trefethen and Bau as a starting \n",
    "point. Test that it works by constructing a 4 x 4 matrix with kappa=10^8 and then \n",
    "computing its condition number. "
   ]
  },
  {
   "cell_type": "code",
   "execution_count": 6,
   "metadata": {},
   "outputs": [
    {
     "data": {
      "text/plain": [
       "randommatrix (generic function with 1 method)"
      ]
     },
     "execution_count": 6,
     "metadata": {},
     "output_type": "execute_result"
    }
   ],
   "source": [
    "function randommatrix(m, kappa)\n",
    "    S = zeros(m, m)\n",
    "    (U,X) = qrhouse(randn(m,m))\n",
    "    (V,X) = qrhouse(randn(m,m))\n",
    "    for i in 1:m\n",
    "        S[i,i] = kappa^(1 - ((i-1)/(m-1)))\n",
    "    end\n",
    "    return U*S*V'\n",
    "end"
   ]
  },
  {
   "cell_type": "code",
   "execution_count": 7,
   "metadata": {},
   "outputs": [
    {
     "data": {
      "text/plain": [
       "9.999999960638475e7"
      ]
     },
     "execution_count": 7,
     "metadata": {},
     "output_type": "execute_result"
    }
   ],
   "source": [
    "# check that randommatrix works i.e. yields a matrix with correct condition number\n",
    "m = 4;\n",
    "kappa = 10^8;\n",
    "U = zeros(m,m);\n",
    "S = zeros(m,m);\n",
    "V = zeros(m,m);\n",
    "A = randommatrix(m, kappa);\n",
    "(U1,S1,V1) = svd(A)\n",
    "kappa1 = S1[1]/S1[m]"
   ]
  },
  {
   "cell_type": "markdown",
   "metadata": {},
   "source": [
    "## Problem 5.\n",
    "Solve a large number of random $Ax=b$ problems using your QR decompositions\n",
    "and `randommatrix` and `backsubstitution` functions, and produce a scatter \n",
    "plot of the normalized solution error  $\\|\\hat{x}-x\\|/\\|x\\|$ versus $\\kappa$. \n",
    "Plot data points from CGS in blue, MGS in red, and Householder in green.\n",
    "\n",
    "Specifically: Construct a random $A$ matrix with $\\kappa = 10^n$ where $n$ is \n",
    "a random real-valued number uniformly distributed between 0 and 18. \n",
    "Select a random $x$ vector with `x = randn(m,1)`, and then set $b = Ax$. For each of\n",
    "the CGS, MGS, and Householder QR algorithms, compute the numerical solution $\\hat{x}$ \n",
    "of $Ax=b$ via QR and then plot $\\|\\hat{x}-x\\|/\\|x\\|$ versus $\\kappa$ using log-log axes\n",
    "and the color scheme specified above.  Do this for a hundred or so random $Ax=b$ problems and \n",
    "for a fairly small value of $m$ (perhaps 10 or 20). "
   ]
  },
  {
   "cell_type": "code",
   "execution_count": 8,
   "metadata": {},
   "outputs": [],
   "source": [
    "m = 15\n",
    "\n",
    "pts = 101 #no of points desired in each plot\n",
    "p = 18 #exponent of largest condition number\n",
    "\n",
    "data = zeros(pts,4)\n",
    "\n",
    "for i in 0:pts-1\n",
    "    kappa = 10^(i*p/(pts-1))\n",
    "    A = randommatrix(m, kappa)\n",
    "    x = rand(m)\n",
    "    b = A*x\n",
    "    data[i+1,1] = kappa\n",
    "    \n",
    "    (Q,R) = qrcgs(A)\n",
    "    xhat = backsub(R,Q'*b)\n",
    "    data[i+1,2] = norm(xhat-x)/norm(x)\n",
    "    \n",
    "    (Q,R) = qrmgs(A)\n",
    "    xhat = backsub(R,Q'*b)\n",
    "    data[i+1,3] = norm(xhat-x)/norm(x)\n",
    "    \n",
    "    (Q,R) = qrhouse(A)\n",
    "    xhat = backsub(R,Q'*b)\n",
    "    data[i+1,4] = norm(xhat-x)/norm(x)\n",
    "end"
   ]
  },
  {
   "cell_type": "code",
   "execution_count": 9,
   "metadata": {},
   "outputs": [],
   "source": [
    "using Plots"
   ]
  },
  {
   "cell_type": "code",
   "execution_count": 10,
   "metadata": {},
   "outputs": [
    {
     "data": {
      "image/svg+xml": [
       "<?xml version=\"1.0\" encoding=\"utf-8\"?>\n",
       "<svg xmlns=\"http://www.w3.org/2000/svg\" xmlns:xlink=\"http://www.w3.org/1999/xlink\" width=\"600\" height=\"400\" viewBox=\"0 0 2400 1600\">\n",
       "<defs>\n",
       "  <clipPath id=\"clip160\">\n",
       "    <rect x=\"0\" y=\"0\" width=\"2400\" height=\"1600\"/>\n",
       "  </clipPath>\n",
       "</defs>\n",
       "<path clip-path=\"url(#clip160)\" d=\"\n",
       "M0 1600 L2400 1600 L2400 0 L0 0  Z\n",
       "  \" fill=\"#ffffff\" fill-rule=\"evenodd\" fill-opacity=\"1\"/>\n",
       "<defs>\n",
       "  <clipPath id=\"clip161\">\n",
       "    <rect x=\"480\" y=\"0\" width=\"1681\" height=\"1600\"/>\n",
       "  </clipPath>\n",
       "</defs>\n",
       "<path clip-path=\"url(#clip160)\" d=\"\n",
       "M300.144 1423.18 L2352.76 1423.18 L2352.76 123.472 L300.144 123.472  Z\n",
       "  \" fill=\"#ffffff\" fill-rule=\"evenodd\" fill-opacity=\"1\"/>\n",
       "<defs>\n",
       "  <clipPath id=\"clip162\">\n",
       "    <rect x=\"300\" y=\"123\" width=\"2054\" height=\"1301\"/>\n",
       "  </clipPath>\n",
       "</defs>\n",
       "<polyline clip-path=\"url(#clip162)\" style=\"stroke:#000000; stroke-width:2; stroke-opacity:0.1; fill:none\" points=\"\n",
       "  358.236,1423.18 358.236,123.472 \n",
       "  \"/>\n",
       "<polyline clip-path=\"url(#clip162)\" style=\"stroke:#000000; stroke-width:2; stroke-opacity:0.1; fill:none\" points=\"\n",
       "  896.133,1423.18 896.133,123.472 \n",
       "  \"/>\n",
       "<polyline clip-path=\"url(#clip162)\" style=\"stroke:#000000; stroke-width:2; stroke-opacity:0.1; fill:none\" points=\"\n",
       "  1434.03,1423.18 1434.03,123.472 \n",
       "  \"/>\n",
       "<polyline clip-path=\"url(#clip162)\" style=\"stroke:#000000; stroke-width:2; stroke-opacity:0.1; fill:none\" points=\"\n",
       "  1971.93,1423.18 1971.93,123.472 \n",
       "  \"/>\n",
       "<polyline clip-path=\"url(#clip162)\" style=\"stroke:#000000; stroke-width:2; stroke-opacity:0.1; fill:none\" points=\"\n",
       "  300.144,1357.29 2352.76,1357.29 \n",
       "  \"/>\n",
       "<polyline clip-path=\"url(#clip162)\" style=\"stroke:#000000; stroke-width:2; stroke-opacity:0.1; fill:none\" points=\"\n",
       "  300.144,1165.91 2352.76,1165.91 \n",
       "  \"/>\n",
       "<polyline clip-path=\"url(#clip162)\" style=\"stroke:#000000; stroke-width:2; stroke-opacity:0.1; fill:none\" points=\"\n",
       "  300.144,974.532 2352.76,974.532 \n",
       "  \"/>\n",
       "<polyline clip-path=\"url(#clip162)\" style=\"stroke:#000000; stroke-width:2; stroke-opacity:0.1; fill:none\" points=\"\n",
       "  300.144,783.152 2352.76,783.152 \n",
       "  \"/>\n",
       "<polyline clip-path=\"url(#clip162)\" style=\"stroke:#000000; stroke-width:2; stroke-opacity:0.1; fill:none\" points=\"\n",
       "  300.144,591.771 2352.76,591.771 \n",
       "  \"/>\n",
       "<polyline clip-path=\"url(#clip162)\" style=\"stroke:#000000; stroke-width:2; stroke-opacity:0.1; fill:none\" points=\"\n",
       "  300.144,400.391 2352.76,400.391 \n",
       "  \"/>\n",
       "<polyline clip-path=\"url(#clip162)\" style=\"stroke:#000000; stroke-width:2; stroke-opacity:0.1; fill:none\" points=\"\n",
       "  300.144,209.01 2352.76,209.01 \n",
       "  \"/>\n",
       "<polyline clip-path=\"url(#clip160)\" style=\"stroke:#000000; stroke-width:4; stroke-opacity:1; fill:none\" points=\"\n",
       "  300.144,1423.18 2352.76,1423.18 \n",
       "  \"/>\n",
       "<polyline clip-path=\"url(#clip160)\" style=\"stroke:#000000; stroke-width:4; stroke-opacity:1; fill:none\" points=\"\n",
       "  300.144,1423.18 300.144,123.472 \n",
       "  \"/>\n",
       "<polyline clip-path=\"url(#clip160)\" style=\"stroke:#000000; stroke-width:4; stroke-opacity:1; fill:none\" points=\"\n",
       "  358.236,1423.18 358.236,1407.58 \n",
       "  \"/>\n",
       "<polyline clip-path=\"url(#clip160)\" style=\"stroke:#000000; stroke-width:4; stroke-opacity:1; fill:none\" points=\"\n",
       "  896.133,1423.18 896.133,1407.58 \n",
       "  \"/>\n",
       "<polyline clip-path=\"url(#clip160)\" style=\"stroke:#000000; stroke-width:4; stroke-opacity:1; fill:none\" points=\"\n",
       "  1434.03,1423.18 1434.03,1407.58 \n",
       "  \"/>\n",
       "<polyline clip-path=\"url(#clip160)\" style=\"stroke:#000000; stroke-width:4; stroke-opacity:1; fill:none\" points=\"\n",
       "  1971.93,1423.18 1971.93,1407.58 \n",
       "  \"/>\n",
       "<polyline clip-path=\"url(#clip160)\" style=\"stroke:#000000; stroke-width:4; stroke-opacity:1; fill:none\" points=\"\n",
       "  300.144,1357.29 324.775,1357.29 \n",
       "  \"/>\n",
       "<polyline clip-path=\"url(#clip160)\" style=\"stroke:#000000; stroke-width:4; stroke-opacity:1; fill:none\" points=\"\n",
       "  300.144,1165.91 324.775,1165.91 \n",
       "  \"/>\n",
       "<polyline clip-path=\"url(#clip160)\" style=\"stroke:#000000; stroke-width:4; stroke-opacity:1; fill:none\" points=\"\n",
       "  300.144,974.532 324.775,974.532 \n",
       "  \"/>\n",
       "<polyline clip-path=\"url(#clip160)\" style=\"stroke:#000000; stroke-width:4; stroke-opacity:1; fill:none\" points=\"\n",
       "  300.144,783.152 324.775,783.152 \n",
       "  \"/>\n",
       "<polyline clip-path=\"url(#clip160)\" style=\"stroke:#000000; stroke-width:4; stroke-opacity:1; fill:none\" points=\"\n",
       "  300.144,591.771 324.775,591.771 \n",
       "  \"/>\n",
       "<polyline clip-path=\"url(#clip160)\" style=\"stroke:#000000; stroke-width:4; stroke-opacity:1; fill:none\" points=\"\n",
       "  300.144,400.391 324.775,400.391 \n",
       "  \"/>\n",
       "<polyline clip-path=\"url(#clip160)\" style=\"stroke:#000000; stroke-width:4; stroke-opacity:1; fill:none\" points=\"\n",
       "  300.144,209.01 324.775,209.01 \n",
       "  \"/>\n",
       "<path clip-path=\"url(#clip160)\" d=\"M 0 0 M325.407 1494.25 L333.046 1494.25 L333.046 1467.89 L324.735 1469.55 L324.735 1465.29 L332.999 1463.63 L337.675 1463.63 L337.675 1494.25 L345.314 1494.25 L345.314 1498.19 L325.407 1498.19 L325.407 1494.25 Z\" fill=\"#000000\" fill-rule=\"evenodd\" fill-opacity=\"1\" /><path clip-path=\"url(#clip160)\" d=\"M 0 0 M360.383 1466.71 Q356.772 1466.71 354.944 1470.27 Q353.138 1473.81 353.138 1480.94 Q353.138 1488.05 354.944 1491.61 Q356.772 1495.15 360.383 1495.15 Q364.018 1495.15 365.823 1491.61 Q367.652 1488.05 367.652 1480.94 Q367.652 1473.81 365.823 1470.27 Q364.018 1466.71 360.383 1466.71 M360.383 1463 Q366.194 1463 369.249 1467.61 Q372.328 1472.19 372.328 1480.94 Q372.328 1489.67 369.249 1494.28 Q366.194 1498.86 360.383 1498.86 Q354.573 1498.86 351.495 1494.28 Q348.439 1489.67 348.439 1480.94 Q348.439 1472.19 351.495 1467.61 Q354.573 1463 360.383 1463 Z\" fill=\"#000000\" fill-rule=\"evenodd\" fill-opacity=\"1\" /><path clip-path=\"url(#clip160)\" d=\"M 0 0 M382.033 1445.2 Q379.099 1445.2 377.613 1448.09 Q376.146 1450.97 376.146 1456.76 Q376.146 1462.54 377.613 1465.44 Q379.099 1468.31 382.033 1468.31 Q384.985 1468.31 386.452 1465.44 Q387.938 1462.54 387.938 1456.76 Q387.938 1450.97 386.452 1448.09 Q384.985 1445.2 382.033 1445.2 M382.033 1442.19 Q386.753 1442.19 389.236 1445.93 Q391.737 1449.66 391.737 1456.76 Q391.737 1463.86 389.236 1467.6 Q386.753 1471.32 382.033 1471.32 Q377.312 1471.32 374.81 1467.6 Q372.328 1463.86 372.328 1456.76 Q372.328 1449.66 374.81 1445.93 Q377.312 1442.19 382.033 1442.19 Z\" fill=\"#000000\" fill-rule=\"evenodd\" fill-opacity=\"1\" /><path clip-path=\"url(#clip160)\" d=\"M 0 0 M863.924 1494.25 L871.563 1494.25 L871.563 1467.89 L863.252 1469.55 L863.252 1465.29 L871.516 1463.63 L876.192 1463.63 L876.192 1494.25 L883.831 1494.25 L883.831 1498.19 L863.924 1498.19 L863.924 1494.25 Z\" fill=\"#000000\" fill-rule=\"evenodd\" fill-opacity=\"1\" /><path clip-path=\"url(#clip160)\" d=\"M 0 0 M898.9 1466.71 Q895.289 1466.71 893.461 1470.27 Q891.655 1473.81 891.655 1480.94 Q891.655 1488.05 893.461 1491.61 Q895.289 1495.15 898.9 1495.15 Q902.535 1495.15 904.34 1491.61 Q906.169 1488.05 906.169 1480.94 Q906.169 1473.81 904.34 1470.27 Q902.535 1466.71 898.9 1466.71 M898.9 1463 Q904.711 1463 907.766 1467.61 Q910.845 1472.19 910.845 1480.94 Q910.845 1489.67 907.766 1494.28 Q904.711 1498.86 898.9 1498.86 Q893.09 1498.86 890.012 1494.28 Q886.956 1489.67 886.956 1480.94 Q886.956 1472.19 890.012 1467.61 Q893.09 1463 898.9 1463 Z\" fill=\"#000000\" fill-rule=\"evenodd\" fill-opacity=\"1\" /><path clip-path=\"url(#clip160)\" d=\"M 0 0 M912.03 1442.7 L926.944 1442.7 L926.944 1445.89 L915.509 1445.89 L915.509 1452.78 Q916.337 1452.5 917.164 1452.36 Q917.992 1452.21 918.819 1452.21 Q923.521 1452.21 926.267 1454.79 Q929.013 1457.37 929.013 1461.77 Q929.013 1466.3 926.192 1468.82 Q923.371 1471.32 918.236 1471.32 Q916.468 1471.32 914.625 1471.02 Q912.801 1470.72 910.845 1470.12 L910.845 1466.3 Q912.537 1467.22 914.343 1467.67 Q916.149 1468.12 918.161 1468.12 Q921.415 1468.12 923.314 1466.41 Q925.214 1464.7 925.214 1461.77 Q925.214 1458.83 923.314 1457.12 Q921.415 1455.41 918.161 1455.41 Q916.638 1455.41 915.114 1455.75 Q913.609 1456.09 912.03 1456.8 L912.03 1442.7 Z\" fill=\"#000000\" fill-rule=\"evenodd\" fill-opacity=\"1\" /><path clip-path=\"url(#clip160)\" d=\"M 0 0 M1391.57 1494.25 L1399.21 1494.25 L1399.21 1467.89 L1390.9 1469.55 L1390.9 1465.29 L1399.16 1463.63 L1403.84 1463.63 L1403.84 1494.25 L1411.48 1494.25 L1411.48 1498.19 L1391.57 1498.19 L1391.57 1494.25 Z\" fill=\"#000000\" fill-rule=\"evenodd\" fill-opacity=\"1\" /><path clip-path=\"url(#clip160)\" d=\"M 0 0 M1426.55 1466.71 Q1422.94 1466.71 1421.11 1470.27 Q1419.3 1473.81 1419.3 1480.94 Q1419.3 1488.05 1421.11 1491.61 Q1422.94 1495.15 1426.55 1495.15 Q1430.18 1495.15 1431.99 1491.61 Q1433.81 1488.05 1433.81 1480.94 Q1433.81 1473.81 1431.99 1470.27 Q1430.18 1466.71 1426.55 1466.71 M1426.55 1463 Q1432.36 1463 1435.41 1467.61 Q1438.49 1472.19 1438.49 1480.94 Q1438.49 1489.67 1435.41 1494.28 Q1432.36 1498.86 1426.55 1498.86 Q1420.74 1498.86 1417.66 1494.28 Q1414.6 1489.67 1414.6 1480.94 Q1414.6 1472.19 1417.66 1467.61 Q1420.74 1463 1426.55 1463 Z\" fill=\"#000000\" fill-rule=\"evenodd\" fill-opacity=\"1\" /><path clip-path=\"url(#clip160)\" d=\"M 0 0 M1439.04 1467.58 L1445.24 1467.58 L1445.24 1446.16 L1438.49 1447.51 L1438.49 1444.05 L1445.21 1442.7 L1449 1442.7 L1449 1467.58 L1455.21 1467.58 L1455.21 1470.78 L1439.04 1470.78 L1439.04 1467.58 Z\" fill=\"#000000\" fill-rule=\"evenodd\" fill-opacity=\"1\" /><path clip-path=\"url(#clip160)\" d=\"M 0 0 M1467.45 1445.2 Q1464.52 1445.2 1463.03 1448.09 Q1461.57 1450.97 1461.57 1456.76 Q1461.57 1462.54 1463.03 1465.44 Q1464.52 1468.31 1467.45 1468.31 Q1470.41 1468.31 1471.87 1465.44 Q1473.36 1462.54 1473.36 1456.76 Q1473.36 1450.97 1471.87 1448.09 Q1470.41 1445.2 1467.45 1445.2 M1467.45 1442.19 Q1472.18 1442.19 1474.66 1445.93 Q1477.16 1449.66 1477.16 1456.76 Q1477.16 1463.86 1474.66 1467.6 Q1472.18 1471.32 1467.45 1471.32 Q1462.73 1471.32 1460.23 1467.6 Q1457.75 1463.86 1457.75 1456.76 Q1457.75 1449.66 1460.23 1445.93 Q1462.73 1442.19 1467.45 1442.19 Z\" fill=\"#000000\" fill-rule=\"evenodd\" fill-opacity=\"1\" /><path clip-path=\"url(#clip160)\" d=\"M 0 0 M1929.87 1494.25 L1937.51 1494.25 L1937.51 1467.89 L1929.2 1469.55 L1929.2 1465.29 L1937.46 1463.63 L1942.14 1463.63 L1942.14 1494.25 L1949.78 1494.25 L1949.78 1498.19 L1929.87 1498.19 L1929.87 1494.25 Z\" fill=\"#000000\" fill-rule=\"evenodd\" fill-opacity=\"1\" /><path clip-path=\"url(#clip160)\" d=\"M 0 0 M1964.85 1466.71 Q1961.24 1466.71 1959.41 1470.27 Q1957.6 1473.81 1957.6 1480.94 Q1957.6 1488.05 1959.41 1491.61 Q1961.24 1495.15 1964.85 1495.15 Q1968.48 1495.15 1970.29 1491.61 Q1972.12 1488.05 1972.12 1480.94 Q1972.12 1473.81 1970.29 1470.27 Q1968.48 1466.71 1964.85 1466.71 M1964.85 1463 Q1970.66 1463 1973.71 1467.61 Q1976.79 1472.19 1976.79 1480.94 Q1976.79 1489.67 1973.71 1494.28 Q1970.66 1498.86 1964.85 1498.86 Q1959.04 1498.86 1955.96 1494.28 Q1952.9 1489.67 1952.9 1480.94 Q1952.9 1472.19 1955.96 1467.61 Q1959.04 1463 1964.85 1463 Z\" fill=\"#000000\" fill-rule=\"evenodd\" fill-opacity=\"1\" /><path clip-path=\"url(#clip160)\" d=\"M 0 0 M1977.34 1467.58 L1983.54 1467.58 L1983.54 1446.16 L1976.79 1447.51 L1976.79 1444.05 L1983.51 1442.7 L1987.31 1442.7 L1987.31 1467.58 L1993.51 1467.58 L1993.51 1470.78 L1977.34 1470.78 L1977.34 1467.58 Z\" fill=\"#000000\" fill-rule=\"evenodd\" fill-opacity=\"1\" /><path clip-path=\"url(#clip160)\" d=\"M 0 0 M1997.67 1442.7 L2012.58 1442.7 L2012.58 1445.89 L2001.15 1445.89 L2001.15 1452.78 Q2001.98 1452.5 2002.8 1452.36 Q2003.63 1452.21 2004.46 1452.21 Q2009.16 1452.21 2011.91 1454.79 Q2014.65 1457.37 2014.65 1461.77 Q2014.65 1466.3 2011.83 1468.82 Q2009.01 1471.32 2003.87 1471.32 Q2002.11 1471.32 2000.26 1471.02 Q1998.44 1470.72 1996.48 1470.12 L1996.48 1466.3 Q1998.18 1467.22 1999.98 1467.67 Q2001.79 1468.12 2003.8 1468.12 Q2007.05 1468.12 2008.95 1466.41 Q2010.85 1464.7 2010.85 1461.77 Q2010.85 1458.83 2008.95 1457.12 Q2007.05 1455.41 2003.8 1455.41 Q2002.28 1455.41 2000.75 1455.75 Q1999.25 1456.09 1997.67 1456.8 L1997.67 1442.7 Z\" fill=\"#000000\" fill-rule=\"evenodd\" fill-opacity=\"1\" /><path clip-path=\"url(#clip160)\" d=\"M 0 0 M167.251 1377.09 L174.89 1377.09 L174.89 1350.72 L166.58 1352.39 L166.58 1348.13 L174.844 1346.46 L179.519 1346.46 L179.519 1377.09 L187.158 1377.09 L187.158 1381.02 L167.251 1381.02 L167.251 1377.09 Z\" fill=\"#000000\" fill-rule=\"evenodd\" fill-opacity=\"1\" /><path clip-path=\"url(#clip160)\" d=\"M 0 0 M202.228 1349.54 Q198.617 1349.54 196.788 1353.1 Q194.982 1356.65 194.982 1363.78 Q194.982 1370.88 196.788 1374.45 Q198.617 1377.99 202.228 1377.99 Q205.862 1377.99 207.667 1374.45 Q209.496 1370.88 209.496 1363.78 Q209.496 1356.65 207.667 1353.1 Q205.862 1349.54 202.228 1349.54 M202.228 1345.84 Q208.038 1345.84 211.093 1350.44 Q214.172 1355.03 214.172 1363.78 Q214.172 1372.5 211.093 1377.11 Q208.038 1381.69 202.228 1381.69 Q196.417 1381.69 193.339 1377.11 Q190.283 1372.5 190.283 1363.78 Q190.283 1355.03 193.339 1350.44 Q196.417 1345.84 202.228 1345.84 Z\" fill=\"#000000\" fill-rule=\"evenodd\" fill-opacity=\"1\" /><path clip-path=\"url(#clip160)\" d=\"M 0 0 M214.172 1341.52 L224.309 1341.52 L224.309 1344.6 L214.172 1344.6 L214.172 1341.52 Z\" fill=\"#000000\" fill-rule=\"evenodd\" fill-opacity=\"1\" /><path clip-path=\"url(#clip160)\" d=\"M 0 0 M238.829 1350.41 L245.036 1350.41 L245.036 1328.99 L238.284 1330.34 L238.284 1326.88 L244.998 1325.53 L248.797 1325.53 L248.797 1350.41 L255.004 1350.41 L255.004 1353.61 L238.829 1353.61 L238.829 1350.41 Z\" fill=\"#000000\" fill-rule=\"evenodd\" fill-opacity=\"1\" /><path clip-path=\"url(#clip160)\" d=\"M 0 0 M259.16 1325.53 L274.075 1325.53 L274.075 1328.73 L262.64 1328.73 L262.64 1335.61 Q263.467 1335.33 264.295 1335.2 Q265.122 1335.05 265.95 1335.05 Q270.652 1335.05 273.398 1337.62 Q276.144 1340.2 276.144 1344.6 Q276.144 1349.13 273.322 1351.65 Q270.501 1354.16 265.367 1354.16 Q263.599 1354.16 261.756 1353.85 Q259.931 1353.55 257.975 1352.95 L257.975 1349.13 Q259.668 1350.06 261.474 1350.51 Q263.279 1350.96 265.292 1350.96 Q268.545 1350.96 270.445 1349.25 Q272.344 1347.54 272.344 1344.6 Q272.344 1341.67 270.445 1339.96 Q268.545 1338.24 265.292 1338.24 Q263.768 1338.24 262.245 1338.58 Q260.74 1338.92 259.16 1339.64 L259.16 1325.53 Z\" fill=\"#000000\" fill-rule=\"evenodd\" fill-opacity=\"1\" /><path clip-path=\"url(#clip160)\" d=\"M 0 0 M166.442 1185.7 L174.081 1185.7 L174.081 1159.34 L165.771 1161.01 L165.771 1156.75 L174.035 1155.08 L178.711 1155.08 L178.711 1185.7 L186.35 1185.7 L186.35 1189.64 L166.442 1189.64 L166.442 1185.7 Z\" fill=\"#000000\" fill-rule=\"evenodd\" fill-opacity=\"1\" /><path clip-path=\"url(#clip160)\" d=\"M 0 0 M201.419 1158.16 Q197.808 1158.16 195.979 1161.72 Q194.174 1165.27 194.174 1172.39 Q194.174 1179.5 195.979 1183.07 Q197.808 1186.61 201.419 1186.61 Q205.053 1186.61 206.859 1183.07 Q208.687 1179.5 208.687 1172.39 Q208.687 1165.27 206.859 1161.72 Q205.053 1158.16 201.419 1158.16 M201.419 1154.46 Q207.229 1154.46 210.285 1159.06 Q213.363 1163.64 213.363 1172.39 Q213.363 1181.12 210.285 1185.73 Q207.229 1190.31 201.419 1190.31 Q195.609 1190.31 192.53 1185.73 Q189.475 1181.12 189.475 1172.39 Q189.475 1163.64 192.53 1159.06 Q195.609 1154.46 201.419 1154.46 Z\" fill=\"#000000\" fill-rule=\"evenodd\" fill-opacity=\"1\" /><path clip-path=\"url(#clip160)\" d=\"M 0 0 M213.363 1150.14 L223.501 1150.14 L223.501 1153.22 L213.363 1153.22 L213.363 1150.14 Z\" fill=\"#000000\" fill-rule=\"evenodd\" fill-opacity=\"1\" /><path clip-path=\"url(#clip160)\" d=\"M 0 0 M238.02 1159.03 L244.227 1159.03 L244.227 1137.61 L237.475 1138.96 L237.475 1135.5 L244.189 1134.15 L247.988 1134.15 L247.988 1159.03 L254.195 1159.03 L254.195 1162.23 L238.02 1162.23 L238.02 1159.03 Z\" fill=\"#000000\" fill-rule=\"evenodd\" fill-opacity=\"1\" /><path clip-path=\"url(#clip160)\" d=\"M 0 0 M266.439 1136.65 Q263.505 1136.65 262.019 1139.55 Q260.552 1142.43 260.552 1148.22 Q260.552 1153.99 262.019 1156.89 Q263.505 1159.77 266.439 1159.77 Q269.392 1159.77 270.859 1156.89 Q272.344 1153.99 272.344 1148.22 Q272.344 1142.43 270.859 1139.55 Q269.392 1136.65 266.439 1136.65 M266.439 1133.64 Q271.16 1133.64 273.642 1137.38 Q276.144 1141.11 276.144 1148.22 Q276.144 1155.31 273.642 1159.05 Q271.16 1162.78 266.439 1162.78 Q261.718 1162.78 259.217 1159.05 Q256.734 1155.31 256.734 1148.22 Q256.734 1141.11 259.217 1137.38 Q261.718 1133.64 266.439 1133.64 Z\" fill=\"#000000\" fill-rule=\"evenodd\" fill-opacity=\"1\" /><path clip-path=\"url(#clip160)\" d=\"M 0 0 M186.943 994.324 L194.582 994.324 L194.582 967.959 L186.271 969.626 L186.271 965.366 L194.535 963.7 L199.211 963.7 L199.211 994.324 L206.85 994.324 L206.85 998.26 L186.943 998.26 L186.943 994.324 Z\" fill=\"#000000\" fill-rule=\"evenodd\" fill-opacity=\"1\" /><path clip-path=\"url(#clip160)\" d=\"M 0 0 M221.919 966.778 Q218.308 966.778 216.48 970.343 Q214.674 973.885 214.674 981.014 Q214.674 988.121 216.48 991.686 Q218.308 995.227 221.919 995.227 Q225.554 995.227 227.359 991.686 Q229.188 988.121 229.188 981.014 Q229.188 973.885 227.359 970.343 Q225.554 966.778 221.919 966.778 M221.919 963.075 Q227.73 963.075 230.785 967.681 Q233.864 972.264 233.864 981.014 Q233.864 989.741 230.785 994.348 Q227.73 998.931 221.919 998.931 Q216.109 998.931 213.031 994.348 Q209.975 989.741 209.975 981.014 Q209.975 972.264 213.031 967.681 Q216.109 963.075 221.919 963.075 Z\" fill=\"#000000\" fill-rule=\"evenodd\" fill-opacity=\"1\" /><path clip-path=\"url(#clip160)\" d=\"M 0 0 M233.864 958.756 L244.001 958.756 L244.001 961.84 L233.864 961.84 L233.864 958.756 Z\" fill=\"#000000\" fill-rule=\"evenodd\" fill-opacity=\"1\" /><path clip-path=\"url(#clip160)\" d=\"M 0 0 M259.16 942.769 L274.075 942.769 L274.075 945.967 L262.64 945.967 L262.64 952.85 Q263.467 952.568 264.295 952.436 Q265.122 952.286 265.95 952.286 Q270.652 952.286 273.398 954.863 Q276.144 957.439 276.144 961.84 Q276.144 966.373 273.322 968.893 Q270.501 971.395 265.367 971.395 Q263.599 971.395 261.756 971.094 Q259.931 970.793 257.975 970.191 L257.975 966.373 Q259.668 967.295 261.474 967.746 Q263.279 968.197 265.292 968.197 Q268.545 968.197 270.445 966.486 Q272.344 964.774 272.344 961.84 Q272.344 958.906 270.445 957.195 Q268.545 955.483 265.292 955.483 Q263.768 955.483 262.245 955.822 Q260.74 956.16 259.16 956.875 L259.16 942.769 Z\" fill=\"#000000\" fill-rule=\"evenodd\" fill-opacity=\"1\" /><path clip-path=\"url(#clip160)\" d=\"M 0 0 M209.813 802.944 L217.452 802.944 L217.452 776.578 L209.142 778.245 L209.142 773.986 L217.406 772.319 L222.081 772.319 L222.081 802.944 L229.72 802.944 L229.72 806.879 L209.813 806.879 L209.813 802.944 Z\" fill=\"#000000\" fill-rule=\"evenodd\" fill-opacity=\"1\" /><path clip-path=\"url(#clip160)\" d=\"M 0 0 M244.79 775.398 Q241.179 775.398 239.35 778.963 Q237.544 782.504 237.544 789.634 Q237.544 796.74 239.35 800.305 Q241.179 803.847 244.79 803.847 Q248.424 803.847 250.229 800.305 Q252.058 796.74 252.058 789.634 Q252.058 782.504 250.229 778.963 Q248.424 775.398 244.79 775.398 M244.79 771.694 Q250.6 771.694 253.655 776.301 Q256.734 780.884 256.734 789.634 Q256.734 798.361 253.655 802.967 Q250.6 807.55 244.79 807.55 Q238.979 807.55 235.901 802.967 Q232.845 798.361 232.845 789.634 Q232.845 780.884 235.901 776.301 Q238.979 771.694 244.79 771.694 Z\" fill=\"#000000\" fill-rule=\"evenodd\" fill-opacity=\"1\" /><path clip-path=\"url(#clip160)\" d=\"M 0 0 M266.439 753.89 Q263.505 753.89 262.019 756.787 Q260.552 759.664 260.552 765.457 Q260.552 771.231 262.019 774.127 Q263.505 777.005 266.439 777.005 Q269.392 777.005 270.859 774.127 Q272.344 771.231 272.344 765.457 Q272.344 759.664 270.859 756.787 Q269.392 753.89 266.439 753.89 M266.439 750.881 Q271.16 750.881 273.642 754.624 Q276.144 758.348 276.144 765.457 Q276.144 772.548 273.642 776.29 Q271.16 780.014 266.439 780.014 Q261.718 780.014 259.217 776.29 Q256.734 772.548 256.734 765.457 Q256.734 758.348 259.217 754.624 Q261.718 750.881 266.439 750.881 Z\" fill=\"#000000\" fill-rule=\"evenodd\" fill-opacity=\"1\" /><path clip-path=\"url(#clip160)\" d=\"M 0 0 M211.054 611.564 L218.693 611.564 L218.693 585.198 L210.383 586.865 L210.383 582.605 L218.647 580.939 L223.323 580.939 L223.323 611.564 L230.962 611.564 L230.962 615.499 L211.054 615.499 L211.054 611.564 Z\" fill=\"#000000\" fill-rule=\"evenodd\" fill-opacity=\"1\" /><path clip-path=\"url(#clip160)\" d=\"M 0 0 M246.031 584.017 Q242.42 584.017 240.591 587.582 Q238.786 591.124 238.786 598.253 Q238.786 605.36 240.591 608.925 Q242.42 612.466 246.031 612.466 Q249.665 612.466 251.471 608.925 Q253.299 605.36 253.299 598.253 Q253.299 591.124 251.471 587.582 Q249.665 584.017 246.031 584.017 M246.031 580.314 Q251.841 580.314 254.897 584.92 Q257.975 589.503 257.975 598.253 Q257.975 606.98 254.897 611.587 Q251.841 616.17 246.031 616.17 Q240.221 616.17 237.142 611.587 Q234.087 606.98 234.087 598.253 Q234.087 589.503 237.142 584.92 Q240.221 580.314 246.031 580.314 Z\" fill=\"#000000\" fill-rule=\"evenodd\" fill-opacity=\"1\" /><path clip-path=\"url(#clip160)\" d=\"M 0 0 M259.16 560.008 L274.075 560.008 L274.075 563.206 L262.64 563.206 L262.64 570.089 Q263.467 569.807 264.295 569.676 Q265.122 569.525 265.95 569.525 Q270.652 569.525 273.398 572.102 Q276.144 574.678 276.144 579.079 Q276.144 583.612 273.322 586.132 Q270.501 588.634 265.367 588.634 Q263.599 588.634 261.756 588.333 Q259.931 588.032 257.975 587.43 L257.975 583.612 Q259.668 584.534 261.474 584.985 Q263.279 585.436 265.292 585.436 Q268.545 585.436 270.445 583.725 Q272.344 582.013 272.344 579.079 Q272.344 576.145 270.445 574.434 Q268.545 572.722 265.292 572.722 Q263.768 572.722 262.245 573.061 Q260.74 573.399 259.16 574.114 L259.16 560.008 Z\" fill=\"#000000\" fill-rule=\"evenodd\" fill-opacity=\"1\" /><path clip-path=\"url(#clip160)\" d=\"M 0 0 M190.554 420.183 L198.193 420.183 L198.193 393.817 L189.883 395.484 L189.883 391.225 L198.146 389.558 L202.822 389.558 L202.822 420.183 L210.461 420.183 L210.461 424.118 L190.554 424.118 L190.554 420.183 Z\" fill=\"#000000\" fill-rule=\"evenodd\" fill-opacity=\"1\" /><path clip-path=\"url(#clip160)\" d=\"M 0 0 M225.53 392.637 Q221.919 392.637 220.091 396.202 Q218.285 399.743 218.285 406.873 Q218.285 413.979 220.091 417.544 Q221.919 421.086 225.53 421.086 Q229.165 421.086 230.97 417.544 Q232.799 413.979 232.799 406.873 Q232.799 399.743 230.97 396.202 Q229.165 392.637 225.53 392.637 M225.53 388.933 Q231.341 388.933 234.396 393.54 Q237.475 398.123 237.475 406.873 Q237.475 415.6 234.396 420.206 Q231.341 424.79 225.53 424.79 Q219.72 424.79 216.642 420.206 Q213.586 415.6 213.586 406.873 Q213.586 398.123 216.642 393.54 Q219.72 388.933 225.53 388.933 Z\" fill=\"#000000\" fill-rule=\"evenodd\" fill-opacity=\"1\" /><path clip-path=\"url(#clip160)\" d=\"M 0 0 M238.02 393.511 L244.227 393.511 L244.227 372.088 L237.475 373.443 L237.475 369.982 L244.189 368.628 L247.988 368.628 L247.988 393.511 L254.195 393.511 L254.195 396.708 L238.02 396.708 L238.02 393.511 Z\" fill=\"#000000\" fill-rule=\"evenodd\" fill-opacity=\"1\" /><path clip-path=\"url(#clip160)\" d=\"M 0 0 M266.439 371.129 Q263.505 371.129 262.019 374.026 Q260.552 376.903 260.552 382.696 Q260.552 388.47 262.019 391.366 Q263.505 394.244 266.439 394.244 Q269.392 394.244 270.859 391.366 Q272.344 388.47 272.344 382.696 Q272.344 376.903 270.859 374.026 Q269.392 371.129 266.439 371.129 M266.439 368.12 Q271.16 368.12 273.642 371.863 Q276.144 375.587 276.144 382.696 Q276.144 389.787 273.642 393.529 Q271.16 397.253 266.439 397.253 Q261.718 397.253 259.217 393.529 Q256.734 389.787 256.734 382.696 Q256.734 375.587 259.217 371.863 Q261.718 368.12 266.439 368.12 Z\" fill=\"#000000\" fill-rule=\"evenodd\" fill-opacity=\"1\" /><path clip-path=\"url(#clip160)\" d=\"M 0 0 M191.363 228.803 L199.001 228.803 L199.001 202.437 L190.691 204.104 L190.691 199.844 L198.955 198.178 L203.631 198.178 L203.631 228.803 L211.27 228.803 L211.27 232.738 L191.363 232.738 L191.363 228.803 Z\" fill=\"#000000\" fill-rule=\"evenodd\" fill-opacity=\"1\" /><path clip-path=\"url(#clip160)\" d=\"M 0 0 M226.339 201.256 Q222.728 201.256 220.899 204.821 Q219.094 208.363 219.094 215.492 Q219.094 222.599 220.899 226.164 Q222.728 229.705 226.339 229.705 Q229.973 229.705 231.779 226.164 Q233.608 222.599 233.608 215.492 Q233.608 208.363 231.779 204.821 Q229.973 201.256 226.339 201.256 M226.339 197.553 Q232.149 197.553 235.205 202.159 Q238.284 206.743 238.284 215.492 Q238.284 224.219 235.205 228.826 Q232.149 233.409 226.339 233.409 Q220.529 233.409 217.45 228.826 Q214.395 224.219 214.395 215.492 Q214.395 206.743 217.45 202.159 Q220.529 197.553 226.339 197.553 Z\" fill=\"#000000\" fill-rule=\"evenodd\" fill-opacity=\"1\" /><path clip-path=\"url(#clip160)\" d=\"M 0 0 M238.829 202.13 L245.036 202.13 L245.036 180.708 L238.284 182.062 L238.284 178.602 L244.998 177.247 L248.797 177.247 L248.797 202.13 L255.004 202.13 L255.004 205.327 L238.829 205.327 L238.829 202.13 Z\" fill=\"#000000\" fill-rule=\"evenodd\" fill-opacity=\"1\" /><path clip-path=\"url(#clip160)\" d=\"M 0 0 M259.16 177.247 L274.075 177.247 L274.075 180.445 L262.64 180.445 L262.64 187.328 Q263.467 187.046 264.295 186.915 Q265.122 186.764 265.95 186.764 Q270.652 186.764 273.398 189.341 Q276.144 191.917 276.144 196.318 Q276.144 200.851 273.322 203.371 Q270.501 205.873 265.367 205.873 Q263.599 205.873 261.756 205.572 Q259.931 205.271 257.975 204.669 L257.975 200.851 Q259.668 201.773 261.474 202.224 Q263.279 202.675 265.292 202.675 Q268.545 202.675 270.445 200.964 Q272.344 199.252 272.344 196.318 Q272.344 193.384 270.445 191.673 Q268.545 189.961 265.292 189.961 Q263.768 189.961 262.245 190.3 Q260.74 190.639 259.16 191.353 L259.16 177.247 Z\" fill=\"#000000\" fill-rule=\"evenodd\" fill-opacity=\"1\" /><path clip-path=\"url(#clip160)\" d=\"M 0 0 M880.688 48.0275 L880.688 51.6733 L846.418 51.6733 Q846.904 59.3701 851.036 63.421 Q855.208 67.4314 862.621 67.4314 Q866.915 67.4314 870.926 66.3781 Q874.976 65.3249 878.946 63.2184 L878.946 70.267 Q874.936 71.9684 870.723 72.8596 Q866.51 73.7508 862.176 73.7508 Q851.319 73.7508 844.959 67.4314 Q838.64 61.1119 838.64 50.3365 Q838.64 39.1965 844.635 32.6746 Q850.671 26.1121 860.879 26.1121 Q870.034 26.1121 875.341 32.0264 Q880.688 37.9003 880.688 48.0275 M873.235 45.84 Q873.154 39.7232 869.791 36.0774 Q866.47 32.4315 860.96 32.4315 Q854.722 32.4315 850.955 35.9558 Q847.228 39.4801 846.661 45.8805 L873.235 45.84 Z\" fill=\"#000000\" fill-rule=\"evenodd\" fill-opacity=\"1\" /><path clip-path=\"url(#clip160)\" d=\"M 0 0 M914.797 34.1734 Q913.541 33.4443 912.042 33.1202 Q910.584 32.7556 908.802 32.7556 Q902.482 32.7556 899.079 36.8875 Q895.717 40.9789 895.717 48.6757 L895.717 72.576 L888.223 72.576 L888.223 27.2059 L895.717 27.2059 L895.717 34.2544 Q898.067 30.1225 901.834 28.1376 Q905.601 26.1121 910.989 26.1121 Q911.759 26.1121 912.69 26.2337 Q913.622 26.3147 914.756 26.5172 L914.797 34.1734 Z\" fill=\"#000000\" fill-rule=\"evenodd\" fill-opacity=\"1\" /><path clip-path=\"url(#clip160)\" d=\"M 0 0 M947.447 34.1734 Q946.191 33.4443 944.693 33.1202 Q943.234 32.7556 941.452 32.7556 Q935.132 32.7556 931.73 36.8875 Q928.367 40.9789 928.367 48.6757 L928.367 72.576 L920.873 72.576 L920.873 27.2059 L928.367 27.2059 L928.367 34.2544 Q930.717 30.1225 934.484 28.1376 Q938.252 26.1121 943.639 26.1121 Q944.409 26.1121 945.341 26.2337 Q946.272 26.3147 947.407 26.5172 L947.447 34.1734 Z\" fill=\"#000000\" fill-rule=\"evenodd\" fill-opacity=\"1\" /><path clip-path=\"url(#clip160)\" d=\"M 0 0 M971.023 32.4315 Q965.028 32.4315 961.544 37.1306 Q958.061 41.7891 958.061 49.9314 Q958.061 58.0738 961.504 62.7728 Q964.988 67.4314 971.023 67.4314 Q976.978 67.4314 980.462 62.7323 Q983.946 58.0333 983.946 49.9314 Q983.946 41.8701 980.462 37.1711 Q976.978 32.4315 971.023 32.4315 M971.023 26.1121 Q980.746 26.1121 986.295 32.4315 Q991.845 38.7509 991.845 49.9314 Q991.845 61.0714 986.295 67.4314 Q980.746 73.7508 971.023 73.7508 Q961.261 73.7508 955.711 67.4314 Q950.202 61.0714 950.202 49.9314 Q950.202 38.7509 955.711 32.4315 Q961.261 26.1121 971.023 26.1121 Z\" fill=\"#000000\" fill-rule=\"evenodd\" fill-opacity=\"1\" /><path clip-path=\"url(#clip160)\" d=\"M 0 0 M1025.95 34.1734 Q1024.7 33.4443 1023.2 33.1202 Q1021.74 32.7556 1019.96 32.7556 Q1013.64 32.7556 1010.24 36.8875 Q1006.87 40.9789 1006.87 48.6757 L1006.87 72.576 L999.38 72.576 L999.38 27.2059 L1006.87 27.2059 L1006.87 34.2544 Q1009.22 30.1225 1012.99 28.1376 Q1016.76 26.1121 1022.15 26.1121 Q1022.92 26.1121 1023.85 26.2337 Q1024.78 26.3147 1025.91 26.5172 L1025.95 34.1734 Z\" fill=\"#000000\" fill-rule=\"evenodd\" fill-opacity=\"1\" /><path clip-path=\"url(#clip160)\" d=\"M 0 0 M1054.8 27.2059 L1062.7 27.2059 L1076.87 65.2844 L1091.05 27.2059 L1098.95 27.2059 L1081.94 72.576 L1071.81 72.576 L1054.8 27.2059 Z\" fill=\"#000000\" fill-rule=\"evenodd\" fill-opacity=\"1\" /><path clip-path=\"url(#clip160)\" d=\"M 0 0 M1135.69 28.5427 L1135.69 35.5912 Q1132.53 33.9709 1129.13 33.1607 Q1125.73 32.3505 1122.08 32.3505 Q1116.53 32.3505 1113.74 34.0519 Q1110.98 35.7533 1110.98 39.156 Q1110.98 41.7486 1112.97 43.2475 Q1114.95 44.7058 1120.95 46.0426 L1123.5 46.6097 Q1131.44 48.3111 1134.76 51.4303 Q1138.12 54.509 1138.12 60.0587 Q1138.12 66.3781 1133.1 70.0644 Q1128.12 73.7508 1119.37 73.7508 Q1115.72 73.7508 1111.75 73.0216 Q1107.82 72.3329 1103.45 70.9151 L1103.45 63.2184 Q1107.58 65.3654 1111.59 66.4591 Q1115.6 67.5124 1119.53 67.5124 Q1124.8 67.5124 1127.63 65.73 Q1130.47 63.9071 1130.47 60.6258 Q1130.47 57.5877 1128.4 55.9673 Q1126.38 54.3469 1119.45 52.8481 L1116.86 52.2405 Q1109.93 50.7821 1106.85 47.7845 Q1103.77 44.7463 1103.77 39.4801 Q1103.77 33.0797 1108.31 29.5959 Q1112.85 26.1121 1121.19 26.1121 Q1125.32 26.1121 1128.97 26.7198 Q1132.61 27.3274 1135.69 28.5427 Z\" fill=\"#000000\" fill-rule=\"evenodd\" fill-opacity=\"1\" /><path clip-path=\"url(#clip160)\" d=\"M 0 0 M1204.96 28.9478 L1204.96 35.9153 Q1201.8 34.1734 1198.6 33.3227 Q1195.44 32.4315 1192.2 32.4315 Q1184.95 32.4315 1180.94 37.0496 Q1176.93 41.6271 1176.93 49.9314 Q1176.93 58.2358 1180.94 62.8538 Q1184.95 67.4314 1192.2 67.4314 Q1195.44 67.4314 1198.6 66.5807 Q1201.8 65.6895 1204.96 63.9476 L1204.96 70.8341 Q1201.84 72.2924 1198.48 73.0216 Q1195.16 73.7508 1191.39 73.7508 Q1181.14 73.7508 1175.11 67.3098 Q1169.07 60.8689 1169.07 49.9314 Q1169.07 38.832 1175.15 32.472 Q1181.27 26.1121 1191.88 26.1121 Q1195.32 26.1121 1198.6 26.8413 Q1201.88 27.5299 1204.96 28.9478 Z\" fill=\"#000000\" fill-rule=\"evenodd\" fill-opacity=\"1\" /><path clip-path=\"url(#clip160)\" d=\"M 0 0 M1230.36 32.4315 Q1224.37 32.4315 1220.88 37.1306 Q1217.4 41.7891 1217.4 49.9314 Q1217.4 58.0738 1220.84 62.7728 Q1224.33 67.4314 1230.36 67.4314 Q1236.32 67.4314 1239.8 62.7323 Q1243.28 58.0333 1243.28 49.9314 Q1243.28 41.8701 1239.8 37.1711 Q1236.32 32.4315 1230.36 32.4315 M1230.36 26.1121 Q1240.08 26.1121 1245.63 32.4315 Q1251.18 38.7509 1251.18 49.9314 Q1251.18 61.0714 1245.63 67.4314 Q1240.08 73.7508 1230.36 73.7508 Q1220.6 73.7508 1215.05 67.4314 Q1209.54 61.0714 1209.54 49.9314 Q1209.54 38.7509 1215.05 32.4315 Q1220.6 26.1121 1230.36 26.1121 Z\" fill=\"#000000\" fill-rule=\"evenodd\" fill-opacity=\"1\" /><path clip-path=\"url(#clip160)\" d=\"M 0 0 M1296.72 45.1919 L1296.72 72.576 L1289.26 72.576 L1289.26 45.4349 Q1289.26 38.994 1286.75 35.7938 Q1284.24 32.5936 1279.22 32.5936 Q1273.18 32.5936 1269.7 36.4419 Q1266.21 40.2903 1266.21 46.9338 L1266.21 72.576 L1258.72 72.576 L1258.72 27.2059 L1266.21 27.2059 L1266.21 34.2544 Q1268.89 30.163 1272.49 28.1376 Q1276.14 26.1121 1280.88 26.1121 Q1288.7 26.1121 1292.71 30.9732 Q1296.72 35.7938 1296.72 45.1919 Z\" fill=\"#000000\" fill-rule=\"evenodd\" fill-opacity=\"1\" /><path clip-path=\"url(#clip160)\" d=\"M 0 0 M1334.39 34.0924 L1334.39 9.54393 L1341.84 9.54393 L1341.84 72.576 L1334.39 72.576 L1334.39 65.7705 Q1332.04 69.8214 1328.43 71.8063 Q1324.87 73.7508 1319.85 73.7508 Q1311.62 73.7508 1306.44 67.1883 Q1301.29 60.6258 1301.29 49.9314 Q1301.29 39.2371 1306.44 32.6746 Q1311.62 26.1121 1319.85 26.1121 Q1324.87 26.1121 1328.43 28.0971 Q1332.04 30.0415 1334.39 34.0924 M1308.99 49.9314 Q1308.99 58.1548 1312.35 62.8538 Q1315.76 67.5124 1321.67 67.5124 Q1327.58 67.5124 1330.99 62.8538 Q1334.39 58.1548 1334.39 49.9314 Q1334.39 41.7081 1330.99 37.0496 Q1327.58 32.3505 1321.67 32.3505 Q1315.76 32.3505 1312.35 37.0496 Q1308.99 41.7081 1308.99 49.9314 Z\" fill=\"#000000\" fill-rule=\"evenodd\" fill-opacity=\"1\" /><path clip-path=\"url(#clip160)\" d=\"M 0 0 M1349.66 27.2059 L1357.12 27.2059 L1357.12 72.576 L1349.66 72.576 L1349.66 27.2059 M1349.66 9.54393 L1357.12 9.54393 L1357.12 18.9825 L1349.66 18.9825 L1349.66 9.54393 Z\" fill=\"#000000\" fill-rule=\"evenodd\" fill-opacity=\"1\" /><path clip-path=\"url(#clip160)\" d=\"M 0 0 M1372.31 14.324 L1372.31 27.2059 L1387.66 27.2059 L1387.66 32.9987 L1372.31 32.9987 L1372.31 57.6282 Q1372.31 63.1779 1373.8 64.7578 Q1375.34 66.3376 1380 66.3376 L1387.66 66.3376 L1387.66 72.576 L1380 72.576 Q1371.37 72.576 1368.09 69.3758 Q1364.81 66.1351 1364.81 57.6282 L1364.81 32.9987 L1359.34 32.9987 L1359.34 27.2059 L1364.81 27.2059 L1364.81 14.324 L1372.31 14.324 Z\" fill=\"#000000\" fill-rule=\"evenodd\" fill-opacity=\"1\" /><path clip-path=\"url(#clip160)\" d=\"M 0 0 M1395.48 27.2059 L1402.93 27.2059 L1402.93 72.576 L1395.48 72.576 L1395.48 27.2059 M1395.48 9.54393 L1402.93 9.54393 L1402.93 18.9825 L1395.48 18.9825 L1395.48 9.54393 Z\" fill=\"#000000\" fill-rule=\"evenodd\" fill-opacity=\"1\" /><path clip-path=\"url(#clip160)\" d=\"M 0 0 M1428.33 32.4315 Q1422.33 32.4315 1418.85 37.1306 Q1415.37 41.7891 1415.37 49.9314 Q1415.37 58.0738 1418.81 62.7728 Q1422.29 67.4314 1428.33 67.4314 Q1434.28 67.4314 1437.77 62.7323 Q1441.25 58.0333 1441.25 49.9314 Q1441.25 41.8701 1437.77 37.1711 Q1434.28 32.4315 1428.33 32.4315 M1428.33 26.1121 Q1438.05 26.1121 1443.6 32.4315 Q1449.15 38.7509 1449.15 49.9314 Q1449.15 61.0714 1443.6 67.4314 Q1438.05 73.7508 1428.33 73.7508 Q1418.57 73.7508 1413.02 67.4314 Q1407.51 61.0714 1407.51 49.9314 Q1407.51 38.7509 1413.02 32.4315 Q1418.57 26.1121 1428.33 26.1121 Z\" fill=\"#000000\" fill-rule=\"evenodd\" fill-opacity=\"1\" /><path clip-path=\"url(#clip160)\" d=\"M 0 0 M1494.68 45.1919 L1494.68 72.576 L1487.23 72.576 L1487.23 45.4349 Q1487.23 38.994 1484.72 35.7938 Q1482.21 32.5936 1477.18 32.5936 Q1471.15 32.5936 1467.66 36.4419 Q1464.18 40.2903 1464.18 46.9338 L1464.18 72.576 L1456.69 72.576 L1456.69 27.2059 L1464.18 27.2059 L1464.18 34.2544 Q1466.85 30.163 1470.46 28.1376 Q1474.11 26.1121 1478.84 26.1121 Q1486.66 26.1121 1490.67 30.9732 Q1494.68 35.7938 1494.68 45.1919 Z\" fill=\"#000000\" fill-rule=\"evenodd\" fill-opacity=\"1\" /><path clip-path=\"url(#clip160)\" d=\"M 0 0 M1566.59 45.1919 L1566.59 72.576 L1559.13 72.576 L1559.13 45.4349 Q1559.13 38.994 1556.62 35.7938 Q1554.11 32.5936 1549.09 32.5936 Q1543.05 32.5936 1539.57 36.4419 Q1536.08 40.2903 1536.08 46.9338 L1536.08 72.576 L1528.59 72.576 L1528.59 27.2059 L1536.08 27.2059 L1536.08 34.2544 Q1538.76 30.163 1542.36 28.1376 Q1546.01 26.1121 1550.75 26.1121 Q1558.57 26.1121 1562.58 30.9732 Q1566.59 35.7938 1566.59 45.1919 Z\" fill=\"#000000\" fill-rule=\"evenodd\" fill-opacity=\"1\" /><path clip-path=\"url(#clip160)\" d=\"M 0 0 M1573.64 54.671 L1573.64 27.2059 L1581.09 27.2059 L1581.09 54.3874 Q1581.09 60.8284 1583.6 64.0691 Q1586.11 67.2693 1591.14 67.2693 Q1597.17 67.2693 1600.66 63.421 Q1604.18 59.5726 1604.18 52.9291 L1604.18 27.2059 L1611.63 27.2059 L1611.63 72.576 L1604.18 72.576 L1604.18 65.6084 Q1601.47 69.7404 1597.86 71.7658 Q1594.3 73.7508 1589.56 73.7508 Q1581.74 73.7508 1577.69 68.8897 Q1573.64 64.0286 1573.64 54.671 M1592.39 26.1121 L1592.39 26.1121 Z\" fill=\"#000000\" fill-rule=\"evenodd\" fill-opacity=\"1\" /><path clip-path=\"url(#clip160)\" d=\"M 0 0 M1654.78 35.9153 Q1657.57 30.8922 1661.46 28.5022 Q1665.35 26.1121 1670.61 26.1121 Q1677.7 26.1121 1681.55 31.0947 Q1685.4 36.0368 1685.4 45.1919 L1685.4 72.576 L1677.91 72.576 L1677.91 45.4349 Q1677.91 38.913 1675.6 35.7533 Q1673.29 32.5936 1668.55 32.5936 Q1662.76 32.5936 1659.39 36.4419 Q1656.03 40.2903 1656.03 46.9338 L1656.03 72.576 L1648.54 72.576 L1648.54 45.4349 Q1648.54 38.8725 1646.23 35.7533 Q1643.92 32.5936 1639.1 32.5936 Q1633.39 32.5936 1630.02 36.4824 Q1626.66 40.3308 1626.66 46.9338 L1626.66 72.576 L1619.17 72.576 L1619.17 27.2059 L1626.66 27.2059 L1626.66 34.2544 Q1629.21 30.082 1632.78 28.0971 Q1636.34 26.1121 1641.25 26.1121 Q1646.19 26.1121 1649.63 28.6237 Q1653.11 31.1352 1654.78 35.9153 Z\" fill=\"#000000\" fill-rule=\"evenodd\" fill-opacity=\"1\" /><path clip-path=\"url(#clip160)\" d=\"M 0 0 M1725.79 49.9314 Q1725.79 41.7081 1722.39 37.0496 Q1719.02 32.3505 1713.11 32.3505 Q1707.19 32.3505 1703.79 37.0496 Q1700.43 41.7081 1700.43 49.9314 Q1700.43 58.1548 1703.79 62.8538 Q1707.19 67.5124 1713.11 67.5124 Q1719.02 67.5124 1722.39 62.8538 Q1725.79 58.1548 1725.79 49.9314 M1700.43 34.0924 Q1702.78 30.0415 1706.34 28.0971 Q1709.95 26.1121 1714.93 26.1121 Q1723.2 26.1121 1728.34 32.6746 Q1733.53 39.2371 1733.53 49.9314 Q1733.53 60.6258 1728.34 67.1883 Q1723.2 73.7508 1714.93 73.7508 Q1709.95 73.7508 1706.34 71.8063 Q1702.78 69.8214 1700.43 65.7705 L1700.43 72.576 L1692.94 72.576 L1692.94 9.54393 L1700.43 9.54393 L1700.43 34.0924 Z\" fill=\"#000000\" fill-rule=\"evenodd\" fill-opacity=\"1\" /><path clip-path=\"url(#clip160)\" d=\"M 0 0 M1780.15 48.0275 L1780.15 51.6733 L1745.88 51.6733 Q1746.37 59.3701 1750.5 63.421 Q1754.67 67.4314 1762.08 67.4314 Q1766.38 67.4314 1770.39 66.3781 Q1774.44 65.3249 1778.41 63.2184 L1778.41 70.267 Q1774.4 71.9684 1770.19 72.8596 Q1765.97 73.7508 1761.64 73.7508 Q1750.78 73.7508 1744.42 67.4314 Q1738.1 61.1119 1738.1 50.3365 Q1738.1 39.1965 1744.1 32.6746 Q1750.13 26.1121 1760.34 26.1121 Q1769.5 26.1121 1774.8 32.0264 Q1780.15 37.9003 1780.15 48.0275 M1772.7 45.84 Q1772.62 39.7232 1769.25 36.0774 Q1765.93 32.4315 1760.42 32.4315 Q1754.18 32.4315 1750.42 35.9558 Q1746.69 39.4801 1746.12 45.8805 L1772.7 45.84 Z\" fill=\"#000000\" fill-rule=\"evenodd\" fill-opacity=\"1\" /><path clip-path=\"url(#clip160)\" d=\"M 0 0 M1814.26 34.1734 Q1813 33.4443 1811.51 33.1202 Q1810.05 32.7556 1808.26 32.7556 Q1801.94 32.7556 1798.54 36.8875 Q1795.18 40.9789 1795.18 48.6757 L1795.18 72.576 L1787.69 72.576 L1787.69 27.2059 L1795.18 27.2059 L1795.18 34.2544 Q1797.53 30.1225 1801.3 28.1376 Q1805.06 26.1121 1810.45 26.1121 Q1811.22 26.1121 1812.15 26.2337 Q1813.08 26.3147 1814.22 26.5172 L1814.26 34.1734 Z\" fill=\"#000000\" fill-rule=\"evenodd\" fill-opacity=\"1\" /><path clip-path=\"url(#clip160)\" d=\"M 0 0 M1239.37 1506.52 L1245.26 1506.52 L1245.26 1535.77 L1262.73 1520.4 L1270.21 1520.4 L1251.3 1537.07 L1271 1556.04 L1263.37 1556.04 L1245.26 1538.63 L1245.26 1556.04 L1239.37 1556.04 L1239.37 1506.52 Z\" fill=\"#000000\" fill-rule=\"evenodd\" fill-opacity=\"1\" /><path clip-path=\"url(#clip160)\" d=\"M 0 0 M1292.2 1538.12 Q1285.1 1538.12 1282.37 1539.75 Q1279.63 1541.37 1279.63 1545.29 Q1279.63 1548.4 1281.67 1550.25 Q1283.74 1552.07 1287.27 1552.07 Q1292.14 1552.07 1295.07 1548.63 Q1298.03 1545.16 1298.03 1539.43 L1298.03 1538.12 L1292.2 1538.12 M1303.88 1535.71 L1303.88 1556.04 L1298.03 1556.04 L1298.03 1550.63 Q1296.02 1553.88 1293.03 1555.44 Q1290.04 1556.97 1285.71 1556.97 Q1280.23 1556.97 1276.99 1553.91 Q1273.77 1550.82 1273.77 1545.67 Q1273.77 1539.65 1277.78 1536.6 Q1281.83 1533.54 1289.82 1533.54 L1298.03 1533.54 L1298.03 1532.97 Q1298.03 1528.93 1295.35 1526.73 Q1292.71 1524.5 1287.91 1524.5 Q1284.85 1524.5 1281.95 1525.23 Q1279.06 1525.97 1276.38 1527.43 L1276.38 1522.02 Q1279.6 1520.78 1282.62 1520.17 Q1285.65 1519.54 1288.51 1519.54 Q1296.24 1519.54 1300.06 1523.55 Q1303.88 1527.56 1303.88 1535.71 Z\" fill=\"#000000\" fill-rule=\"evenodd\" fill-opacity=\"1\" /><path clip-path=\"url(#clip160)\" d=\"M 0 0 M1315.69 1550.7 L1315.69 1569.6 L1309.8 1569.6 L1309.8 1520.4 L1315.69 1520.4 L1315.69 1525.81 Q1317.54 1522.62 1320.34 1521.1 Q1323.17 1519.54 1327.09 1519.54 Q1333.58 1519.54 1337.62 1524.69 Q1341.7 1529.85 1341.7 1538.25 Q1341.7 1546.65 1337.62 1551.81 Q1333.58 1556.97 1327.09 1556.97 Q1323.17 1556.97 1320.34 1555.44 Q1317.54 1553.88 1315.69 1550.7 M1335.62 1538.25 Q1335.62 1531.79 1332.94 1528.13 Q1330.3 1524.44 1325.65 1524.44 Q1321.01 1524.44 1318.33 1528.13 Q1315.69 1531.79 1315.69 1538.25 Q1315.69 1544.71 1318.33 1548.4 Q1321.01 1552.07 1325.65 1552.07 Q1330.3 1552.07 1332.94 1548.4 Q1335.62 1544.71 1335.62 1538.25 Z\" fill=\"#000000\" fill-rule=\"evenodd\" fill-opacity=\"1\" /><path clip-path=\"url(#clip160)\" d=\"M 0 0 M1353.5 1550.7 L1353.5 1569.6 L1347.62 1569.6 L1347.62 1520.4 L1353.5 1520.4 L1353.5 1525.81 Q1355.35 1522.62 1358.15 1521.1 Q1360.98 1519.54 1364.9 1519.54 Q1371.39 1519.54 1375.43 1524.69 Q1379.51 1529.85 1379.51 1538.25 Q1379.51 1546.65 1375.43 1551.81 Q1371.39 1556.97 1364.9 1556.97 Q1360.98 1556.97 1358.15 1555.44 Q1355.35 1553.88 1353.5 1550.7 M1373.43 1538.25 Q1373.43 1531.79 1370.76 1528.13 Q1368.11 1524.44 1363.47 1524.44 Q1358.82 1524.44 1356.15 1528.13 Q1353.5 1531.79 1353.5 1538.25 Q1353.5 1544.71 1356.15 1548.4 Q1358.82 1552.07 1363.47 1552.07 Q1368.11 1552.07 1370.76 1548.4 Q1373.43 1544.71 1373.43 1538.25 Z\" fill=\"#000000\" fill-rule=\"evenodd\" fill-opacity=\"1\" /><path clip-path=\"url(#clip160)\" d=\"M 0 0 M1401.85 1538.12 Q1394.75 1538.12 1392.02 1539.75 Q1389.28 1541.37 1389.28 1545.29 Q1389.28 1548.4 1391.32 1550.25 Q1393.39 1552.07 1396.92 1552.07 Q1401.79 1552.07 1404.72 1548.63 Q1407.68 1545.16 1407.68 1539.43 L1407.68 1538.12 L1401.85 1538.12 M1413.53 1535.71 L1413.53 1556.04 L1407.68 1556.04 L1407.68 1550.63 Q1405.67 1553.88 1402.68 1555.44 Q1399.69 1556.97 1395.36 1556.97 Q1389.88 1556.97 1386.64 1553.91 Q1383.42 1550.82 1383.42 1545.67 Q1383.42 1539.65 1387.43 1536.6 Q1391.48 1533.54 1399.46 1533.54 L1407.68 1533.54 L1407.68 1532.97 Q1407.68 1528.93 1405 1526.73 Q1402.36 1524.5 1397.55 1524.5 Q1394.5 1524.5 1391.6 1525.23 Q1388.71 1525.97 1386.03 1527.43 L1386.03 1522.02 Q1389.25 1520.78 1392.27 1520.17 Q1395.29 1519.54 1398.16 1519.54 Q1405.89 1519.54 1409.71 1523.55 Q1413.53 1527.56 1413.53 1535.71 Z\" fill=\"#000000\" fill-rule=\"evenodd\" fill-opacity=\"1\" /><path clip-path=\"url(#clip160)\" d=\"M 0 0 M57.8307 943.879 Q57.2578 944.866 57.0032 946.044 Q56.7167 947.189 56.7167 948.59 Q56.7167 953.555 59.9632 956.229 Q63.1779 958.87 69.2253 958.87 L88.0042 958.87 L88.0042 964.759 L52.3562 964.759 L52.3562 958.87 L57.8944 958.87 Q54.6479 957.024 53.0883 954.064 Q51.4968 951.104 51.4968 946.871 Q51.4968 946.266 51.5923 945.534 Q51.656 944.802 51.8151 943.911 L57.8307 943.879 Z\" fill=\"#000000\" fill-rule=\"evenodd\" fill-opacity=\"1\" /><path clip-path=\"url(#clip160)\" d=\"M 0 0 M68.7161 908.677 L71.5806 908.677 L71.5806 935.604 Q77.6281 935.222 80.8109 931.975 Q83.9619 928.697 83.9619 922.872 Q83.9619 919.499 83.1344 916.347 Q82.3069 913.165 80.6518 910.045 L86.1899 910.045 Q87.5267 913.196 88.227 916.507 Q88.9272 919.817 88.9272 923.222 Q88.9272 931.753 83.9619 936.75 Q78.9967 941.715 70.5303 941.715 Q61.7774 941.715 56.6531 937.004 Q51.4968 932.262 51.4968 924.241 Q51.4968 917.048 56.1438 912.878 Q60.7589 908.677 68.7161 908.677 M66.9973 914.533 Q62.1912 914.597 59.3266 917.239 Q56.4621 919.849 56.4621 924.177 Q56.4621 929.079 59.2312 932.039 Q62.0002 934.967 67.0292 935.413 L66.9973 914.533 Z\" fill=\"#000000\" fill-rule=\"evenodd\" fill-opacity=\"1\" /><path clip-path=\"url(#clip160)\" d=\"M 0 0 M38.479 902.534 L38.479 896.677 L88.0042 896.677 L88.0042 902.534 L38.479 902.534 Z\" fill=\"#000000\" fill-rule=\"evenodd\" fill-opacity=\"1\" /><path clip-path=\"url(#clip160)\" d=\"M 0 0 M70.0847 874.334 Q70.0847 881.432 71.7079 884.169 Q73.3312 886.906 77.2461 886.906 Q80.3653 886.906 82.2114 884.869 Q84.0256 882.8 84.0256 879.267 Q84.0256 874.397 80.5881 871.469 Q77.1188 868.509 71.3897 868.509 L70.0847 868.509 L70.0847 874.334 M67.6657 862.653 L88.0042 862.653 L88.0042 868.509 L82.5933 868.509 Q85.8398 870.514 87.3994 873.506 Q88.9272 876.498 88.9272 880.827 Q88.9272 886.301 85.8716 889.548 Q82.7843 892.763 77.6281 892.763 Q71.6125 892.763 68.5569 888.752 Q65.5014 884.71 65.5014 876.721 L65.5014 868.509 L64.9285 868.509 Q60.8862 868.509 58.6901 871.183 Q56.4621 873.825 56.4621 878.631 Q56.4621 881.686 57.1941 884.583 Q57.9262 887.479 59.3903 890.153 L53.9795 890.153 Q52.7381 886.938 52.1334 883.914 Q51.4968 880.891 51.4968 878.026 Q51.4968 870.292 55.5072 866.472 Q59.5176 862.653 67.6657 862.653 Z\" fill=\"#000000\" fill-rule=\"evenodd\" fill-opacity=\"1\" /><path clip-path=\"url(#clip160)\" d=\"M 0 0 M42.2347 850.717 L52.3562 850.717 L52.3562 838.654 L56.9077 838.654 L56.9077 850.717 L76.2594 850.717 Q80.6199 850.717 81.8613 849.539 Q83.1026 848.33 83.1026 844.67 L83.1026 838.654 L88.0042 838.654 L88.0042 844.67 Q88.0042 851.449 85.4897 854.027 Q82.9434 856.605 76.2594 856.605 L56.9077 856.605 L56.9077 860.902 L52.3562 860.902 L52.3562 856.605 L42.2347 856.605 L42.2347 850.717 Z\" fill=\"#000000\" fill-rule=\"evenodd\" fill-opacity=\"1\" /><path clip-path=\"url(#clip160)\" d=\"M 0 0 M52.3562 832.511 L52.3562 826.655 L88.0042 826.655 L88.0042 832.511 L52.3562 832.511 M38.479 832.511 L38.479 826.655 L45.895 826.655 L45.895 832.511 L38.479 832.511 Z\" fill=\"#000000\" fill-rule=\"evenodd\" fill-opacity=\"1\" /><path clip-path=\"url(#clip160)\" d=\"M 0 0 M52.3562 824.713 L52.3562 818.507 L82.275 807.367 L52.3562 796.227 L52.3562 790.02 L88.0042 803.388 L88.0042 811.345 L52.3562 824.713 Z\" fill=\"#000000\" fill-rule=\"evenodd\" fill-opacity=\"1\" /><path clip-path=\"url(#clip160)\" d=\"M 0 0 M68.7161 753.385 L71.5806 753.385 L71.5806 780.312 Q77.6281 779.93 80.8109 776.684 Q83.9619 773.406 83.9619 767.581 Q83.9619 764.207 83.1344 761.056 Q82.3069 757.873 80.6518 754.754 L86.1899 754.754 Q87.5267 757.905 88.227 761.215 Q88.9272 764.525 88.9272 767.931 Q88.9272 776.461 83.9619 781.458 Q78.9967 786.423 70.5303 786.423 Q61.7774 786.423 56.6531 781.713 Q51.4968 776.97 51.4968 768.95 Q51.4968 761.756 56.1438 757.587 Q60.7589 753.385 68.7161 753.385 M66.9973 759.242 Q62.1912 759.306 59.3266 761.947 Q56.4621 764.557 56.4621 768.886 Q56.4621 773.787 59.2312 776.748 Q62.0002 779.676 67.0292 780.121 L66.9973 759.242 Z\" fill=\"#000000\" fill-rule=\"evenodd\" fill-opacity=\"1\" /><path clip-path=\"url(#clip160)\" d=\"M 0 0 M68.7161 696.03 L71.5806 696.03 L71.5806 722.957 Q77.6281 722.575 80.8109 719.329 Q83.9619 716.051 83.9619 710.226 Q83.9619 706.852 83.1344 703.701 Q82.3069 700.518 80.6518 697.399 L86.1899 697.399 Q87.5267 700.55 88.227 703.86 Q88.9272 707.17 88.9272 710.576 Q88.9272 719.106 83.9619 724.103 Q78.9967 729.068 70.5303 729.068 Q61.7774 729.068 56.6531 724.358 Q51.4968 719.615 51.4968 711.595 Q51.4968 704.401 56.1438 700.232 Q60.7589 696.03 68.7161 696.03 M66.9973 701.887 Q62.1912 701.95 59.3266 704.592 Q56.4621 707.202 56.4621 711.531 Q56.4621 716.432 59.2312 719.393 Q62.0002 722.321 67.0292 722.766 L66.9973 701.887 Z\" fill=\"#000000\" fill-rule=\"evenodd\" fill-opacity=\"1\" /><path clip-path=\"url(#clip160)\" d=\"M 0 0 M57.8307 669.231 Q57.2578 670.217 57.0032 671.395 Q56.7167 672.541 56.7167 673.941 Q56.7167 678.907 59.9632 681.58 Q63.1779 684.222 69.2253 684.222 L88.0042 684.222 L88.0042 690.11 L52.3562 690.11 L52.3562 684.222 L57.8944 684.222 Q54.6479 682.376 53.0883 679.416 Q51.4968 676.456 51.4968 672.223 Q51.4968 671.618 51.5923 670.886 Q51.656 670.154 51.8151 669.263 L57.8307 669.231 Z\" fill=\"#000000\" fill-rule=\"evenodd\" fill-opacity=\"1\" /><path clip-path=\"url(#clip160)\" d=\"M 0 0 M57.8307 643.577 Q57.2578 644.564 57.0032 645.741 Q56.7167 646.887 56.7167 648.288 Q56.7167 653.253 59.9632 655.926 Q63.1779 658.568 69.2253 658.568 L88.0042 658.568 L88.0042 664.456 L52.3562 664.456 L52.3562 658.568 L57.8944 658.568 Q54.6479 656.722 53.0883 653.762 Q51.4968 650.802 51.4968 646.569 Q51.4968 645.964 51.5923 645.232 Q51.656 644.5 51.8151 643.609 L57.8307 643.577 Z\" fill=\"#000000\" fill-rule=\"evenodd\" fill-opacity=\"1\" /><path clip-path=\"url(#clip160)\" d=\"M 0 0 M56.4621 625.053 Q56.4621 629.763 60.1542 632.501 Q63.8145 635.238 70.212 635.238 Q76.6095 635.238 80.3017 632.532 Q83.9619 629.795 83.9619 625.053 Q83.9619 620.374 80.2698 617.637 Q76.5777 614.899 70.212 614.899 Q63.8781 614.899 60.186 617.637 Q56.4621 620.374 56.4621 625.053 M51.4968 625.053 Q51.4968 617.414 56.4621 613.053 Q61.4273 608.693 70.212 608.693 Q78.9649 608.693 83.9619 613.053 Q88.9272 617.414 88.9272 625.053 Q88.9272 632.723 83.9619 637.084 Q78.9649 641.413 70.212 641.413 Q61.4273 641.413 56.4621 637.084 Q51.4968 632.723 51.4968 625.053 Z\" fill=\"#000000\" fill-rule=\"evenodd\" fill-opacity=\"1\" /><path clip-path=\"url(#clip160)\" d=\"M 0 0 M57.8307 581.893 Q57.2578 582.88 57.0032 584.058 Q56.7167 585.203 56.7167 586.604 Q56.7167 591.569 59.9632 594.243 Q63.1779 596.885 69.2253 596.885 L88.0042 596.885 L88.0042 602.773 L52.3562 602.773 L52.3562 596.885 L57.8944 596.885 Q54.6479 595.038 53.0883 592.078 Q51.4968 589.118 51.4968 584.885 Q51.4968 584.28 51.5923 583.548 Q51.656 582.816 51.8151 581.925 L57.8307 581.893 Z\" fill=\"#000000\" fill-rule=\"evenodd\" fill-opacity=\"1\" /><circle clip-path=\"url(#clip162)\" cx=\"358.236\" cy=\"1374.61\" r=\"10\" fill=\"#0000ff\" fill-rule=\"evenodd\" fill-opacity=\"1\" stroke=\"#000000\" stroke-opacity=\"1\" stroke-width=\"3.2\"/>\n",
       "<circle clip-path=\"url(#clip162)\" cx=\"377.601\" cy=\"1374.01\" r=\"10\" fill=\"#0000ff\" fill-rule=\"evenodd\" fill-opacity=\"1\" stroke=\"#000000\" stroke-opacity=\"1\" stroke-width=\"3.2\"/>\n",
       "<circle clip-path=\"url(#clip162)\" cx=\"396.965\" cy=\"1377.19\" r=\"10\" fill=\"#0000ff\" fill-rule=\"evenodd\" fill-opacity=\"1\" stroke=\"#000000\" stroke-opacity=\"1\" stroke-width=\"3.2\"/>\n",
       "<circle clip-path=\"url(#clip162)\" cx=\"416.329\" cy=\"1360.84\" r=\"10\" fill=\"#0000ff\" fill-rule=\"evenodd\" fill-opacity=\"1\" stroke=\"#000000\" stroke-opacity=\"1\" stroke-width=\"3.2\"/>\n",
       "<circle clip-path=\"url(#clip162)\" cx=\"435.693\" cy=\"1361.3\" r=\"10\" fill=\"#0000ff\" fill-rule=\"evenodd\" fill-opacity=\"1\" stroke=\"#000000\" stroke-opacity=\"1\" stroke-width=\"3.2\"/>\n",
       "<circle clip-path=\"url(#clip162)\" cx=\"455.058\" cy=\"1352.04\" r=\"10\" fill=\"#0000ff\" fill-rule=\"evenodd\" fill-opacity=\"1\" stroke=\"#000000\" stroke-opacity=\"1\" stroke-width=\"3.2\"/>\n",
       "<circle clip-path=\"url(#clip162)\" cx=\"474.422\" cy=\"1349.55\" r=\"10\" fill=\"#0000ff\" fill-rule=\"evenodd\" fill-opacity=\"1\" stroke=\"#000000\" stroke-opacity=\"1\" stroke-width=\"3.2\"/>\n",
       "<circle clip-path=\"url(#clip162)\" cx=\"493.786\" cy=\"1333.56\" r=\"10\" fill=\"#0000ff\" fill-rule=\"evenodd\" fill-opacity=\"1\" stroke=\"#000000\" stroke-opacity=\"1\" stroke-width=\"3.2\"/>\n",
       "<circle clip-path=\"url(#clip162)\" cx=\"513.151\" cy=\"1333.63\" r=\"10\" fill=\"#0000ff\" fill-rule=\"evenodd\" fill-opacity=\"1\" stroke=\"#000000\" stroke-opacity=\"1\" stroke-width=\"3.2\"/>\n",
       "<circle clip-path=\"url(#clip162)\" cx=\"532.515\" cy=\"1319.55\" r=\"10\" fill=\"#0000ff\" fill-rule=\"evenodd\" fill-opacity=\"1\" stroke=\"#000000\" stroke-opacity=\"1\" stroke-width=\"3.2\"/>\n",
       "<circle clip-path=\"url(#clip162)\" cx=\"551.879\" cy=\"1291.9\" r=\"10\" fill=\"#0000ff\" fill-rule=\"evenodd\" fill-opacity=\"1\" stroke=\"#000000\" stroke-opacity=\"1\" stroke-width=\"3.2\"/>\n",
       "<circle clip-path=\"url(#clip162)\" cx=\"571.243\" cy=\"1289.67\" r=\"10\" fill=\"#0000ff\" fill-rule=\"evenodd\" fill-opacity=\"1\" stroke=\"#000000\" stroke-opacity=\"1\" stroke-width=\"3.2\"/>\n",
       "<circle clip-path=\"url(#clip162)\" cx=\"590.608\" cy=\"1273.74\" r=\"10\" fill=\"#0000ff\" fill-rule=\"evenodd\" fill-opacity=\"1\" stroke=\"#000000\" stroke-opacity=\"1\" stroke-width=\"3.2\"/>\n",
       "<circle clip-path=\"url(#clip162)\" cx=\"609.972\" cy=\"1253.37\" r=\"10\" fill=\"#0000ff\" fill-rule=\"evenodd\" fill-opacity=\"1\" stroke=\"#000000\" stroke-opacity=\"1\" stroke-width=\"3.2\"/>\n",
       "<circle clip-path=\"url(#clip162)\" cx=\"629.336\" cy=\"1217.23\" r=\"10\" fill=\"#0000ff\" fill-rule=\"evenodd\" fill-opacity=\"1\" stroke=\"#000000\" stroke-opacity=\"1\" stroke-width=\"3.2\"/>\n",
       "<circle clip-path=\"url(#clip162)\" cx=\"648.7\" cy=\"1201.55\" r=\"10\" fill=\"#0000ff\" fill-rule=\"evenodd\" fill-opacity=\"1\" stroke=\"#000000\" stroke-opacity=\"1\" stroke-width=\"3.2\"/>\n",
       "<circle clip-path=\"url(#clip162)\" cx=\"668.065\" cy=\"1209.76\" r=\"10\" fill=\"#0000ff\" fill-rule=\"evenodd\" fill-opacity=\"1\" stroke=\"#000000\" stroke-opacity=\"1\" stroke-width=\"3.2\"/>\n",
       "<circle clip-path=\"url(#clip162)\" cx=\"687.429\" cy=\"1170.46\" r=\"10\" fill=\"#0000ff\" fill-rule=\"evenodd\" fill-opacity=\"1\" stroke=\"#000000\" stroke-opacity=\"1\" stroke-width=\"3.2\"/>\n",
       "<circle clip-path=\"url(#clip162)\" cx=\"706.793\" cy=\"1180.22\" r=\"10\" fill=\"#0000ff\" fill-rule=\"evenodd\" fill-opacity=\"1\" stroke=\"#000000\" stroke-opacity=\"1\" stroke-width=\"3.2\"/>\n",
       "<circle clip-path=\"url(#clip162)\" cx=\"726.157\" cy=\"1134.34\" r=\"10\" fill=\"#0000ff\" fill-rule=\"evenodd\" fill-opacity=\"1\" stroke=\"#000000\" stroke-opacity=\"1\" stroke-width=\"3.2\"/>\n",
       "<circle clip-path=\"url(#clip162)\" cx=\"745.522\" cy=\"1152.82\" r=\"10\" fill=\"#0000ff\" fill-rule=\"evenodd\" fill-opacity=\"1\" stroke=\"#000000\" stroke-opacity=\"1\" stroke-width=\"3.2\"/>\n",
       "<circle clip-path=\"url(#clip162)\" cx=\"764.886\" cy=\"1143.06\" r=\"10\" fill=\"#0000ff\" fill-rule=\"evenodd\" fill-opacity=\"1\" stroke=\"#000000\" stroke-opacity=\"1\" stroke-width=\"3.2\"/>\n",
       "<circle clip-path=\"url(#clip162)\" cx=\"784.25\" cy=\"1141.25\" r=\"10\" fill=\"#0000ff\" fill-rule=\"evenodd\" fill-opacity=\"1\" stroke=\"#000000\" stroke-opacity=\"1\" stroke-width=\"3.2\"/>\n",
       "<circle clip-path=\"url(#clip162)\" cx=\"803.615\" cy=\"1130.95\" r=\"10\" fill=\"#0000ff\" fill-rule=\"evenodd\" fill-opacity=\"1\" stroke=\"#000000\" stroke-opacity=\"1\" stroke-width=\"3.2\"/>\n",
       "<circle clip-path=\"url(#clip162)\" cx=\"822.979\" cy=\"1074.34\" r=\"10\" fill=\"#0000ff\" fill-rule=\"evenodd\" fill-opacity=\"1\" stroke=\"#000000\" stroke-opacity=\"1\" stroke-width=\"3.2\"/>\n",
       "<circle clip-path=\"url(#clip162)\" cx=\"842.343\" cy=\"1108.43\" r=\"10\" fill=\"#0000ff\" fill-rule=\"evenodd\" fill-opacity=\"1\" stroke=\"#000000\" stroke-opacity=\"1\" stroke-width=\"3.2\"/>\n",
       "<circle clip-path=\"url(#clip162)\" cx=\"861.707\" cy=\"1058.27\" r=\"10\" fill=\"#0000ff\" fill-rule=\"evenodd\" fill-opacity=\"1\" stroke=\"#000000\" stroke-opacity=\"1\" stroke-width=\"3.2\"/>\n",
       "<circle clip-path=\"url(#clip162)\" cx=\"881.072\" cy=\"1024.78\" r=\"10\" fill=\"#0000ff\" fill-rule=\"evenodd\" fill-opacity=\"1\" stroke=\"#000000\" stroke-opacity=\"1\" stroke-width=\"3.2\"/>\n",
       "<circle clip-path=\"url(#clip162)\" cx=\"900.436\" cy=\"986.078\" r=\"10\" fill=\"#0000ff\" fill-rule=\"evenodd\" fill-opacity=\"1\" stroke=\"#000000\" stroke-opacity=\"1\" stroke-width=\"3.2\"/>\n",
       "<circle clip-path=\"url(#clip162)\" cx=\"919.8\" cy=\"1026.24\" r=\"10\" fill=\"#0000ff\" fill-rule=\"evenodd\" fill-opacity=\"1\" stroke=\"#000000\" stroke-opacity=\"1\" stroke-width=\"3.2\"/>\n",
       "<circle clip-path=\"url(#clip162)\" cx=\"939.164\" cy=\"985.086\" r=\"10\" fill=\"#0000ff\" fill-rule=\"evenodd\" fill-opacity=\"1\" stroke=\"#000000\" stroke-opacity=\"1\" stroke-width=\"3.2\"/>\n",
       "<circle clip-path=\"url(#clip162)\" cx=\"958.529\" cy=\"996.736\" r=\"10\" fill=\"#0000ff\" fill-rule=\"evenodd\" fill-opacity=\"1\" stroke=\"#000000\" stroke-opacity=\"1\" stroke-width=\"3.2\"/>\n",
       "<circle clip-path=\"url(#clip162)\" cx=\"977.893\" cy=\"986.523\" r=\"10\" fill=\"#0000ff\" fill-rule=\"evenodd\" fill-opacity=\"1\" stroke=\"#000000\" stroke-opacity=\"1\" stroke-width=\"3.2\"/>\n",
       "<circle clip-path=\"url(#clip162)\" cx=\"997.257\" cy=\"947.597\" r=\"10\" fill=\"#0000ff\" fill-rule=\"evenodd\" fill-opacity=\"1\" stroke=\"#000000\" stroke-opacity=\"1\" stroke-width=\"3.2\"/>\n",
       "<circle clip-path=\"url(#clip162)\" cx=\"1016.62\" cy=\"966.824\" r=\"10\" fill=\"#0000ff\" fill-rule=\"evenodd\" fill-opacity=\"1\" stroke=\"#000000\" stroke-opacity=\"1\" stroke-width=\"3.2\"/>\n",
       "<circle clip-path=\"url(#clip162)\" cx=\"1035.99\" cy=\"969.307\" r=\"10\" fill=\"#0000ff\" fill-rule=\"evenodd\" fill-opacity=\"1\" stroke=\"#000000\" stroke-opacity=\"1\" stroke-width=\"3.2\"/>\n",
       "<circle clip-path=\"url(#clip162)\" cx=\"1055.35\" cy=\"900.549\" r=\"10\" fill=\"#0000ff\" fill-rule=\"evenodd\" fill-opacity=\"1\" stroke=\"#000000\" stroke-opacity=\"1\" stroke-width=\"3.2\"/>\n",
       "<circle clip-path=\"url(#clip162)\" cx=\"1074.71\" cy=\"893.593\" r=\"10\" fill=\"#0000ff\" fill-rule=\"evenodd\" fill-opacity=\"1\" stroke=\"#000000\" stroke-opacity=\"1\" stroke-width=\"3.2\"/>\n",
       "<circle clip-path=\"url(#clip162)\" cx=\"1094.08\" cy=\"885.12\" r=\"10\" fill=\"#0000ff\" fill-rule=\"evenodd\" fill-opacity=\"1\" stroke=\"#000000\" stroke-opacity=\"1\" stroke-width=\"3.2\"/>\n",
       "<circle clip-path=\"url(#clip162)\" cx=\"1113.44\" cy=\"901.276\" r=\"10\" fill=\"#0000ff\" fill-rule=\"evenodd\" fill-opacity=\"1\" stroke=\"#000000\" stroke-opacity=\"1\" stroke-width=\"3.2\"/>\n",
       "<circle clip-path=\"url(#clip162)\" cx=\"1132.81\" cy=\"873.232\" r=\"10\" fill=\"#0000ff\" fill-rule=\"evenodd\" fill-opacity=\"1\" stroke=\"#000000\" stroke-opacity=\"1\" stroke-width=\"3.2\"/>\n",
       "<circle clip-path=\"url(#clip162)\" cx=\"1152.17\" cy=\"888.034\" r=\"10\" fill=\"#0000ff\" fill-rule=\"evenodd\" fill-opacity=\"1\" stroke=\"#000000\" stroke-opacity=\"1\" stroke-width=\"3.2\"/>\n",
       "<circle clip-path=\"url(#clip162)\" cx=\"1171.54\" cy=\"823.511\" r=\"10\" fill=\"#0000ff\" fill-rule=\"evenodd\" fill-opacity=\"1\" stroke=\"#000000\" stroke-opacity=\"1\" stroke-width=\"3.2\"/>\n",
       "<circle clip-path=\"url(#clip162)\" cx=\"1190.9\" cy=\"789.486\" r=\"10\" fill=\"#0000ff\" fill-rule=\"evenodd\" fill-opacity=\"1\" stroke=\"#000000\" stroke-opacity=\"1\" stroke-width=\"3.2\"/>\n",
       "<circle clip-path=\"url(#clip162)\" cx=\"1210.26\" cy=\"785.871\" r=\"10\" fill=\"#0000ff\" fill-rule=\"evenodd\" fill-opacity=\"1\" stroke=\"#000000\" stroke-opacity=\"1\" stroke-width=\"3.2\"/>\n",
       "<circle clip-path=\"url(#clip162)\" cx=\"1229.63\" cy=\"789.839\" r=\"10\" fill=\"#0000ff\" fill-rule=\"evenodd\" fill-opacity=\"1\" stroke=\"#000000\" stroke-opacity=\"1\" stroke-width=\"3.2\"/>\n",
       "<circle clip-path=\"url(#clip162)\" cx=\"1248.99\" cy=\"758.396\" r=\"10\" fill=\"#0000ff\" fill-rule=\"evenodd\" fill-opacity=\"1\" stroke=\"#000000\" stroke-opacity=\"1\" stroke-width=\"3.2\"/>\n",
       "<circle clip-path=\"url(#clip162)\" cx=\"1268.36\" cy=\"799.778\" r=\"10\" fill=\"#0000ff\" fill-rule=\"evenodd\" fill-opacity=\"1\" stroke=\"#000000\" stroke-opacity=\"1\" stroke-width=\"3.2\"/>\n",
       "<circle clip-path=\"url(#clip162)\" cx=\"1287.72\" cy=\"749.305\" r=\"10\" fill=\"#0000ff\" fill-rule=\"evenodd\" fill-opacity=\"1\" stroke=\"#000000\" stroke-opacity=\"1\" stroke-width=\"3.2\"/>\n",
       "<circle clip-path=\"url(#clip162)\" cx=\"1307.09\" cy=\"731.859\" r=\"10\" fill=\"#0000ff\" fill-rule=\"evenodd\" fill-opacity=\"1\" stroke=\"#000000\" stroke-opacity=\"1\" stroke-width=\"3.2\"/>\n",
       "<circle clip-path=\"url(#clip162)\" cx=\"1326.45\" cy=\"737.665\" r=\"10\" fill=\"#0000ff\" fill-rule=\"evenodd\" fill-opacity=\"1\" stroke=\"#000000\" stroke-opacity=\"1\" stroke-width=\"3.2\"/>\n",
       "<circle clip-path=\"url(#clip162)\" cx=\"1345.81\" cy=\"776.777\" r=\"10\" fill=\"#0000ff\" fill-rule=\"evenodd\" fill-opacity=\"1\" stroke=\"#000000\" stroke-opacity=\"1\" stroke-width=\"3.2\"/>\n",
       "<circle clip-path=\"url(#clip162)\" cx=\"1365.18\" cy=\"734.813\" r=\"10\" fill=\"#0000ff\" fill-rule=\"evenodd\" fill-opacity=\"1\" stroke=\"#000000\" stroke-opacity=\"1\" stroke-width=\"3.2\"/>\n",
       "<circle clip-path=\"url(#clip162)\" cx=\"1384.54\" cy=\"740.584\" r=\"10\" fill=\"#0000ff\" fill-rule=\"evenodd\" fill-opacity=\"1\" stroke=\"#000000\" stroke-opacity=\"1\" stroke-width=\"3.2\"/>\n",
       "<circle clip-path=\"url(#clip162)\" cx=\"1403.91\" cy=\"743.385\" r=\"10\" fill=\"#0000ff\" fill-rule=\"evenodd\" fill-opacity=\"1\" stroke=\"#000000\" stroke-opacity=\"1\" stroke-width=\"3.2\"/>\n",
       "<circle clip-path=\"url(#clip162)\" cx=\"1423.27\" cy=\"714.221\" r=\"10\" fill=\"#0000ff\" fill-rule=\"evenodd\" fill-opacity=\"1\" stroke=\"#000000\" stroke-opacity=\"1\" stroke-width=\"3.2\"/>\n",
       "<circle clip-path=\"url(#clip162)\" cx=\"1442.64\" cy=\"725.784\" r=\"10\" fill=\"#0000ff\" fill-rule=\"evenodd\" fill-opacity=\"1\" stroke=\"#000000\" stroke-opacity=\"1\" stroke-width=\"3.2\"/>\n",
       "<circle clip-path=\"url(#clip162)\" cx=\"1462\" cy=\"671.452\" r=\"10\" fill=\"#0000ff\" fill-rule=\"evenodd\" fill-opacity=\"1\" stroke=\"#000000\" stroke-opacity=\"1\" stroke-width=\"3.2\"/>\n",
       "<circle clip-path=\"url(#clip162)\" cx=\"1481.36\" cy=\"711.478\" r=\"10\" fill=\"#0000ff\" fill-rule=\"evenodd\" fill-opacity=\"1\" stroke=\"#000000\" stroke-opacity=\"1\" stroke-width=\"3.2\"/>\n",
       "<circle clip-path=\"url(#clip162)\" cx=\"1500.73\" cy=\"706.548\" r=\"10\" fill=\"#0000ff\" fill-rule=\"evenodd\" fill-opacity=\"1\" stroke=\"#000000\" stroke-opacity=\"1\" stroke-width=\"3.2\"/>\n",
       "<circle clip-path=\"url(#clip162)\" cx=\"1520.09\" cy=\"696.507\" r=\"10\" fill=\"#0000ff\" fill-rule=\"evenodd\" fill-opacity=\"1\" stroke=\"#000000\" stroke-opacity=\"1\" stroke-width=\"3.2\"/>\n",
       "<circle clip-path=\"url(#clip162)\" cx=\"1539.46\" cy=\"694.384\" r=\"10\" fill=\"#0000ff\" fill-rule=\"evenodd\" fill-opacity=\"1\" stroke=\"#000000\" stroke-opacity=\"1\" stroke-width=\"3.2\"/>\n",
       "<circle clip-path=\"url(#clip162)\" cx=\"1558.82\" cy=\"718.082\" r=\"10\" fill=\"#0000ff\" fill-rule=\"evenodd\" fill-opacity=\"1\" stroke=\"#000000\" stroke-opacity=\"1\" stroke-width=\"3.2\"/>\n",
       "<circle clip-path=\"url(#clip162)\" cx=\"1578.19\" cy=\"749.036\" r=\"10\" fill=\"#0000ff\" fill-rule=\"evenodd\" fill-opacity=\"1\" stroke=\"#000000\" stroke-opacity=\"1\" stroke-width=\"3.2\"/>\n",
       "<circle clip-path=\"url(#clip162)\" cx=\"1597.55\" cy=\"707.364\" r=\"10\" fill=\"#0000ff\" fill-rule=\"evenodd\" fill-opacity=\"1\" stroke=\"#000000\" stroke-opacity=\"1\" stroke-width=\"3.2\"/>\n",
       "<circle clip-path=\"url(#clip162)\" cx=\"1616.91\" cy=\"736.128\" r=\"10\" fill=\"#0000ff\" fill-rule=\"evenodd\" fill-opacity=\"1\" stroke=\"#000000\" stroke-opacity=\"1\" stroke-width=\"3.2\"/>\n",
       "<circle clip-path=\"url(#clip162)\" cx=\"1636.28\" cy=\"742.83\" r=\"10\" fill=\"#0000ff\" fill-rule=\"evenodd\" fill-opacity=\"1\" stroke=\"#000000\" stroke-opacity=\"1\" stroke-width=\"3.2\"/>\n",
       "<circle clip-path=\"url(#clip162)\" cx=\"1655.64\" cy=\"751.655\" r=\"10\" fill=\"#0000ff\" fill-rule=\"evenodd\" fill-opacity=\"1\" stroke=\"#000000\" stroke-opacity=\"1\" stroke-width=\"3.2\"/>\n",
       "<circle clip-path=\"url(#clip162)\" cx=\"1675.01\" cy=\"756.247\" r=\"10\" fill=\"#0000ff\" fill-rule=\"evenodd\" fill-opacity=\"1\" stroke=\"#000000\" stroke-opacity=\"1\" stroke-width=\"3.2\"/>\n",
       "<circle clip-path=\"url(#clip162)\" cx=\"1694.37\" cy=\"706.016\" r=\"10\" fill=\"#0000ff\" fill-rule=\"evenodd\" fill-opacity=\"1\" stroke=\"#000000\" stroke-opacity=\"1\" stroke-width=\"3.2\"/>\n",
       "<circle clip-path=\"url(#clip162)\" cx=\"1713.74\" cy=\"717.634\" r=\"10\" fill=\"#0000ff\" fill-rule=\"evenodd\" fill-opacity=\"1\" stroke=\"#000000\" stroke-opacity=\"1\" stroke-width=\"3.2\"/>\n",
       "<circle clip-path=\"url(#clip162)\" cx=\"1733.1\" cy=\"734.045\" r=\"10\" fill=\"#0000ff\" fill-rule=\"evenodd\" fill-opacity=\"1\" stroke=\"#000000\" stroke-opacity=\"1\" stroke-width=\"3.2\"/>\n",
       "<circle clip-path=\"url(#clip162)\" cx=\"1752.46\" cy=\"714.105\" r=\"10\" fill=\"#0000ff\" fill-rule=\"evenodd\" fill-opacity=\"1\" stroke=\"#000000\" stroke-opacity=\"1\" stroke-width=\"3.2\"/>\n",
       "<circle clip-path=\"url(#clip162)\" cx=\"1771.83\" cy=\"725.421\" r=\"10\" fill=\"#0000ff\" fill-rule=\"evenodd\" fill-opacity=\"1\" stroke=\"#000000\" stroke-opacity=\"1\" stroke-width=\"3.2\"/>\n",
       "<circle clip-path=\"url(#clip162)\" cx=\"1791.19\" cy=\"696.949\" r=\"10\" fill=\"#0000ff\" fill-rule=\"evenodd\" fill-opacity=\"1\" stroke=\"#000000\" stroke-opacity=\"1\" stroke-width=\"3.2\"/>\n",
       "<circle clip-path=\"url(#clip162)\" cx=\"1810.56\" cy=\"702.691\" r=\"10\" fill=\"#0000ff\" fill-rule=\"evenodd\" fill-opacity=\"1\" stroke=\"#000000\" stroke-opacity=\"1\" stroke-width=\"3.2\"/>\n",
       "<circle clip-path=\"url(#clip162)\" cx=\"1829.92\" cy=\"720.664\" r=\"10\" fill=\"#0000ff\" fill-rule=\"evenodd\" fill-opacity=\"1\" stroke=\"#000000\" stroke-opacity=\"1\" stroke-width=\"3.2\"/>\n",
       "<circle clip-path=\"url(#clip162)\" cx=\"1849.28\" cy=\"725.929\" r=\"10\" fill=\"#0000ff\" fill-rule=\"evenodd\" fill-opacity=\"1\" stroke=\"#000000\" stroke-opacity=\"1\" stroke-width=\"3.2\"/>\n",
       "<circle clip-path=\"url(#clip162)\" cx=\"1868.65\" cy=\"729.245\" r=\"10\" fill=\"#0000ff\" fill-rule=\"evenodd\" fill-opacity=\"1\" stroke=\"#000000\" stroke-opacity=\"1\" stroke-width=\"3.2\"/>\n",
       "<circle clip-path=\"url(#clip162)\" cx=\"1888.01\" cy=\"673.288\" r=\"10\" fill=\"#0000ff\" fill-rule=\"evenodd\" fill-opacity=\"1\" stroke=\"#000000\" stroke-opacity=\"1\" stroke-width=\"3.2\"/>\n",
       "<circle clip-path=\"url(#clip162)\" cx=\"1907.38\" cy=\"658.678\" r=\"10\" fill=\"#0000ff\" fill-rule=\"evenodd\" fill-opacity=\"1\" stroke=\"#000000\" stroke-opacity=\"1\" stroke-width=\"3.2\"/>\n",
       "<circle clip-path=\"url(#clip162)\" cx=\"1926.74\" cy=\"750.296\" r=\"10\" fill=\"#0000ff\" fill-rule=\"evenodd\" fill-opacity=\"1\" stroke=\"#000000\" stroke-opacity=\"1\" stroke-width=\"3.2\"/>\n",
       "<circle clip-path=\"url(#clip162)\" cx=\"1946.11\" cy=\"713.627\" r=\"10\" fill=\"#0000ff\" fill-rule=\"evenodd\" fill-opacity=\"1\" stroke=\"#000000\" stroke-opacity=\"1\" stroke-width=\"3.2\"/>\n",
       "<circle clip-path=\"url(#clip162)\" cx=\"1965.47\" cy=\"663.169\" r=\"10\" fill=\"#0000ff\" fill-rule=\"evenodd\" fill-opacity=\"1\" stroke=\"#000000\" stroke-opacity=\"1\" stroke-width=\"3.2\"/>\n",
       "<circle clip-path=\"url(#clip162)\" cx=\"1984.83\" cy=\"706.848\" r=\"10\" fill=\"#0000ff\" fill-rule=\"evenodd\" fill-opacity=\"1\" stroke=\"#000000\" stroke-opacity=\"1\" stroke-width=\"3.2\"/>\n",
       "<circle clip-path=\"url(#clip162)\" cx=\"2004.2\" cy=\"690.517\" r=\"10\" fill=\"#0000ff\" fill-rule=\"evenodd\" fill-opacity=\"1\" stroke=\"#000000\" stroke-opacity=\"1\" stroke-width=\"3.2\"/>\n",
       "<circle clip-path=\"url(#clip162)\" cx=\"2023.56\" cy=\"762.944\" r=\"10\" fill=\"#0000ff\" fill-rule=\"evenodd\" fill-opacity=\"1\" stroke=\"#000000\" stroke-opacity=\"1\" stroke-width=\"3.2\"/>\n",
       "<circle clip-path=\"url(#clip162)\" cx=\"2042.93\" cy=\"675.299\" r=\"10\" fill=\"#0000ff\" fill-rule=\"evenodd\" fill-opacity=\"1\" stroke=\"#000000\" stroke-opacity=\"1\" stroke-width=\"3.2\"/>\n",
       "<circle clip-path=\"url(#clip162)\" cx=\"2062.29\" cy=\"707.197\" r=\"10\" fill=\"#0000ff\" fill-rule=\"evenodd\" fill-opacity=\"1\" stroke=\"#000000\" stroke-opacity=\"1\" stroke-width=\"3.2\"/>\n",
       "<circle clip-path=\"url(#clip162)\" cx=\"2081.66\" cy=\"722.465\" r=\"10\" fill=\"#0000ff\" fill-rule=\"evenodd\" fill-opacity=\"1\" stroke=\"#000000\" stroke-opacity=\"1\" stroke-width=\"3.2\"/>\n",
       "<circle clip-path=\"url(#clip162)\" cx=\"2101.02\" cy=\"655.029\" r=\"10\" fill=\"#0000ff\" fill-rule=\"evenodd\" fill-opacity=\"1\" stroke=\"#000000\" stroke-opacity=\"1\" stroke-width=\"3.2\"/>\n",
       "<circle clip-path=\"url(#clip162)\" cx=\"2120.38\" cy=\"702.5\" r=\"10\" fill=\"#0000ff\" fill-rule=\"evenodd\" fill-opacity=\"1\" stroke=\"#000000\" stroke-opacity=\"1\" stroke-width=\"3.2\"/>\n",
       "<circle clip-path=\"url(#clip162)\" cx=\"2139.75\" cy=\"694.898\" r=\"10\" fill=\"#0000ff\" fill-rule=\"evenodd\" fill-opacity=\"1\" stroke=\"#000000\" stroke-opacity=\"1\" stroke-width=\"3.2\"/>\n",
       "<circle clip-path=\"url(#clip162)\" cx=\"2159.11\" cy=\"619.855\" r=\"10\" fill=\"#0000ff\" fill-rule=\"evenodd\" fill-opacity=\"1\" stroke=\"#000000\" stroke-opacity=\"1\" stroke-width=\"3.2\"/>\n",
       "<circle clip-path=\"url(#clip162)\" cx=\"2178.48\" cy=\"645.384\" r=\"10\" fill=\"#0000ff\" fill-rule=\"evenodd\" fill-opacity=\"1\" stroke=\"#000000\" stroke-opacity=\"1\" stroke-width=\"3.2\"/>\n",
       "<circle clip-path=\"url(#clip162)\" cx=\"2197.84\" cy=\"718.625\" r=\"10\" fill=\"#0000ff\" fill-rule=\"evenodd\" fill-opacity=\"1\" stroke=\"#000000\" stroke-opacity=\"1\" stroke-width=\"3.2\"/>\n",
       "<circle clip-path=\"url(#clip162)\" cx=\"2217.21\" cy=\"710.233\" r=\"10\" fill=\"#0000ff\" fill-rule=\"evenodd\" fill-opacity=\"1\" stroke=\"#000000\" stroke-opacity=\"1\" stroke-width=\"3.2\"/>\n",
       "<circle clip-path=\"url(#clip162)\" cx=\"2236.57\" cy=\"705.057\" r=\"10\" fill=\"#0000ff\" fill-rule=\"evenodd\" fill-opacity=\"1\" stroke=\"#000000\" stroke-opacity=\"1\" stroke-width=\"3.2\"/>\n",
       "<circle clip-path=\"url(#clip162)\" cx=\"2255.93\" cy=\"737.657\" r=\"10\" fill=\"#0000ff\" fill-rule=\"evenodd\" fill-opacity=\"1\" stroke=\"#000000\" stroke-opacity=\"1\" stroke-width=\"3.2\"/>\n",
       "<circle clip-path=\"url(#clip162)\" cx=\"2275.3\" cy=\"678.536\" r=\"10\" fill=\"#0000ff\" fill-rule=\"evenodd\" fill-opacity=\"1\" stroke=\"#000000\" stroke-opacity=\"1\" stroke-width=\"3.2\"/>\n",
       "<circle clip-path=\"url(#clip162)\" cx=\"2294.66\" cy=\"638.792\" r=\"10\" fill=\"#0000ff\" fill-rule=\"evenodd\" fill-opacity=\"1\" stroke=\"#000000\" stroke-opacity=\"1\" stroke-width=\"3.2\"/>\n",
       "<circle clip-path=\"url(#clip162)\" cx=\"358.236\" cy=\"1378.32\" r=\"10\" fill=\"#ff0000\" fill-rule=\"evenodd\" fill-opacity=\"1\" stroke=\"#000000\" stroke-opacity=\"1\" stroke-width=\"3.2\"/>\n",
       "<circle clip-path=\"url(#clip162)\" cx=\"377.601\" cy=\"1383.87\" r=\"10\" fill=\"#ff0000\" fill-rule=\"evenodd\" fill-opacity=\"1\" stroke=\"#000000\" stroke-opacity=\"1\" stroke-width=\"3.2\"/>\n",
       "<circle clip-path=\"url(#clip162)\" cx=\"396.965\" cy=\"1386.4\" r=\"10\" fill=\"#ff0000\" fill-rule=\"evenodd\" fill-opacity=\"1\" stroke=\"#000000\" stroke-opacity=\"1\" stroke-width=\"3.2\"/>\n",
       "<circle clip-path=\"url(#clip162)\" cx=\"416.329\" cy=\"1382.75\" r=\"10\" fill=\"#ff0000\" fill-rule=\"evenodd\" fill-opacity=\"1\" stroke=\"#000000\" stroke-opacity=\"1\" stroke-width=\"3.2\"/>\n",
       "<circle clip-path=\"url(#clip162)\" cx=\"435.693\" cy=\"1368.42\" r=\"10\" fill=\"#ff0000\" fill-rule=\"evenodd\" fill-opacity=\"1\" stroke=\"#000000\" stroke-opacity=\"1\" stroke-width=\"3.2\"/>\n",
       "<circle clip-path=\"url(#clip162)\" cx=\"455.058\" cy=\"1365.69\" r=\"10\" fill=\"#ff0000\" fill-rule=\"evenodd\" fill-opacity=\"1\" stroke=\"#000000\" stroke-opacity=\"1\" stroke-width=\"3.2\"/>\n",
       "<circle clip-path=\"url(#clip162)\" cx=\"474.422\" cy=\"1346.3\" r=\"10\" fill=\"#ff0000\" fill-rule=\"evenodd\" fill-opacity=\"1\" stroke=\"#000000\" stroke-opacity=\"1\" stroke-width=\"3.2\"/>\n",
       "<circle clip-path=\"url(#clip162)\" cx=\"493.786\" cy=\"1336.99\" r=\"10\" fill=\"#ff0000\" fill-rule=\"evenodd\" fill-opacity=\"1\" stroke=\"#000000\" stroke-opacity=\"1\" stroke-width=\"3.2\"/>\n",
       "<circle clip-path=\"url(#clip162)\" cx=\"513.151\" cy=\"1327.72\" r=\"10\" fill=\"#ff0000\" fill-rule=\"evenodd\" fill-opacity=\"1\" stroke=\"#000000\" stroke-opacity=\"1\" stroke-width=\"3.2\"/>\n",
       "<circle clip-path=\"url(#clip162)\" cx=\"532.515\" cy=\"1306.67\" r=\"10\" fill=\"#ff0000\" fill-rule=\"evenodd\" fill-opacity=\"1\" stroke=\"#000000\" stroke-opacity=\"1\" stroke-width=\"3.2\"/>\n",
       "<circle clip-path=\"url(#clip162)\" cx=\"551.879\" cy=\"1298.23\" r=\"10\" fill=\"#ff0000\" fill-rule=\"evenodd\" fill-opacity=\"1\" stroke=\"#000000\" stroke-opacity=\"1\" stroke-width=\"3.2\"/>\n",
       "<circle clip-path=\"url(#clip162)\" cx=\"571.243\" cy=\"1302.6\" r=\"10\" fill=\"#ff0000\" fill-rule=\"evenodd\" fill-opacity=\"1\" stroke=\"#000000\" stroke-opacity=\"1\" stroke-width=\"3.2\"/>\n",
       "<circle clip-path=\"url(#clip162)\" cx=\"590.608\" cy=\"1292.92\" r=\"10\" fill=\"#ff0000\" fill-rule=\"evenodd\" fill-opacity=\"1\" stroke=\"#000000\" stroke-opacity=\"1\" stroke-width=\"3.2\"/>\n",
       "<circle clip-path=\"url(#clip162)\" cx=\"609.972\" cy=\"1268.05\" r=\"10\" fill=\"#ff0000\" fill-rule=\"evenodd\" fill-opacity=\"1\" stroke=\"#000000\" stroke-opacity=\"1\" stroke-width=\"3.2\"/>\n",
       "<circle clip-path=\"url(#clip162)\" cx=\"629.336\" cy=\"1243.18\" r=\"10\" fill=\"#ff0000\" fill-rule=\"evenodd\" fill-opacity=\"1\" stroke=\"#000000\" stroke-opacity=\"1\" stroke-width=\"3.2\"/>\n",
       "<circle clip-path=\"url(#clip162)\" cx=\"648.7\" cy=\"1228.14\" r=\"10\" fill=\"#ff0000\" fill-rule=\"evenodd\" fill-opacity=\"1\" stroke=\"#000000\" stroke-opacity=\"1\" stroke-width=\"3.2\"/>\n",
       "<circle clip-path=\"url(#clip162)\" cx=\"668.065\" cy=\"1217.09\" r=\"10\" fill=\"#ff0000\" fill-rule=\"evenodd\" fill-opacity=\"1\" stroke=\"#000000\" stroke-opacity=\"1\" stroke-width=\"3.2\"/>\n",
       "<circle clip-path=\"url(#clip162)\" cx=\"687.429\" cy=\"1220.3\" r=\"10\" fill=\"#ff0000\" fill-rule=\"evenodd\" fill-opacity=\"1\" stroke=\"#000000\" stroke-opacity=\"1\" stroke-width=\"3.2\"/>\n",
       "<circle clip-path=\"url(#clip162)\" cx=\"706.793\" cy=\"1191.49\" r=\"10\" fill=\"#ff0000\" fill-rule=\"evenodd\" fill-opacity=\"1\" stroke=\"#000000\" stroke-opacity=\"1\" stroke-width=\"3.2\"/>\n",
       "<circle clip-path=\"url(#clip162)\" cx=\"726.157\" cy=\"1190.99\" r=\"10\" fill=\"#ff0000\" fill-rule=\"evenodd\" fill-opacity=\"1\" stroke=\"#000000\" stroke-opacity=\"1\" stroke-width=\"3.2\"/>\n",
       "<circle clip-path=\"url(#clip162)\" cx=\"745.522\" cy=\"1185.13\" r=\"10\" fill=\"#ff0000\" fill-rule=\"evenodd\" fill-opacity=\"1\" stroke=\"#000000\" stroke-opacity=\"1\" stroke-width=\"3.2\"/>\n",
       "<circle clip-path=\"url(#clip162)\" cx=\"764.886\" cy=\"1173.11\" r=\"10\" fill=\"#ff0000\" fill-rule=\"evenodd\" fill-opacity=\"1\" stroke=\"#000000\" stroke-opacity=\"1\" stroke-width=\"3.2\"/>\n",
       "<circle clip-path=\"url(#clip162)\" cx=\"784.25\" cy=\"1135.29\" r=\"10\" fill=\"#ff0000\" fill-rule=\"evenodd\" fill-opacity=\"1\" stroke=\"#000000\" stroke-opacity=\"1\" stroke-width=\"3.2\"/>\n",
       "<circle clip-path=\"url(#clip162)\" cx=\"803.615\" cy=\"1167.17\" r=\"10\" fill=\"#ff0000\" fill-rule=\"evenodd\" fill-opacity=\"1\" stroke=\"#000000\" stroke-opacity=\"1\" stroke-width=\"3.2\"/>\n",
       "<circle clip-path=\"url(#clip162)\" cx=\"822.979\" cy=\"1122.36\" r=\"10\" fill=\"#ff0000\" fill-rule=\"evenodd\" fill-opacity=\"1\" stroke=\"#000000\" stroke-opacity=\"1\" stroke-width=\"3.2\"/>\n",
       "<circle clip-path=\"url(#clip162)\" cx=\"842.343\" cy=\"1096.29\" r=\"10\" fill=\"#ff0000\" fill-rule=\"evenodd\" fill-opacity=\"1\" stroke=\"#000000\" stroke-opacity=\"1\" stroke-width=\"3.2\"/>\n",
       "<circle clip-path=\"url(#clip162)\" cx=\"861.707\" cy=\"1128.57\" r=\"10\" fill=\"#ff0000\" fill-rule=\"evenodd\" fill-opacity=\"1\" stroke=\"#000000\" stroke-opacity=\"1\" stroke-width=\"3.2\"/>\n",
       "<circle clip-path=\"url(#clip162)\" cx=\"881.072\" cy=\"1066.62\" r=\"10\" fill=\"#ff0000\" fill-rule=\"evenodd\" fill-opacity=\"1\" stroke=\"#000000\" stroke-opacity=\"1\" stroke-width=\"3.2\"/>\n",
       "<circle clip-path=\"url(#clip162)\" cx=\"900.436\" cy=\"1080.27\" r=\"10\" fill=\"#ff0000\" fill-rule=\"evenodd\" fill-opacity=\"1\" stroke=\"#000000\" stroke-opacity=\"1\" stroke-width=\"3.2\"/>\n",
       "<circle clip-path=\"url(#clip162)\" cx=\"919.8\" cy=\"1065.86\" r=\"10\" fill=\"#ff0000\" fill-rule=\"evenodd\" fill-opacity=\"1\" stroke=\"#000000\" stroke-opacity=\"1\" stroke-width=\"3.2\"/>\n",
       "<circle clip-path=\"url(#clip162)\" cx=\"939.164\" cy=\"1073.63\" r=\"10\" fill=\"#ff0000\" fill-rule=\"evenodd\" fill-opacity=\"1\" stroke=\"#000000\" stroke-opacity=\"1\" stroke-width=\"3.2\"/>\n",
       "<circle clip-path=\"url(#clip162)\" cx=\"958.529\" cy=\"1055.83\" r=\"10\" fill=\"#ff0000\" fill-rule=\"evenodd\" fill-opacity=\"1\" stroke=\"#000000\" stroke-opacity=\"1\" stroke-width=\"3.2\"/>\n",
       "<circle clip-path=\"url(#clip162)\" cx=\"977.893\" cy=\"973.852\" r=\"10\" fill=\"#ff0000\" fill-rule=\"evenodd\" fill-opacity=\"1\" stroke=\"#000000\" stroke-opacity=\"1\" stroke-width=\"3.2\"/>\n",
       "<circle clip-path=\"url(#clip162)\" cx=\"997.257\" cy=\"1016.69\" r=\"10\" fill=\"#ff0000\" fill-rule=\"evenodd\" fill-opacity=\"1\" stroke=\"#000000\" stroke-opacity=\"1\" stroke-width=\"3.2\"/>\n",
       "<circle clip-path=\"url(#clip162)\" cx=\"1016.62\" cy=\"964.418\" r=\"10\" fill=\"#ff0000\" fill-rule=\"evenodd\" fill-opacity=\"1\" stroke=\"#000000\" stroke-opacity=\"1\" stroke-width=\"3.2\"/>\n",
       "<circle clip-path=\"url(#clip162)\" cx=\"1035.99\" cy=\"969.735\" r=\"10\" fill=\"#ff0000\" fill-rule=\"evenodd\" fill-opacity=\"1\" stroke=\"#000000\" stroke-opacity=\"1\" stroke-width=\"3.2\"/>\n",
       "<circle clip-path=\"url(#clip162)\" cx=\"1055.35\" cy=\"938.123\" r=\"10\" fill=\"#ff0000\" fill-rule=\"evenodd\" fill-opacity=\"1\" stroke=\"#000000\" stroke-opacity=\"1\" stroke-width=\"3.2\"/>\n",
       "<circle clip-path=\"url(#clip162)\" cx=\"1074.71\" cy=\"909.717\" r=\"10\" fill=\"#ff0000\" fill-rule=\"evenodd\" fill-opacity=\"1\" stroke=\"#000000\" stroke-opacity=\"1\" stroke-width=\"3.2\"/>\n",
       "<circle clip-path=\"url(#clip162)\" cx=\"1094.08\" cy=\"944.294\" r=\"10\" fill=\"#ff0000\" fill-rule=\"evenodd\" fill-opacity=\"1\" stroke=\"#000000\" stroke-opacity=\"1\" stroke-width=\"3.2\"/>\n",
       "<circle clip-path=\"url(#clip162)\" cx=\"1113.44\" cy=\"918.393\" r=\"10\" fill=\"#ff0000\" fill-rule=\"evenodd\" fill-opacity=\"1\" stroke=\"#000000\" stroke-opacity=\"1\" stroke-width=\"3.2\"/>\n",
       "<circle clip-path=\"url(#clip162)\" cx=\"1132.81\" cy=\"902.801\" r=\"10\" fill=\"#ff0000\" fill-rule=\"evenodd\" fill-opacity=\"1\" stroke=\"#000000\" stroke-opacity=\"1\" stroke-width=\"3.2\"/>\n",
       "<circle clip-path=\"url(#clip162)\" cx=\"1152.17\" cy=\"892.213\" r=\"10\" fill=\"#ff0000\" fill-rule=\"evenodd\" fill-opacity=\"1\" stroke=\"#000000\" stroke-opacity=\"1\" stroke-width=\"3.2\"/>\n",
       "<circle clip-path=\"url(#clip162)\" cx=\"1171.54\" cy=\"888.168\" r=\"10\" fill=\"#ff0000\" fill-rule=\"evenodd\" fill-opacity=\"1\" stroke=\"#000000\" stroke-opacity=\"1\" stroke-width=\"3.2\"/>\n",
       "<circle clip-path=\"url(#clip162)\" cx=\"1190.9\" cy=\"888.312\" r=\"10\" fill=\"#ff0000\" fill-rule=\"evenodd\" fill-opacity=\"1\" stroke=\"#000000\" stroke-opacity=\"1\" stroke-width=\"3.2\"/>\n",
       "<circle clip-path=\"url(#clip162)\" cx=\"1210.26\" cy=\"835.149\" r=\"10\" fill=\"#ff0000\" fill-rule=\"evenodd\" fill-opacity=\"1\" stroke=\"#000000\" stroke-opacity=\"1\" stroke-width=\"3.2\"/>\n",
       "<circle clip-path=\"url(#clip162)\" cx=\"1229.63\" cy=\"856.145\" r=\"10\" fill=\"#ff0000\" fill-rule=\"evenodd\" fill-opacity=\"1\" stroke=\"#000000\" stroke-opacity=\"1\" stroke-width=\"3.2\"/>\n",
       "<circle clip-path=\"url(#clip162)\" cx=\"1248.99\" cy=\"809.556\" r=\"10\" fill=\"#ff0000\" fill-rule=\"evenodd\" fill-opacity=\"1\" stroke=\"#000000\" stroke-opacity=\"1\" stroke-width=\"3.2\"/>\n",
       "<circle clip-path=\"url(#clip162)\" cx=\"1268.36\" cy=\"802.278\" r=\"10\" fill=\"#ff0000\" fill-rule=\"evenodd\" fill-opacity=\"1\" stroke=\"#000000\" stroke-opacity=\"1\" stroke-width=\"3.2\"/>\n",
       "<circle clip-path=\"url(#clip162)\" cx=\"1287.72\" cy=\"832.537\" r=\"10\" fill=\"#ff0000\" fill-rule=\"evenodd\" fill-opacity=\"1\" stroke=\"#000000\" stroke-opacity=\"1\" stroke-width=\"3.2\"/>\n",
       "<circle clip-path=\"url(#clip162)\" cx=\"1307.09\" cy=\"789.048\" r=\"10\" fill=\"#ff0000\" fill-rule=\"evenodd\" fill-opacity=\"1\" stroke=\"#000000\" stroke-opacity=\"1\" stroke-width=\"3.2\"/>\n",
       "<circle clip-path=\"url(#clip162)\" cx=\"1326.45\" cy=\"785.769\" r=\"10\" fill=\"#ff0000\" fill-rule=\"evenodd\" fill-opacity=\"1\" stroke=\"#000000\" stroke-opacity=\"1\" stroke-width=\"3.2\"/>\n",
       "<circle clip-path=\"url(#clip162)\" cx=\"1345.81\" cy=\"772.904\" r=\"10\" fill=\"#ff0000\" fill-rule=\"evenodd\" fill-opacity=\"1\" stroke=\"#000000\" stroke-opacity=\"1\" stroke-width=\"3.2\"/>\n",
       "<circle clip-path=\"url(#clip162)\" cx=\"1365.18\" cy=\"745.766\" r=\"10\" fill=\"#ff0000\" fill-rule=\"evenodd\" fill-opacity=\"1\" stroke=\"#000000\" stroke-opacity=\"1\" stroke-width=\"3.2\"/>\n",
       "<circle clip-path=\"url(#clip162)\" cx=\"1384.54\" cy=\"715.158\" r=\"10\" fill=\"#ff0000\" fill-rule=\"evenodd\" fill-opacity=\"1\" stroke=\"#000000\" stroke-opacity=\"1\" stroke-width=\"3.2\"/>\n",
       "<circle clip-path=\"url(#clip162)\" cx=\"1403.91\" cy=\"745.243\" r=\"10\" fill=\"#ff0000\" fill-rule=\"evenodd\" fill-opacity=\"1\" stroke=\"#000000\" stroke-opacity=\"1\" stroke-width=\"3.2\"/>\n",
       "<circle clip-path=\"url(#clip162)\" cx=\"1423.27\" cy=\"674.461\" r=\"10\" fill=\"#ff0000\" fill-rule=\"evenodd\" fill-opacity=\"1\" stroke=\"#000000\" stroke-opacity=\"1\" stroke-width=\"3.2\"/>\n",
       "<circle clip-path=\"url(#clip162)\" cx=\"1442.64\" cy=\"688.989\" r=\"10\" fill=\"#ff0000\" fill-rule=\"evenodd\" fill-opacity=\"1\" stroke=\"#000000\" stroke-opacity=\"1\" stroke-width=\"3.2\"/>\n",
       "<circle clip-path=\"url(#clip162)\" cx=\"1462\" cy=\"652.285\" r=\"10\" fill=\"#ff0000\" fill-rule=\"evenodd\" fill-opacity=\"1\" stroke=\"#000000\" stroke-opacity=\"1\" stroke-width=\"3.2\"/>\n",
       "<circle clip-path=\"url(#clip162)\" cx=\"1481.36\" cy=\"663.076\" r=\"10\" fill=\"#ff0000\" fill-rule=\"evenodd\" fill-opacity=\"1\" stroke=\"#000000\" stroke-opacity=\"1\" stroke-width=\"3.2\"/>\n",
       "<circle clip-path=\"url(#clip162)\" cx=\"1500.73\" cy=\"655.33\" r=\"10\" fill=\"#ff0000\" fill-rule=\"evenodd\" fill-opacity=\"1\" stroke=\"#000000\" stroke-opacity=\"1\" stroke-width=\"3.2\"/>\n",
       "<circle clip-path=\"url(#clip162)\" cx=\"1520.09\" cy=\"618.796\" r=\"10\" fill=\"#ff0000\" fill-rule=\"evenodd\" fill-opacity=\"1\" stroke=\"#000000\" stroke-opacity=\"1\" stroke-width=\"3.2\"/>\n",
       "<circle clip-path=\"url(#clip162)\" cx=\"1539.46\" cy=\"617.648\" r=\"10\" fill=\"#ff0000\" fill-rule=\"evenodd\" fill-opacity=\"1\" stroke=\"#000000\" stroke-opacity=\"1\" stroke-width=\"3.2\"/>\n",
       "<circle clip-path=\"url(#clip162)\" cx=\"1558.82\" cy=\"609.444\" r=\"10\" fill=\"#ff0000\" fill-rule=\"evenodd\" fill-opacity=\"1\" stroke=\"#000000\" stroke-opacity=\"1\" stroke-width=\"3.2\"/>\n",
       "<circle clip-path=\"url(#clip162)\" cx=\"1578.19\" cy=\"589.272\" r=\"10\" fill=\"#ff0000\" fill-rule=\"evenodd\" fill-opacity=\"1\" stroke=\"#000000\" stroke-opacity=\"1\" stroke-width=\"3.2\"/>\n",
       "<circle clip-path=\"url(#clip162)\" cx=\"1597.55\" cy=\"580.724\" r=\"10\" fill=\"#ff0000\" fill-rule=\"evenodd\" fill-opacity=\"1\" stroke=\"#000000\" stroke-opacity=\"1\" stroke-width=\"3.2\"/>\n",
       "<circle clip-path=\"url(#clip162)\" cx=\"1616.91\" cy=\"529.667\" r=\"10\" fill=\"#ff0000\" fill-rule=\"evenodd\" fill-opacity=\"1\" stroke=\"#000000\" stroke-opacity=\"1\" stroke-width=\"3.2\"/>\n",
       "<circle clip-path=\"url(#clip162)\" cx=\"1636.28\" cy=\"563.929\" r=\"10\" fill=\"#ff0000\" fill-rule=\"evenodd\" fill-opacity=\"1\" stroke=\"#000000\" stroke-opacity=\"1\" stroke-width=\"3.2\"/>\n",
       "<circle clip-path=\"url(#clip162)\" cx=\"1655.64\" cy=\"579.282\" r=\"10\" fill=\"#ff0000\" fill-rule=\"evenodd\" fill-opacity=\"1\" stroke=\"#000000\" stroke-opacity=\"1\" stroke-width=\"3.2\"/>\n",
       "<circle clip-path=\"url(#clip162)\" cx=\"1675.01\" cy=\"536.009\" r=\"10\" fill=\"#ff0000\" fill-rule=\"evenodd\" fill-opacity=\"1\" stroke=\"#000000\" stroke-opacity=\"1\" stroke-width=\"3.2\"/>\n",
       "<circle clip-path=\"url(#clip162)\" cx=\"1694.37\" cy=\"502.022\" r=\"10\" fill=\"#ff0000\" fill-rule=\"evenodd\" fill-opacity=\"1\" stroke=\"#000000\" stroke-opacity=\"1\" stroke-width=\"3.2\"/>\n",
       "<circle clip-path=\"url(#clip162)\" cx=\"1713.74\" cy=\"481.399\" r=\"10\" fill=\"#ff0000\" fill-rule=\"evenodd\" fill-opacity=\"1\" stroke=\"#000000\" stroke-opacity=\"1\" stroke-width=\"3.2\"/>\n",
       "<circle clip-path=\"url(#clip162)\" cx=\"1733.1\" cy=\"481.355\" r=\"10\" fill=\"#ff0000\" fill-rule=\"evenodd\" fill-opacity=\"1\" stroke=\"#000000\" stroke-opacity=\"1\" stroke-width=\"3.2\"/>\n",
       "<circle clip-path=\"url(#clip162)\" cx=\"1752.46\" cy=\"435.525\" r=\"10\" fill=\"#ff0000\" fill-rule=\"evenodd\" fill-opacity=\"1\" stroke=\"#000000\" stroke-opacity=\"1\" stroke-width=\"3.2\"/>\n",
       "<circle clip-path=\"url(#clip162)\" cx=\"1771.83\" cy=\"428.288\" r=\"10\" fill=\"#ff0000\" fill-rule=\"evenodd\" fill-opacity=\"1\" stroke=\"#000000\" stroke-opacity=\"1\" stroke-width=\"3.2\"/>\n",
       "<circle clip-path=\"url(#clip162)\" cx=\"1791.19\" cy=\"440.897\" r=\"10\" fill=\"#ff0000\" fill-rule=\"evenodd\" fill-opacity=\"1\" stroke=\"#000000\" stroke-opacity=\"1\" stroke-width=\"3.2\"/>\n",
       "<circle clip-path=\"url(#clip162)\" cx=\"1810.56\" cy=\"486.208\" r=\"10\" fill=\"#ff0000\" fill-rule=\"evenodd\" fill-opacity=\"1\" stroke=\"#000000\" stroke-opacity=\"1\" stroke-width=\"3.2\"/>\n",
       "<circle clip-path=\"url(#clip162)\" cx=\"1829.92\" cy=\"449.722\" r=\"10\" fill=\"#ff0000\" fill-rule=\"evenodd\" fill-opacity=\"1\" stroke=\"#000000\" stroke-opacity=\"1\" stroke-width=\"3.2\"/>\n",
       "<circle clip-path=\"url(#clip162)\" cx=\"1849.28\" cy=\"373.221\" r=\"10\" fill=\"#ff0000\" fill-rule=\"evenodd\" fill-opacity=\"1\" stroke=\"#000000\" stroke-opacity=\"1\" stroke-width=\"3.2\"/>\n",
       "<circle clip-path=\"url(#clip162)\" cx=\"1868.65\" cy=\"370.514\" r=\"10\" fill=\"#ff0000\" fill-rule=\"evenodd\" fill-opacity=\"1\" stroke=\"#000000\" stroke-opacity=\"1\" stroke-width=\"3.2\"/>\n",
       "<circle clip-path=\"url(#clip162)\" cx=\"1888.01\" cy=\"380.82\" r=\"10\" fill=\"#ff0000\" fill-rule=\"evenodd\" fill-opacity=\"1\" stroke=\"#000000\" stroke-opacity=\"1\" stroke-width=\"3.2\"/>\n",
       "<circle clip-path=\"url(#clip162)\" cx=\"1907.38\" cy=\"378.949\" r=\"10\" fill=\"#ff0000\" fill-rule=\"evenodd\" fill-opacity=\"1\" stroke=\"#000000\" stroke-opacity=\"1\" stroke-width=\"3.2\"/>\n",
       "<circle clip-path=\"url(#clip162)\" cx=\"1926.74\" cy=\"372.891\" r=\"10\" fill=\"#ff0000\" fill-rule=\"evenodd\" fill-opacity=\"1\" stroke=\"#000000\" stroke-opacity=\"1\" stroke-width=\"3.2\"/>\n",
       "<circle clip-path=\"url(#clip162)\" cx=\"1946.11\" cy=\"362.922\" r=\"10\" fill=\"#ff0000\" fill-rule=\"evenodd\" fill-opacity=\"1\" stroke=\"#000000\" stroke-opacity=\"1\" stroke-width=\"3.2\"/>\n",
       "<circle clip-path=\"url(#clip162)\" cx=\"1965.47\" cy=\"285.777\" r=\"10\" fill=\"#ff0000\" fill-rule=\"evenodd\" fill-opacity=\"1\" stroke=\"#000000\" stroke-opacity=\"1\" stroke-width=\"3.2\"/>\n",
       "<circle clip-path=\"url(#clip162)\" cx=\"1984.83\" cy=\"327.828\" r=\"10\" fill=\"#ff0000\" fill-rule=\"evenodd\" fill-opacity=\"1\" stroke=\"#000000\" stroke-opacity=\"1\" stroke-width=\"3.2\"/>\n",
       "<circle clip-path=\"url(#clip162)\" cx=\"2004.2\" cy=\"306.541\" r=\"10\" fill=\"#ff0000\" fill-rule=\"evenodd\" fill-opacity=\"1\" stroke=\"#000000\" stroke-opacity=\"1\" stroke-width=\"3.2\"/>\n",
       "<circle clip-path=\"url(#clip162)\" cx=\"2023.56\" cy=\"285.188\" r=\"10\" fill=\"#ff0000\" fill-rule=\"evenodd\" fill-opacity=\"1\" stroke=\"#000000\" stroke-opacity=\"1\" stroke-width=\"3.2\"/>\n",
       "<circle clip-path=\"url(#clip162)\" cx=\"2042.93\" cy=\"249.465\" r=\"10\" fill=\"#ff0000\" fill-rule=\"evenodd\" fill-opacity=\"1\" stroke=\"#000000\" stroke-opacity=\"1\" stroke-width=\"3.2\"/>\n",
       "<circle clip-path=\"url(#clip162)\" cx=\"2062.29\" cy=\"265.606\" r=\"10\" fill=\"#ff0000\" fill-rule=\"evenodd\" fill-opacity=\"1\" stroke=\"#000000\" stroke-opacity=\"1\" stroke-width=\"3.2\"/>\n",
       "<circle clip-path=\"url(#clip162)\" cx=\"2081.66\" cy=\"250.008\" r=\"10\" fill=\"#ff0000\" fill-rule=\"evenodd\" fill-opacity=\"1\" stroke=\"#000000\" stroke-opacity=\"1\" stroke-width=\"3.2\"/>\n",
       "<circle clip-path=\"url(#clip162)\" cx=\"2101.02\" cy=\"274.139\" r=\"10\" fill=\"#ff0000\" fill-rule=\"evenodd\" fill-opacity=\"1\" stroke=\"#000000\" stroke-opacity=\"1\" stroke-width=\"3.2\"/>\n",
       "<circle clip-path=\"url(#clip162)\" cx=\"2120.38\" cy=\"193.163\" r=\"10\" fill=\"#ff0000\" fill-rule=\"evenodd\" fill-opacity=\"1\" stroke=\"#000000\" stroke-opacity=\"1\" stroke-width=\"3.2\"/>\n",
       "<circle clip-path=\"url(#clip162)\" cx=\"2139.75\" cy=\"198.692\" r=\"10\" fill=\"#ff0000\" fill-rule=\"evenodd\" fill-opacity=\"1\" stroke=\"#000000\" stroke-opacity=\"1\" stroke-width=\"3.2\"/>\n",
       "<circle clip-path=\"url(#clip162)\" cx=\"2159.11\" cy=\"242.662\" r=\"10\" fill=\"#ff0000\" fill-rule=\"evenodd\" fill-opacity=\"1\" stroke=\"#000000\" stroke-opacity=\"1\" stroke-width=\"3.2\"/>\n",
       "<circle clip-path=\"url(#clip162)\" cx=\"2178.48\" cy=\"187.976\" r=\"10\" fill=\"#ff0000\" fill-rule=\"evenodd\" fill-opacity=\"1\" stroke=\"#000000\" stroke-opacity=\"1\" stroke-width=\"3.2\"/>\n",
       "<circle clip-path=\"url(#clip162)\" cx=\"2197.84\" cy=\"191.08\" r=\"10\" fill=\"#ff0000\" fill-rule=\"evenodd\" fill-opacity=\"1\" stroke=\"#000000\" stroke-opacity=\"1\" stroke-width=\"3.2\"/>\n",
       "<circle clip-path=\"url(#clip162)\" cx=\"2217.21\" cy=\"168.149\" r=\"10\" fill=\"#ff0000\" fill-rule=\"evenodd\" fill-opacity=\"1\" stroke=\"#000000\" stroke-opacity=\"1\" stroke-width=\"3.2\"/>\n",
       "<circle clip-path=\"url(#clip162)\" cx=\"2236.57\" cy=\"162.604\" r=\"10\" fill=\"#ff0000\" fill-rule=\"evenodd\" fill-opacity=\"1\" stroke=\"#000000\" stroke-opacity=\"1\" stroke-width=\"3.2\"/>\n",
       "<circle clip-path=\"url(#clip162)\" cx=\"2255.93\" cy=\"164.362\" r=\"10\" fill=\"#ff0000\" fill-rule=\"evenodd\" fill-opacity=\"1\" stroke=\"#000000\" stroke-opacity=\"1\" stroke-width=\"3.2\"/>\n",
       "<circle clip-path=\"url(#clip162)\" cx=\"2275.3\" cy=\"172.514\" r=\"10\" fill=\"#ff0000\" fill-rule=\"evenodd\" fill-opacity=\"1\" stroke=\"#000000\" stroke-opacity=\"1\" stroke-width=\"3.2\"/>\n",
       "<circle clip-path=\"url(#clip162)\" cx=\"2294.66\" cy=\"160.256\" r=\"10\" fill=\"#ff0000\" fill-rule=\"evenodd\" fill-opacity=\"1\" stroke=\"#000000\" stroke-opacity=\"1\" stroke-width=\"3.2\"/>\n",
       "<circle clip-path=\"url(#clip162)\" cx=\"358.236\" cy=\"1368.21\" r=\"10\" fill=\"#008000\" fill-rule=\"evenodd\" fill-opacity=\"1\" stroke=\"#000000\" stroke-opacity=\"1\" stroke-width=\"3.2\"/>\n",
       "<circle clip-path=\"url(#clip162)\" cx=\"377.601\" cy=\"1372.56\" r=\"10\" fill=\"#008000\" fill-rule=\"evenodd\" fill-opacity=\"1\" stroke=\"#000000\" stroke-opacity=\"1\" stroke-width=\"3.2\"/>\n",
       "<circle clip-path=\"url(#clip162)\" cx=\"396.965\" cy=\"1368.49\" r=\"10\" fill=\"#008000\" fill-rule=\"evenodd\" fill-opacity=\"1\" stroke=\"#000000\" stroke-opacity=\"1\" stroke-width=\"3.2\"/>\n",
       "<circle clip-path=\"url(#clip162)\" cx=\"416.329\" cy=\"1363.33\" r=\"10\" fill=\"#008000\" fill-rule=\"evenodd\" fill-opacity=\"1\" stroke=\"#000000\" stroke-opacity=\"1\" stroke-width=\"3.2\"/>\n",
       "<circle clip-path=\"url(#clip162)\" cx=\"435.693\" cy=\"1369.9\" r=\"10\" fill=\"#008000\" fill-rule=\"evenodd\" fill-opacity=\"1\" stroke=\"#000000\" stroke-opacity=\"1\" stroke-width=\"3.2\"/>\n",
       "<circle clip-path=\"url(#clip162)\" cx=\"455.058\" cy=\"1359.98\" r=\"10\" fill=\"#008000\" fill-rule=\"evenodd\" fill-opacity=\"1\" stroke=\"#000000\" stroke-opacity=\"1\" stroke-width=\"3.2\"/>\n",
       "<circle clip-path=\"url(#clip162)\" cx=\"474.422\" cy=\"1356.57\" r=\"10\" fill=\"#008000\" fill-rule=\"evenodd\" fill-opacity=\"1\" stroke=\"#000000\" stroke-opacity=\"1\" stroke-width=\"3.2\"/>\n",
       "<circle clip-path=\"url(#clip162)\" cx=\"493.786\" cy=\"1342.4\" r=\"10\" fill=\"#008000\" fill-rule=\"evenodd\" fill-opacity=\"1\" stroke=\"#000000\" stroke-opacity=\"1\" stroke-width=\"3.2\"/>\n",
       "<circle clip-path=\"url(#clip162)\" cx=\"513.151\" cy=\"1351.33\" r=\"10\" fill=\"#008000\" fill-rule=\"evenodd\" fill-opacity=\"1\" stroke=\"#000000\" stroke-opacity=\"1\" stroke-width=\"3.2\"/>\n",
       "<circle clip-path=\"url(#clip162)\" cx=\"532.515\" cy=\"1331.73\" r=\"10\" fill=\"#008000\" fill-rule=\"evenodd\" fill-opacity=\"1\" stroke=\"#000000\" stroke-opacity=\"1\" stroke-width=\"3.2\"/>\n",
       "<circle clip-path=\"url(#clip162)\" cx=\"551.879\" cy=\"1330.72\" r=\"10\" fill=\"#008000\" fill-rule=\"evenodd\" fill-opacity=\"1\" stroke=\"#000000\" stroke-opacity=\"1\" stroke-width=\"3.2\"/>\n",
       "<circle clip-path=\"url(#clip162)\" cx=\"571.243\" cy=\"1337.54\" r=\"10\" fill=\"#008000\" fill-rule=\"evenodd\" fill-opacity=\"1\" stroke=\"#000000\" stroke-opacity=\"1\" stroke-width=\"3.2\"/>\n",
       "<circle clip-path=\"url(#clip162)\" cx=\"590.608\" cy=\"1322.7\" r=\"10\" fill=\"#008000\" fill-rule=\"evenodd\" fill-opacity=\"1\" stroke=\"#000000\" stroke-opacity=\"1\" stroke-width=\"3.2\"/>\n",
       "<circle clip-path=\"url(#clip162)\" cx=\"609.972\" cy=\"1335.35\" r=\"10\" fill=\"#008000\" fill-rule=\"evenodd\" fill-opacity=\"1\" stroke=\"#000000\" stroke-opacity=\"1\" stroke-width=\"3.2\"/>\n",
       "<circle clip-path=\"url(#clip162)\" cx=\"629.336\" cy=\"1315.3\" r=\"10\" fill=\"#008000\" fill-rule=\"evenodd\" fill-opacity=\"1\" stroke=\"#000000\" stroke-opacity=\"1\" stroke-width=\"3.2\"/>\n",
       "<circle clip-path=\"url(#clip162)\" cx=\"648.7\" cy=\"1301.5\" r=\"10\" fill=\"#008000\" fill-rule=\"evenodd\" fill-opacity=\"1\" stroke=\"#000000\" stroke-opacity=\"1\" stroke-width=\"3.2\"/>\n",
       "<circle clip-path=\"url(#clip162)\" cx=\"668.065\" cy=\"1315.42\" r=\"10\" fill=\"#008000\" fill-rule=\"evenodd\" fill-opacity=\"1\" stroke=\"#000000\" stroke-opacity=\"1\" stroke-width=\"3.2\"/>\n",
       "<circle clip-path=\"url(#clip162)\" cx=\"687.429\" cy=\"1300.55\" r=\"10\" fill=\"#008000\" fill-rule=\"evenodd\" fill-opacity=\"1\" stroke=\"#000000\" stroke-opacity=\"1\" stroke-width=\"3.2\"/>\n",
       "<circle clip-path=\"url(#clip162)\" cx=\"706.793\" cy=\"1302.29\" r=\"10\" fill=\"#008000\" fill-rule=\"evenodd\" fill-opacity=\"1\" stroke=\"#000000\" stroke-opacity=\"1\" stroke-width=\"3.2\"/>\n",
       "<circle clip-path=\"url(#clip162)\" cx=\"726.157\" cy=\"1279.85\" r=\"10\" fill=\"#008000\" fill-rule=\"evenodd\" fill-opacity=\"1\" stroke=\"#000000\" stroke-opacity=\"1\" stroke-width=\"3.2\"/>\n",
       "<circle clip-path=\"url(#clip162)\" cx=\"745.522\" cy=\"1273.62\" r=\"10\" fill=\"#008000\" fill-rule=\"evenodd\" fill-opacity=\"1\" stroke=\"#000000\" stroke-opacity=\"1\" stroke-width=\"3.2\"/>\n",
       "<circle clip-path=\"url(#clip162)\" cx=\"764.886\" cy=\"1282.02\" r=\"10\" fill=\"#008000\" fill-rule=\"evenodd\" fill-opacity=\"1\" stroke=\"#000000\" stroke-opacity=\"1\" stroke-width=\"3.2\"/>\n",
       "<circle clip-path=\"url(#clip162)\" cx=\"784.25\" cy=\"1248.4\" r=\"10\" fill=\"#008000\" fill-rule=\"evenodd\" fill-opacity=\"1\" stroke=\"#000000\" stroke-opacity=\"1\" stroke-width=\"3.2\"/>\n",
       "<circle clip-path=\"url(#clip162)\" cx=\"803.615\" cy=\"1272.58\" r=\"10\" fill=\"#008000\" fill-rule=\"evenodd\" fill-opacity=\"1\" stroke=\"#000000\" stroke-opacity=\"1\" stroke-width=\"3.2\"/>\n",
       "<circle clip-path=\"url(#clip162)\" cx=\"822.979\" cy=\"1247.95\" r=\"10\" fill=\"#008000\" fill-rule=\"evenodd\" fill-opacity=\"1\" stroke=\"#000000\" stroke-opacity=\"1\" stroke-width=\"3.2\"/>\n",
       "<circle clip-path=\"url(#clip162)\" cx=\"842.343\" cy=\"1241.87\" r=\"10\" fill=\"#008000\" fill-rule=\"evenodd\" fill-opacity=\"1\" stroke=\"#000000\" stroke-opacity=\"1\" stroke-width=\"3.2\"/>\n",
       "<circle clip-path=\"url(#clip162)\" cx=\"861.707\" cy=\"1239.51\" r=\"10\" fill=\"#008000\" fill-rule=\"evenodd\" fill-opacity=\"1\" stroke=\"#000000\" stroke-opacity=\"1\" stroke-width=\"3.2\"/>\n",
       "<circle clip-path=\"url(#clip162)\" cx=\"881.072\" cy=\"1248.96\" r=\"10\" fill=\"#008000\" fill-rule=\"evenodd\" fill-opacity=\"1\" stroke=\"#000000\" stroke-opacity=\"1\" stroke-width=\"3.2\"/>\n",
       "<circle clip-path=\"url(#clip162)\" cx=\"900.436\" cy=\"1225\" r=\"10\" fill=\"#008000\" fill-rule=\"evenodd\" fill-opacity=\"1\" stroke=\"#000000\" stroke-opacity=\"1\" stroke-width=\"3.2\"/>\n",
       "<circle clip-path=\"url(#clip162)\" cx=\"919.8\" cy=\"1230.27\" r=\"10\" fill=\"#008000\" fill-rule=\"evenodd\" fill-opacity=\"1\" stroke=\"#000000\" stroke-opacity=\"1\" stroke-width=\"3.2\"/>\n",
       "<circle clip-path=\"url(#clip162)\" cx=\"939.164\" cy=\"1224.31\" r=\"10\" fill=\"#008000\" fill-rule=\"evenodd\" fill-opacity=\"1\" stroke=\"#000000\" stroke-opacity=\"1\" stroke-width=\"3.2\"/>\n",
       "<circle clip-path=\"url(#clip162)\" cx=\"958.529\" cy=\"1198.37\" r=\"10\" fill=\"#008000\" fill-rule=\"evenodd\" fill-opacity=\"1\" stroke=\"#000000\" stroke-opacity=\"1\" stroke-width=\"3.2\"/>\n",
       "<circle clip-path=\"url(#clip162)\" cx=\"977.893\" cy=\"1176.67\" r=\"10\" fill=\"#008000\" fill-rule=\"evenodd\" fill-opacity=\"1\" stroke=\"#000000\" stroke-opacity=\"1\" stroke-width=\"3.2\"/>\n",
       "<circle clip-path=\"url(#clip162)\" cx=\"997.257\" cy=\"1216.44\" r=\"10\" fill=\"#008000\" fill-rule=\"evenodd\" fill-opacity=\"1\" stroke=\"#000000\" stroke-opacity=\"1\" stroke-width=\"3.2\"/>\n",
       "<circle clip-path=\"url(#clip162)\" cx=\"1016.62\" cy=\"1193.36\" r=\"10\" fill=\"#008000\" fill-rule=\"evenodd\" fill-opacity=\"1\" stroke=\"#000000\" stroke-opacity=\"1\" stroke-width=\"3.2\"/>\n",
       "<circle clip-path=\"url(#clip162)\" cx=\"1035.99\" cy=\"1196.15\" r=\"10\" fill=\"#008000\" fill-rule=\"evenodd\" fill-opacity=\"1\" stroke=\"#000000\" stroke-opacity=\"1\" stroke-width=\"3.2\"/>\n",
       "<circle clip-path=\"url(#clip162)\" cx=\"1055.35\" cy=\"1154.41\" r=\"10\" fill=\"#008000\" fill-rule=\"evenodd\" fill-opacity=\"1\" stroke=\"#000000\" stroke-opacity=\"1\" stroke-width=\"3.2\"/>\n",
       "<circle clip-path=\"url(#clip162)\" cx=\"1074.71\" cy=\"1147.28\" r=\"10\" fill=\"#008000\" fill-rule=\"evenodd\" fill-opacity=\"1\" stroke=\"#000000\" stroke-opacity=\"1\" stroke-width=\"3.2\"/>\n",
       "<circle clip-path=\"url(#clip162)\" cx=\"1094.08\" cy=\"1148.45\" r=\"10\" fill=\"#008000\" fill-rule=\"evenodd\" fill-opacity=\"1\" stroke=\"#000000\" stroke-opacity=\"1\" stroke-width=\"3.2\"/>\n",
       "<circle clip-path=\"url(#clip162)\" cx=\"1113.44\" cy=\"1151.75\" r=\"10\" fill=\"#008000\" fill-rule=\"evenodd\" fill-opacity=\"1\" stroke=\"#000000\" stroke-opacity=\"1\" stroke-width=\"3.2\"/>\n",
       "<circle clip-path=\"url(#clip162)\" cx=\"1132.81\" cy=\"1152.02\" r=\"10\" fill=\"#008000\" fill-rule=\"evenodd\" fill-opacity=\"1\" stroke=\"#000000\" stroke-opacity=\"1\" stroke-width=\"3.2\"/>\n",
       "<circle clip-path=\"url(#clip162)\" cx=\"1152.17\" cy=\"1175.75\" r=\"10\" fill=\"#008000\" fill-rule=\"evenodd\" fill-opacity=\"1\" stroke=\"#000000\" stroke-opacity=\"1\" stroke-width=\"3.2\"/>\n",
       "<circle clip-path=\"url(#clip162)\" cx=\"1171.54\" cy=\"1121.21\" r=\"10\" fill=\"#008000\" fill-rule=\"evenodd\" fill-opacity=\"1\" stroke=\"#000000\" stroke-opacity=\"1\" stroke-width=\"3.2\"/>\n",
       "<circle clip-path=\"url(#clip162)\" cx=\"1190.9\" cy=\"1145.86\" r=\"10\" fill=\"#008000\" fill-rule=\"evenodd\" fill-opacity=\"1\" stroke=\"#000000\" stroke-opacity=\"1\" stroke-width=\"3.2\"/>\n",
       "<circle clip-path=\"url(#clip162)\" cx=\"1210.26\" cy=\"1106.67\" r=\"10\" fill=\"#008000\" fill-rule=\"evenodd\" fill-opacity=\"1\" stroke=\"#000000\" stroke-opacity=\"1\" stroke-width=\"3.2\"/>\n",
       "<circle clip-path=\"url(#clip162)\" cx=\"1229.63\" cy=\"1112.15\" r=\"10\" fill=\"#008000\" fill-rule=\"evenodd\" fill-opacity=\"1\" stroke=\"#000000\" stroke-opacity=\"1\" stroke-width=\"3.2\"/>\n",
       "<circle clip-path=\"url(#clip162)\" cx=\"1248.99\" cy=\"1105.36\" r=\"10\" fill=\"#008000\" fill-rule=\"evenodd\" fill-opacity=\"1\" stroke=\"#000000\" stroke-opacity=\"1\" stroke-width=\"3.2\"/>\n",
       "<circle clip-path=\"url(#clip162)\" cx=\"1268.36\" cy=\"1110.75\" r=\"10\" fill=\"#008000\" fill-rule=\"evenodd\" fill-opacity=\"1\" stroke=\"#000000\" stroke-opacity=\"1\" stroke-width=\"3.2\"/>\n",
       "<circle clip-path=\"url(#clip162)\" cx=\"1287.72\" cy=\"1116.9\" r=\"10\" fill=\"#008000\" fill-rule=\"evenodd\" fill-opacity=\"1\" stroke=\"#000000\" stroke-opacity=\"1\" stroke-width=\"3.2\"/>\n",
       "<circle clip-path=\"url(#clip162)\" cx=\"1307.09\" cy=\"1114.65\" r=\"10\" fill=\"#008000\" fill-rule=\"evenodd\" fill-opacity=\"1\" stroke=\"#000000\" stroke-opacity=\"1\" stroke-width=\"3.2\"/>\n",
       "<circle clip-path=\"url(#clip162)\" cx=\"1326.45\" cy=\"1108.37\" r=\"10\" fill=\"#008000\" fill-rule=\"evenodd\" fill-opacity=\"1\" stroke=\"#000000\" stroke-opacity=\"1\" stroke-width=\"3.2\"/>\n",
       "<circle clip-path=\"url(#clip162)\" cx=\"1345.81\" cy=\"1097.2\" r=\"10\" fill=\"#008000\" fill-rule=\"evenodd\" fill-opacity=\"1\" stroke=\"#000000\" stroke-opacity=\"1\" stroke-width=\"3.2\"/>\n",
       "<circle clip-path=\"url(#clip162)\" cx=\"1365.18\" cy=\"1074.3\" r=\"10\" fill=\"#008000\" fill-rule=\"evenodd\" fill-opacity=\"1\" stroke=\"#000000\" stroke-opacity=\"1\" stroke-width=\"3.2\"/>\n",
       "<circle clip-path=\"url(#clip162)\" cx=\"1384.54\" cy=\"1050.78\" r=\"10\" fill=\"#008000\" fill-rule=\"evenodd\" fill-opacity=\"1\" stroke=\"#000000\" stroke-opacity=\"1\" stroke-width=\"3.2\"/>\n",
       "<circle clip-path=\"url(#clip162)\" cx=\"1403.91\" cy=\"1062.09\" r=\"10\" fill=\"#008000\" fill-rule=\"evenodd\" fill-opacity=\"1\" stroke=\"#000000\" stroke-opacity=\"1\" stroke-width=\"3.2\"/>\n",
       "<circle clip-path=\"url(#clip162)\" cx=\"1423.27\" cy=\"1056.06\" r=\"10\" fill=\"#008000\" fill-rule=\"evenodd\" fill-opacity=\"1\" stroke=\"#000000\" stroke-opacity=\"1\" stroke-width=\"3.2\"/>\n",
       "<circle clip-path=\"url(#clip162)\" cx=\"1442.64\" cy=\"1059.57\" r=\"10\" fill=\"#008000\" fill-rule=\"evenodd\" fill-opacity=\"1\" stroke=\"#000000\" stroke-opacity=\"1\" stroke-width=\"3.2\"/>\n",
       "<circle clip-path=\"url(#clip162)\" cx=\"1462\" cy=\"1036.79\" r=\"10\" fill=\"#008000\" fill-rule=\"evenodd\" fill-opacity=\"1\" stroke=\"#000000\" stroke-opacity=\"1\" stroke-width=\"3.2\"/>\n",
       "<circle clip-path=\"url(#clip162)\" cx=\"1481.36\" cy=\"1067.89\" r=\"10\" fill=\"#008000\" fill-rule=\"evenodd\" fill-opacity=\"1\" stroke=\"#000000\" stroke-opacity=\"1\" stroke-width=\"3.2\"/>\n",
       "<circle clip-path=\"url(#clip162)\" cx=\"1500.73\" cy=\"1028.48\" r=\"10\" fill=\"#008000\" fill-rule=\"evenodd\" fill-opacity=\"1\" stroke=\"#000000\" stroke-opacity=\"1\" stroke-width=\"3.2\"/>\n",
       "<circle clip-path=\"url(#clip162)\" cx=\"1520.09\" cy=\"992.975\" r=\"10\" fill=\"#008000\" fill-rule=\"evenodd\" fill-opacity=\"1\" stroke=\"#000000\" stroke-opacity=\"1\" stroke-width=\"3.2\"/>\n",
       "<circle clip-path=\"url(#clip162)\" cx=\"1539.46\" cy=\"1042.59\" r=\"10\" fill=\"#008000\" fill-rule=\"evenodd\" fill-opacity=\"1\" stroke=\"#000000\" stroke-opacity=\"1\" stroke-width=\"3.2\"/>\n",
       "<circle clip-path=\"url(#clip162)\" cx=\"1558.82\" cy=\"1012.37\" r=\"10\" fill=\"#008000\" fill-rule=\"evenodd\" fill-opacity=\"1\" stroke=\"#000000\" stroke-opacity=\"1\" stroke-width=\"3.2\"/>\n",
       "<circle clip-path=\"url(#clip162)\" cx=\"1578.19\" cy=\"982.478\" r=\"10\" fill=\"#008000\" fill-rule=\"evenodd\" fill-opacity=\"1\" stroke=\"#000000\" stroke-opacity=\"1\" stroke-width=\"3.2\"/>\n",
       "<circle clip-path=\"url(#clip162)\" cx=\"1597.55\" cy=\"1007.22\" r=\"10\" fill=\"#008000\" fill-rule=\"evenodd\" fill-opacity=\"1\" stroke=\"#000000\" stroke-opacity=\"1\" stroke-width=\"3.2\"/>\n",
       "<circle clip-path=\"url(#clip162)\" cx=\"1616.91\" cy=\"957.17\" r=\"10\" fill=\"#008000\" fill-rule=\"evenodd\" fill-opacity=\"1\" stroke=\"#000000\" stroke-opacity=\"1\" stroke-width=\"3.2\"/>\n",
       "<circle clip-path=\"url(#clip162)\" cx=\"1636.28\" cy=\"974.664\" r=\"10\" fill=\"#008000\" fill-rule=\"evenodd\" fill-opacity=\"1\" stroke=\"#000000\" stroke-opacity=\"1\" stroke-width=\"3.2\"/>\n",
       "<circle clip-path=\"url(#clip162)\" cx=\"1655.64\" cy=\"955.135\" r=\"10\" fill=\"#008000\" fill-rule=\"evenodd\" fill-opacity=\"1\" stroke=\"#000000\" stroke-opacity=\"1\" stroke-width=\"3.2\"/>\n",
       "<circle clip-path=\"url(#clip162)\" cx=\"1675.01\" cy=\"977.821\" r=\"10\" fill=\"#008000\" fill-rule=\"evenodd\" fill-opacity=\"1\" stroke=\"#000000\" stroke-opacity=\"1\" stroke-width=\"3.2\"/>\n",
       "<circle clip-path=\"url(#clip162)\" cx=\"1694.37\" cy=\"946.007\" r=\"10\" fill=\"#008000\" fill-rule=\"evenodd\" fill-opacity=\"1\" stroke=\"#000000\" stroke-opacity=\"1\" stroke-width=\"3.2\"/>\n",
       "<circle clip-path=\"url(#clip162)\" cx=\"1713.74\" cy=\"940.621\" r=\"10\" fill=\"#008000\" fill-rule=\"evenodd\" fill-opacity=\"1\" stroke=\"#000000\" stroke-opacity=\"1\" stroke-width=\"3.2\"/>\n",
       "<circle clip-path=\"url(#clip162)\" cx=\"1733.1\" cy=\"921.232\" r=\"10\" fill=\"#008000\" fill-rule=\"evenodd\" fill-opacity=\"1\" stroke=\"#000000\" stroke-opacity=\"1\" stroke-width=\"3.2\"/>\n",
       "<circle clip-path=\"url(#clip162)\" cx=\"1752.46\" cy=\"920.051\" r=\"10\" fill=\"#008000\" fill-rule=\"evenodd\" fill-opacity=\"1\" stroke=\"#000000\" stroke-opacity=\"1\" stroke-width=\"3.2\"/>\n",
       "<circle clip-path=\"url(#clip162)\" cx=\"1771.83\" cy=\"917.786\" r=\"10\" fill=\"#008000\" fill-rule=\"evenodd\" fill-opacity=\"1\" stroke=\"#000000\" stroke-opacity=\"1\" stroke-width=\"3.2\"/>\n",
       "<circle clip-path=\"url(#clip162)\" cx=\"1791.19\" cy=\"943.791\" r=\"10\" fill=\"#008000\" fill-rule=\"evenodd\" fill-opacity=\"1\" stroke=\"#000000\" stroke-opacity=\"1\" stroke-width=\"3.2\"/>\n",
       "<circle clip-path=\"url(#clip162)\" cx=\"1810.56\" cy=\"974.924\" r=\"10\" fill=\"#008000\" fill-rule=\"evenodd\" fill-opacity=\"1\" stroke=\"#000000\" stroke-opacity=\"1\" stroke-width=\"3.2\"/>\n",
       "<circle clip-path=\"url(#clip162)\" cx=\"1829.92\" cy=\"940.139\" r=\"10\" fill=\"#008000\" fill-rule=\"evenodd\" fill-opacity=\"1\" stroke=\"#000000\" stroke-opacity=\"1\" stroke-width=\"3.2\"/>\n",
       "<circle clip-path=\"url(#clip162)\" cx=\"1849.28\" cy=\"891.341\" r=\"10\" fill=\"#008000\" fill-rule=\"evenodd\" fill-opacity=\"1\" stroke=\"#000000\" stroke-opacity=\"1\" stroke-width=\"3.2\"/>\n",
       "<circle clip-path=\"url(#clip162)\" cx=\"1868.65\" cy=\"889.716\" r=\"10\" fill=\"#008000\" fill-rule=\"evenodd\" fill-opacity=\"1\" stroke=\"#000000\" stroke-opacity=\"1\" stroke-width=\"3.2\"/>\n",
       "<circle clip-path=\"url(#clip162)\" cx=\"1888.01\" cy=\"876.441\" r=\"10\" fill=\"#008000\" fill-rule=\"evenodd\" fill-opacity=\"1\" stroke=\"#000000\" stroke-opacity=\"1\" stroke-width=\"3.2\"/>\n",
       "<circle clip-path=\"url(#clip162)\" cx=\"1907.38\" cy=\"884.225\" r=\"10\" fill=\"#008000\" fill-rule=\"evenodd\" fill-opacity=\"1\" stroke=\"#000000\" stroke-opacity=\"1\" stroke-width=\"3.2\"/>\n",
       "<circle clip-path=\"url(#clip162)\" cx=\"1926.74\" cy=\"892.99\" r=\"10\" fill=\"#008000\" fill-rule=\"evenodd\" fill-opacity=\"1\" stroke=\"#000000\" stroke-opacity=\"1\" stroke-width=\"3.2\"/>\n",
       "<circle clip-path=\"url(#clip162)\" cx=\"1946.11\" cy=\"910.219\" r=\"10\" fill=\"#008000\" fill-rule=\"evenodd\" fill-opacity=\"1\" stroke=\"#000000\" stroke-opacity=\"1\" stroke-width=\"3.2\"/>\n",
       "<circle clip-path=\"url(#clip162)\" cx=\"1965.47\" cy=\"885.37\" r=\"10\" fill=\"#008000\" fill-rule=\"evenodd\" fill-opacity=\"1\" stroke=\"#000000\" stroke-opacity=\"1\" stroke-width=\"3.2\"/>\n",
       "<circle clip-path=\"url(#clip162)\" cx=\"1984.83\" cy=\"858.59\" r=\"10\" fill=\"#008000\" fill-rule=\"evenodd\" fill-opacity=\"1\" stroke=\"#000000\" stroke-opacity=\"1\" stroke-width=\"3.2\"/>\n",
       "<circle clip-path=\"url(#clip162)\" cx=\"2004.2\" cy=\"866.446\" r=\"10\" fill=\"#008000\" fill-rule=\"evenodd\" fill-opacity=\"1\" stroke=\"#000000\" stroke-opacity=\"1\" stroke-width=\"3.2\"/>\n",
       "<circle clip-path=\"url(#clip162)\" cx=\"2023.56\" cy=\"838.053\" r=\"10\" fill=\"#008000\" fill-rule=\"evenodd\" fill-opacity=\"1\" stroke=\"#000000\" stroke-opacity=\"1\" stroke-width=\"3.2\"/>\n",
       "<circle clip-path=\"url(#clip162)\" cx=\"2042.93\" cy=\"867.682\" r=\"10\" fill=\"#008000\" fill-rule=\"evenodd\" fill-opacity=\"1\" stroke=\"#000000\" stroke-opacity=\"1\" stroke-width=\"3.2\"/>\n",
       "<circle clip-path=\"url(#clip162)\" cx=\"2062.29\" cy=\"831.743\" r=\"10\" fill=\"#008000\" fill-rule=\"evenodd\" fill-opacity=\"1\" stroke=\"#000000\" stroke-opacity=\"1\" stroke-width=\"3.2\"/>\n",
       "<circle clip-path=\"url(#clip162)\" cx=\"2081.66\" cy=\"848.021\" r=\"10\" fill=\"#008000\" fill-rule=\"evenodd\" fill-opacity=\"1\" stroke=\"#000000\" stroke-opacity=\"1\" stroke-width=\"3.2\"/>\n",
       "<circle clip-path=\"url(#clip162)\" cx=\"2101.02\" cy=\"839.836\" r=\"10\" fill=\"#008000\" fill-rule=\"evenodd\" fill-opacity=\"1\" stroke=\"#000000\" stroke-opacity=\"1\" stroke-width=\"3.2\"/>\n",
       "<circle clip-path=\"url(#clip162)\" cx=\"2120.38\" cy=\"806.098\" r=\"10\" fill=\"#008000\" fill-rule=\"evenodd\" fill-opacity=\"1\" stroke=\"#000000\" stroke-opacity=\"1\" stroke-width=\"3.2\"/>\n",
       "<circle clip-path=\"url(#clip162)\" cx=\"2139.75\" cy=\"769.59\" r=\"10\" fill=\"#008000\" fill-rule=\"evenodd\" fill-opacity=\"1\" stroke=\"#000000\" stroke-opacity=\"1\" stroke-width=\"3.2\"/>\n",
       "<circle clip-path=\"url(#clip162)\" cx=\"2159.11\" cy=\"780.868\" r=\"10\" fill=\"#008000\" fill-rule=\"evenodd\" fill-opacity=\"1\" stroke=\"#000000\" stroke-opacity=\"1\" stroke-width=\"3.2\"/>\n",
       "<circle clip-path=\"url(#clip162)\" cx=\"2178.48\" cy=\"799.761\" r=\"10\" fill=\"#008000\" fill-rule=\"evenodd\" fill-opacity=\"1\" stroke=\"#000000\" stroke-opacity=\"1\" stroke-width=\"3.2\"/>\n",
       "<circle clip-path=\"url(#clip162)\" cx=\"2197.84\" cy=\"758.437\" r=\"10\" fill=\"#008000\" fill-rule=\"evenodd\" fill-opacity=\"1\" stroke=\"#000000\" stroke-opacity=\"1\" stroke-width=\"3.2\"/>\n",
       "<circle clip-path=\"url(#clip162)\" cx=\"2217.21\" cy=\"748.839\" r=\"10\" fill=\"#008000\" fill-rule=\"evenodd\" fill-opacity=\"1\" stroke=\"#000000\" stroke-opacity=\"1\" stroke-width=\"3.2\"/>\n",
       "<circle clip-path=\"url(#clip162)\" cx=\"2236.57\" cy=\"758.518\" r=\"10\" fill=\"#008000\" fill-rule=\"evenodd\" fill-opacity=\"1\" stroke=\"#000000\" stroke-opacity=\"1\" stroke-width=\"3.2\"/>\n",
       "<circle clip-path=\"url(#clip162)\" cx=\"2255.93\" cy=\"777.538\" r=\"10\" fill=\"#008000\" fill-rule=\"evenodd\" fill-opacity=\"1\" stroke=\"#000000\" stroke-opacity=\"1\" stroke-width=\"3.2\"/>\n",
       "<circle clip-path=\"url(#clip162)\" cx=\"2275.3\" cy=\"769.398\" r=\"10\" fill=\"#008000\" fill-rule=\"evenodd\" fill-opacity=\"1\" stroke=\"#000000\" stroke-opacity=\"1\" stroke-width=\"3.2\"/>\n",
       "<circle clip-path=\"url(#clip162)\" cx=\"2294.66\" cy=\"688.039\" r=\"10\" fill=\"#008000\" fill-rule=\"evenodd\" fill-opacity=\"1\" stroke=\"#000000\" stroke-opacity=\"1\" stroke-width=\"3.2\"/>\n",
       "<path clip-path=\"url(#clip160)\" d=\"\n",
       "M372.144 448.912 L704.064 448.912 L704.064 206.992 L372.144 206.992  Z\n",
       "  \" fill=\"#ffffff\" fill-rule=\"evenodd\" fill-opacity=\"1\"/>\n",
       "<polyline clip-path=\"url(#clip160)\" style=\"stroke:#000000; stroke-width:4; stroke-opacity:1; fill:none\" points=\"\n",
       "  372.144,448.912 704.064,448.912 704.064,206.992 372.144,206.992 372.144,448.912 \n",
       "  \"/>\n",
       "<circle clip-path=\"url(#clip160)\" cx=\"480.144\" cy=\"267.472\" r=\"23\" fill=\"#0000ff\" fill-rule=\"evenodd\" fill-opacity=\"1\" stroke=\"#000000\" stroke-opacity=\"1\" stroke-width=\"6.82667\"/>\n",
       "<path clip-path=\"url(#clip160)\" d=\"M 0 0 M592.014 252.854 L592.014 257.785 Q589.653 255.586 586.968 254.498 Q584.306 253.41 581.296 253.41 Q575.37 253.41 572.222 257.044 Q569.074 260.655 569.074 267.507 Q569.074 274.336 572.222 277.97 Q575.37 281.581 581.296 281.581 Q584.306 281.581 586.968 280.493 Q589.653 279.405 592.014 277.206 L592.014 282.09 Q589.56 283.757 586.806 284.59 Q584.074 285.423 581.019 285.423 Q573.171 285.423 568.657 280.632 Q564.144 275.817 564.144 267.507 Q564.144 259.174 568.657 254.382 Q573.171 249.567 581.019 249.567 Q584.12 249.567 586.852 250.4 Q589.606 251.211 592.014 252.854 Z\" fill=\"#000000\" fill-rule=\"evenodd\" fill-opacity=\"1\" /><path clip-path=\"url(#clip160)\" d=\"M 0 0 M620.231 279.822 L620.231 270.539 L612.592 270.539 L612.592 266.697 L624.861 266.697 L624.861 281.535 Q622.153 283.456 618.889 284.451 Q615.625 285.423 611.921 285.423 Q603.819 285.423 599.236 280.701 Q594.676 275.956 594.676 267.507 Q594.676 259.035 599.236 254.312 Q603.819 249.567 611.921 249.567 Q615.301 249.567 618.333 250.4 Q621.389 251.234 623.958 252.854 L623.958 257.831 Q621.366 255.632 618.449 254.521 Q615.532 253.41 612.315 253.41 Q605.972 253.41 602.778 256.951 Q599.606 260.493 599.606 267.507 Q599.606 274.498 602.778 278.039 Q605.972 281.581 612.315 281.581 Q614.791 281.581 616.736 281.164 Q618.68 280.724 620.231 279.822 Z\" fill=\"#000000\" fill-rule=\"evenodd\" fill-opacity=\"1\" /><path clip-path=\"url(#clip160)\" d=\"M 0 0 M650.231 251.326 L650.231 255.887 Q647.569 254.613 645.208 253.988 Q642.847 253.363 640.648 253.363 Q636.828 253.363 634.745 254.845 Q632.685 256.326 632.685 259.058 Q632.685 261.349 634.051 262.53 Q635.44 263.687 639.282 264.405 L642.106 264.984 Q647.338 265.979 649.814 268.502 Q652.314 271.002 652.314 275.215 Q652.314 280.238 648.935 282.831 Q645.578 285.423 639.074 285.423 Q636.62 285.423 633.842 284.868 Q631.088 284.312 628.125 283.224 L628.125 278.41 Q630.972 280.007 633.703 280.817 Q636.435 281.627 639.074 281.627 Q643.078 281.627 645.254 280.053 Q647.43 278.479 647.43 275.562 Q647.43 273.016 645.856 271.581 Q644.305 270.146 640.74 269.428 L637.893 268.873 Q632.662 267.831 630.324 265.609 Q627.986 263.386 627.986 259.428 Q627.986 254.845 631.203 252.206 Q634.444 249.567 640.115 249.567 Q642.546 249.567 645.069 250.007 Q647.592 250.447 650.231 251.326 Z\" fill=\"#000000\" fill-rule=\"evenodd\" fill-opacity=\"1\" /><circle clip-path=\"url(#clip160)\" cx=\"480.144\" cy=\"327.952\" r=\"23\" fill=\"#ff0000\" fill-rule=\"evenodd\" fill-opacity=\"1\" stroke=\"#000000\" stroke-opacity=\"1\" stroke-width=\"6.82667\"/>\n",
       "<path clip-path=\"url(#clip160)\" d=\"M 0 0 M564.144 310.672 L571.111 310.672 L579.931 334.191 L588.796 310.672 L595.764 310.672 L595.764 345.232 L591.204 345.232 L591.204 314.885 L582.292 338.589 L577.593 338.589 L568.681 314.885 L568.681 345.232 L564.144 345.232 L564.144 310.672 Z\" fill=\"#000000\" fill-rule=\"evenodd\" fill-opacity=\"1\" /><path clip-path=\"url(#clip160)\" d=\"M 0 0 M623.981 340.302 L623.981 331.019 L616.342 331.019 L616.342 327.177 L628.611 327.177 L628.611 342.015 Q625.903 343.936 622.639 344.931 Q619.375 345.903 615.671 345.903 Q607.569 345.903 602.986 341.181 Q598.426 336.436 598.426 327.987 Q598.426 319.515 602.986 314.792 Q607.569 310.047 615.671 310.047 Q619.051 310.047 622.083 310.88 Q625.139 311.714 627.708 313.334 L627.708 318.311 Q625.116 316.112 622.199 315.001 Q619.282 313.89 616.065 313.89 Q609.722 313.89 606.528 317.431 Q603.356 320.973 603.356 327.987 Q603.356 334.978 606.528 338.519 Q609.722 342.061 616.065 342.061 Q618.541 342.061 620.486 341.644 Q622.43 341.204 623.981 340.302 Z\" fill=\"#000000\" fill-rule=\"evenodd\" fill-opacity=\"1\" /><path clip-path=\"url(#clip160)\" d=\"M 0 0 M653.981 311.806 L653.981 316.367 Q651.319 315.093 648.958 314.468 Q646.597 313.843 644.398 313.843 Q640.578 313.843 638.495 315.325 Q636.435 316.806 636.435 319.538 Q636.435 321.829 637.801 323.01 Q639.19 324.167 643.032 324.885 L645.856 325.464 Q651.088 326.459 653.564 328.982 Q656.064 331.482 656.064 335.695 Q656.064 340.718 652.685 343.311 Q649.328 345.903 642.824 345.903 Q640.37 345.903 637.592 345.348 Q634.838 344.792 631.875 343.704 L631.875 338.89 Q634.722 340.487 637.453 341.297 Q640.185 342.107 642.824 342.107 Q646.828 342.107 649.004 340.533 Q651.18 338.959 651.18 336.042 Q651.18 333.496 649.606 332.061 Q648.055 330.626 644.49 329.908 L641.643 329.353 Q636.412 328.311 634.074 326.089 Q631.736 323.866 631.736 319.908 Q631.736 315.325 634.953 312.686 Q638.194 310.047 643.865 310.047 Q646.296 310.047 648.819 310.487 Q651.342 310.927 653.981 311.806 Z\" fill=\"#000000\" fill-rule=\"evenodd\" fill-opacity=\"1\" /><circle clip-path=\"url(#clip160)\" cx=\"480.144\" cy=\"388.432\" r=\"23\" fill=\"#008000\" fill-rule=\"evenodd\" fill-opacity=\"1\" stroke=\"#000000\" stroke-opacity=\"1\" stroke-width=\"6.82667\"/>\n",
       "<path clip-path=\"url(#clip160)\" d=\"M 0 0 M564.144 371.152 L568.82 371.152 L568.82 385.319 L585.81 385.319 L585.81 371.152 L590.486 371.152 L590.486 405.712 L585.81 405.712 L585.81 389.254 L568.82 389.254 L568.82 405.712 L564.144 405.712 L564.144 371.152 Z\" fill=\"#000000\" fill-rule=\"evenodd\" fill-opacity=\"1\" /><path clip-path=\"url(#clip160)\" d=\"M 0 0 M595.139 371.152 L599.815 371.152 L599.815 385.319 L616.805 385.319 L616.805 371.152 L621.481 371.152 L621.481 405.712 L616.805 405.712 L616.805 389.254 L599.815 389.254 L599.815 405.712 L595.139 405.712 L595.139 371.152 Z\" fill=\"#000000\" fill-rule=\"evenodd\" fill-opacity=\"1\" /></svg>\n"
      ]
     },
     "execution_count": 10,
     "metadata": {},
     "output_type": "execute_result"
    }
   ],
   "source": [
    "x = data[:,1]\n",
    "c = data[:,2]\n",
    "m = data[:,3]\n",
    "h = data[:,4]\n",
    "\n",
    "scatter(x,c, color=:blue, label=\"CGS\", markersize=3)\n",
    "scatter!(x,m, color=:red, label=\"MGS\", markersize=3)\n",
    "scatter!(x,h, color=:green, label=\"HH\", markersize=3)\n",
    "plot!(xscale=:log, yscale=:log, xlabel=\"kappa\", ylabel=\"relative error\")\n",
    "plot!(legend=:topleft, title=\"error vs condition number\")"
   ]
  },
  {
   "cell_type": "markdown",
   "metadata": {},
   "source": [
    "## Problem 6 \n",
    "Comment on your results. What can you explain about the scatter plots \n",
    "based on the algorithms and their implementation in finite-precision arithmetic?\n",
    "Or, contrariwise, what can you say about the algorithms based on the scatter \n",
    "plots? "
   ]
  },
  {
   "cell_type": "markdown",
   "metadata": {},
   "source": [
    "* CGS and MGS have similar error for matrices with $\\kappa < 10^8$. For higher condition numbers, CGS is poor, MGS is worse.\n",
    "\n",
    "* Householder is the best choice at any condition number. Also, we can show that Householder is backward stable, since the slope of the green (HH) line is 1, but CGS and MGS are not."
   ]
  },
  {
   "cell_type": "markdown",
   "metadata": {},
   "source": [
    "## Problem 7 (optional)\n",
    "If you are curious, repeat problem 5 for a different value of $m$ \n",
    "(perhaps $m=100$). Does the dimensionality of the matrix (the value of $m$) \n",
    "make any difference?"
   ]
  },
  {
   "cell_type": "code",
   "execution_count": 13,
   "metadata": {},
   "outputs": [],
   "source": [
    "m = 500\n",
    "\n",
    "pts = 21 #no of points desired in each plot\n",
    "p = 18 #exponent of largest condition number\n",
    "\n",
    "data = zeros(pts,4)\n",
    "\n",
    "for i in 0:pts-1\n",
    "    kappa = 10^(i*p/(pts-1))\n",
    "    A = randommatrix(m, kappa)\n",
    "    x = rand(m)\n",
    "    b = A*x\n",
    "    data[i+1,1] = kappa\n",
    "    \n",
    "    (Q,R) = qrcgs(A)\n",
    "    xhat = backsub(R,Q'*b)\n",
    "    data[i+1,2] = norm(xhat-x)/norm(x)\n",
    "    \n",
    "    (Q,R) = qrmgs(A)\n",
    "    xhat = backsub(R,Q'*b)\n",
    "    data[i+1,3] = norm(xhat-x)/norm(x)\n",
    "    \n",
    "    (Q,R) = qrhouse(A)\n",
    "    xhat = backsub(R,Q'*b)\n",
    "    data[i+1,4] = norm(xhat-x)/norm(x)\n",
    "end"
   ]
  },
  {
   "cell_type": "code",
   "execution_count": 14,
   "metadata": {},
   "outputs": [
    {
     "data": {
      "image/svg+xml": [
       "<?xml version=\"1.0\" encoding=\"utf-8\"?>\n",
       "<svg xmlns=\"http://www.w3.org/2000/svg\" xmlns:xlink=\"http://www.w3.org/1999/xlink\" width=\"600\" height=\"400\" viewBox=\"0 0 2400 1600\">\n",
       "<defs>\n",
       "  <clipPath id=\"clip240\">\n",
       "    <rect x=\"0\" y=\"0\" width=\"2400\" height=\"1600\"/>\n",
       "  </clipPath>\n",
       "</defs>\n",
       "<path clip-path=\"url(#clip240)\" d=\"\n",
       "M0 1600 L2400 1600 L2400 0 L0 0  Z\n",
       "  \" fill=\"#ffffff\" fill-rule=\"evenodd\" fill-opacity=\"1\"/>\n",
       "<defs>\n",
       "  <clipPath id=\"clip241\">\n",
       "    <rect x=\"480\" y=\"0\" width=\"1681\" height=\"1600\"/>\n",
       "  </clipPath>\n",
       "</defs>\n",
       "<path clip-path=\"url(#clip240)\" d=\"\n",
       "M300.144 1423.18 L2352.76 1423.18 L2352.76 123.472 L300.144 123.472  Z\n",
       "  \" fill=\"#ffffff\" fill-rule=\"evenodd\" fill-opacity=\"1\"/>\n",
       "<defs>\n",
       "  <clipPath id=\"clip242\">\n",
       "    <rect x=\"300\" y=\"123\" width=\"2054\" height=\"1301\"/>\n",
       "  </clipPath>\n",
       "</defs>\n",
       "<polyline clip-path=\"url(#clip242)\" style=\"stroke:#000000; stroke-width:2; stroke-opacity:0.1; fill:none\" points=\"\n",
       "  358.236,1423.18 358.236,123.472 \n",
       "  \"/>\n",
       "<polyline clip-path=\"url(#clip242)\" style=\"stroke:#000000; stroke-width:2; stroke-opacity:0.1; fill:none\" points=\"\n",
       "  896.133,1423.18 896.133,123.472 \n",
       "  \"/>\n",
       "<polyline clip-path=\"url(#clip242)\" style=\"stroke:#000000; stroke-width:2; stroke-opacity:0.1; fill:none\" points=\"\n",
       "  1434.03,1423.18 1434.03,123.472 \n",
       "  \"/>\n",
       "<polyline clip-path=\"url(#clip242)\" style=\"stroke:#000000; stroke-width:2; stroke-opacity:0.1; fill:none\" points=\"\n",
       "  1971.93,1423.18 1971.93,123.472 \n",
       "  \"/>\n",
       "<polyline clip-path=\"url(#clip242)\" style=\"stroke:#000000; stroke-width:2; stroke-opacity:0.1; fill:none\" points=\"\n",
       "  300.144,1384.04 2352.76,1384.04 \n",
       "  \"/>\n",
       "<polyline clip-path=\"url(#clip242)\" style=\"stroke:#000000; stroke-width:2; stroke-opacity:0.1; fill:none\" points=\"\n",
       "  300.144,1184.22 2352.76,1184.22 \n",
       "  \"/>\n",
       "<polyline clip-path=\"url(#clip242)\" style=\"stroke:#000000; stroke-width:2; stroke-opacity:0.1; fill:none\" points=\"\n",
       "  300.144,984.396 2352.76,984.396 \n",
       "  \"/>\n",
       "<polyline clip-path=\"url(#clip242)\" style=\"stroke:#000000; stroke-width:2; stroke-opacity:0.1; fill:none\" points=\"\n",
       "  300.144,784.575 2352.76,784.575 \n",
       "  \"/>\n",
       "<polyline clip-path=\"url(#clip242)\" style=\"stroke:#000000; stroke-width:2; stroke-opacity:0.1; fill:none\" points=\"\n",
       "  300.144,584.754 2352.76,584.754 \n",
       "  \"/>\n",
       "<polyline clip-path=\"url(#clip242)\" style=\"stroke:#000000; stroke-width:2; stroke-opacity:0.1; fill:none\" points=\"\n",
       "  300.144,384.933 2352.76,384.933 \n",
       "  \"/>\n",
       "<polyline clip-path=\"url(#clip242)\" style=\"stroke:#000000; stroke-width:2; stroke-opacity:0.1; fill:none\" points=\"\n",
       "  300.144,185.113 2352.76,185.113 \n",
       "  \"/>\n",
       "<polyline clip-path=\"url(#clip240)\" style=\"stroke:#000000; stroke-width:4; stroke-opacity:1; fill:none\" points=\"\n",
       "  300.144,1423.18 2352.76,1423.18 \n",
       "  \"/>\n",
       "<polyline clip-path=\"url(#clip240)\" style=\"stroke:#000000; stroke-width:4; stroke-opacity:1; fill:none\" points=\"\n",
       "  300.144,1423.18 300.144,123.472 \n",
       "  \"/>\n",
       "<polyline clip-path=\"url(#clip240)\" style=\"stroke:#000000; stroke-width:4; stroke-opacity:1; fill:none\" points=\"\n",
       "  358.236,1423.18 358.236,1407.58 \n",
       "  \"/>\n",
       "<polyline clip-path=\"url(#clip240)\" style=\"stroke:#000000; stroke-width:4; stroke-opacity:1; fill:none\" points=\"\n",
       "  896.133,1423.18 896.133,1407.58 \n",
       "  \"/>\n",
       "<polyline clip-path=\"url(#clip240)\" style=\"stroke:#000000; stroke-width:4; stroke-opacity:1; fill:none\" points=\"\n",
       "  1434.03,1423.18 1434.03,1407.58 \n",
       "  \"/>\n",
       "<polyline clip-path=\"url(#clip240)\" style=\"stroke:#000000; stroke-width:4; stroke-opacity:1; fill:none\" points=\"\n",
       "  1971.93,1423.18 1971.93,1407.58 \n",
       "  \"/>\n",
       "<polyline clip-path=\"url(#clip240)\" style=\"stroke:#000000; stroke-width:4; stroke-opacity:1; fill:none\" points=\"\n",
       "  300.144,1384.04 324.775,1384.04 \n",
       "  \"/>\n",
       "<polyline clip-path=\"url(#clip240)\" style=\"stroke:#000000; stroke-width:4; stroke-opacity:1; fill:none\" points=\"\n",
       "  300.144,1184.22 324.775,1184.22 \n",
       "  \"/>\n",
       "<polyline clip-path=\"url(#clip240)\" style=\"stroke:#000000; stroke-width:4; stroke-opacity:1; fill:none\" points=\"\n",
       "  300.144,984.396 324.775,984.396 \n",
       "  \"/>\n",
       "<polyline clip-path=\"url(#clip240)\" style=\"stroke:#000000; stroke-width:4; stroke-opacity:1; fill:none\" points=\"\n",
       "  300.144,784.575 324.775,784.575 \n",
       "  \"/>\n",
       "<polyline clip-path=\"url(#clip240)\" style=\"stroke:#000000; stroke-width:4; stroke-opacity:1; fill:none\" points=\"\n",
       "  300.144,584.754 324.775,584.754 \n",
       "  \"/>\n",
       "<polyline clip-path=\"url(#clip240)\" style=\"stroke:#000000; stroke-width:4; stroke-opacity:1; fill:none\" points=\"\n",
       "  300.144,384.933 324.775,384.933 \n",
       "  \"/>\n",
       "<polyline clip-path=\"url(#clip240)\" style=\"stroke:#000000; stroke-width:4; stroke-opacity:1; fill:none\" points=\"\n",
       "  300.144,185.113 324.775,185.113 \n",
       "  \"/>\n",
       "<path clip-path=\"url(#clip240)\" d=\"M 0 0 M325.407 1494.25 L333.046 1494.25 L333.046 1467.89 L324.735 1469.55 L324.735 1465.29 L332.999 1463.63 L337.675 1463.63 L337.675 1494.25 L345.314 1494.25 L345.314 1498.19 L325.407 1498.19 L325.407 1494.25 Z\" fill=\"#000000\" fill-rule=\"evenodd\" fill-opacity=\"1\" /><path clip-path=\"url(#clip240)\" d=\"M 0 0 M360.383 1466.71 Q356.772 1466.71 354.944 1470.27 Q353.138 1473.81 353.138 1480.94 Q353.138 1488.05 354.944 1491.61 Q356.772 1495.15 360.383 1495.15 Q364.018 1495.15 365.823 1491.61 Q367.652 1488.05 367.652 1480.94 Q367.652 1473.81 365.823 1470.27 Q364.018 1466.71 360.383 1466.71 M360.383 1463 Q366.194 1463 369.249 1467.61 Q372.328 1472.19 372.328 1480.94 Q372.328 1489.67 369.249 1494.28 Q366.194 1498.86 360.383 1498.86 Q354.573 1498.86 351.495 1494.28 Q348.439 1489.67 348.439 1480.94 Q348.439 1472.19 351.495 1467.61 Q354.573 1463 360.383 1463 Z\" fill=\"#000000\" fill-rule=\"evenodd\" fill-opacity=\"1\" /><path clip-path=\"url(#clip240)\" d=\"M 0 0 M382.033 1445.2 Q379.099 1445.2 377.613 1448.09 Q376.146 1450.97 376.146 1456.76 Q376.146 1462.54 377.613 1465.44 Q379.099 1468.31 382.033 1468.31 Q384.985 1468.31 386.452 1465.44 Q387.938 1462.54 387.938 1456.76 Q387.938 1450.97 386.452 1448.09 Q384.985 1445.2 382.033 1445.2 M382.033 1442.19 Q386.753 1442.19 389.236 1445.93 Q391.737 1449.66 391.737 1456.76 Q391.737 1463.86 389.236 1467.6 Q386.753 1471.32 382.033 1471.32 Q377.312 1471.32 374.81 1467.6 Q372.328 1463.86 372.328 1456.76 Q372.328 1449.66 374.81 1445.93 Q377.312 1442.19 382.033 1442.19 Z\" fill=\"#000000\" fill-rule=\"evenodd\" fill-opacity=\"1\" /><path clip-path=\"url(#clip240)\" d=\"M 0 0 M863.924 1494.25 L871.563 1494.25 L871.563 1467.89 L863.252 1469.55 L863.252 1465.29 L871.516 1463.63 L876.192 1463.63 L876.192 1494.25 L883.831 1494.25 L883.831 1498.19 L863.924 1498.19 L863.924 1494.25 Z\" fill=\"#000000\" fill-rule=\"evenodd\" fill-opacity=\"1\" /><path clip-path=\"url(#clip240)\" d=\"M 0 0 M898.9 1466.71 Q895.289 1466.71 893.461 1470.27 Q891.655 1473.81 891.655 1480.94 Q891.655 1488.05 893.461 1491.61 Q895.289 1495.15 898.9 1495.15 Q902.535 1495.15 904.34 1491.61 Q906.169 1488.05 906.169 1480.94 Q906.169 1473.81 904.34 1470.27 Q902.535 1466.71 898.9 1466.71 M898.9 1463 Q904.711 1463 907.766 1467.61 Q910.845 1472.19 910.845 1480.94 Q910.845 1489.67 907.766 1494.28 Q904.711 1498.86 898.9 1498.86 Q893.09 1498.86 890.012 1494.28 Q886.956 1489.67 886.956 1480.94 Q886.956 1472.19 890.012 1467.61 Q893.09 1463 898.9 1463 Z\" fill=\"#000000\" fill-rule=\"evenodd\" fill-opacity=\"1\" /><path clip-path=\"url(#clip240)\" d=\"M 0 0 M912.03 1442.7 L926.944 1442.7 L926.944 1445.89 L915.509 1445.89 L915.509 1452.78 Q916.337 1452.5 917.164 1452.36 Q917.992 1452.21 918.819 1452.21 Q923.521 1452.21 926.267 1454.79 Q929.013 1457.37 929.013 1461.77 Q929.013 1466.3 926.192 1468.82 Q923.371 1471.32 918.236 1471.32 Q916.468 1471.32 914.625 1471.02 Q912.801 1470.72 910.845 1470.12 L910.845 1466.3 Q912.537 1467.22 914.343 1467.67 Q916.149 1468.12 918.161 1468.12 Q921.415 1468.12 923.314 1466.41 Q925.214 1464.7 925.214 1461.77 Q925.214 1458.83 923.314 1457.12 Q921.415 1455.41 918.161 1455.41 Q916.638 1455.41 915.114 1455.75 Q913.609 1456.09 912.03 1456.8 L912.03 1442.7 Z\" fill=\"#000000\" fill-rule=\"evenodd\" fill-opacity=\"1\" /><path clip-path=\"url(#clip240)\" d=\"M 0 0 M1391.57 1494.25 L1399.21 1494.25 L1399.21 1467.89 L1390.9 1469.55 L1390.9 1465.29 L1399.16 1463.63 L1403.84 1463.63 L1403.84 1494.25 L1411.48 1494.25 L1411.48 1498.19 L1391.57 1498.19 L1391.57 1494.25 Z\" fill=\"#000000\" fill-rule=\"evenodd\" fill-opacity=\"1\" /><path clip-path=\"url(#clip240)\" d=\"M 0 0 M1426.55 1466.71 Q1422.94 1466.71 1421.11 1470.27 Q1419.3 1473.81 1419.3 1480.94 Q1419.3 1488.05 1421.11 1491.61 Q1422.94 1495.15 1426.55 1495.15 Q1430.18 1495.15 1431.99 1491.61 Q1433.81 1488.05 1433.81 1480.94 Q1433.81 1473.81 1431.99 1470.27 Q1430.18 1466.71 1426.55 1466.71 M1426.55 1463 Q1432.36 1463 1435.41 1467.61 Q1438.49 1472.19 1438.49 1480.94 Q1438.49 1489.67 1435.41 1494.28 Q1432.36 1498.86 1426.55 1498.86 Q1420.74 1498.86 1417.66 1494.28 Q1414.6 1489.67 1414.6 1480.94 Q1414.6 1472.19 1417.66 1467.61 Q1420.74 1463 1426.55 1463 Z\" fill=\"#000000\" fill-rule=\"evenodd\" fill-opacity=\"1\" /><path clip-path=\"url(#clip240)\" d=\"M 0 0 M1439.04 1467.58 L1445.24 1467.58 L1445.24 1446.16 L1438.49 1447.51 L1438.49 1444.05 L1445.21 1442.7 L1449 1442.7 L1449 1467.58 L1455.21 1467.58 L1455.21 1470.78 L1439.04 1470.78 L1439.04 1467.58 Z\" fill=\"#000000\" fill-rule=\"evenodd\" fill-opacity=\"1\" /><path clip-path=\"url(#clip240)\" d=\"M 0 0 M1467.45 1445.2 Q1464.52 1445.2 1463.03 1448.09 Q1461.57 1450.97 1461.57 1456.76 Q1461.57 1462.54 1463.03 1465.44 Q1464.52 1468.31 1467.45 1468.31 Q1470.41 1468.31 1471.87 1465.44 Q1473.36 1462.54 1473.36 1456.76 Q1473.36 1450.97 1471.87 1448.09 Q1470.41 1445.2 1467.45 1445.2 M1467.45 1442.19 Q1472.18 1442.19 1474.66 1445.93 Q1477.16 1449.66 1477.16 1456.76 Q1477.16 1463.86 1474.66 1467.6 Q1472.18 1471.32 1467.45 1471.32 Q1462.73 1471.32 1460.23 1467.6 Q1457.75 1463.86 1457.75 1456.76 Q1457.75 1449.66 1460.23 1445.93 Q1462.73 1442.19 1467.45 1442.19 Z\" fill=\"#000000\" fill-rule=\"evenodd\" fill-opacity=\"1\" /><path clip-path=\"url(#clip240)\" d=\"M 0 0 M1929.87 1494.25 L1937.51 1494.25 L1937.51 1467.89 L1929.2 1469.55 L1929.2 1465.29 L1937.46 1463.63 L1942.14 1463.63 L1942.14 1494.25 L1949.78 1494.25 L1949.78 1498.19 L1929.87 1498.19 L1929.87 1494.25 Z\" fill=\"#000000\" fill-rule=\"evenodd\" fill-opacity=\"1\" /><path clip-path=\"url(#clip240)\" d=\"M 0 0 M1964.85 1466.71 Q1961.24 1466.71 1959.41 1470.27 Q1957.6 1473.81 1957.6 1480.94 Q1957.6 1488.05 1959.41 1491.61 Q1961.24 1495.15 1964.85 1495.15 Q1968.48 1495.15 1970.29 1491.61 Q1972.12 1488.05 1972.12 1480.94 Q1972.12 1473.81 1970.29 1470.27 Q1968.48 1466.71 1964.85 1466.71 M1964.85 1463 Q1970.66 1463 1973.71 1467.61 Q1976.79 1472.19 1976.79 1480.94 Q1976.79 1489.67 1973.71 1494.28 Q1970.66 1498.86 1964.85 1498.86 Q1959.04 1498.86 1955.96 1494.28 Q1952.9 1489.67 1952.9 1480.94 Q1952.9 1472.19 1955.96 1467.61 Q1959.04 1463 1964.85 1463 Z\" fill=\"#000000\" fill-rule=\"evenodd\" fill-opacity=\"1\" /><path clip-path=\"url(#clip240)\" d=\"M 0 0 M1977.34 1467.58 L1983.54 1467.58 L1983.54 1446.16 L1976.79 1447.51 L1976.79 1444.05 L1983.51 1442.7 L1987.31 1442.7 L1987.31 1467.58 L1993.51 1467.58 L1993.51 1470.78 L1977.34 1470.78 L1977.34 1467.58 Z\" fill=\"#000000\" fill-rule=\"evenodd\" fill-opacity=\"1\" /><path clip-path=\"url(#clip240)\" d=\"M 0 0 M1997.67 1442.7 L2012.58 1442.7 L2012.58 1445.89 L2001.15 1445.89 L2001.15 1452.78 Q2001.98 1452.5 2002.8 1452.36 Q2003.63 1452.21 2004.46 1452.21 Q2009.16 1452.21 2011.91 1454.79 Q2014.65 1457.37 2014.65 1461.77 Q2014.65 1466.3 2011.83 1468.82 Q2009.01 1471.32 2003.87 1471.32 Q2002.11 1471.32 2000.26 1471.02 Q1998.44 1470.72 1996.48 1470.12 L1996.48 1466.3 Q1998.18 1467.22 1999.98 1467.67 Q2001.79 1468.12 2003.8 1468.12 Q2007.05 1468.12 2008.95 1466.41 Q2010.85 1464.7 2010.85 1461.77 Q2010.85 1458.83 2008.95 1457.12 Q2007.05 1455.41 2003.8 1455.41 Q2002.28 1455.41 2000.75 1455.75 Q1999.25 1456.09 1997.67 1456.8 L1997.67 1442.7 Z\" fill=\"#000000\" fill-rule=\"evenodd\" fill-opacity=\"1\" /><path clip-path=\"url(#clip240)\" d=\"M 0 0 M167.251 1403.83 L174.89 1403.83 L174.89 1377.46 L166.58 1379.13 L166.58 1374.87 L174.844 1373.21 L179.519 1373.21 L179.519 1403.83 L187.158 1403.83 L187.158 1407.77 L167.251 1407.77 L167.251 1403.83 Z\" fill=\"#000000\" fill-rule=\"evenodd\" fill-opacity=\"1\" /><path clip-path=\"url(#clip240)\" d=\"M 0 0 M202.228 1376.28 Q198.617 1376.28 196.788 1379.85 Q194.982 1383.39 194.982 1390.52 Q194.982 1397.63 196.788 1401.19 Q198.617 1404.73 202.228 1404.73 Q205.862 1404.73 207.667 1401.19 Q209.496 1397.63 209.496 1390.52 Q209.496 1383.39 207.667 1379.85 Q205.862 1376.28 202.228 1376.28 M202.228 1372.58 Q208.038 1372.58 211.093 1377.19 Q214.172 1381.77 214.172 1390.52 Q214.172 1399.25 211.093 1403.85 Q208.038 1408.44 202.228 1408.44 Q196.417 1408.44 193.339 1403.85 Q190.283 1399.25 190.283 1390.52 Q190.283 1381.77 193.339 1377.19 Q196.417 1372.58 202.228 1372.58 Z\" fill=\"#000000\" fill-rule=\"evenodd\" fill-opacity=\"1\" /><path clip-path=\"url(#clip240)\" d=\"M 0 0 M214.172 1368.26 L224.309 1368.26 L224.309 1371.35 L214.172 1371.35 L214.172 1368.26 Z\" fill=\"#000000\" fill-rule=\"evenodd\" fill-opacity=\"1\" /><path clip-path=\"url(#clip240)\" d=\"M 0 0 M238.829 1377.16 L245.036 1377.16 L245.036 1355.74 L238.284 1357.09 L238.284 1353.63 L244.998 1352.27 L248.797 1352.27 L248.797 1377.16 L255.004 1377.16 L255.004 1380.35 L238.829 1380.35 L238.829 1377.16 Z\" fill=\"#000000\" fill-rule=\"evenodd\" fill-opacity=\"1\" /><path clip-path=\"url(#clip240)\" d=\"M 0 0 M259.16 1352.27 L274.075 1352.27 L274.075 1355.47 L262.64 1355.47 L262.64 1362.36 Q263.467 1362.07 264.295 1361.94 Q265.122 1361.79 265.95 1361.79 Q270.652 1361.79 273.398 1364.37 Q276.144 1366.94 276.144 1371.35 Q276.144 1375.88 273.322 1378.4 Q270.501 1380.9 265.367 1380.9 Q263.599 1380.9 261.756 1380.6 Q259.931 1380.3 257.975 1379.7 L257.975 1375.88 Q259.668 1376.8 261.474 1377.25 Q263.279 1377.7 265.292 1377.7 Q268.545 1377.7 270.445 1375.99 Q272.344 1374.28 272.344 1371.35 Q272.344 1368.41 270.445 1366.7 Q268.545 1364.99 265.292 1364.99 Q263.768 1364.99 262.245 1365.33 Q260.74 1365.67 259.16 1366.38 L259.16 1352.27 Z\" fill=\"#000000\" fill-rule=\"evenodd\" fill-opacity=\"1\" /><path clip-path=\"url(#clip240)\" d=\"M 0 0 M166.442 1204.01 L174.081 1204.01 L174.081 1177.64 L165.771 1179.31 L165.771 1175.05 L174.035 1173.38 L178.711 1173.38 L178.711 1204.01 L186.35 1204.01 L186.35 1207.94 L166.442 1207.94 L166.442 1204.01 Z\" fill=\"#000000\" fill-rule=\"evenodd\" fill-opacity=\"1\" /><path clip-path=\"url(#clip240)\" d=\"M 0 0 M201.419 1176.46 Q197.808 1176.46 195.979 1180.03 Q194.174 1183.57 194.174 1190.7 Q194.174 1197.81 195.979 1201.37 Q197.808 1204.91 201.419 1204.91 Q205.053 1204.91 206.859 1201.37 Q208.687 1197.81 208.687 1190.7 Q208.687 1183.57 206.859 1180.03 Q205.053 1176.46 201.419 1176.46 M201.419 1172.76 Q207.229 1172.76 210.285 1177.37 Q213.363 1181.95 213.363 1190.7 Q213.363 1199.43 210.285 1204.03 Q207.229 1208.62 201.419 1208.62 Q195.609 1208.62 192.53 1204.03 Q189.475 1199.43 189.475 1190.7 Q189.475 1181.95 192.53 1177.37 Q195.609 1172.76 201.419 1172.76 Z\" fill=\"#000000\" fill-rule=\"evenodd\" fill-opacity=\"1\" /><path clip-path=\"url(#clip240)\" d=\"M 0 0 M213.363 1168.44 L223.501 1168.44 L223.501 1171.53 L213.363 1171.53 L213.363 1168.44 Z\" fill=\"#000000\" fill-rule=\"evenodd\" fill-opacity=\"1\" /><path clip-path=\"url(#clip240)\" d=\"M 0 0 M238.02 1177.34 L244.227 1177.34 L244.227 1155.91 L237.475 1157.27 L237.475 1153.81 L244.189 1152.45 L247.988 1152.45 L247.988 1177.34 L254.195 1177.34 L254.195 1180.53 L238.02 1180.53 L238.02 1177.34 Z\" fill=\"#000000\" fill-rule=\"evenodd\" fill-opacity=\"1\" /><path clip-path=\"url(#clip240)\" d=\"M 0 0 M266.439 1154.96 Q263.505 1154.96 262.019 1157.85 Q260.552 1160.73 260.552 1166.52 Q260.552 1172.3 262.019 1175.19 Q263.505 1178.07 266.439 1178.07 Q269.392 1178.07 270.859 1175.19 Q272.344 1172.3 272.344 1166.52 Q272.344 1160.73 270.859 1157.85 Q269.392 1154.96 266.439 1154.96 M266.439 1151.95 Q271.16 1151.95 273.642 1155.69 Q276.144 1159.41 276.144 1166.52 Q276.144 1173.61 273.642 1177.36 Q271.16 1181.08 266.439 1181.08 Q261.718 1181.08 259.217 1177.36 Q256.734 1173.61 256.734 1166.52 Q256.734 1159.41 259.217 1155.69 Q261.718 1151.95 266.439 1151.95 Z\" fill=\"#000000\" fill-rule=\"evenodd\" fill-opacity=\"1\" /><path clip-path=\"url(#clip240)\" d=\"M 0 0 M186.943 1004.19 L194.582 1004.19 L194.582 977.823 L186.271 979.489 L186.271 975.23 L194.535 973.564 L199.211 973.564 L199.211 1004.19 L206.85 1004.19 L206.85 1008.12 L186.943 1008.12 L186.943 1004.19 Z\" fill=\"#000000\" fill-rule=\"evenodd\" fill-opacity=\"1\" /><path clip-path=\"url(#clip240)\" d=\"M 0 0 M221.919 976.642 Q218.308 976.642 216.48 980.207 Q214.674 983.749 214.674 990.878 Q214.674 997.985 216.48 1001.55 Q218.308 1005.09 221.919 1005.09 Q225.554 1005.09 227.359 1001.55 Q229.188 997.985 229.188 990.878 Q229.188 983.749 227.359 980.207 Q225.554 976.642 221.919 976.642 M221.919 972.939 Q227.73 972.939 230.785 977.545 Q233.864 982.128 233.864 990.878 Q233.864 999.605 230.785 1004.21 Q227.73 1008.79 221.919 1008.79 Q216.109 1008.79 213.031 1004.21 Q209.975 999.605 209.975 990.878 Q209.975 982.128 213.031 977.545 Q216.109 972.939 221.919 972.939 Z\" fill=\"#000000\" fill-rule=\"evenodd\" fill-opacity=\"1\" /><path clip-path=\"url(#clip240)\" d=\"M 0 0 M233.864 968.62 L244.001 968.62 L244.001 971.704 L233.864 971.704 L233.864 968.62 Z\" fill=\"#000000\" fill-rule=\"evenodd\" fill-opacity=\"1\" /><path clip-path=\"url(#clip240)\" d=\"M 0 0 M259.16 952.633 L274.075 952.633 L274.075 955.83 L262.64 955.83 L262.64 962.714 Q263.467 962.432 264.295 962.3 Q265.122 962.15 265.95 962.15 Q270.652 962.15 273.398 964.727 Q276.144 967.303 276.144 971.704 Q276.144 976.237 273.322 978.757 Q270.501 981.259 265.367 981.259 Q263.599 981.259 261.756 980.958 Q259.931 980.657 257.975 980.055 L257.975 976.237 Q259.668 977.158 261.474 977.61 Q263.279 978.061 265.292 978.061 Q268.545 978.061 270.445 976.35 Q272.344 974.638 272.344 971.704 Q272.344 968.77 270.445 967.059 Q268.545 965.347 265.292 965.347 Q263.768 965.347 262.245 965.686 Q260.74 966.024 259.16 966.739 L259.16 952.633 Z\" fill=\"#000000\" fill-rule=\"evenodd\" fill-opacity=\"1\" /><path clip-path=\"url(#clip240)\" d=\"M 0 0 M209.813 804.368 L217.452 804.368 L217.452 778.002 L209.142 779.669 L209.142 775.409 L217.406 773.743 L222.081 773.743 L222.081 804.368 L229.72 804.368 L229.72 808.303 L209.813 808.303 L209.813 804.368 Z\" fill=\"#000000\" fill-rule=\"evenodd\" fill-opacity=\"1\" /><path clip-path=\"url(#clip240)\" d=\"M 0 0 M244.79 776.821 Q241.179 776.821 239.35 780.386 Q237.544 783.928 237.544 791.057 Q237.544 798.164 239.35 801.729 Q241.179 805.27 244.79 805.27 Q248.424 805.27 250.229 801.729 Q252.058 798.164 252.058 791.057 Q252.058 783.928 250.229 780.386 Q248.424 776.821 244.79 776.821 M244.79 773.118 Q250.6 773.118 253.655 777.724 Q256.734 782.307 256.734 791.057 Q256.734 799.784 253.655 804.391 Q250.6 808.974 244.79 808.974 Q238.979 808.974 235.901 804.391 Q232.845 799.784 232.845 791.057 Q232.845 782.307 235.901 777.724 Q238.979 773.118 244.79 773.118 Z\" fill=\"#000000\" fill-rule=\"evenodd\" fill-opacity=\"1\" /><path clip-path=\"url(#clip240)\" d=\"M 0 0 M266.439 755.314 Q263.505 755.314 262.019 758.21 Q260.552 761.088 260.552 766.881 Q260.552 772.655 262.019 775.551 Q263.505 778.428 266.439 778.428 Q269.392 778.428 270.859 775.551 Q272.344 772.655 272.344 766.881 Q272.344 761.088 270.859 758.21 Q269.392 755.314 266.439 755.314 M266.439 752.305 Q271.16 752.305 273.642 756.047 Q276.144 759.771 276.144 766.881 Q276.144 773.971 273.642 777.714 Q271.16 781.438 266.439 781.438 Q261.718 781.438 259.217 777.714 Q256.734 773.971 256.734 766.881 Q256.734 759.771 259.217 756.047 Q261.718 752.305 266.439 752.305 Z\" fill=\"#000000\" fill-rule=\"evenodd\" fill-opacity=\"1\" /><path clip-path=\"url(#clip240)\" d=\"M 0 0 M211.054 604.547 L218.693 604.547 L218.693 578.181 L210.383 579.848 L210.383 575.589 L218.647 573.922 L223.323 573.922 L223.323 604.547 L230.962 604.547 L230.962 608.482 L211.054 608.482 L211.054 604.547 Z\" fill=\"#000000\" fill-rule=\"evenodd\" fill-opacity=\"1\" /><path clip-path=\"url(#clip240)\" d=\"M 0 0 M246.031 577.001 Q242.42 577.001 240.591 580.565 Q238.786 584.107 238.786 591.237 Q238.786 598.343 240.591 601.908 Q242.42 605.449 246.031 605.449 Q249.665 605.449 251.471 601.908 Q253.299 598.343 253.299 591.237 Q253.299 584.107 251.471 580.565 Q249.665 577.001 246.031 577.001 M246.031 573.297 Q251.841 573.297 254.897 577.903 Q257.975 582.487 257.975 591.237 Q257.975 599.963 254.897 604.57 Q251.841 609.153 246.031 609.153 Q240.221 609.153 237.142 604.57 Q234.087 599.963 234.087 591.237 Q234.087 582.487 237.142 577.903 Q240.221 573.297 246.031 573.297 Z\" fill=\"#000000\" fill-rule=\"evenodd\" fill-opacity=\"1\" /><path clip-path=\"url(#clip240)\" d=\"M 0 0 M259.16 552.991 L274.075 552.991 L274.075 556.189 L262.64 556.189 L262.64 563.072 Q263.467 562.79 264.295 562.659 Q265.122 562.508 265.95 562.508 Q270.652 562.508 273.398 565.085 Q276.144 567.662 276.144 572.063 Q276.144 576.595 273.322 579.115 Q270.501 581.617 265.367 581.617 Q263.599 581.617 261.756 581.316 Q259.931 581.015 257.975 580.413 L257.975 576.595 Q259.668 577.517 261.474 577.968 Q263.279 578.42 265.292 578.42 Q268.545 578.42 270.445 576.708 Q272.344 574.997 272.344 572.063 Q272.344 569.129 270.445 567.417 Q268.545 565.706 265.292 565.706 Q263.768 565.706 262.245 566.044 Q260.74 566.383 259.16 567.097 L259.16 552.991 Z\" fill=\"#000000\" fill-rule=\"evenodd\" fill-opacity=\"1\" /><path clip-path=\"url(#clip240)\" d=\"M 0 0 M190.554 404.726 L198.193 404.726 L198.193 378.36 L189.883 380.027 L189.883 375.768 L198.146 374.101 L202.822 374.101 L202.822 404.726 L210.461 404.726 L210.461 408.661 L190.554 408.661 L190.554 404.726 Z\" fill=\"#000000\" fill-rule=\"evenodd\" fill-opacity=\"1\" /><path clip-path=\"url(#clip240)\" d=\"M 0 0 M225.53 377.18 Q221.919 377.18 220.091 380.745 Q218.285 384.286 218.285 391.416 Q218.285 398.522 220.091 402.087 Q221.919 405.629 225.53 405.629 Q229.165 405.629 230.97 402.087 Q232.799 398.522 232.799 391.416 Q232.799 384.286 230.97 380.745 Q229.165 377.18 225.53 377.18 M225.53 373.476 Q231.341 373.476 234.396 378.083 Q237.475 382.666 237.475 391.416 Q237.475 400.143 234.396 404.749 Q231.341 409.332 225.53 409.332 Q219.72 409.332 216.642 404.749 Q213.586 400.143 213.586 391.416 Q213.586 382.666 216.642 378.083 Q219.72 373.476 225.53 373.476 Z\" fill=\"#000000\" fill-rule=\"evenodd\" fill-opacity=\"1\" /><path clip-path=\"url(#clip240)\" d=\"M 0 0 M238.02 378.053 L244.227 378.053 L244.227 356.631 L237.475 357.985 L237.475 354.525 L244.189 353.171 L247.988 353.171 L247.988 378.053 L254.195 378.053 L254.195 381.251 L238.02 381.251 L238.02 378.053 Z\" fill=\"#000000\" fill-rule=\"evenodd\" fill-opacity=\"1\" /><path clip-path=\"url(#clip240)\" d=\"M 0 0 M266.439 355.672 Q263.505 355.672 262.019 358.568 Q260.552 361.446 260.552 367.239 Q260.552 373.013 262.019 375.909 Q263.505 378.787 266.439 378.787 Q269.392 378.787 270.859 375.909 Q272.344 373.013 272.344 367.239 Q272.344 361.446 270.859 358.568 Q269.392 355.672 266.439 355.672 M266.439 352.663 Q271.16 352.663 273.642 356.406 Q276.144 360.13 276.144 367.239 Q276.144 374.329 273.642 378.072 Q271.16 381.796 266.439 381.796 Q261.718 381.796 259.217 378.072 Q256.734 374.329 256.734 367.239 Q256.734 360.13 259.217 356.406 Q261.718 352.663 266.439 352.663 Z\" fill=\"#000000\" fill-rule=\"evenodd\" fill-opacity=\"1\" /><path clip-path=\"url(#clip240)\" d=\"M 0 0 M191.363 204.905 L199.001 204.905 L199.001 178.539 L190.691 180.206 L190.691 175.947 L198.955 174.28 L203.631 174.28 L203.631 204.905 L211.27 204.905 L211.27 208.84 L191.363 208.84 L191.363 204.905 Z\" fill=\"#000000\" fill-rule=\"evenodd\" fill-opacity=\"1\" /><path clip-path=\"url(#clip240)\" d=\"M 0 0 M226.339 177.359 Q222.728 177.359 220.899 180.924 Q219.094 184.465 219.094 191.595 Q219.094 198.701 220.899 202.266 Q222.728 205.808 226.339 205.808 Q229.973 205.808 231.779 202.266 Q233.608 198.701 233.608 191.595 Q233.608 184.465 231.779 180.924 Q229.973 177.359 226.339 177.359 M226.339 173.655 Q232.149 173.655 235.205 178.262 Q238.284 182.845 238.284 191.595 Q238.284 200.322 235.205 204.928 Q232.149 209.512 226.339 209.512 Q220.529 209.512 217.45 204.928 Q214.395 200.322 214.395 191.595 Q214.395 182.845 217.45 178.262 Q220.529 173.655 226.339 173.655 Z\" fill=\"#000000\" fill-rule=\"evenodd\" fill-opacity=\"1\" /><path clip-path=\"url(#clip240)\" d=\"M 0 0 M238.829 178.233 L245.036 178.233 L245.036 156.81 L238.284 158.165 L238.284 154.704 L244.998 153.35 L248.797 153.35 L248.797 178.233 L255.004 178.233 L255.004 181.43 L238.829 181.43 L238.829 178.233 Z\" fill=\"#000000\" fill-rule=\"evenodd\" fill-opacity=\"1\" /><path clip-path=\"url(#clip240)\" d=\"M 0 0 M259.16 153.35 L274.075 153.35 L274.075 156.547 L262.64 156.547 L262.64 163.431 Q263.467 163.149 264.295 163.017 Q265.122 162.867 265.95 162.867 Q270.652 162.867 273.398 165.443 Q276.144 168.02 276.144 172.421 Q276.144 176.954 273.322 179.474 Q270.501 181.975 265.367 181.975 Q263.599 181.975 261.756 181.674 Q259.931 181.373 257.975 180.772 L257.975 176.954 Q259.668 177.875 261.474 178.327 Q263.279 178.778 265.292 178.778 Q268.545 178.778 270.445 177.066 Q272.344 175.355 272.344 172.421 Q272.344 169.487 270.445 167.775 Q268.545 166.064 265.292 166.064 Q263.768 166.064 262.245 166.402 Q260.74 166.741 259.16 167.456 L259.16 153.35 Z\" fill=\"#000000\" fill-rule=\"evenodd\" fill-opacity=\"1\" /><path clip-path=\"url(#clip240)\" d=\"M 0 0 M880.688 48.0275 L880.688 51.6733 L846.418 51.6733 Q846.904 59.3701 851.036 63.421 Q855.208 67.4314 862.621 67.4314 Q866.915 67.4314 870.926 66.3781 Q874.976 65.3249 878.946 63.2184 L878.946 70.267 Q874.936 71.9684 870.723 72.8596 Q866.51 73.7508 862.176 73.7508 Q851.319 73.7508 844.959 67.4314 Q838.64 61.1119 838.64 50.3365 Q838.64 39.1965 844.635 32.6746 Q850.671 26.1121 860.879 26.1121 Q870.034 26.1121 875.341 32.0264 Q880.688 37.9003 880.688 48.0275 M873.235 45.84 Q873.154 39.7232 869.791 36.0774 Q866.47 32.4315 860.96 32.4315 Q854.722 32.4315 850.955 35.9558 Q847.228 39.4801 846.661 45.8805 L873.235 45.84 Z\" fill=\"#000000\" fill-rule=\"evenodd\" fill-opacity=\"1\" /><path clip-path=\"url(#clip240)\" d=\"M 0 0 M914.797 34.1734 Q913.541 33.4443 912.042 33.1202 Q910.584 32.7556 908.802 32.7556 Q902.482 32.7556 899.079 36.8875 Q895.717 40.9789 895.717 48.6757 L895.717 72.576 L888.223 72.576 L888.223 27.2059 L895.717 27.2059 L895.717 34.2544 Q898.067 30.1225 901.834 28.1376 Q905.601 26.1121 910.989 26.1121 Q911.759 26.1121 912.69 26.2337 Q913.622 26.3147 914.756 26.5172 L914.797 34.1734 Z\" fill=\"#000000\" fill-rule=\"evenodd\" fill-opacity=\"1\" /><path clip-path=\"url(#clip240)\" d=\"M 0 0 M947.447 34.1734 Q946.191 33.4443 944.693 33.1202 Q943.234 32.7556 941.452 32.7556 Q935.132 32.7556 931.73 36.8875 Q928.367 40.9789 928.367 48.6757 L928.367 72.576 L920.873 72.576 L920.873 27.2059 L928.367 27.2059 L928.367 34.2544 Q930.717 30.1225 934.484 28.1376 Q938.252 26.1121 943.639 26.1121 Q944.409 26.1121 945.341 26.2337 Q946.272 26.3147 947.407 26.5172 L947.447 34.1734 Z\" fill=\"#000000\" fill-rule=\"evenodd\" fill-opacity=\"1\" /><path clip-path=\"url(#clip240)\" d=\"M 0 0 M971.023 32.4315 Q965.028 32.4315 961.544 37.1306 Q958.061 41.7891 958.061 49.9314 Q958.061 58.0738 961.504 62.7728 Q964.988 67.4314 971.023 67.4314 Q976.978 67.4314 980.462 62.7323 Q983.946 58.0333 983.946 49.9314 Q983.946 41.8701 980.462 37.1711 Q976.978 32.4315 971.023 32.4315 M971.023 26.1121 Q980.746 26.1121 986.295 32.4315 Q991.845 38.7509 991.845 49.9314 Q991.845 61.0714 986.295 67.4314 Q980.746 73.7508 971.023 73.7508 Q961.261 73.7508 955.711 67.4314 Q950.202 61.0714 950.202 49.9314 Q950.202 38.7509 955.711 32.4315 Q961.261 26.1121 971.023 26.1121 Z\" fill=\"#000000\" fill-rule=\"evenodd\" fill-opacity=\"1\" /><path clip-path=\"url(#clip240)\" d=\"M 0 0 M1025.95 34.1734 Q1024.7 33.4443 1023.2 33.1202 Q1021.74 32.7556 1019.96 32.7556 Q1013.64 32.7556 1010.24 36.8875 Q1006.87 40.9789 1006.87 48.6757 L1006.87 72.576 L999.38 72.576 L999.38 27.2059 L1006.87 27.2059 L1006.87 34.2544 Q1009.22 30.1225 1012.99 28.1376 Q1016.76 26.1121 1022.15 26.1121 Q1022.92 26.1121 1023.85 26.2337 Q1024.78 26.3147 1025.91 26.5172 L1025.95 34.1734 Z\" fill=\"#000000\" fill-rule=\"evenodd\" fill-opacity=\"1\" /><path clip-path=\"url(#clip240)\" d=\"M 0 0 M1054.8 27.2059 L1062.7 27.2059 L1076.87 65.2844 L1091.05 27.2059 L1098.95 27.2059 L1081.94 72.576 L1071.81 72.576 L1054.8 27.2059 Z\" fill=\"#000000\" fill-rule=\"evenodd\" fill-opacity=\"1\" /><path clip-path=\"url(#clip240)\" d=\"M 0 0 M1135.69 28.5427 L1135.69 35.5912 Q1132.53 33.9709 1129.13 33.1607 Q1125.73 32.3505 1122.08 32.3505 Q1116.53 32.3505 1113.74 34.0519 Q1110.98 35.7533 1110.98 39.156 Q1110.98 41.7486 1112.97 43.2475 Q1114.95 44.7058 1120.95 46.0426 L1123.5 46.6097 Q1131.44 48.3111 1134.76 51.4303 Q1138.12 54.509 1138.12 60.0587 Q1138.12 66.3781 1133.1 70.0644 Q1128.12 73.7508 1119.37 73.7508 Q1115.72 73.7508 1111.75 73.0216 Q1107.82 72.3329 1103.45 70.9151 L1103.45 63.2184 Q1107.58 65.3654 1111.59 66.4591 Q1115.6 67.5124 1119.53 67.5124 Q1124.8 67.5124 1127.63 65.73 Q1130.47 63.9071 1130.47 60.6258 Q1130.47 57.5877 1128.4 55.9673 Q1126.38 54.3469 1119.45 52.8481 L1116.86 52.2405 Q1109.93 50.7821 1106.85 47.7845 Q1103.77 44.7463 1103.77 39.4801 Q1103.77 33.0797 1108.31 29.5959 Q1112.85 26.1121 1121.19 26.1121 Q1125.32 26.1121 1128.97 26.7198 Q1132.61 27.3274 1135.69 28.5427 Z\" fill=\"#000000\" fill-rule=\"evenodd\" fill-opacity=\"1\" /><path clip-path=\"url(#clip240)\" d=\"M 0 0 M1204.96 28.9478 L1204.96 35.9153 Q1201.8 34.1734 1198.6 33.3227 Q1195.44 32.4315 1192.2 32.4315 Q1184.95 32.4315 1180.94 37.0496 Q1176.93 41.6271 1176.93 49.9314 Q1176.93 58.2358 1180.94 62.8538 Q1184.95 67.4314 1192.2 67.4314 Q1195.44 67.4314 1198.6 66.5807 Q1201.8 65.6895 1204.96 63.9476 L1204.96 70.8341 Q1201.84 72.2924 1198.48 73.0216 Q1195.16 73.7508 1191.39 73.7508 Q1181.14 73.7508 1175.11 67.3098 Q1169.07 60.8689 1169.07 49.9314 Q1169.07 38.832 1175.15 32.472 Q1181.27 26.1121 1191.88 26.1121 Q1195.32 26.1121 1198.6 26.8413 Q1201.88 27.5299 1204.96 28.9478 Z\" fill=\"#000000\" fill-rule=\"evenodd\" fill-opacity=\"1\" /><path clip-path=\"url(#clip240)\" d=\"M 0 0 M1230.36 32.4315 Q1224.37 32.4315 1220.88 37.1306 Q1217.4 41.7891 1217.4 49.9314 Q1217.4 58.0738 1220.84 62.7728 Q1224.33 67.4314 1230.36 67.4314 Q1236.32 67.4314 1239.8 62.7323 Q1243.28 58.0333 1243.28 49.9314 Q1243.28 41.8701 1239.8 37.1711 Q1236.32 32.4315 1230.36 32.4315 M1230.36 26.1121 Q1240.08 26.1121 1245.63 32.4315 Q1251.18 38.7509 1251.18 49.9314 Q1251.18 61.0714 1245.63 67.4314 Q1240.08 73.7508 1230.36 73.7508 Q1220.6 73.7508 1215.05 67.4314 Q1209.54 61.0714 1209.54 49.9314 Q1209.54 38.7509 1215.05 32.4315 Q1220.6 26.1121 1230.36 26.1121 Z\" fill=\"#000000\" fill-rule=\"evenodd\" fill-opacity=\"1\" /><path clip-path=\"url(#clip240)\" d=\"M 0 0 M1296.72 45.1919 L1296.72 72.576 L1289.26 72.576 L1289.26 45.4349 Q1289.26 38.994 1286.75 35.7938 Q1284.24 32.5936 1279.22 32.5936 Q1273.18 32.5936 1269.7 36.4419 Q1266.21 40.2903 1266.21 46.9338 L1266.21 72.576 L1258.72 72.576 L1258.72 27.2059 L1266.21 27.2059 L1266.21 34.2544 Q1268.89 30.163 1272.49 28.1376 Q1276.14 26.1121 1280.88 26.1121 Q1288.7 26.1121 1292.71 30.9732 Q1296.72 35.7938 1296.72 45.1919 Z\" fill=\"#000000\" fill-rule=\"evenodd\" fill-opacity=\"1\" /><path clip-path=\"url(#clip240)\" d=\"M 0 0 M1334.39 34.0924 L1334.39 9.54393 L1341.84 9.54393 L1341.84 72.576 L1334.39 72.576 L1334.39 65.7705 Q1332.04 69.8214 1328.43 71.8063 Q1324.87 73.7508 1319.85 73.7508 Q1311.62 73.7508 1306.44 67.1883 Q1301.29 60.6258 1301.29 49.9314 Q1301.29 39.2371 1306.44 32.6746 Q1311.62 26.1121 1319.85 26.1121 Q1324.87 26.1121 1328.43 28.0971 Q1332.04 30.0415 1334.39 34.0924 M1308.99 49.9314 Q1308.99 58.1548 1312.35 62.8538 Q1315.76 67.5124 1321.67 67.5124 Q1327.58 67.5124 1330.99 62.8538 Q1334.39 58.1548 1334.39 49.9314 Q1334.39 41.7081 1330.99 37.0496 Q1327.58 32.3505 1321.67 32.3505 Q1315.76 32.3505 1312.35 37.0496 Q1308.99 41.7081 1308.99 49.9314 Z\" fill=\"#000000\" fill-rule=\"evenodd\" fill-opacity=\"1\" /><path clip-path=\"url(#clip240)\" d=\"M 0 0 M1349.66 27.2059 L1357.12 27.2059 L1357.12 72.576 L1349.66 72.576 L1349.66 27.2059 M1349.66 9.54393 L1357.12 9.54393 L1357.12 18.9825 L1349.66 18.9825 L1349.66 9.54393 Z\" fill=\"#000000\" fill-rule=\"evenodd\" fill-opacity=\"1\" /><path clip-path=\"url(#clip240)\" d=\"M 0 0 M1372.31 14.324 L1372.31 27.2059 L1387.66 27.2059 L1387.66 32.9987 L1372.31 32.9987 L1372.31 57.6282 Q1372.31 63.1779 1373.8 64.7578 Q1375.34 66.3376 1380 66.3376 L1387.66 66.3376 L1387.66 72.576 L1380 72.576 Q1371.37 72.576 1368.09 69.3758 Q1364.81 66.1351 1364.81 57.6282 L1364.81 32.9987 L1359.34 32.9987 L1359.34 27.2059 L1364.81 27.2059 L1364.81 14.324 L1372.31 14.324 Z\" fill=\"#000000\" fill-rule=\"evenodd\" fill-opacity=\"1\" /><path clip-path=\"url(#clip240)\" d=\"M 0 0 M1395.48 27.2059 L1402.93 27.2059 L1402.93 72.576 L1395.48 72.576 L1395.48 27.2059 M1395.48 9.54393 L1402.93 9.54393 L1402.93 18.9825 L1395.48 18.9825 L1395.48 9.54393 Z\" fill=\"#000000\" fill-rule=\"evenodd\" fill-opacity=\"1\" /><path clip-path=\"url(#clip240)\" d=\"M 0 0 M1428.33 32.4315 Q1422.33 32.4315 1418.85 37.1306 Q1415.37 41.7891 1415.37 49.9314 Q1415.37 58.0738 1418.81 62.7728 Q1422.29 67.4314 1428.33 67.4314 Q1434.28 67.4314 1437.77 62.7323 Q1441.25 58.0333 1441.25 49.9314 Q1441.25 41.8701 1437.77 37.1711 Q1434.28 32.4315 1428.33 32.4315 M1428.33 26.1121 Q1438.05 26.1121 1443.6 32.4315 Q1449.15 38.7509 1449.15 49.9314 Q1449.15 61.0714 1443.6 67.4314 Q1438.05 73.7508 1428.33 73.7508 Q1418.57 73.7508 1413.02 67.4314 Q1407.51 61.0714 1407.51 49.9314 Q1407.51 38.7509 1413.02 32.4315 Q1418.57 26.1121 1428.33 26.1121 Z\" fill=\"#000000\" fill-rule=\"evenodd\" fill-opacity=\"1\" /><path clip-path=\"url(#clip240)\" d=\"M 0 0 M1494.68 45.1919 L1494.68 72.576 L1487.23 72.576 L1487.23 45.4349 Q1487.23 38.994 1484.72 35.7938 Q1482.21 32.5936 1477.18 32.5936 Q1471.15 32.5936 1467.66 36.4419 Q1464.18 40.2903 1464.18 46.9338 L1464.18 72.576 L1456.69 72.576 L1456.69 27.2059 L1464.18 27.2059 L1464.18 34.2544 Q1466.85 30.163 1470.46 28.1376 Q1474.11 26.1121 1478.84 26.1121 Q1486.66 26.1121 1490.67 30.9732 Q1494.68 35.7938 1494.68 45.1919 Z\" fill=\"#000000\" fill-rule=\"evenodd\" fill-opacity=\"1\" /><path clip-path=\"url(#clip240)\" d=\"M 0 0 M1566.59 45.1919 L1566.59 72.576 L1559.13 72.576 L1559.13 45.4349 Q1559.13 38.994 1556.62 35.7938 Q1554.11 32.5936 1549.09 32.5936 Q1543.05 32.5936 1539.57 36.4419 Q1536.08 40.2903 1536.08 46.9338 L1536.08 72.576 L1528.59 72.576 L1528.59 27.2059 L1536.08 27.2059 L1536.08 34.2544 Q1538.76 30.163 1542.36 28.1376 Q1546.01 26.1121 1550.75 26.1121 Q1558.57 26.1121 1562.58 30.9732 Q1566.59 35.7938 1566.59 45.1919 Z\" fill=\"#000000\" fill-rule=\"evenodd\" fill-opacity=\"1\" /><path clip-path=\"url(#clip240)\" d=\"M 0 0 M1573.64 54.671 L1573.64 27.2059 L1581.09 27.2059 L1581.09 54.3874 Q1581.09 60.8284 1583.6 64.0691 Q1586.11 67.2693 1591.14 67.2693 Q1597.17 67.2693 1600.66 63.421 Q1604.18 59.5726 1604.18 52.9291 L1604.18 27.2059 L1611.63 27.2059 L1611.63 72.576 L1604.18 72.576 L1604.18 65.6084 Q1601.47 69.7404 1597.86 71.7658 Q1594.3 73.7508 1589.56 73.7508 Q1581.74 73.7508 1577.69 68.8897 Q1573.64 64.0286 1573.64 54.671 M1592.39 26.1121 L1592.39 26.1121 Z\" fill=\"#000000\" fill-rule=\"evenodd\" fill-opacity=\"1\" /><path clip-path=\"url(#clip240)\" d=\"M 0 0 M1654.78 35.9153 Q1657.57 30.8922 1661.46 28.5022 Q1665.35 26.1121 1670.61 26.1121 Q1677.7 26.1121 1681.55 31.0947 Q1685.4 36.0368 1685.4 45.1919 L1685.4 72.576 L1677.91 72.576 L1677.91 45.4349 Q1677.91 38.913 1675.6 35.7533 Q1673.29 32.5936 1668.55 32.5936 Q1662.76 32.5936 1659.39 36.4419 Q1656.03 40.2903 1656.03 46.9338 L1656.03 72.576 L1648.54 72.576 L1648.54 45.4349 Q1648.54 38.8725 1646.23 35.7533 Q1643.92 32.5936 1639.1 32.5936 Q1633.39 32.5936 1630.02 36.4824 Q1626.66 40.3308 1626.66 46.9338 L1626.66 72.576 L1619.17 72.576 L1619.17 27.2059 L1626.66 27.2059 L1626.66 34.2544 Q1629.21 30.082 1632.78 28.0971 Q1636.34 26.1121 1641.25 26.1121 Q1646.19 26.1121 1649.63 28.6237 Q1653.11 31.1352 1654.78 35.9153 Z\" fill=\"#000000\" fill-rule=\"evenodd\" fill-opacity=\"1\" /><path clip-path=\"url(#clip240)\" d=\"M 0 0 M1725.79 49.9314 Q1725.79 41.7081 1722.39 37.0496 Q1719.02 32.3505 1713.11 32.3505 Q1707.19 32.3505 1703.79 37.0496 Q1700.43 41.7081 1700.43 49.9314 Q1700.43 58.1548 1703.79 62.8538 Q1707.19 67.5124 1713.11 67.5124 Q1719.02 67.5124 1722.39 62.8538 Q1725.79 58.1548 1725.79 49.9314 M1700.43 34.0924 Q1702.78 30.0415 1706.34 28.0971 Q1709.95 26.1121 1714.93 26.1121 Q1723.2 26.1121 1728.34 32.6746 Q1733.53 39.2371 1733.53 49.9314 Q1733.53 60.6258 1728.34 67.1883 Q1723.2 73.7508 1714.93 73.7508 Q1709.95 73.7508 1706.34 71.8063 Q1702.78 69.8214 1700.43 65.7705 L1700.43 72.576 L1692.94 72.576 L1692.94 9.54393 L1700.43 9.54393 L1700.43 34.0924 Z\" fill=\"#000000\" fill-rule=\"evenodd\" fill-opacity=\"1\" /><path clip-path=\"url(#clip240)\" d=\"M 0 0 M1780.15 48.0275 L1780.15 51.6733 L1745.88 51.6733 Q1746.37 59.3701 1750.5 63.421 Q1754.67 67.4314 1762.08 67.4314 Q1766.38 67.4314 1770.39 66.3781 Q1774.44 65.3249 1778.41 63.2184 L1778.41 70.267 Q1774.4 71.9684 1770.19 72.8596 Q1765.97 73.7508 1761.64 73.7508 Q1750.78 73.7508 1744.42 67.4314 Q1738.1 61.1119 1738.1 50.3365 Q1738.1 39.1965 1744.1 32.6746 Q1750.13 26.1121 1760.34 26.1121 Q1769.5 26.1121 1774.8 32.0264 Q1780.15 37.9003 1780.15 48.0275 M1772.7 45.84 Q1772.62 39.7232 1769.25 36.0774 Q1765.93 32.4315 1760.42 32.4315 Q1754.18 32.4315 1750.42 35.9558 Q1746.69 39.4801 1746.12 45.8805 L1772.7 45.84 Z\" fill=\"#000000\" fill-rule=\"evenodd\" fill-opacity=\"1\" /><path clip-path=\"url(#clip240)\" d=\"M 0 0 M1814.26 34.1734 Q1813 33.4443 1811.51 33.1202 Q1810.05 32.7556 1808.26 32.7556 Q1801.94 32.7556 1798.54 36.8875 Q1795.18 40.9789 1795.18 48.6757 L1795.18 72.576 L1787.69 72.576 L1787.69 27.2059 L1795.18 27.2059 L1795.18 34.2544 Q1797.53 30.1225 1801.3 28.1376 Q1805.06 26.1121 1810.45 26.1121 Q1811.22 26.1121 1812.15 26.2337 Q1813.08 26.3147 1814.22 26.5172 L1814.26 34.1734 Z\" fill=\"#000000\" fill-rule=\"evenodd\" fill-opacity=\"1\" /><path clip-path=\"url(#clip240)\" d=\"M 0 0 M1239.37 1506.52 L1245.26 1506.52 L1245.26 1535.77 L1262.73 1520.4 L1270.21 1520.4 L1251.3 1537.07 L1271 1556.04 L1263.37 1556.04 L1245.26 1538.63 L1245.26 1556.04 L1239.37 1556.04 L1239.37 1506.52 Z\" fill=\"#000000\" fill-rule=\"evenodd\" fill-opacity=\"1\" /><path clip-path=\"url(#clip240)\" d=\"M 0 0 M1292.2 1538.12 Q1285.1 1538.12 1282.37 1539.75 Q1279.63 1541.37 1279.63 1545.29 Q1279.63 1548.4 1281.67 1550.25 Q1283.74 1552.07 1287.27 1552.07 Q1292.14 1552.07 1295.07 1548.63 Q1298.03 1545.16 1298.03 1539.43 L1298.03 1538.12 L1292.2 1538.12 M1303.88 1535.71 L1303.88 1556.04 L1298.03 1556.04 L1298.03 1550.63 Q1296.02 1553.88 1293.03 1555.44 Q1290.04 1556.97 1285.71 1556.97 Q1280.23 1556.97 1276.99 1553.91 Q1273.77 1550.82 1273.77 1545.67 Q1273.77 1539.65 1277.78 1536.6 Q1281.83 1533.54 1289.82 1533.54 L1298.03 1533.54 L1298.03 1532.97 Q1298.03 1528.93 1295.35 1526.73 Q1292.71 1524.5 1287.91 1524.5 Q1284.85 1524.5 1281.95 1525.23 Q1279.06 1525.97 1276.38 1527.43 L1276.38 1522.02 Q1279.6 1520.78 1282.62 1520.17 Q1285.65 1519.54 1288.51 1519.54 Q1296.24 1519.54 1300.06 1523.55 Q1303.88 1527.56 1303.88 1535.71 Z\" fill=\"#000000\" fill-rule=\"evenodd\" fill-opacity=\"1\" /><path clip-path=\"url(#clip240)\" d=\"M 0 0 M1315.69 1550.7 L1315.69 1569.6 L1309.8 1569.6 L1309.8 1520.4 L1315.69 1520.4 L1315.69 1525.81 Q1317.54 1522.62 1320.34 1521.1 Q1323.17 1519.54 1327.09 1519.54 Q1333.58 1519.54 1337.62 1524.69 Q1341.7 1529.85 1341.7 1538.25 Q1341.7 1546.65 1337.62 1551.81 Q1333.58 1556.97 1327.09 1556.97 Q1323.17 1556.97 1320.34 1555.44 Q1317.54 1553.88 1315.69 1550.7 M1335.62 1538.25 Q1335.62 1531.79 1332.94 1528.13 Q1330.3 1524.44 1325.65 1524.44 Q1321.01 1524.44 1318.33 1528.13 Q1315.69 1531.79 1315.69 1538.25 Q1315.69 1544.71 1318.33 1548.4 Q1321.01 1552.07 1325.65 1552.07 Q1330.3 1552.07 1332.94 1548.4 Q1335.62 1544.71 1335.62 1538.25 Z\" fill=\"#000000\" fill-rule=\"evenodd\" fill-opacity=\"1\" /><path clip-path=\"url(#clip240)\" d=\"M 0 0 M1353.5 1550.7 L1353.5 1569.6 L1347.62 1569.6 L1347.62 1520.4 L1353.5 1520.4 L1353.5 1525.81 Q1355.35 1522.62 1358.15 1521.1 Q1360.98 1519.54 1364.9 1519.54 Q1371.39 1519.54 1375.43 1524.69 Q1379.51 1529.85 1379.51 1538.25 Q1379.51 1546.65 1375.43 1551.81 Q1371.39 1556.97 1364.9 1556.97 Q1360.98 1556.97 1358.15 1555.44 Q1355.35 1553.88 1353.5 1550.7 M1373.43 1538.25 Q1373.43 1531.79 1370.76 1528.13 Q1368.11 1524.44 1363.47 1524.44 Q1358.82 1524.44 1356.15 1528.13 Q1353.5 1531.79 1353.5 1538.25 Q1353.5 1544.71 1356.15 1548.4 Q1358.82 1552.07 1363.47 1552.07 Q1368.11 1552.07 1370.76 1548.4 Q1373.43 1544.71 1373.43 1538.25 Z\" fill=\"#000000\" fill-rule=\"evenodd\" fill-opacity=\"1\" /><path clip-path=\"url(#clip240)\" d=\"M 0 0 M1401.85 1538.12 Q1394.75 1538.12 1392.02 1539.75 Q1389.28 1541.37 1389.28 1545.29 Q1389.28 1548.4 1391.32 1550.25 Q1393.39 1552.07 1396.92 1552.07 Q1401.79 1552.07 1404.72 1548.63 Q1407.68 1545.16 1407.68 1539.43 L1407.68 1538.12 L1401.85 1538.12 M1413.53 1535.71 L1413.53 1556.04 L1407.68 1556.04 L1407.68 1550.63 Q1405.67 1553.88 1402.68 1555.44 Q1399.69 1556.97 1395.36 1556.97 Q1389.88 1556.97 1386.64 1553.91 Q1383.42 1550.82 1383.42 1545.67 Q1383.42 1539.65 1387.43 1536.6 Q1391.48 1533.54 1399.46 1533.54 L1407.68 1533.54 L1407.68 1532.97 Q1407.68 1528.93 1405 1526.73 Q1402.36 1524.5 1397.55 1524.5 Q1394.5 1524.5 1391.6 1525.23 Q1388.71 1525.97 1386.03 1527.43 L1386.03 1522.02 Q1389.25 1520.78 1392.27 1520.17 Q1395.29 1519.54 1398.16 1519.54 Q1405.89 1519.54 1409.71 1523.55 Q1413.53 1527.56 1413.53 1535.71 Z\" fill=\"#000000\" fill-rule=\"evenodd\" fill-opacity=\"1\" /><path clip-path=\"url(#clip240)\" d=\"M 0 0 M57.8307 943.879 Q57.2578 944.866 57.0032 946.044 Q56.7167 947.189 56.7167 948.59 Q56.7167 953.555 59.9632 956.229 Q63.1779 958.87 69.2253 958.87 L88.0042 958.87 L88.0042 964.759 L52.3562 964.759 L52.3562 958.87 L57.8944 958.87 Q54.6479 957.024 53.0883 954.064 Q51.4968 951.104 51.4968 946.871 Q51.4968 946.266 51.5923 945.534 Q51.656 944.802 51.8151 943.911 L57.8307 943.879 Z\" fill=\"#000000\" fill-rule=\"evenodd\" fill-opacity=\"1\" /><path clip-path=\"url(#clip240)\" d=\"M 0 0 M68.7161 908.677 L71.5806 908.677 L71.5806 935.604 Q77.6281 935.222 80.8109 931.975 Q83.9619 928.697 83.9619 922.872 Q83.9619 919.499 83.1344 916.347 Q82.3069 913.165 80.6518 910.045 L86.1899 910.045 Q87.5267 913.196 88.227 916.507 Q88.9272 919.817 88.9272 923.222 Q88.9272 931.753 83.9619 936.75 Q78.9967 941.715 70.5303 941.715 Q61.7774 941.715 56.6531 937.004 Q51.4968 932.262 51.4968 924.241 Q51.4968 917.048 56.1438 912.878 Q60.7589 908.677 68.7161 908.677 M66.9973 914.533 Q62.1912 914.597 59.3266 917.239 Q56.4621 919.849 56.4621 924.177 Q56.4621 929.079 59.2312 932.039 Q62.0002 934.967 67.0292 935.413 L66.9973 914.533 Z\" fill=\"#000000\" fill-rule=\"evenodd\" fill-opacity=\"1\" /><path clip-path=\"url(#clip240)\" d=\"M 0 0 M38.479 902.534 L38.479 896.677 L88.0042 896.677 L88.0042 902.534 L38.479 902.534 Z\" fill=\"#000000\" fill-rule=\"evenodd\" fill-opacity=\"1\" /><path clip-path=\"url(#clip240)\" d=\"M 0 0 M70.0847 874.334 Q70.0847 881.432 71.7079 884.169 Q73.3312 886.906 77.2461 886.906 Q80.3653 886.906 82.2114 884.869 Q84.0256 882.8 84.0256 879.267 Q84.0256 874.397 80.5881 871.469 Q77.1188 868.509 71.3897 868.509 L70.0847 868.509 L70.0847 874.334 M67.6657 862.653 L88.0042 862.653 L88.0042 868.509 L82.5933 868.509 Q85.8398 870.514 87.3994 873.506 Q88.9272 876.498 88.9272 880.827 Q88.9272 886.301 85.8716 889.548 Q82.7843 892.763 77.6281 892.763 Q71.6125 892.763 68.5569 888.752 Q65.5014 884.71 65.5014 876.721 L65.5014 868.509 L64.9285 868.509 Q60.8862 868.509 58.6901 871.183 Q56.4621 873.825 56.4621 878.631 Q56.4621 881.686 57.1941 884.583 Q57.9262 887.479 59.3903 890.153 L53.9795 890.153 Q52.7381 886.938 52.1334 883.914 Q51.4968 880.891 51.4968 878.026 Q51.4968 870.292 55.5072 866.472 Q59.5176 862.653 67.6657 862.653 Z\" fill=\"#000000\" fill-rule=\"evenodd\" fill-opacity=\"1\" /><path clip-path=\"url(#clip240)\" d=\"M 0 0 M42.2347 850.717 L52.3562 850.717 L52.3562 838.654 L56.9077 838.654 L56.9077 850.717 L76.2594 850.717 Q80.6199 850.717 81.8613 849.539 Q83.1026 848.33 83.1026 844.67 L83.1026 838.654 L88.0042 838.654 L88.0042 844.67 Q88.0042 851.449 85.4897 854.027 Q82.9434 856.605 76.2594 856.605 L56.9077 856.605 L56.9077 860.902 L52.3562 860.902 L52.3562 856.605 L42.2347 856.605 L42.2347 850.717 Z\" fill=\"#000000\" fill-rule=\"evenodd\" fill-opacity=\"1\" /><path clip-path=\"url(#clip240)\" d=\"M 0 0 M52.3562 832.511 L52.3562 826.655 L88.0042 826.655 L88.0042 832.511 L52.3562 832.511 M38.479 832.511 L38.479 826.655 L45.895 826.655 L45.895 832.511 L38.479 832.511 Z\" fill=\"#000000\" fill-rule=\"evenodd\" fill-opacity=\"1\" /><path clip-path=\"url(#clip240)\" d=\"M 0 0 M52.3562 824.713 L52.3562 818.507 L82.275 807.367 L52.3562 796.227 L52.3562 790.02 L88.0042 803.388 L88.0042 811.345 L52.3562 824.713 Z\" fill=\"#000000\" fill-rule=\"evenodd\" fill-opacity=\"1\" /><path clip-path=\"url(#clip240)\" d=\"M 0 0 M68.7161 753.385 L71.5806 753.385 L71.5806 780.312 Q77.6281 779.93 80.8109 776.684 Q83.9619 773.406 83.9619 767.581 Q83.9619 764.207 83.1344 761.056 Q82.3069 757.873 80.6518 754.754 L86.1899 754.754 Q87.5267 757.905 88.227 761.215 Q88.9272 764.525 88.9272 767.931 Q88.9272 776.461 83.9619 781.458 Q78.9967 786.423 70.5303 786.423 Q61.7774 786.423 56.6531 781.713 Q51.4968 776.97 51.4968 768.95 Q51.4968 761.756 56.1438 757.587 Q60.7589 753.385 68.7161 753.385 M66.9973 759.242 Q62.1912 759.306 59.3266 761.947 Q56.4621 764.557 56.4621 768.886 Q56.4621 773.787 59.2312 776.748 Q62.0002 779.676 67.0292 780.121 L66.9973 759.242 Z\" fill=\"#000000\" fill-rule=\"evenodd\" fill-opacity=\"1\" /><path clip-path=\"url(#clip240)\" d=\"M 0 0 M68.7161 696.03 L71.5806 696.03 L71.5806 722.957 Q77.6281 722.575 80.8109 719.329 Q83.9619 716.051 83.9619 710.226 Q83.9619 706.852 83.1344 703.701 Q82.3069 700.518 80.6518 697.399 L86.1899 697.399 Q87.5267 700.55 88.227 703.86 Q88.9272 707.17 88.9272 710.576 Q88.9272 719.106 83.9619 724.103 Q78.9967 729.068 70.5303 729.068 Q61.7774 729.068 56.6531 724.358 Q51.4968 719.615 51.4968 711.595 Q51.4968 704.401 56.1438 700.232 Q60.7589 696.03 68.7161 696.03 M66.9973 701.887 Q62.1912 701.95 59.3266 704.592 Q56.4621 707.202 56.4621 711.531 Q56.4621 716.432 59.2312 719.393 Q62.0002 722.321 67.0292 722.766 L66.9973 701.887 Z\" fill=\"#000000\" fill-rule=\"evenodd\" fill-opacity=\"1\" /><path clip-path=\"url(#clip240)\" d=\"M 0 0 M57.8307 669.231 Q57.2578 670.217 57.0032 671.395 Q56.7167 672.541 56.7167 673.941 Q56.7167 678.907 59.9632 681.58 Q63.1779 684.222 69.2253 684.222 L88.0042 684.222 L88.0042 690.11 L52.3562 690.11 L52.3562 684.222 L57.8944 684.222 Q54.6479 682.376 53.0883 679.416 Q51.4968 676.456 51.4968 672.223 Q51.4968 671.618 51.5923 670.886 Q51.656 670.154 51.8151 669.263 L57.8307 669.231 Z\" fill=\"#000000\" fill-rule=\"evenodd\" fill-opacity=\"1\" /><path clip-path=\"url(#clip240)\" d=\"M 0 0 M57.8307 643.577 Q57.2578 644.564 57.0032 645.741 Q56.7167 646.887 56.7167 648.288 Q56.7167 653.253 59.9632 655.926 Q63.1779 658.568 69.2253 658.568 L88.0042 658.568 L88.0042 664.456 L52.3562 664.456 L52.3562 658.568 L57.8944 658.568 Q54.6479 656.722 53.0883 653.762 Q51.4968 650.802 51.4968 646.569 Q51.4968 645.964 51.5923 645.232 Q51.656 644.5 51.8151 643.609 L57.8307 643.577 Z\" fill=\"#000000\" fill-rule=\"evenodd\" fill-opacity=\"1\" /><path clip-path=\"url(#clip240)\" d=\"M 0 0 M56.4621 625.053 Q56.4621 629.763 60.1542 632.501 Q63.8145 635.238 70.212 635.238 Q76.6095 635.238 80.3017 632.532 Q83.9619 629.795 83.9619 625.053 Q83.9619 620.374 80.2698 617.637 Q76.5777 614.899 70.212 614.899 Q63.8781 614.899 60.186 617.637 Q56.4621 620.374 56.4621 625.053 M51.4968 625.053 Q51.4968 617.414 56.4621 613.053 Q61.4273 608.693 70.212 608.693 Q78.9649 608.693 83.9619 613.053 Q88.9272 617.414 88.9272 625.053 Q88.9272 632.723 83.9619 637.084 Q78.9649 641.413 70.212 641.413 Q61.4273 641.413 56.4621 637.084 Q51.4968 632.723 51.4968 625.053 Z\" fill=\"#000000\" fill-rule=\"evenodd\" fill-opacity=\"1\" /><path clip-path=\"url(#clip240)\" d=\"M 0 0 M57.8307 581.893 Q57.2578 582.88 57.0032 584.058 Q56.7167 585.203 56.7167 586.604 Q56.7167 591.569 59.9632 594.243 Q63.1779 596.885 69.2253 596.885 L88.0042 596.885 L88.0042 602.773 L52.3562 602.773 L52.3562 596.885 L57.8944 596.885 Q54.6479 595.038 53.0883 592.078 Q51.4968 589.118 51.4968 584.885 Q51.4968 584.28 51.5923 583.548 Q51.656 582.816 51.8151 581.925 L57.8307 581.893 Z\" fill=\"#000000\" fill-rule=\"evenodd\" fill-opacity=\"1\" /><circle clip-path=\"url(#clip242)\" cx=\"358.236\" cy=\"1386.4\" r=\"10\" fill=\"#0000ff\" fill-rule=\"evenodd\" fill-opacity=\"1\" stroke=\"#000000\" stroke-opacity=\"1\" stroke-width=\"3.2\"/>\n",
       "<circle clip-path=\"url(#clip242)\" cx=\"455.058\" cy=\"1364.02\" r=\"10\" fill=\"#0000ff\" fill-rule=\"evenodd\" fill-opacity=\"1\" stroke=\"#000000\" stroke-opacity=\"1\" stroke-width=\"3.2\"/>\n",
       "<circle clip-path=\"url(#clip242)\" cx=\"551.879\" cy=\"1313.74\" r=\"10\" fill=\"#0000ff\" fill-rule=\"evenodd\" fill-opacity=\"1\" stroke=\"#000000\" stroke-opacity=\"1\" stroke-width=\"3.2\"/>\n",
       "<circle clip-path=\"url(#clip242)\" cx=\"648.7\" cy=\"1255.13\" r=\"10\" fill=\"#0000ff\" fill-rule=\"evenodd\" fill-opacity=\"1\" stroke=\"#000000\" stroke-opacity=\"1\" stroke-width=\"3.2\"/>\n",
       "<circle clip-path=\"url(#clip242)\" cx=\"745.522\" cy=\"1190.09\" r=\"10\" fill=\"#0000ff\" fill-rule=\"evenodd\" fill-opacity=\"1\" stroke=\"#000000\" stroke-opacity=\"1\" stroke-width=\"3.2\"/>\n",
       "<circle clip-path=\"url(#clip242)\" cx=\"842.343\" cy=\"1122.69\" r=\"10\" fill=\"#0000ff\" fill-rule=\"evenodd\" fill-opacity=\"1\" stroke=\"#000000\" stroke-opacity=\"1\" stroke-width=\"3.2\"/>\n",
       "<circle clip-path=\"url(#clip242)\" cx=\"939.164\" cy=\"1058.17\" r=\"10\" fill=\"#0000ff\" fill-rule=\"evenodd\" fill-opacity=\"1\" stroke=\"#000000\" stroke-opacity=\"1\" stroke-width=\"3.2\"/>\n",
       "<circle clip-path=\"url(#clip242)\" cx=\"1035.99\" cy=\"985.148\" r=\"10\" fill=\"#0000ff\" fill-rule=\"evenodd\" fill-opacity=\"1\" stroke=\"#000000\" stroke-opacity=\"1\" stroke-width=\"3.2\"/>\n",
       "<circle clip-path=\"url(#clip242)\" cx=\"1132.81\" cy=\"912.845\" r=\"10\" fill=\"#0000ff\" fill-rule=\"evenodd\" fill-opacity=\"1\" stroke=\"#000000\" stroke-opacity=\"1\" stroke-width=\"3.2\"/>\n",
       "<circle clip-path=\"url(#clip242)\" cx=\"1229.63\" cy=\"843.908\" r=\"10\" fill=\"#0000ff\" fill-rule=\"evenodd\" fill-opacity=\"1\" stroke=\"#000000\" stroke-opacity=\"1\" stroke-width=\"3.2\"/>\n",
       "<circle clip-path=\"url(#clip242)\" cx=\"1326.45\" cy=\"767.434\" r=\"10\" fill=\"#0000ff\" fill-rule=\"evenodd\" fill-opacity=\"1\" stroke=\"#000000\" stroke-opacity=\"1\" stroke-width=\"3.2\"/>\n",
       "<circle clip-path=\"url(#clip242)\" cx=\"1423.27\" cy=\"758.187\" r=\"10\" fill=\"#0000ff\" fill-rule=\"evenodd\" fill-opacity=\"1\" stroke=\"#000000\" stroke-opacity=\"1\" stroke-width=\"3.2\"/>\n",
       "<circle clip-path=\"url(#clip242)\" cx=\"1520.09\" cy=\"713.619\" r=\"10\" fill=\"#0000ff\" fill-rule=\"evenodd\" fill-opacity=\"1\" stroke=\"#000000\" stroke-opacity=\"1\" stroke-width=\"3.2\"/>\n",
       "<circle clip-path=\"url(#clip242)\" cx=\"1616.91\" cy=\"700.997\" r=\"10\" fill=\"#0000ff\" fill-rule=\"evenodd\" fill-opacity=\"1\" stroke=\"#000000\" stroke-opacity=\"1\" stroke-width=\"3.2\"/>\n",
       "<circle clip-path=\"url(#clip242)\" cx=\"1713.74\" cy=\"699.955\" r=\"10\" fill=\"#0000ff\" fill-rule=\"evenodd\" fill-opacity=\"1\" stroke=\"#000000\" stroke-opacity=\"1\" stroke-width=\"3.2\"/>\n",
       "<circle clip-path=\"url(#clip242)\" cx=\"1810.56\" cy=\"667.064\" r=\"10\" fill=\"#0000ff\" fill-rule=\"evenodd\" fill-opacity=\"1\" stroke=\"#000000\" stroke-opacity=\"1\" stroke-width=\"3.2\"/>\n",
       "<circle clip-path=\"url(#clip242)\" cx=\"1907.38\" cy=\"700.393\" r=\"10\" fill=\"#0000ff\" fill-rule=\"evenodd\" fill-opacity=\"1\" stroke=\"#000000\" stroke-opacity=\"1\" stroke-width=\"3.2\"/>\n",
       "<circle clip-path=\"url(#clip242)\" cx=\"2004.2\" cy=\"669.444\" r=\"10\" fill=\"#0000ff\" fill-rule=\"evenodd\" fill-opacity=\"1\" stroke=\"#000000\" stroke-opacity=\"1\" stroke-width=\"3.2\"/>\n",
       "<circle clip-path=\"url(#clip242)\" cx=\"2101.02\" cy=\"689.347\" r=\"10\" fill=\"#0000ff\" fill-rule=\"evenodd\" fill-opacity=\"1\" stroke=\"#000000\" stroke-opacity=\"1\" stroke-width=\"3.2\"/>\n",
       "<circle clip-path=\"url(#clip242)\" cx=\"2197.84\" cy=\"680.53\" r=\"10\" fill=\"#0000ff\" fill-rule=\"evenodd\" fill-opacity=\"1\" stroke=\"#000000\" stroke-opacity=\"1\" stroke-width=\"3.2\"/>\n",
       "<circle clip-path=\"url(#clip242)\" cx=\"2294.66\" cy=\"697.31\" r=\"10\" fill=\"#0000ff\" fill-rule=\"evenodd\" fill-opacity=\"1\" stroke=\"#000000\" stroke-opacity=\"1\" stroke-width=\"3.2\"/>\n",
       "<circle clip-path=\"url(#clip242)\" cx=\"358.236\" cy=\"1385.93\" r=\"10\" fill=\"#ff0000\" fill-rule=\"evenodd\" fill-opacity=\"1\" stroke=\"#000000\" stroke-opacity=\"1\" stroke-width=\"3.2\"/>\n",
       "<circle clip-path=\"url(#clip242)\" cx=\"455.058\" cy=\"1365.31\" r=\"10\" fill=\"#ff0000\" fill-rule=\"evenodd\" fill-opacity=\"1\" stroke=\"#000000\" stroke-opacity=\"1\" stroke-width=\"3.2\"/>\n",
       "<circle clip-path=\"url(#clip242)\" cx=\"551.879\" cy=\"1317.88\" r=\"10\" fill=\"#ff0000\" fill-rule=\"evenodd\" fill-opacity=\"1\" stroke=\"#000000\" stroke-opacity=\"1\" stroke-width=\"3.2\"/>\n",
       "<circle clip-path=\"url(#clip242)\" cx=\"648.7\" cy=\"1261.17\" r=\"10\" fill=\"#ff0000\" fill-rule=\"evenodd\" fill-opacity=\"1\" stroke=\"#000000\" stroke-opacity=\"1\" stroke-width=\"3.2\"/>\n",
       "<circle clip-path=\"url(#clip242)\" cx=\"745.522\" cy=\"1193.49\" r=\"10\" fill=\"#ff0000\" fill-rule=\"evenodd\" fill-opacity=\"1\" stroke=\"#000000\" stroke-opacity=\"1\" stroke-width=\"3.2\"/>\n",
       "<circle clip-path=\"url(#clip242)\" cx=\"842.343\" cy=\"1122.77\" r=\"10\" fill=\"#ff0000\" fill-rule=\"evenodd\" fill-opacity=\"1\" stroke=\"#000000\" stroke-opacity=\"1\" stroke-width=\"3.2\"/>\n",
       "<circle clip-path=\"url(#clip242)\" cx=\"939.164\" cy=\"1067.01\" r=\"10\" fill=\"#ff0000\" fill-rule=\"evenodd\" fill-opacity=\"1\" stroke=\"#000000\" stroke-opacity=\"1\" stroke-width=\"3.2\"/>\n",
       "<circle clip-path=\"url(#clip242)\" cx=\"1035.99\" cy=\"990.274\" r=\"10\" fill=\"#ff0000\" fill-rule=\"evenodd\" fill-opacity=\"1\" stroke=\"#000000\" stroke-opacity=\"1\" stroke-width=\"3.2\"/>\n",
       "<circle clip-path=\"url(#clip242)\" cx=\"1132.81\" cy=\"924.642\" r=\"10\" fill=\"#ff0000\" fill-rule=\"evenodd\" fill-opacity=\"1\" stroke=\"#000000\" stroke-opacity=\"1\" stroke-width=\"3.2\"/>\n",
       "<circle clip-path=\"url(#clip242)\" cx=\"1229.63\" cy=\"848.572\" r=\"10\" fill=\"#ff0000\" fill-rule=\"evenodd\" fill-opacity=\"1\" stroke=\"#000000\" stroke-opacity=\"1\" stroke-width=\"3.2\"/>\n",
       "<circle clip-path=\"url(#clip242)\" cx=\"1326.45\" cy=\"782.54\" r=\"10\" fill=\"#ff0000\" fill-rule=\"evenodd\" fill-opacity=\"1\" stroke=\"#000000\" stroke-opacity=\"1\" stroke-width=\"3.2\"/>\n",
       "<circle clip-path=\"url(#clip242)\" cx=\"1423.27\" cy=\"698.979\" r=\"10\" fill=\"#ff0000\" fill-rule=\"evenodd\" fill-opacity=\"1\" stroke=\"#000000\" stroke-opacity=\"1\" stroke-width=\"3.2\"/>\n",
       "<circle clip-path=\"url(#clip242)\" cx=\"1520.09\" cy=\"636.845\" r=\"10\" fill=\"#ff0000\" fill-rule=\"evenodd\" fill-opacity=\"1\" stroke=\"#000000\" stroke-opacity=\"1\" stroke-width=\"3.2\"/>\n",
       "<circle clip-path=\"url(#clip242)\" cx=\"1616.91\" cy=\"572.822\" r=\"10\" fill=\"#ff0000\" fill-rule=\"evenodd\" fill-opacity=\"1\" stroke=\"#000000\" stroke-opacity=\"1\" stroke-width=\"3.2\"/>\n",
       "<circle clip-path=\"url(#clip242)\" cx=\"1713.74\" cy=\"507.177\" r=\"10\" fill=\"#ff0000\" fill-rule=\"evenodd\" fill-opacity=\"1\" stroke=\"#000000\" stroke-opacity=\"1\" stroke-width=\"3.2\"/>\n",
       "<circle clip-path=\"url(#clip242)\" cx=\"1810.56\" cy=\"422.138\" r=\"10\" fill=\"#ff0000\" fill-rule=\"evenodd\" fill-opacity=\"1\" stroke=\"#000000\" stroke-opacity=\"1\" stroke-width=\"3.2\"/>\n",
       "<circle clip-path=\"url(#clip242)\" cx=\"1907.38\" cy=\"347.688\" r=\"10\" fill=\"#ff0000\" fill-rule=\"evenodd\" fill-opacity=\"1\" stroke=\"#000000\" stroke-opacity=\"1\" stroke-width=\"3.2\"/>\n",
       "<circle clip-path=\"url(#clip242)\" cx=\"2004.2\" cy=\"281.48\" r=\"10\" fill=\"#ff0000\" fill-rule=\"evenodd\" fill-opacity=\"1\" stroke=\"#000000\" stroke-opacity=\"1\" stroke-width=\"3.2\"/>\n",
       "<circle clip-path=\"url(#clip242)\" cx=\"2101.02\" cy=\"223.442\" r=\"10\" fill=\"#ff0000\" fill-rule=\"evenodd\" fill-opacity=\"1\" stroke=\"#000000\" stroke-opacity=\"1\" stroke-width=\"3.2\"/>\n",
       "<circle clip-path=\"url(#clip242)\" cx=\"2197.84\" cy=\"160.256\" r=\"10\" fill=\"#ff0000\" fill-rule=\"evenodd\" fill-opacity=\"1\" stroke=\"#000000\" stroke-opacity=\"1\" stroke-width=\"3.2\"/>\n",
       "<circle clip-path=\"url(#clip242)\" cx=\"2294.66\" cy=\"171.784\" r=\"10\" fill=\"#ff0000\" fill-rule=\"evenodd\" fill-opacity=\"1\" stroke=\"#000000\" stroke-opacity=\"1\" stroke-width=\"3.2\"/>\n",
       "<circle clip-path=\"url(#clip242)\" cx=\"358.236\" cy=\"1348.7\" r=\"10\" fill=\"#008000\" fill-rule=\"evenodd\" fill-opacity=\"1\" stroke=\"#000000\" stroke-opacity=\"1\" stroke-width=\"3.2\"/>\n",
       "<circle clip-path=\"url(#clip242)\" cx=\"455.058\" cy=\"1337.06\" r=\"10\" fill=\"#008000\" fill-rule=\"evenodd\" fill-opacity=\"1\" stroke=\"#000000\" stroke-opacity=\"1\" stroke-width=\"3.2\"/>\n",
       "<circle clip-path=\"url(#clip242)\" cx=\"551.879\" cy=\"1313.35\" r=\"10\" fill=\"#008000\" fill-rule=\"evenodd\" fill-opacity=\"1\" stroke=\"#000000\" stroke-opacity=\"1\" stroke-width=\"3.2\"/>\n",
       "<circle clip-path=\"url(#clip242)\" cx=\"648.7\" cy=\"1284.81\" r=\"10\" fill=\"#008000\" fill-rule=\"evenodd\" fill-opacity=\"1\" stroke=\"#000000\" stroke-opacity=\"1\" stroke-width=\"3.2\"/>\n",
       "<circle clip-path=\"url(#clip242)\" cx=\"745.522\" cy=\"1254.92\" r=\"10\" fill=\"#008000\" fill-rule=\"evenodd\" fill-opacity=\"1\" stroke=\"#000000\" stroke-opacity=\"1\" stroke-width=\"3.2\"/>\n",
       "<circle clip-path=\"url(#clip242)\" cx=\"842.343\" cy=\"1225.22\" r=\"10\" fill=\"#008000\" fill-rule=\"evenodd\" fill-opacity=\"1\" stroke=\"#000000\" stroke-opacity=\"1\" stroke-width=\"3.2\"/>\n",
       "<circle clip-path=\"url(#clip242)\" cx=\"939.164\" cy=\"1191.87\" r=\"10\" fill=\"#008000\" fill-rule=\"evenodd\" fill-opacity=\"1\" stroke=\"#000000\" stroke-opacity=\"1\" stroke-width=\"3.2\"/>\n",
       "<circle clip-path=\"url(#clip242)\" cx=\"1035.99\" cy=\"1157.35\" r=\"10\" fill=\"#008000\" fill-rule=\"evenodd\" fill-opacity=\"1\" stroke=\"#000000\" stroke-opacity=\"1\" stroke-width=\"3.2\"/>\n",
       "<circle clip-path=\"url(#clip242)\" cx=\"1132.81\" cy=\"1123.04\" r=\"10\" fill=\"#008000\" fill-rule=\"evenodd\" fill-opacity=\"1\" stroke=\"#000000\" stroke-opacity=\"1\" stroke-width=\"3.2\"/>\n",
       "<circle clip-path=\"url(#clip242)\" cx=\"1229.63\" cy=\"1080.48\" r=\"10\" fill=\"#008000\" fill-rule=\"evenodd\" fill-opacity=\"1\" stroke=\"#000000\" stroke-opacity=\"1\" stroke-width=\"3.2\"/>\n",
       "<circle clip-path=\"url(#clip242)\" cx=\"1326.45\" cy=\"1053.92\" r=\"10\" fill=\"#008000\" fill-rule=\"evenodd\" fill-opacity=\"1\" stroke=\"#000000\" stroke-opacity=\"1\" stroke-width=\"3.2\"/>\n",
       "<circle clip-path=\"url(#clip242)\" cx=\"1423.27\" cy=\"1014.79\" r=\"10\" fill=\"#008000\" fill-rule=\"evenodd\" fill-opacity=\"1\" stroke=\"#000000\" stroke-opacity=\"1\" stroke-width=\"3.2\"/>\n",
       "<circle clip-path=\"url(#clip242)\" cx=\"1520.09\" cy=\"986.495\" r=\"10\" fill=\"#008000\" fill-rule=\"evenodd\" fill-opacity=\"1\" stroke=\"#000000\" stroke-opacity=\"1\" stroke-width=\"3.2\"/>\n",
       "<circle clip-path=\"url(#clip242)\" cx=\"1616.91\" cy=\"951.004\" r=\"10\" fill=\"#008000\" fill-rule=\"evenodd\" fill-opacity=\"1\" stroke=\"#000000\" stroke-opacity=\"1\" stroke-width=\"3.2\"/>\n",
       "<circle clip-path=\"url(#clip242)\" cx=\"1713.74\" cy=\"922.913\" r=\"10\" fill=\"#008000\" fill-rule=\"evenodd\" fill-opacity=\"1\" stroke=\"#000000\" stroke-opacity=\"1\" stroke-width=\"3.2\"/>\n",
       "<circle clip-path=\"url(#clip242)\" cx=\"1810.56\" cy=\"878.625\" r=\"10\" fill=\"#008000\" fill-rule=\"evenodd\" fill-opacity=\"1\" stroke=\"#000000\" stroke-opacity=\"1\" stroke-width=\"3.2\"/>\n",
       "<circle clip-path=\"url(#clip242)\" cx=\"1907.38\" cy=\"845.766\" r=\"10\" fill=\"#008000\" fill-rule=\"evenodd\" fill-opacity=\"1\" stroke=\"#000000\" stroke-opacity=\"1\" stroke-width=\"3.2\"/>\n",
       "<circle clip-path=\"url(#clip242)\" cx=\"2004.2\" cy=\"808.841\" r=\"10\" fill=\"#008000\" fill-rule=\"evenodd\" fill-opacity=\"1\" stroke=\"#000000\" stroke-opacity=\"1\" stroke-width=\"3.2\"/>\n",
       "<circle clip-path=\"url(#clip242)\" cx=\"2101.02\" cy=\"771.49\" r=\"10\" fill=\"#008000\" fill-rule=\"evenodd\" fill-opacity=\"1\" stroke=\"#000000\" stroke-opacity=\"1\" stroke-width=\"3.2\"/>\n",
       "<circle clip-path=\"url(#clip242)\" cx=\"2197.84\" cy=\"699.556\" r=\"10\" fill=\"#008000\" fill-rule=\"evenodd\" fill-opacity=\"1\" stroke=\"#000000\" stroke-opacity=\"1\" stroke-width=\"3.2\"/>\n",
       "<circle clip-path=\"url(#clip242)\" cx=\"2294.66\" cy=\"703.217\" r=\"10\" fill=\"#008000\" fill-rule=\"evenodd\" fill-opacity=\"1\" stroke=\"#000000\" stroke-opacity=\"1\" stroke-width=\"3.2\"/>\n",
       "<path clip-path=\"url(#clip240)\" d=\"\n",
       "M372.144 448.912 L704.064 448.912 L704.064 206.992 L372.144 206.992  Z\n",
       "  \" fill=\"#ffffff\" fill-rule=\"evenodd\" fill-opacity=\"1\"/>\n",
       "<polyline clip-path=\"url(#clip240)\" style=\"stroke:#000000; stroke-width:4; stroke-opacity:1; fill:none\" points=\"\n",
       "  372.144,448.912 704.064,448.912 704.064,206.992 372.144,206.992 372.144,448.912 \n",
       "  \"/>\n",
       "<circle clip-path=\"url(#clip240)\" cx=\"480.144\" cy=\"267.472\" r=\"23\" fill=\"#0000ff\" fill-rule=\"evenodd\" fill-opacity=\"1\" stroke=\"#000000\" stroke-opacity=\"1\" stroke-width=\"6.82667\"/>\n",
       "<path clip-path=\"url(#clip240)\" d=\"M 0 0 M592.014 252.854 L592.014 257.785 Q589.653 255.586 586.968 254.498 Q584.306 253.41 581.296 253.41 Q575.37 253.41 572.222 257.044 Q569.074 260.655 569.074 267.507 Q569.074 274.336 572.222 277.97 Q575.37 281.581 581.296 281.581 Q584.306 281.581 586.968 280.493 Q589.653 279.405 592.014 277.206 L592.014 282.09 Q589.56 283.757 586.806 284.59 Q584.074 285.423 581.019 285.423 Q573.171 285.423 568.657 280.632 Q564.144 275.817 564.144 267.507 Q564.144 259.174 568.657 254.382 Q573.171 249.567 581.019 249.567 Q584.12 249.567 586.852 250.4 Q589.606 251.211 592.014 252.854 Z\" fill=\"#000000\" fill-rule=\"evenodd\" fill-opacity=\"1\" /><path clip-path=\"url(#clip240)\" d=\"M 0 0 M620.231 279.822 L620.231 270.539 L612.592 270.539 L612.592 266.697 L624.861 266.697 L624.861 281.535 Q622.153 283.456 618.889 284.451 Q615.625 285.423 611.921 285.423 Q603.819 285.423 599.236 280.701 Q594.676 275.956 594.676 267.507 Q594.676 259.035 599.236 254.312 Q603.819 249.567 611.921 249.567 Q615.301 249.567 618.333 250.4 Q621.389 251.234 623.958 252.854 L623.958 257.831 Q621.366 255.632 618.449 254.521 Q615.532 253.41 612.315 253.41 Q605.972 253.41 602.778 256.951 Q599.606 260.493 599.606 267.507 Q599.606 274.498 602.778 278.039 Q605.972 281.581 612.315 281.581 Q614.791 281.581 616.736 281.164 Q618.68 280.724 620.231 279.822 Z\" fill=\"#000000\" fill-rule=\"evenodd\" fill-opacity=\"1\" /><path clip-path=\"url(#clip240)\" d=\"M 0 0 M650.231 251.326 L650.231 255.887 Q647.569 254.613 645.208 253.988 Q642.847 253.363 640.648 253.363 Q636.828 253.363 634.745 254.845 Q632.685 256.326 632.685 259.058 Q632.685 261.349 634.051 262.53 Q635.44 263.687 639.282 264.405 L642.106 264.984 Q647.338 265.979 649.814 268.502 Q652.314 271.002 652.314 275.215 Q652.314 280.238 648.935 282.831 Q645.578 285.423 639.074 285.423 Q636.62 285.423 633.842 284.868 Q631.088 284.312 628.125 283.224 L628.125 278.41 Q630.972 280.007 633.703 280.817 Q636.435 281.627 639.074 281.627 Q643.078 281.627 645.254 280.053 Q647.43 278.479 647.43 275.562 Q647.43 273.016 645.856 271.581 Q644.305 270.146 640.74 269.428 L637.893 268.873 Q632.662 267.831 630.324 265.609 Q627.986 263.386 627.986 259.428 Q627.986 254.845 631.203 252.206 Q634.444 249.567 640.115 249.567 Q642.546 249.567 645.069 250.007 Q647.592 250.447 650.231 251.326 Z\" fill=\"#000000\" fill-rule=\"evenodd\" fill-opacity=\"1\" /><circle clip-path=\"url(#clip240)\" cx=\"480.144\" cy=\"327.952\" r=\"23\" fill=\"#ff0000\" fill-rule=\"evenodd\" fill-opacity=\"1\" stroke=\"#000000\" stroke-opacity=\"1\" stroke-width=\"6.82667\"/>\n",
       "<path clip-path=\"url(#clip240)\" d=\"M 0 0 M564.144 310.672 L571.111 310.672 L579.931 334.191 L588.796 310.672 L595.764 310.672 L595.764 345.232 L591.204 345.232 L591.204 314.885 L582.292 338.589 L577.593 338.589 L568.681 314.885 L568.681 345.232 L564.144 345.232 L564.144 310.672 Z\" fill=\"#000000\" fill-rule=\"evenodd\" fill-opacity=\"1\" /><path clip-path=\"url(#clip240)\" d=\"M 0 0 M623.981 340.302 L623.981 331.019 L616.342 331.019 L616.342 327.177 L628.611 327.177 L628.611 342.015 Q625.903 343.936 622.639 344.931 Q619.375 345.903 615.671 345.903 Q607.569 345.903 602.986 341.181 Q598.426 336.436 598.426 327.987 Q598.426 319.515 602.986 314.792 Q607.569 310.047 615.671 310.047 Q619.051 310.047 622.083 310.88 Q625.139 311.714 627.708 313.334 L627.708 318.311 Q625.116 316.112 622.199 315.001 Q619.282 313.89 616.065 313.89 Q609.722 313.89 606.528 317.431 Q603.356 320.973 603.356 327.987 Q603.356 334.978 606.528 338.519 Q609.722 342.061 616.065 342.061 Q618.541 342.061 620.486 341.644 Q622.43 341.204 623.981 340.302 Z\" fill=\"#000000\" fill-rule=\"evenodd\" fill-opacity=\"1\" /><path clip-path=\"url(#clip240)\" d=\"M 0 0 M653.981 311.806 L653.981 316.367 Q651.319 315.093 648.958 314.468 Q646.597 313.843 644.398 313.843 Q640.578 313.843 638.495 315.325 Q636.435 316.806 636.435 319.538 Q636.435 321.829 637.801 323.01 Q639.19 324.167 643.032 324.885 L645.856 325.464 Q651.088 326.459 653.564 328.982 Q656.064 331.482 656.064 335.695 Q656.064 340.718 652.685 343.311 Q649.328 345.903 642.824 345.903 Q640.37 345.903 637.592 345.348 Q634.838 344.792 631.875 343.704 L631.875 338.89 Q634.722 340.487 637.453 341.297 Q640.185 342.107 642.824 342.107 Q646.828 342.107 649.004 340.533 Q651.18 338.959 651.18 336.042 Q651.18 333.496 649.606 332.061 Q648.055 330.626 644.49 329.908 L641.643 329.353 Q636.412 328.311 634.074 326.089 Q631.736 323.866 631.736 319.908 Q631.736 315.325 634.953 312.686 Q638.194 310.047 643.865 310.047 Q646.296 310.047 648.819 310.487 Q651.342 310.927 653.981 311.806 Z\" fill=\"#000000\" fill-rule=\"evenodd\" fill-opacity=\"1\" /><circle clip-path=\"url(#clip240)\" cx=\"480.144\" cy=\"388.432\" r=\"23\" fill=\"#008000\" fill-rule=\"evenodd\" fill-opacity=\"1\" stroke=\"#000000\" stroke-opacity=\"1\" stroke-width=\"6.82667\"/>\n",
       "<path clip-path=\"url(#clip240)\" d=\"M 0 0 M564.144 371.152 L568.82 371.152 L568.82 385.319 L585.81 385.319 L585.81 371.152 L590.486 371.152 L590.486 405.712 L585.81 405.712 L585.81 389.254 L568.82 389.254 L568.82 405.712 L564.144 405.712 L564.144 371.152 Z\" fill=\"#000000\" fill-rule=\"evenodd\" fill-opacity=\"1\" /><path clip-path=\"url(#clip240)\" d=\"M 0 0 M595.139 371.152 L599.815 371.152 L599.815 385.319 L616.805 385.319 L616.805 371.152 L621.481 371.152 L621.481 405.712 L616.805 405.712 L616.805 389.254 L599.815 389.254 L599.815 405.712 L595.139 405.712 L595.139 371.152 Z\" fill=\"#000000\" fill-rule=\"evenodd\" fill-opacity=\"1\" /></svg>\n"
      ]
     },
     "execution_count": 14,
     "metadata": {},
     "output_type": "execute_result"
    }
   ],
   "source": [
    "x = data[:,1]\n",
    "c = data[:,2]\n",
    "m = data[:,3]\n",
    "h = data[:,4]\n",
    "\n",
    "scatter(x,c, color=:blue, label=\"CGS\", markersize=3)\n",
    "scatter!(x,m, color=:red, label=\"MGS\", markersize=3)\n",
    "scatter!(x,h, color=:green, label=\"HH\", markersize=3)\n",
    "plot!(xscale=:log, yscale=:log, xlabel=\"kappa\", ylabel=\"relative error\")\n",
    "plot!(legend=:topleft, title=\"error vs condition number\")"
   ]
  },
  {
   "cell_type": "markdown",
   "metadata": {},
   "source": [
    "* The scatter becomes much tighter\n",
    "\n",
    "* It seems that, for well-conditioned matries, CGS and MGS maybe better than Householder."
   ]
  },
  {
   "cell_type": "markdown",
   "metadata": {},
   "source": [
    "## Problem 8 (optional)\n",
    "\n",
    "You probably wrote your QR and backsolve algorithms assuming that matrix $A$ is square. Revise your functions to work on nonsquare $m \\times n$ matrices as well."
   ]
  },
  {
   "cell_type": "code",
   "execution_count": null,
   "metadata": {},
   "outputs": [],
   "source": []
  },
  {
   "cell_type": "markdown",
   "metadata": {},
   "source": [
    "## Problem 9 (optional)\n",
    "\n",
    "The QR decompositon algorithms break down when the matrix $A$ is singular. Revise your CGS, MGS, and Householder QR algorithms to handle singular matrices gracefully. Show revised algorithms work well on singular or nearly singular matrices."
   ]
  },
  {
   "cell_type": "code",
   "execution_count": null,
   "metadata": {},
   "outputs": [],
   "source": []
  },
  {
   "cell_type": "markdown",
   "metadata": {},
   "source": [
    "## Problem 10 (optional)\n",
    "\n",
    "As shown in the lecture demo, the breakdown of CGS and MGS algorithms as $A$ becomes singular is a loss of orthogonality in the matrix $Q$. Can you think of any way to revise CGS or MGS to improve the orthogonality of $Q$, perhaps by rerunning CGS or MGS on the not-quite-orthogonal $Q$ matrix from a first pass of the algorithm? Or by recalculating each $q_j$ from the first-pass approximate $q_j$ in each pass of the ``for j = 1 to m`` loop? Does any such method work? Why or why not?"
   ]
  },
  {
   "cell_type": "code",
   "execution_count": null,
   "metadata": {},
   "outputs": [],
   "source": []
  },
  {
   "cell_type": "markdown",
   "metadata": {},
   "source": [
    "## Problem 11 (optional)\n",
    "\n",
    "Julia uses 64-bit floating-point numbers by default. E.g. "
   ]
  },
  {
   "cell_type": "code",
   "execution_count": 1,
   "metadata": {},
   "outputs": [
    {
     "data": {
      "text/plain": [
       "3×3 Array{Float64,2}:\n",
       " -0.843783   0.986725  -0.803906\n",
       "  1.8129    -0.825827  -2.74573\n",
       " -0.552135   0.965572  -0.836146"
      ]
     },
     "execution_count": 1,
     "metadata": {},
     "output_type": "execute_result"
    }
   ],
   "source": [
    "using LinearAlgebra\n",
    "\n",
    "A = randn(3,3)"
   ]
  },
  {
   "cell_type": "markdown",
   "metadata": {},
   "source": [
    "However, you can specify 16-bit, 32-bit, and arbitrary-precision floating-point numbers if you want, e.g."
   ]
  },
  {
   "cell_type": "code",
   "execution_count": 2,
   "metadata": {},
   "outputs": [
    {
     "name": "stdout",
     "output_type": "stream",
     "text": [
      "Float16(pi) = Float16(3.14)\n",
      "Float32(pi) = 3.1415927f0\n",
      "Float64(pi) = 3.141592653589793\n",
      "BigFloat(pi) = 3.141592653589793238462643383279502884197169399375105820974944592307816406286198\n"
     ]
    },
    {
     "data": {
      "text/plain": [
       "3×3 Array{BigFloat,2}:\n",
       " -0.748496   -1.56956     0.881072\n",
       "  0.0877648  -0.250928   -0.284481\n",
       " -0.0907535   0.0154777  -0.205605"
      ]
     },
     "execution_count": 2,
     "metadata": {},
     "output_type": "execute_result"
    }
   ],
   "source": [
    "@show Float16(pi)\n",
    "@show Float32(pi)\n",
    "@show Float64(pi)\n",
    "@show BigFloat(pi)\n",
    "A = BigFloat(1.0)*randn(3,3)"
   ]
  },
  {
   "cell_type": "code",
   "execution_count": 3,
   "metadata": {},
   "outputs": [
    {
     "data": {
      "text/plain": [
       "3.141592653589793238462643383279502884197169399375105820974944592307816406286208998628034825342117067982148086513282306647093844609550582231725359408128481117450284102701938521105559644622948954930381964428810975665933446128475648233786783165271201909145648566923460348610454326648213393607260249141273724586997"
      ]
     },
     "execution_count": 3,
     "metadata": {},
     "output_type": "execute_result"
    }
   ],
   "source": [
    "setprecision(1024)  # 1024 bits\n",
    "BigFloat(pi)"
   ]
  },
  {
   "cell_type": "markdown",
   "metadata": {},
   "source": [
    "For optional problem 10, revise your CGS, MGS, Householder, and backsolve functions to work equally well on matrices of all floating-point number types. To get you started, here's how to revise your function signatures to access and use type information from function arguments.\n"
   ]
  },
  {
   "cell_type": "code",
   "execution_count": 4,
   "metadata": {},
   "outputs": [
    {
     "name": "stdout",
     "output_type": "stream",
     "text": [
      "f(ones(Float16, 1, 1)) = Float16[0.0]\n",
      "f(ones(Float32, 1, 1)) = Float32[0.0]\n",
      "f(ones(Float64, 1, 1)) = [0.0]\n",
      "f(ones(BigFloat, 1, 1)) = BigFloat[0.0]\n",
      "f(ones(Complex{BigFloat}, 1, 1)) = Complex{BigFloat}[0.0 + 0.0im]\n"
     ]
    }
   ],
   "source": [
    "# Function f takes an m x n matrix as input and returns \n",
    "# a zero matrix of same size and numeric type\n",
    "\n",
    "function f(A::Array{T,2}) where T\n",
    "    (m,n) = size(A)\n",
    "    Z = zeros(T, m,n)\n",
    "end\n",
    "\n",
    "@show f(ones(Float16,1,1))\n",
    "@show f(ones(Float32,1,1))\n",
    "@show f(ones(Float64,1,1))\n",
    "@show f(ones(BigFloat,1,1))\n",
    "@show f(ones(Complex{BigFloat},1,1));"
   ]
  },
  {
   "cell_type": "markdown",
   "metadata": {},
   "source": [
    "## Julia syntax tips"
   ]
  },
  {
   "cell_type": "code",
   "execution_count": 5,
   "metadata": {},
   "outputs": [
    {
     "data": {
      "text/plain": [
       "(8, 3)"
      ]
     },
     "execution_count": 5,
     "metadata": {},
     "output_type": "execute_result"
    }
   ],
   "source": [
    "# a function that returns two values in a tuple\n",
    "function f(x)\n",
    "    2x, x-1\n",
    "end\n",
    "\n",
    "s,t = f(4)"
   ]
  },
  {
   "cell_type": "code",
   "execution_count": 6,
   "metadata": {},
   "outputs": [
    {
     "data": {
      "text/plain": [
       "2×3 Array{Float64,2}:\n",
       " 0.0  0.0  0.0\n",
       " 0.0  0.0  0.0"
      ]
     },
     "execution_count": 6,
     "metadata": {},
     "output_type": "execute_result"
    }
   ],
   "source": [
    "# allocating an 2 x 3 matrix of zeros\n",
    "A = zeros(2,3)"
   ]
  },
  {
   "cell_type": "code",
   "execution_count": 7,
   "metadata": {},
   "outputs": [
    {
     "data": {
      "text/plain": [
       "2×3 Array{BigFloat,2}:\n",
       " 0.0  0.0  0.0\n",
       " 0.0  0.0  0.0"
      ]
     },
     "execution_count": 7,
     "metadata": {},
     "output_type": "execute_result"
    }
   ],
   "source": [
    "# getting the type of a numerical variable and allocating a matrix of that type\n",
    "x = BigFloat(pi)\n",
    "T = typeof(x)\n",
    "A = zeros(T, 2, 3)"
   ]
  },
  {
   "cell_type": "code",
   "execution_count": 8,
   "metadata": {},
   "outputs": [
    {
     "name": "stdout",
     "output_type": "stream",
     "text": [
      "a1 = [999, 0, 0]\n",
      "v1 = [999, 0, 0]\n"
     ]
    }
   ],
   "source": [
    "# In Julia, variables are references (pointers) to objects.\n",
    "# The assignment below creates a new reference to the same object.\n",
    "# So a change made to one affects the other.\n",
    "a1 = [0; 0; 0]\n",
    "v1 = a1\n",
    "\n",
    "v1[1] = 999\n",
    "\n",
    "@show a1\n",
    "@show v1;\n"
   ]
  },
  {
   "cell_type": "code",
   "execution_count": 9,
   "metadata": {},
   "outputs": [
    {
     "name": "stdout",
     "output_type": "stream",
     "text": [
      "a1 = [0, 0, 0]\n",
      "v1 = [999, 0, 0]\n"
     ]
    }
   ],
   "source": [
    "# If you want an entirely new copy of a vector or matrix, use copy()\n",
    "a1 = [0; 0; 0]\n",
    "v1 = copy(a1)\n",
    "\n",
    "v1[1] = 999;\n",
    "\n",
    "@show a1\n",
    "@show v1;\n"
   ]
  },
  {
   "cell_type": "code",
   "execution_count": 10,
   "metadata": {},
   "outputs": [
    {
     "data": {
      "text/plain": [
       "4×3 Array{Float64,2}:\n",
       " 1.0  1.0  1.0\n",
       " 1.0  1.0  1.0\n",
       " 1.0  1.0  1.0\n",
       " 1.0  1.0  1.0"
      ]
     },
     "execution_count": 10,
     "metadata": {},
     "output_type": "execute_result"
    }
   ],
   "source": [
    "# Matrix-vector syntax is much like Matlab. But use square brackets!\n",
    "A = zeros(4,4)\n",
    "B = ones(4,3)\n",
    "A[:, 1:3] = B"
   ]
  },
  {
   "cell_type": "code",
   "execution_count": 11,
   "metadata": {},
   "outputs": [
    {
     "name": "stdout",
     "output_type": "stream",
     "text": [
      "dot(v1, v2) = 9\n",
      "v1' * v2 = 9\n"
     ]
    },
    {
     "data": {
      "text/plain": [
       "9"
      ]
     },
     "execution_count": 11,
     "metadata": {},
     "output_type": "execute_result"
    }
   ],
   "source": [
    "v1 = [1 ; 1 ; 1]\n",
    "v2 = [2 ; 3 ; 4]\n",
    "\n",
    "@show dot(v1, v2)\n",
    "@show v1' * v2"
   ]
  },
  {
   "cell_type": "code",
   "execution_count": 12,
   "metadata": {},
   "outputs": [
    {
     "data": {
      "text/plain": [
       "0.3709424637761871"
      ]
     },
     "execution_count": 12,
     "metadata": {},
     "output_type": "execute_result"
    }
   ],
   "source": [
    "# Some thing that work in Matlab need different syntax in Julia,\n",
    "# due to Julia's stricter typing \n",
    "A = rand(4,4)\n",
    "B = rand(4,4)\n",
    "\n",
    "# This will through an error in Julia, though it works in Matlab\n",
    "# A[1,:] * B[:,3]  \n",
    "\n",
    "# In Julia, use the dot function\n",
    "dot(A[1,:], B[:,3])"
   ]
  },
  {
   "cell_type": "code",
   "execution_count": 13,
   "metadata": {},
   "outputs": [
    {
     "data": {
      "text/plain": [
       "10-element Array{Float64,1}:\n",
       " 0.0\n",
       " 0.3420201433256687\n",
       " 0.6427876096865393\n",
       " 0.8660254037844386\n",
       " 0.984807753012208\n",
       " 0.984807753012208\n",
       " 0.8660254037844387\n",
       " 0.6427876096865395\n",
       " 0.3420201433256689\n",
       " 1.2246467991473532e-16"
      ]
     },
     "execution_count": 13,
     "metadata": {},
     "output_type": "execute_result"
    }
   ],
   "source": [
    "# Julia's dot syntax is more consistent than Matlab's.\n",
    "# If you want to apply a scalar function to a vector of values,\n",
    "# you need to use dots\n",
    "\n",
    "x = range(0.0, pi, length=10)\n",
    "sin.(x)"
   ]
  },
  {
   "cell_type": "code",
   "execution_count": 14,
   "metadata": {},
   "outputs": [
    {
     "data": {
      "text/plain": [
       "2×2 Array{Float64,2}:\n",
       " 2.71828  0.0\n",
       " 0.0      7.38906"
      ]
     },
     "execution_count": 14,
     "metadata": {},
     "output_type": "execute_result"
    }
   ],
   "source": [
    "# This distinction is sometimes meaningful and important!\n",
    "A = [1 0; 0 2]\n",
    "\n",
    "# The exponential of a mtrix\n",
    "exp(A)       "
   ]
  },
  {
   "cell_type": "code",
   "execution_count": 15,
   "metadata": {},
   "outputs": [
    {
     "data": {
      "text/plain": [
       "2×2 Array{Float64,2}:\n",
       " 2.71828  1.0\n",
       " 1.0      7.38906"
      ]
     },
     "execution_count": 15,
     "metadata": {},
     "output_type": "execute_result"
    }
   ],
   "source": [
    "# Elementwise exponential \n",
    "exp.(A)"
   ]
  },
  {
   "cell_type": "code",
   "execution_count": 50,
   "metadata": {},
   "outputs": [
    {
     "name": "stderr",
     "output_type": "stream",
     "text": [
      "┌ Info: Precompiling Plots [91a5bcdd-55d7-5caf-9e0b-520d859cae80]\n",
      "└ @ Base loading.jl:1192\n"
     ]
    },
    {
     "data": {
      "image/svg+xml": [
       "<?xml version=\"1.0\" encoding=\"utf-8\"?>\n",
       "<svg xmlns=\"http://www.w3.org/2000/svg\" xmlns:xlink=\"http://www.w3.org/1999/xlink\" width=\"600\" height=\"400\" viewBox=\"0 0 2400 1600\">\n",
       "<defs>\n",
       "  <clipPath id=\"clip290\">\n",
       "    <rect x=\"0\" y=\"0\" width=\"2400\" height=\"1600\"/>\n",
       "  </clipPath>\n",
       "</defs>\n",
       "<path clip-path=\"url(#clip290)\" d=\"\n",
       "M0 1600 L2400 1600 L2400 0 L0 0  Z\n",
       "  \" fill=\"#ffffff\" fill-rule=\"evenodd\" fill-opacity=\"1\"/>\n",
       "<defs>\n",
       "  <clipPath id=\"clip291\">\n",
       "    <rect x=\"480\" y=\"0\" width=\"1681\" height=\"1600\"/>\n",
       "  </clipPath>\n",
       "</defs>\n",
       "<path clip-path=\"url(#clip290)\" d=\"\n",
       "M322.319 1423.18 L2352.76 1423.18 L2352.76 123.472 L322.319 123.472  Z\n",
       "  \" fill=\"#ffffff\" fill-rule=\"evenodd\" fill-opacity=\"1\"/>\n",
       "<defs>\n",
       "  <clipPath id=\"clip292\">\n",
       "    <rect x=\"322\" y=\"123\" width=\"2031\" height=\"1301\"/>\n",
       "  </clipPath>\n",
       "</defs>\n",
       "<polyline clip-path=\"url(#clip292)\" style=\"stroke:#000000; stroke-width:2; stroke-opacity:0.1; fill:none\" points=\"\n",
       "  342.45,1423.18 342.45,123.472 \n",
       "  \"/>\n",
       "<polyline clip-path=\"url(#clip292)\" style=\"stroke:#000000; stroke-width:2; stroke-opacity:0.1; fill:none\" points=\"\n",
       "  831.648,1423.18 831.648,123.472 \n",
       "  \"/>\n",
       "<polyline clip-path=\"url(#clip292)\" style=\"stroke:#000000; stroke-width:2; stroke-opacity:0.1; fill:none\" points=\"\n",
       "  1320.85,1423.18 1320.85,123.472 \n",
       "  \"/>\n",
       "<polyline clip-path=\"url(#clip292)\" style=\"stroke:#000000; stroke-width:2; stroke-opacity:0.1; fill:none\" points=\"\n",
       "  1810.05,1423.18 1810.05,123.472 \n",
       "  \"/>\n",
       "<polyline clip-path=\"url(#clip292)\" style=\"stroke:#000000; stroke-width:2; stroke-opacity:0.1; fill:none\" points=\"\n",
       "  2299.24,1423.18 2299.24,123.472 \n",
       "  \"/>\n",
       "<polyline clip-path=\"url(#clip292)\" style=\"stroke:#000000; stroke-width:2; stroke-opacity:0.1; fill:none\" points=\"\n",
       "  322.319,1421.94 2352.76,1421.94 \n",
       "  \"/>\n",
       "<polyline clip-path=\"url(#clip292)\" style=\"stroke:#000000; stroke-width:2; stroke-opacity:0.1; fill:none\" points=\"\n",
       "  322.319,1119.61 2352.76,1119.61 \n",
       "  \"/>\n",
       "<polyline clip-path=\"url(#clip292)\" style=\"stroke:#000000; stroke-width:2; stroke-opacity:0.1; fill:none\" points=\"\n",
       "  322.319,817.289 2352.76,817.289 \n",
       "  \"/>\n",
       "<polyline clip-path=\"url(#clip292)\" style=\"stroke:#000000; stroke-width:2; stroke-opacity:0.1; fill:none\" points=\"\n",
       "  322.319,514.965 2352.76,514.965 \n",
       "  \"/>\n",
       "<polyline clip-path=\"url(#clip292)\" style=\"stroke:#000000; stroke-width:2; stroke-opacity:0.1; fill:none\" points=\"\n",
       "  322.319,212.64 2352.76,212.64 \n",
       "  \"/>\n",
       "<polyline clip-path=\"url(#clip290)\" style=\"stroke:#000000; stroke-width:4; stroke-opacity:1; fill:none\" points=\"\n",
       "  322.319,1423.18 2352.76,1423.18 \n",
       "  \"/>\n",
       "<polyline clip-path=\"url(#clip290)\" style=\"stroke:#000000; stroke-width:4; stroke-opacity:1; fill:none\" points=\"\n",
       "  322.319,1423.18 322.319,123.472 \n",
       "  \"/>\n",
       "<polyline clip-path=\"url(#clip290)\" style=\"stroke:#000000; stroke-width:4; stroke-opacity:1; fill:none\" points=\"\n",
       "  342.45,1423.18 342.45,1407.58 \n",
       "  \"/>\n",
       "<polyline clip-path=\"url(#clip290)\" style=\"stroke:#000000; stroke-width:4; stroke-opacity:1; fill:none\" points=\"\n",
       "  831.648,1423.18 831.648,1407.58 \n",
       "  \"/>\n",
       "<polyline clip-path=\"url(#clip290)\" style=\"stroke:#000000; stroke-width:4; stroke-opacity:1; fill:none\" points=\"\n",
       "  1320.85,1423.18 1320.85,1407.58 \n",
       "  \"/>\n",
       "<polyline clip-path=\"url(#clip290)\" style=\"stroke:#000000; stroke-width:4; stroke-opacity:1; fill:none\" points=\"\n",
       "  1810.05,1423.18 1810.05,1407.58 \n",
       "  \"/>\n",
       "<polyline clip-path=\"url(#clip290)\" style=\"stroke:#000000; stroke-width:4; stroke-opacity:1; fill:none\" points=\"\n",
       "  2299.24,1423.18 2299.24,1407.58 \n",
       "  \"/>\n",
       "<polyline clip-path=\"url(#clip290)\" style=\"stroke:#000000; stroke-width:4; stroke-opacity:1; fill:none\" points=\"\n",
       "  322.319,1421.94 346.685,1421.94 \n",
       "  \"/>\n",
       "<polyline clip-path=\"url(#clip290)\" style=\"stroke:#000000; stroke-width:4; stroke-opacity:1; fill:none\" points=\"\n",
       "  322.319,1119.61 346.685,1119.61 \n",
       "  \"/>\n",
       "<polyline clip-path=\"url(#clip290)\" style=\"stroke:#000000; stroke-width:4; stroke-opacity:1; fill:none\" points=\"\n",
       "  322.319,817.289 346.685,817.289 \n",
       "  \"/>\n",
       "<polyline clip-path=\"url(#clip290)\" style=\"stroke:#000000; stroke-width:4; stroke-opacity:1; fill:none\" points=\"\n",
       "  322.319,514.965 346.685,514.965 \n",
       "  \"/>\n",
       "<polyline clip-path=\"url(#clip290)\" style=\"stroke:#000000; stroke-width:4; stroke-opacity:1; fill:none\" points=\"\n",
       "  322.319,212.64 346.685,212.64 \n",
       "  \"/>\n",
       "<path clip-path=\"url(#clip290)\" d=\"M 0 0 M294.602 1494.25 L302.241 1494.25 L302.241 1467.89 L293.931 1469.55 L293.931 1465.29 L302.195 1463.63 L306.871 1463.63 L306.871 1494.25 L314.509 1494.25 L314.509 1498.19 L294.602 1498.19 L294.602 1494.25 Z\" fill=\"#000000\" fill-rule=\"evenodd\" fill-opacity=\"1\" /><path clip-path=\"url(#clip290)\" d=\"M 0 0 M329.579 1466.71 Q325.968 1466.71 324.139 1470.27 Q322.333 1473.81 322.333 1480.94 Q322.333 1488.05 324.139 1491.61 Q325.968 1495.15 329.579 1495.15 Q333.213 1495.15 335.019 1491.61 Q336.847 1488.05 336.847 1480.94 Q336.847 1473.81 335.019 1470.27 Q333.213 1466.71 329.579 1466.71 M329.579 1463 Q335.389 1463 338.444 1467.61 Q341.523 1472.19 341.523 1480.94 Q341.523 1489.67 338.444 1494.28 Q335.389 1498.86 329.579 1498.86 Q323.769 1498.86 320.69 1494.28 Q317.634 1489.67 317.634 1480.94 Q317.634 1472.19 320.69 1467.61 Q323.769 1463 329.579 1463 Z\" fill=\"#000000\" fill-rule=\"evenodd\" fill-opacity=\"1\" /><path clip-path=\"url(#clip290)\" d=\"M 0 0 M351.228 1445.2 Q348.294 1445.2 346.808 1448.09 Q345.341 1450.97 345.341 1456.76 Q345.341 1462.54 346.808 1465.44 Q348.294 1468.31 351.228 1468.31 Q354.181 1468.31 355.648 1465.44 Q357.134 1462.54 357.134 1456.76 Q357.134 1450.97 355.648 1448.09 Q354.181 1445.2 351.228 1445.2 M351.228 1442.19 Q355.949 1442.19 358.431 1445.93 Q360.933 1449.66 360.933 1456.76 Q360.933 1463.86 358.431 1467.6 Q355.949 1471.32 351.228 1471.32 Q346.507 1471.32 344.006 1467.6 Q341.523 1463.86 341.523 1456.76 Q341.523 1449.66 344.006 1445.93 Q346.507 1442.19 351.228 1442.19 Z\" fill=\"#000000\" fill-rule=\"evenodd\" fill-opacity=\"1\" /><path clip-path=\"url(#clip290)\" d=\"M 0 0 M365.052 1466 L369.02 1466 L369.02 1470.78 L365.052 1470.78 L365.052 1466 Z\" fill=\"#000000\" fill-rule=\"evenodd\" fill-opacity=\"1\" /><path clip-path=\"url(#clip290)\" d=\"M 0 0 M381.264 1445.2 Q378.33 1445.2 376.844 1448.09 Q375.377 1450.97 375.377 1456.76 Q375.377 1462.54 376.844 1465.44 Q378.33 1468.31 381.264 1468.31 Q384.217 1468.31 385.684 1465.44 Q387.17 1462.54 387.17 1456.76 Q387.17 1450.97 385.684 1448.09 Q384.217 1445.2 381.264 1445.2 M381.264 1442.19 Q385.985 1442.19 388.467 1445.93 Q390.969 1449.66 390.969 1456.76 Q390.969 1463.86 388.467 1467.6 Q385.985 1471.32 381.264 1471.32 Q376.543 1471.32 374.042 1467.6 Q371.559 1463.86 371.559 1456.76 Q371.559 1449.66 374.042 1445.93 Q376.543 1442.19 381.264 1442.19 Z\" fill=\"#000000\" fill-rule=\"evenodd\" fill-opacity=\"1\" /><path clip-path=\"url(#clip290)\" d=\"M 0 0 M784.995 1494.25 L792.634 1494.25 L792.634 1467.89 L784.324 1469.55 L784.324 1465.29 L792.587 1463.63 L797.263 1463.63 L797.263 1494.25 L804.902 1494.25 L804.902 1498.19 L784.995 1498.19 L784.995 1494.25 Z\" fill=\"#000000\" fill-rule=\"evenodd\" fill-opacity=\"1\" /><path clip-path=\"url(#clip290)\" d=\"M 0 0 M819.972 1466.71 Q816.36 1466.71 814.532 1470.27 Q812.726 1473.81 812.726 1480.94 Q812.726 1488.05 814.532 1491.61 Q816.36 1495.15 819.972 1495.15 Q823.606 1495.15 825.411 1491.61 Q827.24 1488.05 827.24 1480.94 Q827.24 1473.81 825.411 1470.27 Q823.606 1466.71 819.972 1466.71 M819.972 1463 Q825.782 1463 828.837 1467.61 Q831.916 1472.19 831.916 1480.94 Q831.916 1489.67 828.837 1494.28 Q825.782 1498.86 819.972 1498.86 Q814.161 1498.86 811.083 1494.28 Q808.027 1489.67 808.027 1480.94 Q808.027 1472.19 811.083 1467.61 Q814.161 1463 819.972 1463 Z\" fill=\"#000000\" fill-rule=\"evenodd\" fill-opacity=\"1\" /><path clip-path=\"url(#clip290)\" d=\"M 0 0 M836.486 1467.58 L849.746 1467.58 L849.746 1470.78 L831.916 1470.78 L831.916 1467.58 Q834.079 1465.34 837.803 1461.58 Q841.545 1457.8 842.505 1456.71 Q844.329 1454.66 845.044 1453.25 Q845.777 1451.82 845.777 1450.45 Q845.777 1448.21 844.197 1446.8 Q842.636 1445.39 840.116 1445.39 Q838.329 1445.39 836.336 1446.01 Q834.361 1446.63 832.104 1447.89 L832.104 1444.05 Q834.399 1443.13 836.392 1442.66 Q838.386 1442.19 840.041 1442.19 Q844.404 1442.19 847 1444.37 Q849.595 1446.55 849.595 1450.2 Q849.595 1451.93 848.937 1453.49 Q848.297 1455.03 846.586 1457.14 Q846.116 1457.69 843.596 1460.3 Q841.075 1462.9 836.486 1467.58 Z\" fill=\"#000000\" fill-rule=\"evenodd\" fill-opacity=\"1\" /><path clip-path=\"url(#clip290)\" d=\"M 0 0 M853.865 1466 L857.833 1466 L857.833 1470.78 L853.865 1470.78 L853.865 1466 Z\" fill=\"#000000\" fill-rule=\"evenodd\" fill-opacity=\"1\" /><path clip-path=\"url(#clip290)\" d=\"M 0 0 M861.99 1442.7 L876.904 1442.7 L876.904 1445.89 L865.469 1445.89 L865.469 1452.78 Q866.297 1452.5 867.124 1452.36 Q867.952 1452.21 868.779 1452.21 Q873.481 1452.21 876.227 1454.79 Q878.973 1457.37 878.973 1461.77 Q878.973 1466.3 876.152 1468.82 Q873.331 1471.32 868.196 1471.32 Q866.428 1471.32 864.585 1471.02 Q862.761 1470.72 860.805 1470.12 L860.805 1466.3 Q862.497 1467.22 864.303 1467.67 Q866.108 1468.12 868.121 1468.12 Q871.375 1468.12 873.274 1466.41 Q875.174 1464.7 875.174 1461.77 Q875.174 1458.83 873.274 1457.12 Q871.375 1455.41 868.121 1455.41 Q866.597 1455.41 865.074 1455.75 Q863.569 1456.09 861.99 1456.8 L861.99 1442.7 Z\" fill=\"#000000\" fill-rule=\"evenodd\" fill-opacity=\"1\" /><path clip-path=\"url(#clip290)\" d=\"M 0 0 M1273.62 1494.25 L1281.26 1494.25 L1281.26 1467.89 L1272.95 1469.55 L1272.95 1465.29 L1281.21 1463.63 L1285.89 1463.63 L1285.89 1494.25 L1293.53 1494.25 L1293.53 1498.19 L1273.62 1498.19 L1273.62 1494.25 Z\" fill=\"#000000\" fill-rule=\"evenodd\" fill-opacity=\"1\" /><path clip-path=\"url(#clip290)\" d=\"M 0 0 M1308.6 1466.71 Q1304.99 1466.71 1303.16 1470.27 Q1301.35 1473.81 1301.35 1480.94 Q1301.35 1488.05 1303.16 1491.61 Q1304.99 1495.15 1308.6 1495.15 Q1312.23 1495.15 1314.04 1491.61 Q1315.86 1488.05 1315.86 1480.94 Q1315.86 1473.81 1314.04 1470.27 Q1312.23 1466.71 1308.6 1466.71 M1308.6 1463 Q1314.41 1463 1317.46 1467.61 Q1320.54 1472.19 1320.54 1480.94 Q1320.54 1489.67 1317.46 1494.28 Q1314.41 1498.86 1308.6 1498.86 Q1302.79 1498.86 1299.71 1494.28 Q1296.65 1489.67 1296.65 1480.94 Q1296.65 1472.19 1299.71 1467.61 Q1302.79 1463 1308.6 1463 Z\" fill=\"#000000\" fill-rule=\"evenodd\" fill-opacity=\"1\" /><path clip-path=\"url(#clip290)\" d=\"M 0 0 M1321.73 1442.7 L1336.64 1442.7 L1336.64 1445.89 L1325.21 1445.89 L1325.21 1452.78 Q1326.03 1452.5 1326.86 1452.36 Q1327.69 1452.21 1328.52 1452.21 Q1333.22 1452.21 1335.96 1454.79 Q1338.71 1457.37 1338.71 1461.77 Q1338.71 1466.3 1335.89 1468.82 Q1333.07 1471.32 1327.93 1471.32 Q1326.16 1471.32 1324.32 1471.02 Q1322.5 1470.72 1320.54 1470.12 L1320.54 1466.3 Q1322.23 1467.22 1324.04 1467.67 Q1325.84 1468.12 1327.86 1468.12 Q1331.11 1468.12 1333.01 1466.41 Q1334.91 1464.7 1334.91 1461.77 Q1334.91 1458.83 1333.01 1457.12 Q1331.11 1455.41 1327.86 1455.41 Q1326.33 1455.41 1324.81 1455.75 Q1323.31 1456.09 1321.73 1456.8 L1321.73 1442.7 Z\" fill=\"#000000\" fill-rule=\"evenodd\" fill-opacity=\"1\" /><path clip-path=\"url(#clip290)\" d=\"M 0 0 M1342.83 1466 L1346.8 1466 L1346.8 1470.78 L1342.83 1470.78 L1342.83 1466 Z\" fill=\"#000000\" fill-rule=\"evenodd\" fill-opacity=\"1\" /><path clip-path=\"url(#clip290)\" d=\"M 0 0 M1359.04 1445.2 Q1356.11 1445.2 1354.62 1448.09 Q1353.15 1450.97 1353.15 1456.76 Q1353.15 1462.54 1354.62 1465.44 Q1356.11 1468.31 1359.04 1468.31 Q1361.99 1468.31 1363.46 1465.44 Q1364.95 1462.54 1364.95 1456.76 Q1364.95 1450.97 1363.46 1448.09 Q1361.99 1445.2 1359.04 1445.2 M1359.04 1442.19 Q1363.76 1442.19 1366.24 1445.93 Q1368.75 1449.66 1368.75 1456.76 Q1368.75 1463.86 1366.24 1467.6 Q1363.76 1471.32 1359.04 1471.32 Q1354.32 1471.32 1351.82 1467.6 Q1349.34 1463.86 1349.34 1456.76 Q1349.34 1449.66 1351.82 1445.93 Q1354.32 1442.19 1359.04 1442.19 Z\" fill=\"#000000\" fill-rule=\"evenodd\" fill-opacity=\"1\" /><path clip-path=\"url(#clip290)\" d=\"M 0 0 M1763.28 1494.25 L1770.92 1494.25 L1770.92 1467.89 L1762.61 1469.55 L1762.61 1465.29 L1770.87 1463.63 L1775.55 1463.63 L1775.55 1494.25 L1783.19 1494.25 L1783.19 1498.19 L1763.28 1498.19 L1763.28 1494.25 Z\" fill=\"#000000\" fill-rule=\"evenodd\" fill-opacity=\"1\" /><path clip-path=\"url(#clip290)\" d=\"M 0 0 M1798.26 1466.71 Q1794.64 1466.71 1792.82 1470.27 Q1791.01 1473.81 1791.01 1480.94 Q1791.01 1488.05 1792.82 1491.61 Q1794.64 1495.15 1798.26 1495.15 Q1801.89 1495.15 1803.7 1491.61 Q1805.52 1488.05 1805.52 1480.94 Q1805.52 1473.81 1803.7 1470.27 Q1801.89 1466.71 1798.26 1466.71 M1798.26 1463 Q1804.07 1463 1807.12 1467.61 Q1810.2 1472.19 1810.2 1480.94 Q1810.2 1489.67 1807.12 1494.28 Q1804.07 1498.86 1798.26 1498.86 Q1792.45 1498.86 1789.37 1494.28 Q1786.31 1489.67 1786.31 1480.94 Q1786.31 1472.19 1789.37 1467.61 Q1792.45 1463 1798.26 1463 Z\" fill=\"#000000\" fill-rule=\"evenodd\" fill-opacity=\"1\" /><path clip-path=\"url(#clip290)\" d=\"M 0 0 M1810.2 1442.7 L1828.26 1442.7 L1828.26 1444.31 L1818.06 1470.78 L1814.09 1470.78 L1823.69 1445.89 L1810.2 1445.89 L1810.2 1442.7 Z\" fill=\"#000000\" fill-rule=\"evenodd\" fill-opacity=\"1\" /><path clip-path=\"url(#clip290)\" d=\"M 0 0 M1832.37 1466 L1836.34 1466 L1836.34 1470.78 L1832.37 1470.78 L1832.37 1466 Z\" fill=\"#000000\" fill-rule=\"evenodd\" fill-opacity=\"1\" /><path clip-path=\"url(#clip290)\" d=\"M 0 0 M1840.5 1442.7 L1855.41 1442.7 L1855.41 1445.89 L1843.98 1445.89 L1843.98 1452.78 Q1844.81 1452.5 1845.63 1452.36 Q1846.46 1452.21 1847.29 1452.21 Q1851.99 1452.21 1854.74 1454.79 Q1857.48 1457.37 1857.48 1461.77 Q1857.48 1466.3 1854.66 1468.82 Q1851.84 1471.32 1846.71 1471.32 Q1844.94 1471.32 1843.09 1471.02 Q1841.27 1470.72 1839.31 1470.12 L1839.31 1466.3 Q1841.01 1467.22 1842.81 1467.67 Q1844.62 1468.12 1846.63 1468.12 Q1849.88 1468.12 1851.78 1466.41 Q1853.68 1464.7 1853.68 1461.77 Q1853.68 1458.83 1851.78 1457.12 Q1849.88 1455.41 1846.63 1455.41 Q1845.11 1455.41 1843.58 1455.75 Q1842.08 1456.09 1840.5 1456.8 L1840.5 1442.7 Z\" fill=\"#000000\" fill-rule=\"evenodd\" fill-opacity=\"1\" /><path clip-path=\"url(#clip290)\" d=\"M 0 0 M2241.77 1494.25 L2249.41 1494.25 L2249.41 1467.89 L2241.1 1469.55 L2241.1 1465.29 L2249.36 1463.63 L2254.03 1463.63 L2254.03 1494.25 L2261.67 1494.25 L2261.67 1498.19 L2241.77 1498.19 L2241.77 1494.25 Z\" fill=\"#000000\" fill-rule=\"evenodd\" fill-opacity=\"1\" /><path clip-path=\"url(#clip290)\" d=\"M 0 0 M2276.74 1466.71 Q2273.13 1466.71 2271.3 1470.27 Q2269.5 1473.81 2269.5 1480.94 Q2269.5 1488.05 2271.3 1491.61 Q2273.13 1495.15 2276.74 1495.15 Q2280.38 1495.15 2282.18 1491.61 Q2284.01 1488.05 2284.01 1480.94 Q2284.01 1473.81 2282.18 1470.27 Q2280.38 1466.71 2276.74 1466.71 M2276.74 1463 Q2282.55 1463 2285.61 1467.61 Q2288.69 1472.19 2288.69 1480.94 Q2288.69 1489.67 2285.61 1494.28 Q2282.55 1498.86 2276.74 1498.86 Q2270.93 1498.86 2267.85 1494.28 Q2264.8 1489.67 2264.8 1480.94 Q2264.8 1472.19 2267.85 1467.61 Q2270.93 1463 2276.74 1463 Z\" fill=\"#000000\" fill-rule=\"evenodd\" fill-opacity=\"1\" /><path clip-path=\"url(#clip290)\" d=\"M 0 0 M2289.23 1467.58 L2295.44 1467.58 L2295.44 1446.16 L2288.69 1447.51 L2288.69 1444.05 L2295.4 1442.7 L2299.2 1442.7 L2299.2 1467.58 L2305.41 1467.58 L2305.41 1470.78 L2289.23 1470.78 L2289.23 1467.58 Z\" fill=\"#000000\" fill-rule=\"evenodd\" fill-opacity=\"1\" /><path clip-path=\"url(#clip290)\" d=\"M 0 0 M2317.65 1445.2 Q2314.72 1445.2 2313.23 1448.09 Q2311.76 1450.97 2311.76 1456.76 Q2311.76 1462.54 2313.23 1465.44 Q2314.72 1468.31 2317.65 1468.31 Q2320.6 1468.31 2322.07 1465.44 Q2323.56 1462.54 2323.56 1456.76 Q2323.56 1450.97 2322.07 1448.09 Q2320.6 1445.2 2317.65 1445.2 M2317.65 1442.19 Q2322.37 1442.19 2324.85 1445.93 Q2327.36 1449.66 2327.36 1456.76 Q2327.36 1463.86 2324.85 1467.6 Q2322.37 1471.32 2317.65 1471.32 Q2312.93 1471.32 2310.43 1467.6 Q2307.95 1463.86 2307.95 1456.76 Q2307.95 1449.66 2310.43 1445.93 Q2312.93 1442.19 2317.65 1442.19 Z\" fill=\"#000000\" fill-rule=\"evenodd\" fill-opacity=\"1\" /><path clip-path=\"url(#clip290)\" d=\"M 0 0 M2331.48 1466 L2335.44 1466 L2335.44 1470.78 L2331.48 1470.78 L2331.48 1466 Z\" fill=\"#000000\" fill-rule=\"evenodd\" fill-opacity=\"1\" /><path clip-path=\"url(#clip290)\" d=\"M 0 0 M2347.69 1445.2 Q2344.75 1445.2 2343.27 1448.09 Q2341.8 1450.97 2341.8 1456.76 Q2341.8 1462.54 2343.27 1465.44 Q2344.75 1468.31 2347.69 1468.31 Q2350.64 1468.31 2352.11 1465.44 Q2353.59 1462.54 2353.59 1456.76 Q2353.59 1450.97 2352.11 1448.09 Q2350.64 1445.2 2347.69 1445.2 M2347.69 1442.19 Q2352.41 1442.19 2354.89 1445.93 Q2357.39 1449.66 2357.39 1456.76 Q2357.39 1463.86 2354.89 1467.6 Q2352.41 1471.32 2347.69 1471.32 Q2342.97 1471.32 2340.47 1467.6 Q2337.98 1463.86 2337.98 1456.76 Q2337.98 1449.66 2340.47 1445.93 Q2342.97 1442.19 2347.69 1442.19 Z\" fill=\"#000000\" fill-rule=\"evenodd\" fill-opacity=\"1\" /><path clip-path=\"url(#clip290)\" d=\"M 0 0 M201.953 1441.73 L209.592 1441.73 L209.592 1415.37 L201.281 1417.03 L201.281 1412.77 L209.545 1411.11 L214.221 1411.11 L214.221 1441.73 L221.86 1441.73 L221.86 1445.67 L201.953 1445.67 L201.953 1441.73 Z\" fill=\"#000000\" fill-rule=\"evenodd\" fill-opacity=\"1\" /><path clip-path=\"url(#clip290)\" d=\"M 0 0 M236.929 1414.19 Q233.318 1414.19 231.49 1417.75 Q229.684 1421.29 229.684 1428.42 Q229.684 1435.53 231.49 1439.09 Q233.318 1442.63 236.929 1442.63 Q240.564 1442.63 242.369 1439.09 Q244.198 1435.53 244.198 1428.42 Q244.198 1421.29 242.369 1417.75 Q240.564 1414.19 236.929 1414.19 M236.929 1410.48 Q242.74 1410.48 245.795 1415.09 Q248.874 1419.67 248.874 1428.42 Q248.874 1437.15 245.795 1441.75 Q242.74 1446.34 236.929 1446.34 Q231.119 1446.34 228.041 1441.75 Q224.985 1437.15 224.985 1428.42 Q224.985 1419.67 228.041 1415.09 Q231.119 1410.48 236.929 1410.48 Z\" fill=\"#000000\" fill-rule=\"evenodd\" fill-opacity=\"1\" /><path clip-path=\"url(#clip290)\" d=\"M 0 0 M258.579 1392.68 Q255.645 1392.68 254.159 1395.57 Q252.692 1398.45 252.692 1404.24 Q252.692 1410.02 254.159 1412.91 Q255.645 1415.79 258.579 1415.79 Q261.531 1415.79 262.998 1412.91 Q264.484 1410.02 264.484 1404.24 Q264.484 1398.45 262.998 1395.57 Q261.531 1392.68 258.579 1392.68 M258.579 1389.67 Q263.299 1389.67 265.782 1393.41 Q268.283 1397.14 268.283 1404.24 Q268.283 1411.33 265.782 1415.08 Q263.299 1418.8 258.579 1418.8 Q253.858 1418.8 251.356 1415.08 Q248.874 1411.33 248.874 1404.24 Q248.874 1397.14 251.356 1393.41 Q253.858 1389.67 258.579 1389.67 Z\" fill=\"#000000\" fill-rule=\"evenodd\" fill-opacity=\"1\" /><path clip-path=\"url(#clip290)\" d=\"M 0 0 M272.402 1413.48 L276.371 1413.48 L276.371 1418.26 L272.402 1418.26 L272.402 1413.48 Z\" fill=\"#000000\" fill-rule=\"evenodd\" fill-opacity=\"1\" /><path clip-path=\"url(#clip290)\" d=\"M 0 0 M288.615 1392.68 Q285.681 1392.68 284.195 1395.57 Q282.728 1398.45 282.728 1404.24 Q282.728 1410.02 284.195 1412.91 Q285.681 1415.79 288.615 1415.79 Q291.567 1415.79 293.034 1412.91 Q294.52 1410.02 294.52 1404.24 Q294.52 1398.45 293.034 1395.57 Q291.567 1392.68 288.615 1392.68 M288.615 1389.67 Q293.335 1389.67 295.818 1393.41 Q298.319 1397.14 298.319 1404.24 Q298.319 1411.33 295.818 1415.08 Q293.335 1418.8 288.615 1418.8 Q283.894 1418.8 281.392 1415.08 Q278.91 1411.33 278.91 1404.24 Q278.91 1397.14 281.392 1393.41 Q283.894 1389.67 288.615 1389.67 Z\" fill=\"#000000\" fill-rule=\"evenodd\" fill-opacity=\"1\" /><path clip-path=\"url(#clip290)\" d=\"M 0 0 M204.341 1139.41 L211.98 1139.41 L211.98 1113.04 L203.67 1114.71 L203.67 1110.45 L211.934 1108.78 L216.61 1108.78 L216.61 1139.41 L224.249 1139.41 L224.249 1143.34 L204.341 1143.34 L204.341 1139.41 Z\" fill=\"#000000\" fill-rule=\"evenodd\" fill-opacity=\"1\" /><path clip-path=\"url(#clip290)\" d=\"M 0 0 M239.318 1111.86 Q235.707 1111.86 233.878 1115.43 Q232.073 1118.97 232.073 1126.1 Q232.073 1133.2 233.878 1136.77 Q235.707 1140.31 239.318 1140.31 Q242.952 1140.31 244.758 1136.77 Q246.586 1133.2 246.586 1126.1 Q246.586 1118.97 244.758 1115.43 Q242.952 1111.86 239.318 1111.86 M239.318 1108.16 Q245.128 1108.16 248.184 1112.76 Q251.262 1117.35 251.262 1126.1 Q251.262 1134.82 248.184 1139.43 Q245.128 1144.01 239.318 1144.01 Q233.508 1144.01 230.429 1139.43 Q227.374 1134.82 227.374 1126.1 Q227.374 1117.35 230.429 1112.76 Q233.508 1108.16 239.318 1108.16 Z\" fill=\"#000000\" fill-rule=\"evenodd\" fill-opacity=\"1\" /><path clip-path=\"url(#clip290)\" d=\"M 0 0 M255.833 1112.73 L269.092 1112.73 L269.092 1115.93 L251.262 1115.93 L251.262 1112.73 Q253.425 1110.5 257.149 1106.73 Q260.892 1102.95 261.851 1101.86 Q263.676 1099.81 264.39 1098.4 Q265.124 1096.97 265.124 1095.6 Q265.124 1093.36 263.544 1091.95 Q261.983 1090.54 259.463 1090.54 Q257.676 1090.54 255.682 1091.16 Q253.707 1091.78 251.45 1093.04 L251.45 1089.21 Q253.745 1088.28 255.739 1087.81 Q257.732 1087.34 259.387 1087.34 Q263.751 1087.34 266.346 1089.53 Q268.942 1091.71 268.942 1095.36 Q268.942 1097.09 268.283 1098.65 Q267.644 1100.19 265.932 1102.3 Q265.462 1102.84 262.942 1105.46 Q260.422 1108.05 255.833 1112.73 Z\" fill=\"#000000\" fill-rule=\"evenodd\" fill-opacity=\"1\" /><path clip-path=\"url(#clip290)\" d=\"M 0 0 M273.211 1111.15 L277.179 1111.15 L277.179 1115.93 L273.211 1115.93 L273.211 1111.15 Z\" fill=\"#000000\" fill-rule=\"evenodd\" fill-opacity=\"1\" /><path clip-path=\"url(#clip290)\" d=\"M 0 0 M281.336 1087.85 L296.251 1087.85 L296.251 1091.05 L284.815 1091.05 L284.815 1097.93 Q285.643 1097.65 286.471 1097.52 Q287.298 1097.37 288.126 1097.37 Q292.828 1097.37 295.573 1099.94 Q298.319 1102.52 298.319 1106.92 Q298.319 1111.46 295.498 1113.98 Q292.677 1116.48 287.543 1116.48 Q285.775 1116.48 283.931 1116.18 Q282.107 1115.88 280.151 1115.27 L280.151 1111.46 Q281.844 1112.38 283.649 1112.83 Q285.455 1113.28 287.467 1113.28 Q290.721 1113.28 292.621 1111.57 Q294.52 1109.86 294.52 1106.92 Q294.52 1103.99 292.621 1102.28 Q290.721 1100.57 287.467 1100.57 Q285.944 1100.57 284.42 1100.9 Q282.916 1101.24 281.336 1101.96 L281.336 1087.85 Z\" fill=\"#000000\" fill-rule=\"evenodd\" fill-opacity=\"1\" /><path clip-path=\"url(#clip290)\" d=\"M 0 0 M203.194 837.082 L210.833 837.082 L210.833 810.716 L202.523 812.383 L202.523 808.124 L210.787 806.457 L215.463 806.457 L215.463 837.082 L223.101 837.082 L223.101 841.017 L203.194 841.017 L203.194 837.082 Z\" fill=\"#000000\" fill-rule=\"evenodd\" fill-opacity=\"1\" /><path clip-path=\"url(#clip290)\" d=\"M 0 0 M238.171 809.536 Q234.56 809.536 232.731 813.101 Q230.925 816.642 230.925 823.772 Q230.925 830.878 232.731 834.443 Q234.56 837.985 238.171 837.985 Q241.805 837.985 243.611 834.443 Q245.439 830.878 245.439 823.772 Q245.439 816.642 243.611 813.101 Q241.805 809.536 238.171 809.536 M238.171 805.832 Q243.981 805.832 247.036 810.439 Q250.115 815.022 250.115 823.772 Q250.115 832.499 247.036 837.105 Q243.981 841.688 238.171 841.688 Q232.361 841.688 229.282 837.105 Q226.226 832.499 226.226 823.772 Q226.226 815.022 229.282 810.439 Q232.361 805.832 238.171 805.832 Z\" fill=\"#000000\" fill-rule=\"evenodd\" fill-opacity=\"1\" /><path clip-path=\"url(#clip290)\" d=\"M 0 0 M251.3 785.527 L266.215 785.527 L266.215 788.724 L254.779 788.724 L254.779 795.608 Q255.607 795.326 256.435 795.194 Q257.262 795.043 258.09 795.043 Q262.792 795.043 265.537 797.62 Q268.283 800.197 268.283 804.598 Q268.283 809.13 265.462 811.651 Q262.641 814.152 257.507 814.152 Q255.739 814.152 253.895 813.851 Q252.071 813.55 250.115 812.948 L250.115 809.13 Q251.808 810.052 253.613 810.503 Q255.419 810.955 257.431 810.955 Q260.685 810.955 262.585 809.243 Q264.484 807.532 264.484 804.598 Q264.484 801.664 262.585 799.952 Q260.685 798.241 257.431 798.241 Q255.908 798.241 254.384 798.579 Q252.88 798.918 251.3 799.633 L251.3 785.527 Z\" fill=\"#000000\" fill-rule=\"evenodd\" fill-opacity=\"1\" /><path clip-path=\"url(#clip290)\" d=\"M 0 0 M272.402 808.83 L276.371 808.83 L276.371 813.607 L272.402 813.607 L272.402 808.83 Z\" fill=\"#000000\" fill-rule=\"evenodd\" fill-opacity=\"1\" /><path clip-path=\"url(#clip290)\" d=\"M 0 0 M288.615 788.028 Q285.681 788.028 284.195 790.925 Q282.728 793.802 282.728 799.595 Q282.728 805.369 284.195 808.265 Q285.681 811.143 288.615 811.143 Q291.567 811.143 293.034 808.265 Q294.52 805.369 294.52 799.595 Q294.52 793.802 293.034 790.925 Q291.567 788.028 288.615 788.028 M288.615 785.019 Q293.335 785.019 295.818 788.762 Q298.319 792.486 298.319 799.595 Q298.319 806.685 295.818 810.428 Q293.335 814.152 288.615 814.152 Q283.894 814.152 281.392 810.428 Q278.91 806.685 278.91 799.595 Q278.91 792.486 281.392 788.762 Q283.894 785.019 288.615 785.019 Z\" fill=\"#000000\" fill-rule=\"evenodd\" fill-opacity=\"1\" /><path clip-path=\"url(#clip290)\" d=\"M 0 0 M204.116 534.757 L211.754 534.757 L211.754 508.392 L203.444 510.058 L203.444 505.799 L211.708 504.132 L216.384 504.132 L216.384 534.757 L224.023 534.757 L224.023 538.692 L204.116 538.692 L204.116 534.757 Z\" fill=\"#000000\" fill-rule=\"evenodd\" fill-opacity=\"1\" /><path clip-path=\"url(#clip290)\" d=\"M 0 0 M239.092 507.211 Q235.481 507.211 233.653 510.776 Q231.847 514.317 231.847 521.447 Q231.847 528.553 233.653 532.118 Q235.481 535.66 239.092 535.66 Q242.727 535.66 244.532 532.118 Q246.361 528.553 246.361 521.447 Q246.361 514.317 244.532 510.776 Q242.727 507.211 239.092 507.211 M239.092 503.507 Q244.902 503.507 247.958 508.114 Q251.037 512.697 251.037 521.447 Q251.037 530.174 247.958 534.78 Q244.902 539.364 239.092 539.364 Q233.282 539.364 230.203 534.78 Q227.148 530.174 227.148 521.447 Q227.148 512.697 230.203 508.114 Q233.282 503.507 239.092 503.507 Z\" fill=\"#000000\" fill-rule=\"evenodd\" fill-opacity=\"1\" /><path clip-path=\"url(#clip290)\" d=\"M 0 0 M251.037 483.202 L269.092 483.202 L269.092 484.819 L258.898 511.282 L254.93 511.282 L264.522 486.399 L251.037 486.399 L251.037 483.202 Z\" fill=\"#000000\" fill-rule=\"evenodd\" fill-opacity=\"1\" /><path clip-path=\"url(#clip290)\" d=\"M 0 0 M273.211 506.505 L277.179 506.505 L277.179 511.282 L273.211 511.282 L273.211 506.505 Z\" fill=\"#000000\" fill-rule=\"evenodd\" fill-opacity=\"1\" /><path clip-path=\"url(#clip290)\" d=\"M 0 0 M281.336 483.202 L296.251 483.202 L296.251 486.399 L284.815 486.399 L284.815 493.283 Q285.643 493.001 286.471 492.869 Q287.298 492.719 288.126 492.719 Q292.828 492.719 295.573 495.295 Q298.319 497.872 298.319 502.273 Q298.319 506.806 295.498 509.326 Q292.677 511.827 287.543 511.827 Q285.775 511.827 283.931 511.526 Q282.107 511.226 280.151 510.624 L280.151 506.806 Q281.844 507.727 283.649 508.179 Q285.455 508.63 287.467 508.63 Q290.721 508.63 292.621 506.919 Q294.52 505.207 294.52 502.273 Q294.52 499.339 292.621 497.627 Q290.721 495.916 287.467 495.916 Q285.944 495.916 284.42 496.255 Q282.916 496.593 281.336 497.308 L281.336 483.202 Z\" fill=\"#000000\" fill-rule=\"evenodd\" fill-opacity=\"1\" /><path clip-path=\"url(#clip290)\" d=\"M 0 0 M182.694 232.432 L190.332 232.432 L190.332 206.067 L182.022 207.733 L182.022 203.474 L190.286 201.808 L194.962 201.808 L194.962 232.432 L202.601 232.432 L202.601 236.368 L182.694 236.368 L182.694 232.432 Z\" fill=\"#000000\" fill-rule=\"evenodd\" fill-opacity=\"1\" /><path clip-path=\"url(#clip290)\" d=\"M 0 0 M217.67 204.886 Q214.059 204.886 212.23 208.451 Q210.425 211.993 210.425 219.122 Q210.425 226.229 212.23 229.794 Q214.059 233.335 217.67 233.335 Q221.304 233.335 223.11 229.794 Q224.939 226.229 224.939 219.122 Q224.939 211.993 223.11 208.451 Q221.304 204.886 217.67 204.886 M217.67 201.183 Q223.48 201.183 226.536 205.789 Q229.615 210.372 229.615 219.122 Q229.615 227.849 226.536 232.456 Q223.48 237.039 217.67 237.039 Q211.86 237.039 208.781 232.456 Q205.726 227.849 205.726 219.122 Q205.726 210.372 208.781 205.789 Q211.86 201.183 217.67 201.183 Z\" fill=\"#000000\" fill-rule=\"evenodd\" fill-opacity=\"1\" /><path clip-path=\"url(#clip290)\" d=\"M 0 0 M230.16 205.76 L236.367 205.76 L236.367 184.338 L229.615 185.692 L229.615 182.231 L236.329 180.877 L240.128 180.877 L240.128 205.76 L246.335 205.76 L246.335 208.957 L230.16 208.957 L230.16 205.76 Z\" fill=\"#000000\" fill-rule=\"evenodd\" fill-opacity=\"1\" /><path clip-path=\"url(#clip290)\" d=\"M 0 0 M258.579 183.379 Q255.645 183.379 254.159 186.275 Q252.692 189.153 252.692 194.945 Q252.692 200.719 254.159 203.616 Q255.645 206.493 258.579 206.493 Q261.531 206.493 262.998 203.616 Q264.484 200.719 264.484 194.945 Q264.484 189.153 262.998 186.275 Q261.531 183.379 258.579 183.379 M258.579 180.369 Q263.299 180.369 265.782 184.112 Q268.283 187.836 268.283 194.945 Q268.283 202.036 265.782 205.779 Q263.299 209.503 258.579 209.503 Q253.858 209.503 251.356 205.779 Q248.874 202.036 248.874 194.945 Q248.874 187.836 251.356 184.112 Q253.858 180.369 258.579 180.369 Z\" fill=\"#000000\" fill-rule=\"evenodd\" fill-opacity=\"1\" /><path clip-path=\"url(#clip290)\" d=\"M 0 0 M272.402 204.18 L276.371 204.18 L276.371 208.957 L272.402 208.957 L272.402 204.18 Z\" fill=\"#000000\" fill-rule=\"evenodd\" fill-opacity=\"1\" /><path clip-path=\"url(#clip290)\" d=\"M 0 0 M288.615 183.379 Q285.681 183.379 284.195 186.275 Q282.728 189.153 282.728 194.945 Q282.728 200.719 284.195 203.616 Q285.681 206.493 288.615 206.493 Q291.567 206.493 293.034 203.616 Q294.52 200.719 294.52 194.945 Q294.52 189.153 293.034 186.275 Q291.567 183.379 288.615 183.379 M288.615 180.369 Q293.335 180.369 295.818 184.112 Q298.319 187.836 298.319 194.945 Q298.319 202.036 295.818 205.779 Q293.335 209.503 288.615 209.503 Q283.894 209.503 281.392 205.779 Q278.91 202.036 278.91 194.945 Q278.91 187.836 281.392 184.112 Q283.894 180.369 288.615 180.369 Z\" fill=\"#000000\" fill-rule=\"evenodd\" fill-opacity=\"1\" /><path clip-path=\"url(#clip290)\" d=\"M 0 0 M1110.71 49.7694 Q1101.67 49.7694 1098.19 51.8354 Q1094.71 53.9013 1094.71 58.8839 Q1094.71 62.8538 1097.3 65.2034 Q1099.93 67.5124 1104.43 67.5124 Q1110.63 67.5124 1114.35 63.1374 Q1118.12 58.7219 1118.12 51.4303 L1118.12 49.7694 L1110.71 49.7694 M1125.57 46.6907 L1125.57 72.576 L1118.12 72.576 L1118.12 65.6895 Q1115.57 69.8214 1111.76 71.8063 Q1107.95 73.7508 1102.44 73.7508 Q1095.48 73.7508 1091.34 69.8619 Q1087.25 65.9325 1087.25 59.3701 Q1087.25 51.7138 1092.36 47.825 Q1097.5 43.9361 1107.67 43.9361 L1118.12 43.9361 L1118.12 43.2069 Q1118.12 38.0623 1114.72 35.2672 Q1111.36 32.4315 1105.24 32.4315 Q1101.35 32.4315 1097.66 33.3632 Q1093.98 34.295 1090.57 36.1584 L1090.57 29.2718 Q1094.67 27.692 1098.51 26.9223 Q1102.36 26.1121 1106.01 26.1121 Q1115.85 26.1121 1120.71 31.2163 Q1125.57 36.3204 1125.57 46.6907 Z\" fill=\"#000000\" fill-rule=\"evenodd\" fill-opacity=\"1\" /><path clip-path=\"url(#clip290)\" d=\"M 0 0 M1192.33 49.9314 Q1192.33 41.7081 1188.93 37.0496 Q1185.57 32.3505 1179.65 32.3505 Q1173.74 32.3505 1170.34 37.0496 Q1166.97 41.7081 1166.97 49.9314 Q1166.97 58.1548 1170.34 62.8538 Q1173.74 67.5124 1179.65 67.5124 Q1185.57 67.5124 1188.93 62.8538 Q1192.33 58.1548 1192.33 49.9314 M1166.97 34.0924 Q1169.32 30.0415 1172.89 28.0971 Q1176.49 26.1121 1181.48 26.1121 Q1189.74 26.1121 1194.89 32.6746 Q1200.07 39.2371 1200.07 49.9314 Q1200.07 60.6258 1194.89 67.1883 Q1189.74 73.7508 1181.48 73.7508 Q1176.49 73.7508 1172.89 71.8063 Q1169.32 69.8214 1166.97 65.7705 L1166.97 72.576 L1159.48 72.576 L1159.48 9.54393 L1166.97 9.54393 L1166.97 34.0924 Z\" fill=\"#000000\" fill-rule=\"evenodd\" fill-opacity=\"1\" /><path clip-path=\"url(#clip290)\" d=\"M 0 0 M1228.51 49.7694 Q1219.47 49.7694 1215.99 51.8354 Q1212.51 53.9013 1212.51 58.8839 Q1212.51 62.8538 1215.1 65.2034 Q1217.73 67.5124 1222.23 67.5124 Q1228.43 67.5124 1232.15 63.1374 Q1235.92 58.7219 1235.92 51.4303 L1235.92 49.7694 L1228.51 49.7694 M1243.37 46.6907 L1243.37 72.576 L1235.92 72.576 L1235.92 65.6895 Q1233.37 69.8214 1229.56 71.8063 Q1225.75 73.7508 1220.24 73.7508 Q1213.28 73.7508 1209.14 69.8619 Q1205.05 65.9325 1205.05 59.3701 Q1205.05 51.7138 1210.16 47.825 Q1215.3 43.9361 1225.47 43.9361 L1235.92 43.9361 L1235.92 43.2069 Q1235.92 38.0623 1232.52 35.2672 Q1229.16 32.4315 1223.04 32.4315 Q1219.15 32.4315 1215.46 33.3632 Q1211.78 34.295 1208.37 36.1584 L1208.37 29.2718 Q1212.47 27.692 1216.31 26.9223 Q1220.16 26.1121 1223.81 26.1121 Q1233.65 26.1121 1238.51 31.2163 Q1243.37 36.3204 1243.37 46.6907 Z\" fill=\"#000000\" fill-rule=\"evenodd\" fill-opacity=\"1\" /><path clip-path=\"url(#clip290)\" d=\"M 0 0 M1277.48 34.1734 Q1276.23 33.4443 1274.73 33.1202 Q1273.27 32.7556 1271.49 32.7556 Q1265.17 32.7556 1261.77 36.8875 Q1258.4 40.9789 1258.4 48.6757 L1258.4 72.576 L1250.91 72.576 L1250.91 27.2059 L1258.4 27.2059 L1258.4 34.2544 Q1260.75 30.1225 1264.52 28.1376 Q1268.29 26.1121 1273.68 26.1121 Q1274.44 26.1121 1275.38 26.2337 Q1276.31 26.3147 1277.44 26.5172 L1277.48 34.1734 Z\" fill=\"#000000\" fill-rule=\"evenodd\" fill-opacity=\"1\" /><path clip-path=\"url(#clip290)\" d=\"M 0 0 M1276.23 46.5287 L1298.06 46.5287 L1298.06 53.1722 L1276.23 53.1722 L1276.23 46.5287 Z\" fill=\"#000000\" fill-rule=\"evenodd\" fill-opacity=\"1\" /><path clip-path=\"url(#clip290)\" d=\"M 0 0 M1328.85 9.54393 L1328.85 15.7418 L1321.72 15.7418 Q1317.71 15.7418 1316.13 17.3622 Q1314.59 18.9825 1314.59 23.1955 L1314.59 27.2059 L1326.86 27.2059 L1326.86 32.9987 L1314.59 32.9987 L1314.59 72.576 L1307.1 72.576 L1307.1 32.9987 L1299.97 32.9987 L1299.97 27.2059 L1307.1 27.2059 L1307.1 24.0462 Q1307.1 16.471 1310.62 13.0277 Q1314.14 9.54393 1321.8 9.54393 L1328.85 9.54393 Z\" fill=\"#000000\" fill-rule=\"evenodd\" fill-opacity=\"1\" /><path clip-path=\"url(#clip290)\" d=\"M 0 0 M1354.25 32.4315 Q1348.25 32.4315 1344.77 37.1306 Q1341.28 41.7891 1341.28 49.9314 Q1341.28 58.0738 1344.73 62.7728 Q1348.21 67.4314 1354.25 67.4314 Q1360.2 67.4314 1363.69 62.7323 Q1367.17 58.0333 1367.17 49.9314 Q1367.17 41.8701 1363.69 37.1711 Q1360.2 32.4315 1354.25 32.4315 M1354.25 26.1121 Q1363.97 26.1121 1369.52 32.4315 Q1375.07 38.7509 1375.07 49.9314 Q1375.07 61.0714 1369.52 67.4314 Q1363.97 73.7508 1354.25 73.7508 Q1344.48 73.7508 1338.94 67.4314 Q1333.43 61.0714 1333.43 49.9314 Q1333.43 38.7509 1338.94 32.4315 Q1344.48 26.1121 1354.25 26.1121 Z\" fill=\"#000000\" fill-rule=\"evenodd\" fill-opacity=\"1\" /><path clip-path=\"url(#clip290)\" d=\"M 0 0 M1400.47 32.4315 Q1394.47 32.4315 1390.99 37.1306 Q1387.51 41.7891 1387.51 49.9314 Q1387.51 58.0738 1390.95 62.7728 Q1394.43 67.4314 1400.47 67.4314 Q1406.42 67.4314 1409.91 62.7323 Q1413.39 58.0333 1413.39 49.9314 Q1413.39 41.8701 1409.91 37.1711 Q1406.42 32.4315 1400.47 32.4315 M1400.47 26.1121 Q1410.19 26.1121 1415.74 32.4315 Q1421.29 38.7509 1421.29 49.9314 Q1421.29 61.0714 1415.74 67.4314 Q1410.19 73.7508 1400.47 73.7508 Q1390.71 73.7508 1385.16 67.4314 Q1379.65 61.0714 1379.65 49.9314 Q1379.65 38.7509 1385.16 32.4315 Q1390.71 26.1121 1400.47 26.1121 Z\" fill=\"#000000\" fill-rule=\"evenodd\" fill-opacity=\"1\" /><path clip-path=\"url(#clip290)\" d=\"M 0 0 M1462.69 65.7705 L1462.69 89.8329 L1455.2 89.8329 L1455.2 27.2059 L1462.69 27.2059 L1462.69 34.0924 Q1465.04 30.0415 1468.6 28.0971 Q1472.21 26.1121 1477.19 26.1121 Q1485.46 26.1121 1490.6 32.6746 Q1495.79 39.2371 1495.79 49.9314 Q1495.79 60.6258 1490.6 67.1883 Q1485.46 73.7508 1477.19 73.7508 Q1472.21 73.7508 1468.6 71.8063 Q1465.04 69.8214 1462.69 65.7705 M1488.05 49.9314 Q1488.05 41.7081 1484.65 37.0496 Q1481.28 32.3505 1475.37 32.3505 Q1469.46 32.3505 1466.05 37.0496 Q1462.69 41.7081 1462.69 49.9314 Q1462.69 58.1548 1466.05 62.8538 Q1469.46 67.5124 1475.37 67.5124 Q1481.28 67.5124 1484.65 62.8538 Q1488.05 58.1548 1488.05 49.9314 Z\" fill=\"#000000\" fill-rule=\"evenodd\" fill-opacity=\"1\" /><path clip-path=\"url(#clip290)\" d=\"M 0 0 M1503.6 9.54393 L1511.06 9.54393 L1511.06 72.576 L1503.6 72.576 L1503.6 9.54393 Z\" fill=\"#000000\" fill-rule=\"evenodd\" fill-opacity=\"1\" /><path clip-path=\"url(#clip290)\" d=\"M 0 0 M1536.46 32.4315 Q1530.46 32.4315 1526.98 37.1306 Q1523.49 41.7891 1523.49 49.9314 Q1523.49 58.0738 1526.94 62.7728 Q1530.42 67.4314 1536.46 67.4314 Q1542.41 67.4314 1545.9 62.7323 Q1549.38 58.0333 1549.38 49.9314 Q1549.38 41.8701 1545.9 37.1711 Q1542.41 32.4315 1536.46 32.4315 M1536.46 26.1121 Q1546.18 26.1121 1551.73 32.4315 Q1557.28 38.7509 1557.28 49.9314 Q1557.28 61.0714 1551.73 67.4314 Q1546.18 73.7508 1536.46 73.7508 Q1526.69 73.7508 1521.14 67.4314 Q1515.64 61.0714 1515.64 49.9314 Q1515.64 38.7509 1521.14 32.4315 Q1526.69 26.1121 1536.46 26.1121 Z\" fill=\"#000000\" fill-rule=\"evenodd\" fill-opacity=\"1\" /><path clip-path=\"url(#clip290)\" d=\"M 0 0 M1572.47 14.324 L1572.47 27.2059 L1587.82 27.2059 L1587.82 32.9987 L1572.47 32.9987 L1572.47 57.6282 Q1572.47 63.1779 1573.97 64.7578 Q1575.51 66.3376 1580.17 66.3376 L1587.82 66.3376 L1587.82 72.576 L1580.17 72.576 Q1571.54 72.576 1568.26 69.3758 Q1564.98 66.1351 1564.98 57.6282 L1564.98 32.9987 L1559.51 32.9987 L1559.51 27.2059 L1564.98 27.2059 L1564.98 14.324 L1572.47 14.324 Z\" fill=\"#000000\" fill-rule=\"evenodd\" fill-opacity=\"1\" /><path clip-path=\"url(#clip290)\" d=\"M 0 0 M1354.15 1520.4 L1341.26 1537.74 L1354.82 1556.04 L1347.91 1556.04 L1337.54 1542.04 L1327.16 1556.04 L1320.25 1556.04 L1334.1 1537.39 L1321.43 1520.4 L1328.34 1520.4 L1337.79 1533.1 L1347.25 1520.4 L1354.15 1520.4 Z\" fill=\"#000000\" fill-rule=\"evenodd\" fill-opacity=\"1\" /><path clip-path=\"url(#clip290)\" d=\"M 0 0 M91.3143 771.639 Q97.68 774.122 99.6216 776.477 Q101.563 778.832 101.563 782.779 L101.563 787.458 L96.6615 787.458 L96.6615 784.02 Q96.6615 781.601 95.5157 780.265 Q94.3699 778.928 90.1048 777.305 L87.4312 776.254 L52.3562 790.673 L52.3562 784.466 L80.238 773.326 L52.3562 762.186 L52.3562 755.979 L91.3143 771.639 Z\" fill=\"#000000\" fill-rule=\"evenodd\" fill-opacity=\"1\" /><circle clip-path=\"url(#clip292)\" cx=\"507.137\" cy=\"1227.26\" r=\"7\" fill=\"#0000ff\" fill-rule=\"evenodd\" fill-opacity=\"1\" stroke=\"#000000\" stroke-opacity=\"1\" stroke-width=\"3.2\"/>\n",
       "<circle clip-path=\"url(#clip292)\" cx=\"1286.82\" cy=\"833.008\" r=\"7\" fill=\"#0000ff\" fill-rule=\"evenodd\" fill-opacity=\"1\" stroke=\"#000000\" stroke-opacity=\"1\" stroke-width=\"3.2\"/>\n",
       "<circle clip-path=\"url(#clip292)\" cx=\"1361.28\" cy=\"776.957\" r=\"7\" fill=\"#0000ff\" fill-rule=\"evenodd\" fill-opacity=\"1\" stroke=\"#000000\" stroke-opacity=\"1\" stroke-width=\"3.2\"/>\n",
       "<circle clip-path=\"url(#clip292)\" cx=\"729.687\" cy=\"1121.82\" r=\"7\" fill=\"#0000ff\" fill-rule=\"evenodd\" fill-opacity=\"1\" stroke=\"#000000\" stroke-opacity=\"1\" stroke-width=\"3.2\"/>\n",
       "<circle clip-path=\"url(#clip292)\" cx=\"2177.39\" cy=\"224.395\" r=\"7\" fill=\"#0000ff\" fill-rule=\"evenodd\" fill-opacity=\"1\" stroke=\"#000000\" stroke-opacity=\"1\" stroke-width=\"3.2\"/>\n",
       "<circle clip-path=\"url(#clip292)\" cx=\"2272.16\" cy=\"196.664\" r=\"7\" fill=\"#0000ff\" fill-rule=\"evenodd\" fill-opacity=\"1\" stroke=\"#000000\" stroke-opacity=\"1\" stroke-width=\"3.2\"/>\n",
       "<circle clip-path=\"url(#clip292)\" cx=\"2045.76\" cy=\"265.246\" r=\"7\" fill=\"#0000ff\" fill-rule=\"evenodd\" fill-opacity=\"1\" stroke=\"#000000\" stroke-opacity=\"1\" stroke-width=\"3.2\"/>\n",
       "<circle clip-path=\"url(#clip292)\" cx=\"441.262\" cy=\"1295.85\" r=\"7\" fill=\"#0000ff\" fill-rule=\"evenodd\" fill-opacity=\"1\" stroke=\"#000000\" stroke-opacity=\"1\" stroke-width=\"3.2\"/>\n",
       "<circle clip-path=\"url(#clip292)\" cx=\"1195.83\" cy=\"790.86\" r=\"7\" fill=\"#0000ff\" fill-rule=\"evenodd\" fill-opacity=\"1\" stroke=\"#000000\" stroke-opacity=\"1\" stroke-width=\"3.2\"/>\n",
       "<circle clip-path=\"url(#clip292)\" cx=\"2051.82\" cy=\"251.599\" r=\"7\" fill=\"#0000ff\" fill-rule=\"evenodd\" fill-opacity=\"1\" stroke=\"#000000\" stroke-opacity=\"1\" stroke-width=\"3.2\"/>\n",
       "<circle clip-path=\"url(#clip292)\" cx=\"2262.98\" cy=\"216.708\" r=\"7\" fill=\"#0000ff\" fill-rule=\"evenodd\" fill-opacity=\"1\" stroke=\"#000000\" stroke-opacity=\"1\" stroke-width=\"3.2\"/>\n",
       "<circle clip-path=\"url(#clip292)\" cx=\"786.762\" cy=\"1147\" r=\"7\" fill=\"#0000ff\" fill-rule=\"evenodd\" fill-opacity=\"1\" stroke=\"#000000\" stroke-opacity=\"1\" stroke-width=\"3.2\"/>\n",
       "<circle clip-path=\"url(#clip292)\" cx=\"2093.62\" cy=\"227.095\" r=\"7\" fill=\"#0000ff\" fill-rule=\"evenodd\" fill-opacity=\"1\" stroke=\"#000000\" stroke-opacity=\"1\" stroke-width=\"3.2\"/>\n",
       "<circle clip-path=\"url(#clip292)\" cx=\"1338.23\" cy=\"698.831\" r=\"7\" fill=\"#0000ff\" fill-rule=\"evenodd\" fill-opacity=\"1\" stroke=\"#000000\" stroke-opacity=\"1\" stroke-width=\"3.2\"/>\n",
       "<circle clip-path=\"url(#clip292)\" cx=\"1700.35\" cy=\"501.789\" r=\"7\" fill=\"#0000ff\" fill-rule=\"evenodd\" fill-opacity=\"1\" stroke=\"#000000\" stroke-opacity=\"1\" stroke-width=\"3.2\"/>\n",
       "<circle clip-path=\"url(#clip292)\" cx=\"2180.42\" cy=\"187.977\" r=\"7\" fill=\"#0000ff\" fill-rule=\"evenodd\" fill-opacity=\"1\" stroke=\"#000000\" stroke-opacity=\"1\" stroke-width=\"3.2\"/>\n",
       "<circle clip-path=\"url(#clip292)\" cx=\"1996.37\" cy=\"300.353\" r=\"7\" fill=\"#0000ff\" fill-rule=\"evenodd\" fill-opacity=\"1\" stroke=\"#000000\" stroke-opacity=\"1\" stroke-width=\"3.2\"/>\n",
       "<circle clip-path=\"url(#clip292)\" cx=\"1211.35\" cy=\"883.74\" r=\"7\" fill=\"#0000ff\" fill-rule=\"evenodd\" fill-opacity=\"1\" stroke=\"#000000\" stroke-opacity=\"1\" stroke-width=\"3.2\"/>\n",
       "<circle clip-path=\"url(#clip292)\" cx=\"1732.99\" cy=\"521.088\" r=\"7\" fill=\"#0000ff\" fill-rule=\"evenodd\" fill-opacity=\"1\" stroke=\"#000000\" stroke-opacity=\"1\" stroke-width=\"3.2\"/>\n",
       "<circle clip-path=\"url(#clip292)\" cx=\"2130.58\" cy=\"217.572\" r=\"7\" fill=\"#0000ff\" fill-rule=\"evenodd\" fill-opacity=\"1\" stroke=\"#000000\" stroke-opacity=\"1\" stroke-width=\"3.2\"/>\n",
       "<circle clip-path=\"url(#clip292)\" cx=\"999.693\" cy=\"994.433\" r=\"7\" fill=\"#0000ff\" fill-rule=\"evenodd\" fill-opacity=\"1\" stroke=\"#000000\" stroke-opacity=\"1\" stroke-width=\"3.2\"/>\n",
       "<circle clip-path=\"url(#clip292)\" cx=\"2040.74\" cy=\"311.078\" r=\"7\" fill=\"#0000ff\" fill-rule=\"evenodd\" fill-opacity=\"1\" stroke=\"#000000\" stroke-opacity=\"1\" stroke-width=\"3.2\"/>\n",
       "<circle clip-path=\"url(#clip292)\" cx=\"1572.82\" cy=\"633.142\" r=\"7\" fill=\"#0000ff\" fill-rule=\"evenodd\" fill-opacity=\"1\" stroke=\"#000000\" stroke-opacity=\"1\" stroke-width=\"3.2\"/>\n",
       "<circle clip-path=\"url(#clip292)\" cx=\"1948.88\" cy=\"315.252\" r=\"7\" fill=\"#0000ff\" fill-rule=\"evenodd\" fill-opacity=\"1\" stroke=\"#000000\" stroke-opacity=\"1\" stroke-width=\"3.2\"/>\n",
       "<circle clip-path=\"url(#clip292)\" cx=\"2013.55\" cy=\"308.504\" r=\"7\" fill=\"#0000ff\" fill-rule=\"evenodd\" fill-opacity=\"1\" stroke=\"#000000\" stroke-opacity=\"1\" stroke-width=\"3.2\"/>\n",
       "<circle clip-path=\"url(#clip292)\" cx=\"1838.87\" cy=\"471.522\" r=\"7\" fill=\"#0000ff\" fill-rule=\"evenodd\" fill-opacity=\"1\" stroke=\"#000000\" stroke-opacity=\"1\" stroke-width=\"3.2\"/>\n",
       "<circle clip-path=\"url(#clip292)\" cx=\"2216.45\" cy=\"160.256\" r=\"7\" fill=\"#0000ff\" fill-rule=\"evenodd\" fill-opacity=\"1\" stroke=\"#000000\" stroke-opacity=\"1\" stroke-width=\"3.2\"/>\n",
       "<circle clip-path=\"url(#clip292)\" cx=\"1233.77\" cy=\"768.703\" r=\"7\" fill=\"#0000ff\" fill-rule=\"evenodd\" fill-opacity=\"1\" stroke=\"#000000\" stroke-opacity=\"1\" stroke-width=\"3.2\"/>\n",
       "<circle clip-path=\"url(#clip292)\" cx=\"1114.05\" cy=\"941.024\" r=\"7\" fill=\"#0000ff\" fill-rule=\"evenodd\" fill-opacity=\"1\" stroke=\"#000000\" stroke-opacity=\"1\" stroke-width=\"3.2\"/>\n",
       "<circle clip-path=\"url(#clip292)\" cx=\"1004.4\" cy=\"913.975\" r=\"7\" fill=\"#0000ff\" fill-rule=\"evenodd\" fill-opacity=\"1\" stroke=\"#000000\" stroke-opacity=\"1\" stroke-width=\"3.2\"/>\n",
       "<circle clip-path=\"url(#clip292)\" cx=\"1681.27\" cy=\"563.234\" r=\"7\" fill=\"#0000ff\" fill-rule=\"evenodd\" fill-opacity=\"1\" stroke=\"#000000\" stroke-opacity=\"1\" stroke-width=\"3.2\"/>\n",
       "<circle clip-path=\"url(#clip292)\" cx=\"1142.49\" cy=\"886.844\" r=\"7\" fill=\"#0000ff\" fill-rule=\"evenodd\" fill-opacity=\"1\" stroke=\"#000000\" stroke-opacity=\"1\" stroke-width=\"3.2\"/>\n",
       "<circle clip-path=\"url(#clip292)\" cx=\"1522.91\" cy=\"677.531\" r=\"7\" fill=\"#0000ff\" fill-rule=\"evenodd\" fill-opacity=\"1\" stroke=\"#000000\" stroke-opacity=\"1\" stroke-width=\"3.2\"/>\n",
       "<circle clip-path=\"url(#clip292)\" cx=\"2224.32\" cy=\"254.22\" r=\"7\" fill=\"#0000ff\" fill-rule=\"evenodd\" fill-opacity=\"1\" stroke=\"#000000\" stroke-opacity=\"1\" stroke-width=\"3.2\"/>\n",
       "<circle clip-path=\"url(#clip292)\" cx=\"2211.91\" cy=\"238.051\" r=\"7\" fill=\"#0000ff\" fill-rule=\"evenodd\" fill-opacity=\"1\" stroke=\"#000000\" stroke-opacity=\"1\" stroke-width=\"3.2\"/>\n",
       "<circle clip-path=\"url(#clip292)\" cx=\"1718.86\" cy=\"510.639\" r=\"7\" fill=\"#0000ff\" fill-rule=\"evenodd\" fill-opacity=\"1\" stroke=\"#000000\" stroke-opacity=\"1\" stroke-width=\"3.2\"/>\n",
       "<circle clip-path=\"url(#clip292)\" cx=\"1120.03\" cy=\"863.589\" r=\"7\" fill=\"#0000ff\" fill-rule=\"evenodd\" fill-opacity=\"1\" stroke=\"#000000\" stroke-opacity=\"1\" stroke-width=\"3.2\"/>\n",
       "<circle clip-path=\"url(#clip292)\" cx=\"996.507\" cy=\"956.084\" r=\"7\" fill=\"#0000ff\" fill-rule=\"evenodd\" fill-opacity=\"1\" stroke=\"#000000\" stroke-opacity=\"1\" stroke-width=\"3.2\"/>\n",
       "<circle clip-path=\"url(#clip292)\" cx=\"774.452\" cy=\"1148.76\" r=\"7\" fill=\"#0000ff\" fill-rule=\"evenodd\" fill-opacity=\"1\" stroke=\"#000000\" stroke-opacity=\"1\" stroke-width=\"3.2\"/>\n",
       "<circle clip-path=\"url(#clip292)\" cx=\"1477.97\" cy=\"687.101\" r=\"7\" fill=\"#0000ff\" fill-rule=\"evenodd\" fill-opacity=\"1\" stroke=\"#000000\" stroke-opacity=\"1\" stroke-width=\"3.2\"/>\n",
       "<circle clip-path=\"url(#clip292)\" cx=\"411.39\" cy=\"1344.57\" r=\"7\" fill=\"#0000ff\" fill-rule=\"evenodd\" fill-opacity=\"1\" stroke=\"#000000\" stroke-opacity=\"1\" stroke-width=\"3.2\"/>\n",
       "<circle clip-path=\"url(#clip292)\" cx=\"381.045\" cy=\"1347.11\" r=\"7\" fill=\"#0000ff\" fill-rule=\"evenodd\" fill-opacity=\"1\" stroke=\"#000000\" stroke-opacity=\"1\" stroke-width=\"3.2\"/>\n",
       "<circle clip-path=\"url(#clip292)\" cx=\"567.353\" cy=\"1170.54\" r=\"7\" fill=\"#0000ff\" fill-rule=\"evenodd\" fill-opacity=\"1\" stroke=\"#000000\" stroke-opacity=\"1\" stroke-width=\"3.2\"/>\n",
       "<circle clip-path=\"url(#clip292)\" cx=\"2149.12\" cy=\"297.744\" r=\"7\" fill=\"#0000ff\" fill-rule=\"evenodd\" fill-opacity=\"1\" stroke=\"#000000\" stroke-opacity=\"1\" stroke-width=\"3.2\"/>\n",
       "<circle clip-path=\"url(#clip292)\" cx=\"1961.67\" cy=\"395.277\" r=\"7\" fill=\"#0000ff\" fill-rule=\"evenodd\" fill-opacity=\"1\" stroke=\"#000000\" stroke-opacity=\"1\" stroke-width=\"3.2\"/>\n",
       "<circle clip-path=\"url(#clip292)\" cx=\"2110.41\" cy=\"319.831\" r=\"7\" fill=\"#0000ff\" fill-rule=\"evenodd\" fill-opacity=\"1\" stroke=\"#000000\" stroke-opacity=\"1\" stroke-width=\"3.2\"/>\n",
       "<circle clip-path=\"url(#clip292)\" cx=\"441.415\" cy=\"1293.35\" r=\"7\" fill=\"#0000ff\" fill-rule=\"evenodd\" fill-opacity=\"1\" stroke=\"#000000\" stroke-opacity=\"1\" stroke-width=\"3.2\"/>\n",
       "<circle clip-path=\"url(#clip292)\" cx=\"2214.56\" cy=\"249.045\" r=\"7\" fill=\"#0000ff\" fill-rule=\"evenodd\" fill-opacity=\"1\" stroke=\"#000000\" stroke-opacity=\"1\" stroke-width=\"3.2\"/>\n",
       "<circle clip-path=\"url(#clip292)\" cx=\"526.31\" cy=\"1247.24\" r=\"7\" fill=\"#0000ff\" fill-rule=\"evenodd\" fill-opacity=\"1\" stroke=\"#000000\" stroke-opacity=\"1\" stroke-width=\"3.2\"/>\n",
       "<circle clip-path=\"url(#clip292)\" cx=\"671.963\" cy=\"1211.27\" r=\"7\" fill=\"#0000ff\" fill-rule=\"evenodd\" fill-opacity=\"1\" stroke=\"#000000\" stroke-opacity=\"1\" stroke-width=\"3.2\"/>\n",
       "<circle clip-path=\"url(#clip292)\" cx=\"2038.03\" cy=\"349.609\" r=\"7\" fill=\"#0000ff\" fill-rule=\"evenodd\" fill-opacity=\"1\" stroke=\"#000000\" stroke-opacity=\"1\" stroke-width=\"3.2\"/>\n",
       "<circle clip-path=\"url(#clip292)\" cx=\"936.628\" cy=\"1043.5\" r=\"7\" fill=\"#0000ff\" fill-rule=\"evenodd\" fill-opacity=\"1\" stroke=\"#000000\" stroke-opacity=\"1\" stroke-width=\"3.2\"/>\n",
       "<circle clip-path=\"url(#clip292)\" cx=\"1661.54\" cy=\"529.181\" r=\"7\" fill=\"#0000ff\" fill-rule=\"evenodd\" fill-opacity=\"1\" stroke=\"#000000\" stroke-opacity=\"1\" stroke-width=\"3.2\"/>\n",
       "<circle clip-path=\"url(#clip292)\" cx=\"1504.58\" cy=\"687.208\" r=\"7\" fill=\"#0000ff\" fill-rule=\"evenodd\" fill-opacity=\"1\" stroke=\"#000000\" stroke-opacity=\"1\" stroke-width=\"3.2\"/>\n",
       "<circle clip-path=\"url(#clip292)\" cx=\"2295.29\" cy=\"177.072\" r=\"7\" fill=\"#0000ff\" fill-rule=\"evenodd\" fill-opacity=\"1\" stroke=\"#000000\" stroke-opacity=\"1\" stroke-width=\"3.2\"/>\n",
       "<circle clip-path=\"url(#clip292)\" cx=\"2272.51\" cy=\"164.491\" r=\"7\" fill=\"#0000ff\" fill-rule=\"evenodd\" fill-opacity=\"1\" stroke=\"#000000\" stroke-opacity=\"1\" stroke-width=\"3.2\"/>\n",
       "<circle clip-path=\"url(#clip292)\" cx=\"2285.42\" cy=\"216.051\" r=\"7\" fill=\"#0000ff\" fill-rule=\"evenodd\" fill-opacity=\"1\" stroke=\"#000000\" stroke-opacity=\"1\" stroke-width=\"3.2\"/>\n",
       "<circle clip-path=\"url(#clip292)\" cx=\"1811.16\" cy=\"513.798\" r=\"7\" fill=\"#0000ff\" fill-rule=\"evenodd\" fill-opacity=\"1\" stroke=\"#000000\" stroke-opacity=\"1\" stroke-width=\"3.2\"/>\n",
       "<circle clip-path=\"url(#clip292)\" cx=\"1978.49\" cy=\"386.285\" r=\"7\" fill=\"#0000ff\" fill-rule=\"evenodd\" fill-opacity=\"1\" stroke=\"#000000\" stroke-opacity=\"1\" stroke-width=\"3.2\"/>\n",
       "<circle clip-path=\"url(#clip292)\" cx=\"1881.37\" cy=\"463.605\" r=\"7\" fill=\"#0000ff\" fill-rule=\"evenodd\" fill-opacity=\"1\" stroke=\"#000000\" stroke-opacity=\"1\" stroke-width=\"3.2\"/>\n",
       "<circle clip-path=\"url(#clip292)\" cx=\"461.064\" cy=\"1344.41\" r=\"7\" fill=\"#0000ff\" fill-rule=\"evenodd\" fill-opacity=\"1\" stroke=\"#000000\" stroke-opacity=\"1\" stroke-width=\"3.2\"/>\n",
       "<circle clip-path=\"url(#clip292)\" cx=\"2169.59\" cy=\"196.876\" r=\"7\" fill=\"#0000ff\" fill-rule=\"evenodd\" fill-opacity=\"1\" stroke=\"#000000\" stroke-opacity=\"1\" stroke-width=\"3.2\"/>\n",
       "<circle clip-path=\"url(#clip292)\" cx=\"1413.13\" cy=\"725.778\" r=\"7\" fill=\"#0000ff\" fill-rule=\"evenodd\" fill-opacity=\"1\" stroke=\"#000000\" stroke-opacity=\"1\" stroke-width=\"3.2\"/>\n",
       "<circle clip-path=\"url(#clip292)\" cx=\"812.933\" cy=\"1058.16\" r=\"7\" fill=\"#0000ff\" fill-rule=\"evenodd\" fill-opacity=\"1\" stroke=\"#000000\" stroke-opacity=\"1\" stroke-width=\"3.2\"/>\n",
       "<circle clip-path=\"url(#clip292)\" cx=\"1281.8\" cy=\"757.226\" r=\"7\" fill=\"#0000ff\" fill-rule=\"evenodd\" fill-opacity=\"1\" stroke=\"#000000\" stroke-opacity=\"1\" stroke-width=\"3.2\"/>\n",
       "<circle clip-path=\"url(#clip292)\" cx=\"480.692\" cy=\"1223.17\" r=\"7\" fill=\"#0000ff\" fill-rule=\"evenodd\" fill-opacity=\"1\" stroke=\"#000000\" stroke-opacity=\"1\" stroke-width=\"3.2\"/>\n",
       "<circle clip-path=\"url(#clip292)\" cx=\"1226.29\" cy=\"783.224\" r=\"7\" fill=\"#0000ff\" fill-rule=\"evenodd\" fill-opacity=\"1\" stroke=\"#000000\" stroke-opacity=\"1\" stroke-width=\"3.2\"/>\n",
       "<circle clip-path=\"url(#clip292)\" cx=\"1789.21\" cy=\"464.618\" r=\"7\" fill=\"#0000ff\" fill-rule=\"evenodd\" fill-opacity=\"1\" stroke=\"#000000\" stroke-opacity=\"1\" stroke-width=\"3.2\"/>\n",
       "<circle clip-path=\"url(#clip292)\" cx=\"948.551\" cy=\"939.176\" r=\"7\" fill=\"#0000ff\" fill-rule=\"evenodd\" fill-opacity=\"1\" stroke=\"#000000\" stroke-opacity=\"1\" stroke-width=\"3.2\"/>\n",
       "<circle clip-path=\"url(#clip292)\" cx=\"427.861\" cy=\"1273.76\" r=\"7\" fill=\"#0000ff\" fill-rule=\"evenodd\" fill-opacity=\"1\" stroke=\"#000000\" stroke-opacity=\"1\" stroke-width=\"3.2\"/>\n",
       "<circle clip-path=\"url(#clip292)\" cx=\"2053.59\" cy=\"274.951\" r=\"7\" fill=\"#0000ff\" fill-rule=\"evenodd\" fill-opacity=\"1\" stroke=\"#000000\" stroke-opacity=\"1\" stroke-width=\"3.2\"/>\n",
       "<circle clip-path=\"url(#clip292)\" cx=\"1653.49\" cy=\"563.332\" r=\"7\" fill=\"#0000ff\" fill-rule=\"evenodd\" fill-opacity=\"1\" stroke=\"#000000\" stroke-opacity=\"1\" stroke-width=\"3.2\"/>\n",
       "<circle clip-path=\"url(#clip292)\" cx=\"1651.58\" cy=\"605.823\" r=\"7\" fill=\"#0000ff\" fill-rule=\"evenodd\" fill-opacity=\"1\" stroke=\"#000000\" stroke-opacity=\"1\" stroke-width=\"3.2\"/>\n",
       "<circle clip-path=\"url(#clip292)\" cx=\"747.955\" cy=\"1079.28\" r=\"7\" fill=\"#0000ff\" fill-rule=\"evenodd\" fill-opacity=\"1\" stroke=\"#000000\" stroke-opacity=\"1\" stroke-width=\"3.2\"/>\n",
       "<circle clip-path=\"url(#clip292)\" cx=\"2222.73\" cy=\"204.387\" r=\"7\" fill=\"#0000ff\" fill-rule=\"evenodd\" fill-opacity=\"1\" stroke=\"#000000\" stroke-opacity=\"1\" stroke-width=\"3.2\"/>\n",
       "<circle clip-path=\"url(#clip292)\" cx=\"1101.26\" cy=\"919.204\" r=\"7\" fill=\"#0000ff\" fill-rule=\"evenodd\" fill-opacity=\"1\" stroke=\"#000000\" stroke-opacity=\"1\" stroke-width=\"3.2\"/>\n",
       "<circle clip-path=\"url(#clip292)\" cx=\"807.839\" cy=\"1053.23\" r=\"7\" fill=\"#0000ff\" fill-rule=\"evenodd\" fill-opacity=\"1\" stroke=\"#000000\" stroke-opacity=\"1\" stroke-width=\"3.2\"/>\n",
       "<circle clip-path=\"url(#clip292)\" cx=\"2164.11\" cy=\"285.402\" r=\"7\" fill=\"#0000ff\" fill-rule=\"evenodd\" fill-opacity=\"1\" stroke=\"#000000\" stroke-opacity=\"1\" stroke-width=\"3.2\"/>\n",
       "<circle clip-path=\"url(#clip292)\" cx=\"2137.47\" cy=\"201.323\" r=\"7\" fill=\"#0000ff\" fill-rule=\"evenodd\" fill-opacity=\"1\" stroke=\"#000000\" stroke-opacity=\"1\" stroke-width=\"3.2\"/>\n",
       "<circle clip-path=\"url(#clip292)\" cx=\"2252.17\" cy=\"221.818\" r=\"7\" fill=\"#0000ff\" fill-rule=\"evenodd\" fill-opacity=\"1\" stroke=\"#000000\" stroke-opacity=\"1\" stroke-width=\"3.2\"/>\n",
       "<circle clip-path=\"url(#clip292)\" cx=\"1623.08\" cy=\"519.277\" r=\"7\" fill=\"#0000ff\" fill-rule=\"evenodd\" fill-opacity=\"1\" stroke=\"#000000\" stroke-opacity=\"1\" stroke-width=\"3.2\"/>\n",
       "<circle clip-path=\"url(#clip292)\" cx=\"1603.61\" cy=\"550.718\" r=\"7\" fill=\"#0000ff\" fill-rule=\"evenodd\" fill-opacity=\"1\" stroke=\"#000000\" stroke-opacity=\"1\" stroke-width=\"3.2\"/>\n",
       "<circle clip-path=\"url(#clip292)\" cx=\"962.625\" cy=\"949.798\" r=\"7\" fill=\"#0000ff\" fill-rule=\"evenodd\" fill-opacity=\"1\" stroke=\"#000000\" stroke-opacity=\"1\" stroke-width=\"3.2\"/>\n",
       "<circle clip-path=\"url(#clip292)\" cx=\"1189.74\" cy=\"854.566\" r=\"7\" fill=\"#0000ff\" fill-rule=\"evenodd\" fill-opacity=\"1\" stroke=\"#000000\" stroke-opacity=\"1\" stroke-width=\"3.2\"/>\n",
       "<circle clip-path=\"url(#clip292)\" cx=\"1766.92\" cy=\"485.643\" r=\"7\" fill=\"#0000ff\" fill-rule=\"evenodd\" fill-opacity=\"1\" stroke=\"#000000\" stroke-opacity=\"1\" stroke-width=\"3.2\"/>\n",
       "<circle clip-path=\"url(#clip292)\" cx=\"1171.65\" cy=\"836.431\" r=\"7\" fill=\"#0000ff\" fill-rule=\"evenodd\" fill-opacity=\"1\" stroke=\"#000000\" stroke-opacity=\"1\" stroke-width=\"3.2\"/>\n",
       "<circle clip-path=\"url(#clip292)\" cx=\"505.003\" cy=\"1220.93\" r=\"7\" fill=\"#0000ff\" fill-rule=\"evenodd\" fill-opacity=\"1\" stroke=\"#000000\" stroke-opacity=\"1\" stroke-width=\"3.2\"/>\n",
       "<circle clip-path=\"url(#clip292)\" cx=\"2068.34\" cy=\"251.912\" r=\"7\" fill=\"#0000ff\" fill-rule=\"evenodd\" fill-opacity=\"1\" stroke=\"#000000\" stroke-opacity=\"1\" stroke-width=\"3.2\"/>\n",
       "<circle clip-path=\"url(#clip292)\" cx=\"1382.26\" cy=\"760.318\" r=\"7\" fill=\"#0000ff\" fill-rule=\"evenodd\" fill-opacity=\"1\" stroke=\"#000000\" stroke-opacity=\"1\" stroke-width=\"3.2\"/>\n",
       "<circle clip-path=\"url(#clip292)\" cx=\"728.601\" cy=\"1121.51\" r=\"7\" fill=\"#0000ff\" fill-rule=\"evenodd\" fill-opacity=\"1\" stroke=\"#000000\" stroke-opacity=\"1\" stroke-width=\"3.2\"/>\n",
       "<circle clip-path=\"url(#clip292)\" cx=\"783.301\" cy=\"1099.26\" r=\"7\" fill=\"#0000ff\" fill-rule=\"evenodd\" fill-opacity=\"1\" stroke=\"#000000\" stroke-opacity=\"1\" stroke-width=\"3.2\"/>\n",
       "<circle clip-path=\"url(#clip292)\" cx=\"1461.64\" cy=\"626.627\" r=\"7\" fill=\"#0000ff\" fill-rule=\"evenodd\" fill-opacity=\"1\" stroke=\"#000000\" stroke-opacity=\"1\" stroke-width=\"3.2\"/>\n",
       "<circle clip-path=\"url(#clip292)\" cx=\"379.785\" cy=\"1350.85\" r=\"7\" fill=\"#0000ff\" fill-rule=\"evenodd\" fill-opacity=\"1\" stroke=\"#000000\" stroke-opacity=\"1\" stroke-width=\"3.2\"/>\n",
       "<circle clip-path=\"url(#clip292)\" cx=\"1029.17\" cy=\"936.832\" r=\"7\" fill=\"#0000ff\" fill-rule=\"evenodd\" fill-opacity=\"1\" stroke=\"#000000\" stroke-opacity=\"1\" stroke-width=\"3.2\"/>\n",
       "<circle clip-path=\"url(#clip292)\" cx=\"1357.21\" cy=\"708.25\" r=\"7\" fill=\"#0000ff\" fill-rule=\"evenodd\" fill-opacity=\"1\" stroke=\"#000000\" stroke-opacity=\"1\" stroke-width=\"3.2\"/>\n",
       "<circle clip-path=\"url(#clip292)\" cx=\"1738.58\" cy=\"555.268\" r=\"7\" fill=\"#0000ff\" fill-rule=\"evenodd\" fill-opacity=\"1\" stroke=\"#000000\" stroke-opacity=\"1\" stroke-width=\"3.2\"/>\n",
       "<circle clip-path=\"url(#clip292)\" cx=\"1530.94\" cy=\"646.045\" r=\"7\" fill=\"#0000ff\" fill-rule=\"evenodd\" fill-opacity=\"1\" stroke=\"#000000\" stroke-opacity=\"1\" stroke-width=\"3.2\"/>\n",
       "<circle clip-path=\"url(#clip292)\" cx=\"1297.11\" cy=\"759.65\" r=\"7\" fill=\"#0000ff\" fill-rule=\"evenodd\" fill-opacity=\"1\" stroke=\"#000000\" stroke-opacity=\"1\" stroke-width=\"3.2\"/>\n",
       "<circle clip-path=\"url(#clip292)\" cx=\"558.877\" cy=\"1206.4\" r=\"7\" fill=\"#0000ff\" fill-rule=\"evenodd\" fill-opacity=\"1\" stroke=\"#000000\" stroke-opacity=\"1\" stroke-width=\"3.2\"/>\n",
       "<circle clip-path=\"url(#clip292)\" cx=\"597.35\" cy=\"1171.1\" r=\"7\" fill=\"#0000ff\" fill-rule=\"evenodd\" fill-opacity=\"1\" stroke=\"#000000\" stroke-opacity=\"1\" stroke-width=\"3.2\"/>\n",
       "<circle clip-path=\"url(#clip292)\" cx=\"507.137\" cy=\"1324.6\" r=\"7\" fill=\"#ff0000\" fill-rule=\"evenodd\" fill-opacity=\"1\" stroke=\"#000000\" stroke-opacity=\"1\" stroke-width=\"3.2\"/>\n",
       "<circle clip-path=\"url(#clip292)\" cx=\"1286.82\" cy=\"1127.47\" r=\"7\" fill=\"#ff0000\" fill-rule=\"evenodd\" fill-opacity=\"1\" stroke=\"#000000\" stroke-opacity=\"1\" stroke-width=\"3.2\"/>\n",
       "<circle clip-path=\"url(#clip292)\" cx=\"1361.28\" cy=\"1099.45\" r=\"7\" fill=\"#ff0000\" fill-rule=\"evenodd\" fill-opacity=\"1\" stroke=\"#000000\" stroke-opacity=\"1\" stroke-width=\"3.2\"/>\n",
       "<circle clip-path=\"url(#clip292)\" cx=\"729.687\" cy=\"1271.88\" r=\"7\" fill=\"#ff0000\" fill-rule=\"evenodd\" fill-opacity=\"1\" stroke=\"#000000\" stroke-opacity=\"1\" stroke-width=\"3.2\"/>\n",
       "<circle clip-path=\"url(#clip292)\" cx=\"2177.39\" cy=\"823.167\" r=\"7\" fill=\"#ff0000\" fill-rule=\"evenodd\" fill-opacity=\"1\" stroke=\"#000000\" stroke-opacity=\"1\" stroke-width=\"3.2\"/>\n",
       "<circle clip-path=\"url(#clip292)\" cx=\"2272.16\" cy=\"809.301\" r=\"7\" fill=\"#ff0000\" fill-rule=\"evenodd\" fill-opacity=\"1\" stroke=\"#000000\" stroke-opacity=\"1\" stroke-width=\"3.2\"/>\n",
       "<circle clip-path=\"url(#clip292)\" cx=\"2045.76\" cy=\"843.592\" r=\"7\" fill=\"#ff0000\" fill-rule=\"evenodd\" fill-opacity=\"1\" stroke=\"#000000\" stroke-opacity=\"1\" stroke-width=\"3.2\"/>\n",
       "<circle clip-path=\"url(#clip292)\" cx=\"441.262\" cy=\"1358.89\" r=\"7\" fill=\"#ff0000\" fill-rule=\"evenodd\" fill-opacity=\"1\" stroke=\"#000000\" stroke-opacity=\"1\" stroke-width=\"3.2\"/>\n",
       "<circle clip-path=\"url(#clip292)\" cx=\"1195.83\" cy=\"1106.4\" r=\"7\" fill=\"#ff0000\" fill-rule=\"evenodd\" fill-opacity=\"1\" stroke=\"#000000\" stroke-opacity=\"1\" stroke-width=\"3.2\"/>\n",
       "<circle clip-path=\"url(#clip292)\" cx=\"2051.82\" cy=\"836.769\" r=\"7\" fill=\"#ff0000\" fill-rule=\"evenodd\" fill-opacity=\"1\" stroke=\"#000000\" stroke-opacity=\"1\" stroke-width=\"3.2\"/>\n",
       "<circle clip-path=\"url(#clip292)\" cx=\"2262.98\" cy=\"819.324\" r=\"7\" fill=\"#ff0000\" fill-rule=\"evenodd\" fill-opacity=\"1\" stroke=\"#000000\" stroke-opacity=\"1\" stroke-width=\"3.2\"/>\n",
       "<circle clip-path=\"url(#clip292)\" cx=\"786.762\" cy=\"1284.47\" r=\"7\" fill=\"#ff0000\" fill-rule=\"evenodd\" fill-opacity=\"1\" stroke=\"#000000\" stroke-opacity=\"1\" stroke-width=\"3.2\"/>\n",
       "<circle clip-path=\"url(#clip292)\" cx=\"2093.62\" cy=\"824.517\" r=\"7\" fill=\"#ff0000\" fill-rule=\"evenodd\" fill-opacity=\"1\" stroke=\"#000000\" stroke-opacity=\"1\" stroke-width=\"3.2\"/>\n",
       "<circle clip-path=\"url(#clip292)\" cx=\"1338.23\" cy=\"1060.38\" r=\"7\" fill=\"#ff0000\" fill-rule=\"evenodd\" fill-opacity=\"1\" stroke=\"#000000\" stroke-opacity=\"1\" stroke-width=\"3.2\"/>\n",
       "<circle clip-path=\"url(#clip292)\" cx=\"1700.35\" cy=\"961.864\" r=\"7\" fill=\"#ff0000\" fill-rule=\"evenodd\" fill-opacity=\"1\" stroke=\"#000000\" stroke-opacity=\"1\" stroke-width=\"3.2\"/>\n",
       "<circle clip-path=\"url(#clip292)\" cx=\"2180.42\" cy=\"804.958\" r=\"7\" fill=\"#ff0000\" fill-rule=\"evenodd\" fill-opacity=\"1\" stroke=\"#000000\" stroke-opacity=\"1\" stroke-width=\"3.2\"/>\n",
       "<circle clip-path=\"url(#clip292)\" cx=\"1996.37\" cy=\"861.146\" r=\"7\" fill=\"#ff0000\" fill-rule=\"evenodd\" fill-opacity=\"1\" stroke=\"#000000\" stroke-opacity=\"1\" stroke-width=\"3.2\"/>\n",
       "<circle clip-path=\"url(#clip292)\" cx=\"1211.35\" cy=\"1152.84\" r=\"7\" fill=\"#ff0000\" fill-rule=\"evenodd\" fill-opacity=\"1\" stroke=\"#000000\" stroke-opacity=\"1\" stroke-width=\"3.2\"/>\n",
       "<circle clip-path=\"url(#clip292)\" cx=\"1732.99\" cy=\"971.514\" r=\"7\" fill=\"#ff0000\" fill-rule=\"evenodd\" fill-opacity=\"1\" stroke=\"#000000\" stroke-opacity=\"1\" stroke-width=\"3.2\"/>\n",
       "<circle clip-path=\"url(#clip292)\" cx=\"2130.58\" cy=\"819.755\" r=\"7\" fill=\"#ff0000\" fill-rule=\"evenodd\" fill-opacity=\"1\" stroke=\"#000000\" stroke-opacity=\"1\" stroke-width=\"3.2\"/>\n",
       "<circle clip-path=\"url(#clip292)\" cx=\"999.693\" cy=\"1208.19\" r=\"7\" fill=\"#ff0000\" fill-rule=\"evenodd\" fill-opacity=\"1\" stroke=\"#000000\" stroke-opacity=\"1\" stroke-width=\"3.2\"/>\n",
       "<circle clip-path=\"url(#clip292)\" cx=\"2040.74\" cy=\"866.509\" r=\"7\" fill=\"#ff0000\" fill-rule=\"evenodd\" fill-opacity=\"1\" stroke=\"#000000\" stroke-opacity=\"1\" stroke-width=\"3.2\"/>\n",
       "<circle clip-path=\"url(#clip292)\" cx=\"1572.82\" cy=\"1027.54\" r=\"7\" fill=\"#ff0000\" fill-rule=\"evenodd\" fill-opacity=\"1\" stroke=\"#000000\" stroke-opacity=\"1\" stroke-width=\"3.2\"/>\n",
       "<circle clip-path=\"url(#clip292)\" cx=\"1948.88\" cy=\"868.596\" r=\"7\" fill=\"#ff0000\" fill-rule=\"evenodd\" fill-opacity=\"1\" stroke=\"#000000\" stroke-opacity=\"1\" stroke-width=\"3.2\"/>\n",
       "<circle clip-path=\"url(#clip292)\" cx=\"2013.55\" cy=\"865.221\" r=\"7\" fill=\"#ff0000\" fill-rule=\"evenodd\" fill-opacity=\"1\" stroke=\"#000000\" stroke-opacity=\"1\" stroke-width=\"3.2\"/>\n",
       "<circle clip-path=\"url(#clip292)\" cx=\"1838.87\" cy=\"946.73\" r=\"7\" fill=\"#ff0000\" fill-rule=\"evenodd\" fill-opacity=\"1\" stroke=\"#000000\" stroke-opacity=\"1\" stroke-width=\"3.2\"/>\n",
       "<circle clip-path=\"url(#clip292)\" cx=\"2216.45\" cy=\"791.098\" r=\"7\" fill=\"#ff0000\" fill-rule=\"evenodd\" fill-opacity=\"1\" stroke=\"#000000\" stroke-opacity=\"1\" stroke-width=\"3.2\"/>\n",
       "<circle clip-path=\"url(#clip292)\" cx=\"1233.77\" cy=\"1095.32\" r=\"7\" fill=\"#ff0000\" fill-rule=\"evenodd\" fill-opacity=\"1\" stroke=\"#000000\" stroke-opacity=\"1\" stroke-width=\"3.2\"/>\n",
       "<circle clip-path=\"url(#clip292)\" cx=\"1114.05\" cy=\"1181.48\" r=\"7\" fill=\"#ff0000\" fill-rule=\"evenodd\" fill-opacity=\"1\" stroke=\"#000000\" stroke-opacity=\"1\" stroke-width=\"3.2\"/>\n",
       "<circle clip-path=\"url(#clip292)\" cx=\"1004.4\" cy=\"1167.96\" r=\"7\" fill=\"#ff0000\" fill-rule=\"evenodd\" fill-opacity=\"1\" stroke=\"#000000\" stroke-opacity=\"1\" stroke-width=\"3.2\"/>\n",
       "<circle clip-path=\"url(#clip292)\" cx=\"1681.27\" cy=\"992.587\" r=\"7\" fill=\"#ff0000\" fill-rule=\"evenodd\" fill-opacity=\"1\" stroke=\"#000000\" stroke-opacity=\"1\" stroke-width=\"3.2\"/>\n",
       "<circle clip-path=\"url(#clip292)\" cx=\"1142.49\" cy=\"1154.39\" r=\"7\" fill=\"#ff0000\" fill-rule=\"evenodd\" fill-opacity=\"1\" stroke=\"#000000\" stroke-opacity=\"1\" stroke-width=\"3.2\"/>\n",
       "<circle clip-path=\"url(#clip292)\" cx=\"1522.91\" cy=\"1049.73\" r=\"7\" fill=\"#ff0000\" fill-rule=\"evenodd\" fill-opacity=\"1\" stroke=\"#000000\" stroke-opacity=\"1\" stroke-width=\"3.2\"/>\n",
       "<circle clip-path=\"url(#clip292)\" cx=\"2224.32\" cy=\"838.08\" r=\"7\" fill=\"#ff0000\" fill-rule=\"evenodd\" fill-opacity=\"1\" stroke=\"#000000\" stroke-opacity=\"1\" stroke-width=\"3.2\"/>\n",
       "<circle clip-path=\"url(#clip292)\" cx=\"2211.91\" cy=\"829.995\" r=\"7\" fill=\"#ff0000\" fill-rule=\"evenodd\" fill-opacity=\"1\" stroke=\"#000000\" stroke-opacity=\"1\" stroke-width=\"3.2\"/>\n",
       "<circle clip-path=\"url(#clip292)\" cx=\"1718.86\" cy=\"966.289\" r=\"7\" fill=\"#ff0000\" fill-rule=\"evenodd\" fill-opacity=\"1\" stroke=\"#000000\" stroke-opacity=\"1\" stroke-width=\"3.2\"/>\n",
       "<circle clip-path=\"url(#clip292)\" cx=\"1120.03\" cy=\"1142.76\" r=\"7\" fill=\"#ff0000\" fill-rule=\"evenodd\" fill-opacity=\"1\" stroke=\"#000000\" stroke-opacity=\"1\" stroke-width=\"3.2\"/>\n",
       "<circle clip-path=\"url(#clip292)\" cx=\"996.507\" cy=\"1189.01\" r=\"7\" fill=\"#ff0000\" fill-rule=\"evenodd\" fill-opacity=\"1\" stroke=\"#000000\" stroke-opacity=\"1\" stroke-width=\"3.2\"/>\n",
       "<circle clip-path=\"url(#clip292)\" cx=\"774.452\" cy=\"1285.35\" r=\"7\" fill=\"#ff0000\" fill-rule=\"evenodd\" fill-opacity=\"1\" stroke=\"#000000\" stroke-opacity=\"1\" stroke-width=\"3.2\"/>\n",
       "<circle clip-path=\"url(#clip292)\" cx=\"1477.97\" cy=\"1054.52\" r=\"7\" fill=\"#ff0000\" fill-rule=\"evenodd\" fill-opacity=\"1\" stroke=\"#000000\" stroke-opacity=\"1\" stroke-width=\"3.2\"/>\n",
       "<circle clip-path=\"url(#clip292)\" cx=\"411.39\" cy=\"1383.26\" r=\"7\" fill=\"#ff0000\" fill-rule=\"evenodd\" fill-opacity=\"1\" stroke=\"#000000\" stroke-opacity=\"1\" stroke-width=\"3.2\"/>\n",
       "<circle clip-path=\"url(#clip292)\" cx=\"381.045\" cy=\"1384.53\" r=\"7\" fill=\"#ff0000\" fill-rule=\"evenodd\" fill-opacity=\"1\" stroke=\"#000000\" stroke-opacity=\"1\" stroke-width=\"3.2\"/>\n",
       "<circle clip-path=\"url(#clip292)\" cx=\"567.353\" cy=\"1296.24\" r=\"7\" fill=\"#ff0000\" fill-rule=\"evenodd\" fill-opacity=\"1\" stroke=\"#000000\" stroke-opacity=\"1\" stroke-width=\"3.2\"/>\n",
       "<circle clip-path=\"url(#clip292)\" cx=\"2149.12\" cy=\"859.841\" r=\"7\" fill=\"#ff0000\" fill-rule=\"evenodd\" fill-opacity=\"1\" stroke=\"#000000\" stroke-opacity=\"1\" stroke-width=\"3.2\"/>\n",
       "<circle clip-path=\"url(#clip292)\" cx=\"1961.67\" cy=\"908.608\" r=\"7\" fill=\"#ff0000\" fill-rule=\"evenodd\" fill-opacity=\"1\" stroke=\"#000000\" stroke-opacity=\"1\" stroke-width=\"3.2\"/>\n",
       "<circle clip-path=\"url(#clip292)\" cx=\"2110.41\" cy=\"870.885\" r=\"7\" fill=\"#ff0000\" fill-rule=\"evenodd\" fill-opacity=\"1\" stroke=\"#000000\" stroke-opacity=\"1\" stroke-width=\"3.2\"/>\n",
       "<circle clip-path=\"url(#clip292)\" cx=\"441.415\" cy=\"1357.65\" r=\"7\" fill=\"#ff0000\" fill-rule=\"evenodd\" fill-opacity=\"1\" stroke=\"#000000\" stroke-opacity=\"1\" stroke-width=\"3.2\"/>\n",
       "<circle clip-path=\"url(#clip292)\" cx=\"2214.56\" cy=\"835.492\" r=\"7\" fill=\"#ff0000\" fill-rule=\"evenodd\" fill-opacity=\"1\" stroke=\"#000000\" stroke-opacity=\"1\" stroke-width=\"3.2\"/>\n",
       "<circle clip-path=\"url(#clip292)\" cx=\"526.31\" cy=\"1334.59\" r=\"7\" fill=\"#ff0000\" fill-rule=\"evenodd\" fill-opacity=\"1\" stroke=\"#000000\" stroke-opacity=\"1\" stroke-width=\"3.2\"/>\n",
       "<circle clip-path=\"url(#clip292)\" cx=\"671.963\" cy=\"1316.61\" r=\"7\" fill=\"#ff0000\" fill-rule=\"evenodd\" fill-opacity=\"1\" stroke=\"#000000\" stroke-opacity=\"1\" stroke-width=\"3.2\"/>\n",
       "<circle clip-path=\"url(#clip292)\" cx=\"2038.03\" cy=\"885.774\" r=\"7\" fill=\"#ff0000\" fill-rule=\"evenodd\" fill-opacity=\"1\" stroke=\"#000000\" stroke-opacity=\"1\" stroke-width=\"3.2\"/>\n",
       "<circle clip-path=\"url(#clip292)\" cx=\"936.628\" cy=\"1232.72\" r=\"7\" fill=\"#ff0000\" fill-rule=\"evenodd\" fill-opacity=\"1\" stroke=\"#000000\" stroke-opacity=\"1\" stroke-width=\"3.2\"/>\n",
       "<circle clip-path=\"url(#clip292)\" cx=\"1661.54\" cy=\"975.56\" r=\"7\" fill=\"#ff0000\" fill-rule=\"evenodd\" fill-opacity=\"1\" stroke=\"#000000\" stroke-opacity=\"1\" stroke-width=\"3.2\"/>\n",
       "<circle clip-path=\"url(#clip292)\" cx=\"1504.58\" cy=\"1054.57\" r=\"7\" fill=\"#ff0000\" fill-rule=\"evenodd\" fill-opacity=\"1\" stroke=\"#000000\" stroke-opacity=\"1\" stroke-width=\"3.2\"/>\n",
       "<circle clip-path=\"url(#clip292)\" cx=\"2295.29\" cy=\"799.506\" r=\"7\" fill=\"#ff0000\" fill-rule=\"evenodd\" fill-opacity=\"1\" stroke=\"#000000\" stroke-opacity=\"1\" stroke-width=\"3.2\"/>\n",
       "<circle clip-path=\"url(#clip292)\" cx=\"2272.51\" cy=\"793.215\" r=\"7\" fill=\"#ff0000\" fill-rule=\"evenodd\" fill-opacity=\"1\" stroke=\"#000000\" stroke-opacity=\"1\" stroke-width=\"3.2\"/>\n",
       "<circle clip-path=\"url(#clip292)\" cx=\"2285.42\" cy=\"818.995\" r=\"7\" fill=\"#ff0000\" fill-rule=\"evenodd\" fill-opacity=\"1\" stroke=\"#000000\" stroke-opacity=\"1\" stroke-width=\"3.2\"/>\n",
       "<circle clip-path=\"url(#clip292)\" cx=\"1811.16\" cy=\"967.868\" r=\"7\" fill=\"#ff0000\" fill-rule=\"evenodd\" fill-opacity=\"1\" stroke=\"#000000\" stroke-opacity=\"1\" stroke-width=\"3.2\"/>\n",
       "<circle clip-path=\"url(#clip292)\" cx=\"1978.49\" cy=\"904.112\" r=\"7\" fill=\"#ff0000\" fill-rule=\"evenodd\" fill-opacity=\"1\" stroke=\"#000000\" stroke-opacity=\"1\" stroke-width=\"3.2\"/>\n",
       "<circle clip-path=\"url(#clip292)\" cx=\"1881.37\" cy=\"942.772\" r=\"7\" fill=\"#ff0000\" fill-rule=\"evenodd\" fill-opacity=\"1\" stroke=\"#000000\" stroke-opacity=\"1\" stroke-width=\"3.2\"/>\n",
       "<circle clip-path=\"url(#clip292)\" cx=\"461.064\" cy=\"1383.17\" r=\"7\" fill=\"#ff0000\" fill-rule=\"evenodd\" fill-opacity=\"1\" stroke=\"#000000\" stroke-opacity=\"1\" stroke-width=\"3.2\"/>\n",
       "<circle clip-path=\"url(#clip292)\" cx=\"2169.59\" cy=\"809.408\" r=\"7\" fill=\"#ff0000\" fill-rule=\"evenodd\" fill-opacity=\"1\" stroke=\"#000000\" stroke-opacity=\"1\" stroke-width=\"3.2\"/>\n",
       "<circle clip-path=\"url(#clip292)\" cx=\"1413.13\" cy=\"1073.86\" r=\"7\" fill=\"#ff0000\" fill-rule=\"evenodd\" fill-opacity=\"1\" stroke=\"#000000\" stroke-opacity=\"1\" stroke-width=\"3.2\"/>\n",
       "<circle clip-path=\"url(#clip292)\" cx=\"812.933\" cy=\"1240.05\" r=\"7\" fill=\"#ff0000\" fill-rule=\"evenodd\" fill-opacity=\"1\" stroke=\"#000000\" stroke-opacity=\"1\" stroke-width=\"3.2\"/>\n",
       "<circle clip-path=\"url(#clip292)\" cx=\"1281.8\" cy=\"1089.58\" r=\"7\" fill=\"#ff0000\" fill-rule=\"evenodd\" fill-opacity=\"1\" stroke=\"#000000\" stroke-opacity=\"1\" stroke-width=\"3.2\"/>\n",
       "<circle clip-path=\"url(#clip292)\" cx=\"480.692\" cy=\"1322.55\" r=\"7\" fill=\"#ff0000\" fill-rule=\"evenodd\" fill-opacity=\"1\" stroke=\"#000000\" stroke-opacity=\"1\" stroke-width=\"3.2\"/>\n",
       "<circle clip-path=\"url(#clip292)\" cx=\"1226.29\" cy=\"1102.58\" r=\"7\" fill=\"#ff0000\" fill-rule=\"evenodd\" fill-opacity=\"1\" stroke=\"#000000\" stroke-opacity=\"1\" stroke-width=\"3.2\"/>\n",
       "<circle clip-path=\"url(#clip292)\" cx=\"1789.21\" cy=\"943.279\" r=\"7\" fill=\"#ff0000\" fill-rule=\"evenodd\" fill-opacity=\"1\" stroke=\"#000000\" stroke-opacity=\"1\" stroke-width=\"3.2\"/>\n",
       "<circle clip-path=\"url(#clip292)\" cx=\"948.551\" cy=\"1180.56\" r=\"7\" fill=\"#ff0000\" fill-rule=\"evenodd\" fill-opacity=\"1\" stroke=\"#000000\" stroke-opacity=\"1\" stroke-width=\"3.2\"/>\n",
       "<circle clip-path=\"url(#clip292)\" cx=\"427.861\" cy=\"1347.85\" r=\"7\" fill=\"#ff0000\" fill-rule=\"evenodd\" fill-opacity=\"1\" stroke=\"#000000\" stroke-opacity=\"1\" stroke-width=\"3.2\"/>\n",
       "<circle clip-path=\"url(#clip292)\" cx=\"2053.59\" cy=\"848.445\" r=\"7\" fill=\"#ff0000\" fill-rule=\"evenodd\" fill-opacity=\"1\" stroke=\"#000000\" stroke-opacity=\"1\" stroke-width=\"3.2\"/>\n",
       "<circle clip-path=\"url(#clip292)\" cx=\"1653.49\" cy=\"992.635\" r=\"7\" fill=\"#ff0000\" fill-rule=\"evenodd\" fill-opacity=\"1\" stroke=\"#000000\" stroke-opacity=\"1\" stroke-width=\"3.2\"/>\n",
       "<circle clip-path=\"url(#clip292)\" cx=\"1651.58\" cy=\"1013.88\" r=\"7\" fill=\"#ff0000\" fill-rule=\"evenodd\" fill-opacity=\"1\" stroke=\"#000000\" stroke-opacity=\"1\" stroke-width=\"3.2\"/>\n",
       "<circle clip-path=\"url(#clip292)\" cx=\"747.955\" cy=\"1250.61\" r=\"7\" fill=\"#ff0000\" fill-rule=\"evenodd\" fill-opacity=\"1\" stroke=\"#000000\" stroke-opacity=\"1\" stroke-width=\"3.2\"/>\n",
       "<circle clip-path=\"url(#clip292)\" cx=\"2222.73\" cy=\"813.163\" r=\"7\" fill=\"#ff0000\" fill-rule=\"evenodd\" fill-opacity=\"1\" stroke=\"#000000\" stroke-opacity=\"1\" stroke-width=\"3.2\"/>\n",
       "<circle clip-path=\"url(#clip292)\" cx=\"1101.26\" cy=\"1170.57\" r=\"7\" fill=\"#ff0000\" fill-rule=\"evenodd\" fill-opacity=\"1\" stroke=\"#000000\" stroke-opacity=\"1\" stroke-width=\"3.2\"/>\n",
       "<circle clip-path=\"url(#clip292)\" cx=\"807.839\" cy=\"1237.59\" r=\"7\" fill=\"#ff0000\" fill-rule=\"evenodd\" fill-opacity=\"1\" stroke=\"#000000\" stroke-opacity=\"1\" stroke-width=\"3.2\"/>\n",
       "<circle clip-path=\"url(#clip292)\" cx=\"2164.11\" cy=\"853.671\" r=\"7\" fill=\"#ff0000\" fill-rule=\"evenodd\" fill-opacity=\"1\" stroke=\"#000000\" stroke-opacity=\"1\" stroke-width=\"3.2\"/>\n",
       "<circle clip-path=\"url(#clip292)\" cx=\"2137.47\" cy=\"811.631\" r=\"7\" fill=\"#ff0000\" fill-rule=\"evenodd\" fill-opacity=\"1\" stroke=\"#000000\" stroke-opacity=\"1\" stroke-width=\"3.2\"/>\n",
       "<circle clip-path=\"url(#clip292)\" cx=\"2252.17\" cy=\"821.878\" r=\"7\" fill=\"#ff0000\" fill-rule=\"evenodd\" fill-opacity=\"1\" stroke=\"#000000\" stroke-opacity=\"1\" stroke-width=\"3.2\"/>\n",
       "<circle clip-path=\"url(#clip292)\" cx=\"1623.08\" cy=\"970.608\" r=\"7\" fill=\"#ff0000\" fill-rule=\"evenodd\" fill-opacity=\"1\" stroke=\"#000000\" stroke-opacity=\"1\" stroke-width=\"3.2\"/>\n",
       "<circle clip-path=\"url(#clip292)\" cx=\"1603.61\" cy=\"986.328\" r=\"7\" fill=\"#ff0000\" fill-rule=\"evenodd\" fill-opacity=\"1\" stroke=\"#000000\" stroke-opacity=\"1\" stroke-width=\"3.2\"/>\n",
       "<circle clip-path=\"url(#clip292)\" cx=\"962.625\" cy=\"1185.87\" r=\"7\" fill=\"#ff0000\" fill-rule=\"evenodd\" fill-opacity=\"1\" stroke=\"#000000\" stroke-opacity=\"1\" stroke-width=\"3.2\"/>\n",
       "<circle clip-path=\"url(#clip292)\" cx=\"1189.74\" cy=\"1138.25\" r=\"7\" fill=\"#ff0000\" fill-rule=\"evenodd\" fill-opacity=\"1\" stroke=\"#000000\" stroke-opacity=\"1\" stroke-width=\"3.2\"/>\n",
       "<circle clip-path=\"url(#clip292)\" cx=\"1766.92\" cy=\"953.791\" r=\"7\" fill=\"#ff0000\" fill-rule=\"evenodd\" fill-opacity=\"1\" stroke=\"#000000\" stroke-opacity=\"1\" stroke-width=\"3.2\"/>\n",
       "<circle clip-path=\"url(#clip292)\" cx=\"1171.65\" cy=\"1129.18\" r=\"7\" fill=\"#ff0000\" fill-rule=\"evenodd\" fill-opacity=\"1\" stroke=\"#000000\" stroke-opacity=\"1\" stroke-width=\"3.2\"/>\n",
       "<circle clip-path=\"url(#clip292)\" cx=\"505.003\" cy=\"1321.44\" r=\"7\" fill=\"#ff0000\" fill-rule=\"evenodd\" fill-opacity=\"1\" stroke=\"#000000\" stroke-opacity=\"1\" stroke-width=\"3.2\"/>\n",
       "<circle clip-path=\"url(#clip292)\" cx=\"2068.34\" cy=\"836.926\" r=\"7\" fill=\"#ff0000\" fill-rule=\"evenodd\" fill-opacity=\"1\" stroke=\"#000000\" stroke-opacity=\"1\" stroke-width=\"3.2\"/>\n",
       "<circle clip-path=\"url(#clip292)\" cx=\"1382.26\" cy=\"1091.13\" r=\"7\" fill=\"#ff0000\" fill-rule=\"evenodd\" fill-opacity=\"1\" stroke=\"#000000\" stroke-opacity=\"1\" stroke-width=\"3.2\"/>\n",
       "<circle clip-path=\"url(#clip292)\" cx=\"728.601\" cy=\"1271.72\" r=\"7\" fill=\"#ff0000\" fill-rule=\"evenodd\" fill-opacity=\"1\" stroke=\"#000000\" stroke-opacity=\"1\" stroke-width=\"3.2\"/>\n",
       "<circle clip-path=\"url(#clip292)\" cx=\"783.301\" cy=\"1260.6\" r=\"7\" fill=\"#ff0000\" fill-rule=\"evenodd\" fill-opacity=\"1\" stroke=\"#000000\" stroke-opacity=\"1\" stroke-width=\"3.2\"/>\n",
       "<circle clip-path=\"url(#clip292)\" cx=\"1461.64\" cy=\"1024.28\" r=\"7\" fill=\"#ff0000\" fill-rule=\"evenodd\" fill-opacity=\"1\" stroke=\"#000000\" stroke-opacity=\"1\" stroke-width=\"3.2\"/>\n",
       "<circle clip-path=\"url(#clip292)\" cx=\"379.785\" cy=\"1386.4\" r=\"7\" fill=\"#ff0000\" fill-rule=\"evenodd\" fill-opacity=\"1\" stroke=\"#000000\" stroke-opacity=\"1\" stroke-width=\"3.2\"/>\n",
       "<circle clip-path=\"url(#clip292)\" cx=\"1029.17\" cy=\"1179.39\" r=\"7\" fill=\"#ff0000\" fill-rule=\"evenodd\" fill-opacity=\"1\" stroke=\"#000000\" stroke-opacity=\"1\" stroke-width=\"3.2\"/>\n",
       "<circle clip-path=\"url(#clip292)\" cx=\"1357.21\" cy=\"1065.09\" r=\"7\" fill=\"#ff0000\" fill-rule=\"evenodd\" fill-opacity=\"1\" stroke=\"#000000\" stroke-opacity=\"1\" stroke-width=\"3.2\"/>\n",
       "<circle clip-path=\"url(#clip292)\" cx=\"1738.58\" cy=\"988.604\" r=\"7\" fill=\"#ff0000\" fill-rule=\"evenodd\" fill-opacity=\"1\" stroke=\"#000000\" stroke-opacity=\"1\" stroke-width=\"3.2\"/>\n",
       "<circle clip-path=\"url(#clip292)\" cx=\"1530.94\" cy=\"1033.99\" r=\"7\" fill=\"#ff0000\" fill-rule=\"evenodd\" fill-opacity=\"1\" stroke=\"#000000\" stroke-opacity=\"1\" stroke-width=\"3.2\"/>\n",
       "<circle clip-path=\"url(#clip292)\" cx=\"1297.11\" cy=\"1090.79\" r=\"7\" fill=\"#ff0000\" fill-rule=\"evenodd\" fill-opacity=\"1\" stroke=\"#000000\" stroke-opacity=\"1\" stroke-width=\"3.2\"/>\n",
       "<circle clip-path=\"url(#clip292)\" cx=\"558.877\" cy=\"1314.17\" r=\"7\" fill=\"#ff0000\" fill-rule=\"evenodd\" fill-opacity=\"1\" stroke=\"#000000\" stroke-opacity=\"1\" stroke-width=\"3.2\"/>\n",
       "<circle clip-path=\"url(#clip292)\" cx=\"597.35\" cy=\"1296.52\" r=\"7\" fill=\"#ff0000\" fill-rule=\"evenodd\" fill-opacity=\"1\" stroke=\"#000000\" stroke-opacity=\"1\" stroke-width=\"3.2\"/>\n",
       "<path clip-path=\"url(#clip290)\" d=\"\n",
       "M394.319 388.432 L703.648 388.432 L703.648 206.992 L394.319 206.992  Z\n",
       "  \" fill=\"#ffffff\" fill-rule=\"evenodd\" fill-opacity=\"1\"/>\n",
       "<polyline clip-path=\"url(#clip290)\" style=\"stroke:#000000; stroke-width:4; stroke-opacity:1; fill:none\" points=\"\n",
       "  394.319,388.432 703.648,388.432 703.648,206.992 394.319,206.992 394.319,388.432 \n",
       "  \"/>\n",
       "<circle clip-path=\"url(#clip290)\" cx=\"502.319\" cy=\"267.472\" r=\"23\" fill=\"#0000ff\" fill-rule=\"evenodd\" fill-opacity=\"1\" stroke=\"#000000\" stroke-opacity=\"1\" stroke-width=\"10.24\"/>\n",
       "<path clip-path=\"url(#clip290)\" d=\"M 0 0 M602.824 248.734 L602.824 252.275 L598.75 252.275 Q596.458 252.275 595.555 253.201 Q594.676 254.127 594.676 256.535 L594.676 258.826 L601.69 258.826 L601.69 262.137 L594.676 262.137 L594.676 284.752 L590.393 284.752 L590.393 262.137 L586.319 262.137 L586.319 258.826 L590.393 258.826 L590.393 257.021 Q590.393 252.692 592.407 250.725 Q594.421 248.734 598.796 248.734 L602.824 248.734 Z\" fill=\"#000000\" fill-rule=\"evenodd\" fill-opacity=\"1\" /><path clip-path=\"url(#clip290)\" d=\"M 0 0 M617.338 261.812 Q613.912 261.812 611.921 264.498 Q609.93 267.16 609.93 271.812 Q609.93 276.465 611.898 279.15 Q613.889 281.812 617.338 281.812 Q620.741 281.812 622.731 279.127 Q624.722 276.442 624.722 271.812 Q624.722 267.206 622.731 264.521 Q620.741 261.812 617.338 261.812 M617.338 258.201 Q622.893 258.201 626.065 261.812 Q629.236 265.424 629.236 271.812 Q629.236 278.178 626.065 281.812 Q622.893 285.423 617.338 285.423 Q611.759 285.423 608.588 281.812 Q605.44 278.178 605.44 271.812 Q605.44 265.424 608.588 261.812 Q611.759 258.201 617.338 258.201 Z\" fill=\"#000000\" fill-rule=\"evenodd\" fill-opacity=\"1\" /><path clip-path=\"url(#clip290)\" d=\"M 0 0 M643.75 261.812 Q640.324 261.812 638.333 264.498 Q636.342 267.16 636.342 271.812 Q636.342 276.465 638.31 279.15 Q640.301 281.812 643.75 281.812 Q647.152 281.812 649.143 279.127 Q651.134 276.442 651.134 271.812 Q651.134 267.206 649.143 264.521 Q647.152 261.812 643.75 261.812 M643.75 258.201 Q649.305 258.201 652.476 261.812 Q655.648 265.424 655.648 271.812 Q655.648 278.178 652.476 281.812 Q649.305 285.423 643.75 285.423 Q638.171 285.423 635 281.812 Q631.852 278.178 631.852 271.812 Q631.852 265.424 635 261.812 Q638.171 258.201 643.75 258.201 Z\" fill=\"#000000\" fill-rule=\"evenodd\" fill-opacity=\"1\" /><circle clip-path=\"url(#clip290)\" cx=\"502.319\" cy=\"327.952\" r=\"23\" fill=\"#ff0000\" fill-rule=\"evenodd\" fill-opacity=\"1\" stroke=\"#000000\" stroke-opacity=\"1\" stroke-width=\"10.24\"/>\n",
       "<path clip-path=\"url(#clip290)\" d=\"M 0 0 M605.092 332.292 Q605.092 327.593 603.148 324.931 Q601.227 322.246 597.847 322.246 Q594.468 322.246 592.523 324.931 Q590.602 327.593 590.602 332.292 Q590.602 336.991 592.523 339.677 Q594.468 342.339 597.847 342.339 Q601.227 342.339 603.148 339.677 Q605.092 336.991 605.092 332.292 M590.602 323.242 Q591.944 320.927 593.981 319.816 Q596.042 318.681 598.889 318.681 Q603.611 318.681 606.551 322.431 Q609.514 326.181 609.514 332.292 Q609.514 338.403 606.551 342.153 Q603.611 345.903 598.889 345.903 Q596.042 345.903 593.981 344.792 Q591.944 343.658 590.602 341.343 L590.602 345.232 L586.319 345.232 L586.319 309.214 L590.602 309.214 L590.602 323.242 Z\" fill=\"#000000\" fill-rule=\"evenodd\" fill-opacity=\"1\" /><path clip-path=\"url(#clip290)\" d=\"M 0 0 M625.764 332.2 Q620.602 332.2 618.611 333.38 Q616.62 334.561 616.62 337.408 Q616.62 339.677 618.102 341.019 Q619.606 342.339 622.176 342.339 Q625.717 342.339 627.847 339.839 Q630 337.316 630 333.149 L630 332.2 L625.764 332.2 M634.259 330.441 L634.259 345.232 L630 345.232 L630 341.297 Q628.541 343.658 626.366 344.792 Q624.19 345.903 621.041 345.903 Q617.06 345.903 614.699 343.681 Q612.361 341.436 612.361 337.686 Q612.361 333.311 615.278 331.089 Q618.217 328.866 624.028 328.866 L630 328.866 L630 328.45 Q630 325.51 628.055 323.913 Q626.134 322.292 622.639 322.292 Q620.416 322.292 618.31 322.825 Q616.204 323.357 614.259 324.422 L614.259 320.487 Q616.597 319.584 618.796 319.144 Q620.995 318.681 623.078 318.681 Q628.703 318.681 631.481 321.598 Q634.259 324.515 634.259 330.441 Z\" fill=\"#000000\" fill-rule=\"evenodd\" fill-opacity=\"1\" /><path clip-path=\"url(#clip290)\" d=\"M 0 0 M653.75 323.288 Q653.032 322.871 652.176 322.686 Q651.342 322.478 650.324 322.478 Q646.713 322.478 644.768 324.839 Q642.847 327.177 642.847 331.575 L642.847 345.232 L638.565 345.232 L638.565 319.306 L642.847 319.306 L642.847 323.334 Q644.189 320.973 646.342 319.839 Q648.495 318.681 651.574 318.681 Q652.014 318.681 652.546 318.751 Q653.078 318.797 653.726 318.913 L653.75 323.288 Z\" fill=\"#000000\" fill-rule=\"evenodd\" fill-opacity=\"1\" /></svg>\n"
      ]
     },
     "execution_count": 50,
     "metadata": {},
     "output_type": "execute_result"
    }
   ],
   "source": [
    "# A scatter plot with axis labels, logarithmic axes, etc. \n",
    "\n",
    "using Plots\n",
    "\n",
    "N = 100\n",
    "x = 10.0.^(10*rand(N))  # N random numbers between 1 and 10^20\n",
    "y = x .* 10.0.^rand(N)      # multiply x's by randoms between 1 and 10\n",
    "z = sqrt.(y)\n",
    "\n",
    "scatter(x,y, color=:blue, label=\"foo\", markersize=2)\n",
    "scatter!(x,z, color=:red,  label=\"bar\", markersize=2)\n",
    "plot!(xscale=:log, yscale=:log, xlabel=\"x\", ylabel=\"y\")\n",
    "plot!(legend=:topleft, title=\"a bar-foo plot\")"
   ]
  },
  {
   "cell_type": "code",
   "execution_count": null,
   "metadata": {},
   "outputs": [],
   "source": []
  }
 ],
 "metadata": {
  "anaconda-cloud": {},
  "kernelspec": {
   "display_name": "Julia 1.0.5",
   "language": "julia",
   "name": "julia-1.0"
  },
  "language_info": {
   "file_extension": ".jl",
   "mimetype": "application/julia",
   "name": "julia",
   "version": "1.0.5"
  }
 },
 "nbformat": 4,
 "nbformat_minor": 1
}
