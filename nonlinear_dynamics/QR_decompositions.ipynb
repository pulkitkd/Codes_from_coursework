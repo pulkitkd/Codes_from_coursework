{
 "cells": [
  {
   "cell_type": "code",
   "execution_count": null,
   "metadata": {},
   "outputs": [],
   "source": [
    "using LinearAlgebra\n",
    "m = 3;\n",
    "A = randn(m,m);\n",
    "v = zeros(m,m);\n",
    "u = zeros(m,m);\n",
    "temp = zeros(m,1);\n",
    "p(x,y) = (dot(x,y)/dot(y,y))*y #projection of vector x on vector y\n",
    "for i in 1:m\n",
    "    v[:,i] = A[:,i]\n",
    "end\n",
    "u[:,1] = v[:,1];\n",
    "u[:,2] = v[:,2] - p(v[:,2],u[:,1]);\n",
    "u[:,3] = v[:,3] - p(v[:,3],u[:,1]) - p(v[:,3],u[:,2]);"
   ]
  },
  {
   "cell_type": "code",
   "execution_count": null,
   "metadata": {},
   "outputs": [],
   "source": [
    "print(dot(u[:,2],u[:,3]))"
   ]
  },
  {
   "cell_type": "code",
   "execution_count": null,
   "metadata": {},
   "outputs": [],
   "source": [
    "for i in 1:2\n",
    "    u[:,3] = v[:,3] - p(v[:,3],u[:,i]);"
   ]
  },
  {
   "cell_type": "code",
   "execution_count": null,
   "metadata": {},
   "outputs": [],
   "source": [
    "u2-(v2 - p(v2,u1))"
   ]
  },
  {
   "cell_type": "code",
   "execution_count": null,
   "metadata": {},
   "outputs": [],
   "source": [
    "A"
   ]
  },
  {
   "cell_type": "code",
   "execution_count": 33,
   "metadata": {},
   "outputs": [],
   "source": [
    "using LinearAlgebra\n",
    "\n",
    "m = 1000\n",
    "temp = zeros(m,1)\n",
    "u = zeros(m,m)\n",
    "A = randn(m,m)\n",
    "\n",
    "#projection of vector x on vector y\n",
    "p(x,y) = (dot(x,y)/dot(y,y))*y\n",
    "\n",
    "for i in 1:m\n",
    "    j = i\n",
    "    temp = A[:,i]\n",
    "    while j > 1\n",
    "        j = j - 1\n",
    "        temp = temp - p(temp,u[:,j])\n",
    "    end\n",
    "    u[:,i] = temp/norm(temp)\n",
    "end"
   ]
  },
  {
   "cell_type": "code",
   "execution_count": 34,
   "metadata": {},
   "outputs": [
    {
     "data": {
      "text/plain": [
       "1000×1000 Array{Float64,2}:\n",
       " -0.0011457     0.0182141     0.0371483    …   0.0327579    0.00651282\n",
       "  0.0822972    -0.0200994     0.0186045        0.0369356    0.0364774 \n",
       " -0.000399931   0.0746063    -0.081111         0.0653549    0.0395389 \n",
       " -0.0219477    -0.036932     -0.0297845        0.0508492    0.00927233\n",
       "  0.0103467    -0.0126903    -0.0141083        0.0704967   -0.0634614 \n",
       " -0.0201849     0.00260436   -0.0222613    …   0.031704     0.00130993\n",
       " -0.0418426    -0.0303777     0.00200847      -0.0396637   -0.00118771\n",
       "  0.0469584     0.0198429     0.00952924       0.022256     0.0491908 \n",
       " -0.0213098    -0.0202316    -0.0144679        0.00388436  -0.0015332 \n",
       " -0.000830436  -0.0321612    -0.000306613      0.0325781   -0.0653398 \n",
       " -0.00665188    0.00450098    0.0375843    …  -0.00433361  -0.0461154 \n",
       "  0.0477221    -0.0613348    -0.0828874       -0.03632      0.0136586 \n",
       "  0.0238068     0.0290771     0.0223906        0.0165783    0.0507456 \n",
       "  ⋮                                        ⋱                          \n",
       "  0.0371439     0.00164161    0.00304911      -0.0107104    0.0219442 \n",
       " -0.0300044     0.0232977     0.0270747       -0.0285414    0.0365781 \n",
       " -0.0216755     0.000237806   0.0133342    …   0.0137835    0.0445913 \n",
       " -0.0525203     0.00443611    0.0318397        0.0288939    0.0262747 \n",
       "  0.0223232     0.0485736    -0.0207598        0.0173743    0.0594286 \n",
       "  0.010927      0.00160648    0.0218707       -0.00148852  -0.0067403 \n",
       " -0.0120796     0.0317138    -0.0375189        0.00395576  -0.0193609 \n",
       " -0.0297755    -0.015161      0.00789651   …  -0.0286445    0.0462714 \n",
       "  0.0208312    -0.0693384    -0.00636041       0.00075322   0.00526699\n",
       "  0.0211841     0.036402      0.039143        -0.00887778  -0.00435531\n",
       "  0.028887     -0.0324358     0.00826049       0.0166783    0.0217119 \n",
       " -0.0695996     0.00259299    0.0207928        0.0306244   -0.00502764"
      ]
     },
     "execution_count": 34,
     "metadata": {},
     "output_type": "execute_result"
    }
   ],
   "source": [
    "u"
   ]
  },
  {
   "cell_type": "code",
   "execution_count": 28,
   "metadata": {},
   "outputs": [],
   "source": [
    "#Classical Gram-Schmidt Algorithm\n",
    "\n",
    "using LinearAlgebra\n",
    "\n",
    "m = 500\n",
    "temp = zeros(m,1)\n",
    "Q = zeros(m,m)\n",
    "R = zeros(m,m)\n",
    "A = randn(m,m)\n",
    "\n",
    "#projection of vector x on vector y\n",
    "p(x,y) = (dot(x,y)/dot(y,y))*y\n",
    "\n",
    "for i in 1:m\n",
    "    v = A[:,i]\n",
    "    for j = 1:i-1\n",
    "        R[j,i] = dot(Q[:,j], A[:,i])\n",
    "        v = v - R[j,i]*Q[:,j]\n",
    "    end\n",
    "    R[i,i] = norm(v)\n",
    "    Q[:,i] = v/norm(v)\n",
    "end"
   ]
  },
  {
   "cell_type": "code",
   "execution_count": 30,
   "metadata": {},
   "outputs": [
    {
     "data": {
      "text/plain": [
       "-6.086710996333622e-16"
      ]
     },
     "execution_count": 30,
     "metadata": {},
     "output_type": "execute_result"
    }
   ],
   "source": [
    "dot(Q[:,400],Q[:,478])"
   ]
  },
  {
   "cell_type": "code",
   "execution_count": 4,
   "metadata": {},
   "outputs": [],
   "source": [
    "#Modified Gram-Schmidt Algorithm\n",
    "\n",
    "using LinearAlgebra\n",
    "\n",
    "m = 500\n",
    "Q = zeros(m,m)\n",
    "R = zeros(m,m)\n",
    "A = randn(m,m)\n",
    "\n",
    "#projection of vector x on vector y\n",
    "p(x,y) = (dot(x,y)/dot(y,y))*y\n",
    "\n",
    "for i in 1:m\n",
    "    v = A[:,i]\n",
    "    for j = 1:i-1\n",
    "        R[j,i] = dot(Q[:,j], v)\n",
    "        v = v - R[j,i]*Q[:,j]\n",
    "    end\n",
    "    R[i,i] = norm(v)\n",
    "    Q[:,i] = v/norm(v)\n",
    "end"
   ]
  },
  {
   "cell_type": "code",
   "execution_count": 5,
   "metadata": {},
   "outputs": [
    {
     "data": {
      "text/plain": [
       "500×500 Array{Float64,2}:\n",
       " 22.1978   0.644536  -0.354733  …   0.856138    -1.15947     0.511489\n",
       "  0.0     21.2599    -0.361727     -0.353212     0.199197   -0.753292\n",
       "  0.0      0.0       21.4122        0.698349     0.394146    0.231447\n",
       "  0.0      0.0        0.0          -0.938626     1.62276     0.151275\n",
       "  0.0      0.0        0.0          -1.65124      1.25223     2.11302 \n",
       "  0.0      0.0        0.0       …  -1.05906      0.919685   -0.537252\n",
       "  0.0      0.0        0.0           0.00177685   0.938728   -0.252029\n",
       "  0.0      0.0        0.0          -2.07886      0.643059   -0.59497 \n",
       "  0.0      0.0        0.0          -1.14673     -2.13023     0.623312\n",
       "  0.0      0.0        0.0          -1.70066     -1.36282    -0.268954\n",
       "  0.0      0.0        0.0       …  -0.534275     0.615198    0.438148\n",
       "  0.0      0.0        0.0          -2.29079      1.04872     0.775531\n",
       "  0.0      0.0        0.0           1.16478     -0.262231    0.354118\n",
       "  ⋮                             ⋱                                    \n",
       "  0.0      0.0        0.0          -0.964484    -0.808885    0.325939\n",
       "  0.0      0.0        0.0          -0.0023747   -0.977603   -1.2755  \n",
       "  0.0      0.0        0.0       …   0.0713521    0.568373   -0.8986  \n",
       "  0.0      0.0        0.0           0.412982     0.264899   -0.18604 \n",
       "  0.0      0.0        0.0          -0.713158     0.47856    -0.929284\n",
       "  0.0      0.0        0.0           0.245148     0.625801   -0.559943\n",
       "  0.0      0.0        0.0          -0.560827     0.0613244   1.5142  \n",
       "  0.0      0.0        0.0       …   0.327275    -0.360677   -0.303717\n",
       "  0.0      0.0        0.0           0.679237    -0.778399   -0.682501\n",
       "  0.0      0.0        0.0           1.02917     -0.802511   -1.69494 \n",
       "  0.0      0.0        0.0           0.0          3.06033     0.462623\n",
       "  0.0      0.0        0.0           0.0          0.0         0.216127"
      ]
     },
     "execution_count": 5,
     "metadata": {},
     "output_type": "execute_result"
    }
   ],
   "source": [
    "R"
   ]
  },
  {
   "cell_type": "code",
   "execution_count": 3,
   "metadata": {},
   "outputs": [
    {
     "data": {
      "text/plain": [
       "-3.2559946492455305e-18"
      ]
     },
     "execution_count": 3,
     "metadata": {},
     "output_type": "execute_result"
    }
   ],
   "source": [
    "dot(Q[:,3],Q[:,5])"
   ]
  },
  {
   "cell_type": "code",
   "execution_count": 188,
   "metadata": {},
   "outputs": [
    {
     "data": {
      "text/plain": [
       "4×4 Array{Float64,2}:\n",
       " -0.935014   -0.233957    -0.265198   -0.0261295 \n",
       " -0.233957    0.971713    -0.0320642  -0.00315923\n",
       " -0.265198   -0.0320642    0.963654   -0.0035811 \n",
       " -0.0261295  -0.00315923  -0.0035811   0.999647  "
      ]
     },
     "execution_count": 188,
     "metadata": {},
     "output_type": "execute_result"
    }
   ],
   "source": [
    "#Householder Transformation\n",
    "\n",
    "m = 4\n",
    "Q = 1.0*Matrix(I, m, m)\n",
    "Q1 = 1.0*Matrix(I, m, m)\n",
    "A = randn(m, m)\n",
    "R = A\n",
    "\n",
    "e1 = zeros(m)\n",
    "e1[1] = 1.0\n",
    "\n",
    "u = A[:,1] + sign(A[1,1])norm(A[:,1])e1\n",
    "v = u/norm(u)\n",
    "F = I - 2v*v'\n",
    "R[1:end,1:end] = F*R[1:end,1:end]\n",
    "Q1[1:end,1:end] = F[1:end,1:end]\n",
    "Q = Q1*Q"
   ]
  },
  {
   "cell_type": "code",
   "execution_count": 189,
   "metadata": {},
   "outputs": [
    {
     "data": {
      "text/plain": [
       "6.938893903907228e-17"
      ]
     },
     "execution_count": 189,
     "metadata": {},
     "output_type": "execute_result"
    }
   ],
   "source": [
    "Q1 = 1.0*Matrix(I, m, m)\n",
    "e2 = zeros(m-1)\n",
    "e2[1] = 1.0\n",
    "v = R[2:end,2] + sign(R[2,2])*norm(R[2:end,2])*e2\n",
    "v = v/norm(v)\n",
    "F = I - 2*v*v'\n",
    "R[2:end,2:end] = F*R[2:end,2:end]\n",
    "Q1[2:end,2:end] = F[1:end,1:end]\n",
    "Q = Q1*Q\n",
    "dot(Q[:,1],Q[:,2])"
   ]
  },
  {
   "cell_type": "code",
   "execution_count": 190,
   "metadata": {},
   "outputs": [
    {
     "data": {
      "text/plain": [
       "4×4 Array{Float64,2}:\n",
       " -0.935014   -0.233957  -0.265198  -0.0261295\n",
       " -0.0259711  -0.498713   0.5937    -0.630977 \n",
       "  0.345802   -0.532247  -0.722702  -0.273561 \n",
       "  0.0741272  -0.642855   0.234291   0.7255   "
      ]
     },
     "execution_count": 190,
     "metadata": {},
     "output_type": "execute_result"
    }
   ],
   "source": [
    "Q1 = 1.0*Matrix(I, m, m)\n",
    "e3 = zeros(m-2)\n",
    "e3[1] = 1.0\n",
    "v = R[3:end,3] + sign(R[3,3])*norm(R[3:end,3])*e3\n",
    "v = v/norm(v)\n",
    "F = I - 2*v*v'\n",
    "R[3:end,3:end] = F*R[3:end,3:end]\n",
    "Q1[3:end,3:end] = F[1:end,1:end]\n",
    "Q = Q1*Q"
   ]
  },
  {
   "cell_type": "code",
   "execution_count": 231,
   "metadata": {},
   "outputs": [],
   "source": [
    "m = 6\n",
    "Q = 1.0*Matrix(I,m,m)\n",
    "A = randn(m,m)\n",
    "R = deepcopy(A)\n",
    "for i in 1:m-1\n",
    "    #create the unit vector along which reflection is desired\n",
    "    e = zeros(m-i+1)\n",
    "    e[1] = 1.0\n",
    "    \n",
    "    #create the projection matrix about plane perpendicular to v\n",
    "    #this reflects the ith column of A and gives the ith column of Q \n",
    "    v = R[i:end,i] + sign(R[i,i])*norm(R[i:end,i])*e\n",
    "    v = v/norm(v)\n",
    "    F = I - 2*v*v'\n",
    "    \n",
    "    #create Qi = Qi-1 * ... Q3 * Q2 * Q1\n",
    "    #it has the form Q = [I 0;0 F]\n",
    "    Q1 = 1.0*Matrix(I, m, m)\n",
    "    Q1[i:end,i:end] = F[1:end,1:end]\n",
    "    Q = Q1*Q\n",
    "    \n",
    "    #create R\n",
    "    R[i:end,i:end] = F*R[i:end,i:end]\n",
    "end\n",
    "Q = Q';"
   ]
  },
  {
   "cell_type": "code",
   "execution_count": 233,
   "metadata": {},
   "outputs": [
    {
     "data": {
      "text/plain": [
       "6×6 Array{Float64,2}:\n",
       "  1.47105e-15   1.33227e-15   2.22045e-16  …   4.16334e-17   8.88178e-16\n",
       " -8.88178e-16   0.0          -4.44089e-16      3.05311e-16  -6.66134e-16\n",
       "  4.44089e-16  -1.55431e-15  -7.21645e-16      1.11022e-16  -4.44089e-16\n",
       "  8.88178e-16   1.11022e-15   4.44089e-16     -2.22045e-16   1.11022e-16\n",
       " -2.22045e-16  -1.66533e-16   3.33067e-16      0.0          -6.34909e-16\n",
       "  1.11022e-16   2.22045e-16   1.11022e-16  …  -1.11022e-16   8.32667e-17"
      ]
     },
     "execution_count": 233,
     "metadata": {},
     "output_type": "execute_result"
    }
   ],
   "source": [
    "Q*R - A"
   ]
  },
  {
   "cell_type": "code",
   "execution_count": 220,
   "metadata": {},
   "outputs": [
    {
     "data": {
      "text/plain": [
       "6×6 Array{Float64,2}:\n",
       " -0.673313   1.80887    -0.190228   -0.0384109   0.653684   0.91424 \n",
       "  1.59348   -0.0586789  -1.4138     -1.63921     0.806982  -0.139544\n",
       "  1.1063    -0.455713   -0.0319577  -1.01237    -0.807085  -1.08195 \n",
       "  0.765978  -0.119828   -1.66477    -0.843201    0.475535   0.727962\n",
       "  0.384767   1.3026      0.0287265  -1.503       0.981132   0.847528\n",
       " -0.944449   0.305023    1.28962    -0.363126   -0.460456  -0.252057"
      ]
     },
     "execution_count": 220,
     "metadata": {},
     "output_type": "execute_result"
    }
   ],
   "source": [
    "A"
   ]
  },
  {
   "cell_type": "code",
   "execution_count": 198,
   "metadata": {},
   "outputs": [
    {
     "data": {
      "text/plain": [
       "-2.949029909160572e-16"
      ]
     },
     "execution_count": 198,
     "metadata": {},
     "output_type": "execute_result"
    }
   ],
   "source": [
    "dot(Q[:,1],Q[:,3])"
   ]
  },
  {
   "cell_type": "code",
   "execution_count": 205,
   "metadata": {},
   "outputs": [
    {
     "data": {
      "text/plain": [
       "600"
      ]
     },
     "execution_count": 205,
     "metadata": {},
     "output_type": "execute_result"
    }
   ],
   "source": [
    "size(Q)[1]"
   ]
  },
  {
   "cell_type": "code",
   "execution_count": null,
   "metadata": {},
   "outputs": [],
   "source": []
  }
 ],
 "metadata": {
  "kernelspec": {
   "display_name": "Julia 1.0.5",
   "language": "julia",
   "name": "julia-1.0"
  },
  "language_info": {
   "file_extension": ".jl",
   "mimetype": "application/julia",
   "name": "julia",
   "version": "1.0.5"
  }
 },
 "nbformat": 4,
 "nbformat_minor": 4
}
