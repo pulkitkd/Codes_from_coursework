{
 "cells": [
  {
   "cell_type": "markdown",
   "id": "1768f375",
   "metadata": {},
   "source": [
    "# Say hello world to ML"
   ]
  },
  {
   "cell_type": "markdown",
   "id": "302513d8",
   "metadata": {},
   "source": [
    "### Comparing apples and oranges"
   ]
  },
  {
   "cell_type": "code",
   "execution_count": 29,
   "id": "3da3848c",
   "metadata": {},
   "outputs": [
    {
     "name": "stdout",
     "output_type": "stream",
     "text": [
      "['apple']\n"
     ]
    }
   ],
   "source": [
    "from sklearn import tree\n",
    "features = [[140,1],[130,1],[150,0],[170,0]]\n",
    "labels = ['apple','apple','orange','orange']\n",
    "clf = tree.DecisionTreeClassifier()\n",
    "clf = clf.fit(features, labels)\n",
    "print(clf.predict([[140,1]]))"
   ]
  },
  {
   "cell_type": "markdown",
   "id": "999e4c64",
   "metadata": {},
   "source": [
    "## Write a pipeline\n",
    "\n",
    "### Pipeline with a Decision Tree classifier"
   ]
  },
  {
   "cell_type": "code",
   "execution_count": 1,
   "id": "0737f419-dd04-4234-9861-f42441f003b4",
   "metadata": {
    "scrolled": true
   },
   "outputs": [
    {
     "name": "stdout",
     "output_type": "stream",
     "text": [
      "0.9333333333333333\n"
     ]
    }
   ],
   "source": [
    "from sklearn import datasets\n",
    "iris = datasets.load_iris()\n",
    "\n",
    "X = iris.data\n",
    "y = iris.target\n",
    "\n",
    "from sklearn.model_selection import train_test_split\n",
    "X_train, X_test, y_train, y_test = train_test_split(X, y, test_size = 0.5)\n",
    "\n",
    "from sklearn import tree\n",
    "my_classifier = tree.DecisionTreeClassifier()\n",
    "\n",
    "my_classifier.fit(X_train, y_train)\n",
    "\n",
    "predictions = my_classifier.predict(X_test)\n",
    "# print(predictions)\n",
    "\n",
    "from sklearn.metrics import accuracy_score\n",
    "print(accuracy_score(y_test, predictions))"
   ]
  },
  {
   "cell_type": "markdown",
   "id": "98b7484c",
   "metadata": {},
   "source": [
    "### Pipeline with a KNN classifier"
   ]
  },
  {
   "cell_type": "code",
   "execution_count": 2,
   "id": "30f9c3d4-7b1e-4e7c-9199-7de6e1ee4d77",
   "metadata": {},
   "outputs": [
    {
     "name": "stdout",
     "output_type": "stream",
     "text": [
      "0.9733333333333334\n"
     ]
    }
   ],
   "source": [
    "from sklearn import datasets\n",
    "iris = datasets.load_iris()\n",
    "\n",
    "X = iris.data\n",
    "y = iris.target\n",
    "\n",
    "from sklearn.model_selection import train_test_split\n",
    "X_train, X_test, y_train, y_test = train_test_split(X, y, test_size = 0.5)\n",
    "\n",
    "from sklearn.neighbors import KNeighborsClassifier\n",
    "my_classifier = KNeighborsClassifier()\n",
    "\n",
    "my_classifier.fit(X_train, y_train)\n",
    "\n",
    "predictions = my_classifier.predict(X_test)\n",
    "# print(predictions)\n",
    "\n",
    "from sklearn.metrics import accuracy_score\n",
    "print(accuracy_score(y_test, predictions))"
   ]
  },
  {
   "cell_type": "markdown",
   "id": "ce9acd67",
   "metadata": {},
   "source": [
    "## Writing a basic classifier\n",
    "\n",
    "### A random classifier"
   ]
  },
  {
   "cell_type": "code",
   "execution_count": 15,
   "id": "1d9b86d6-7d3c-4421-9397-85349b845280",
   "metadata": {},
   "outputs": [
    {
     "name": "stdout",
     "output_type": "stream",
     "text": [
      "0.3333333333333333\n"
     ]
    }
   ],
   "source": [
    "#######################################\n",
    "# Random classifier #################\n",
    "\n",
    "import random\n",
    "\n",
    "class random_classifier():\n",
    "    def fit(self, x_train, y_train):\n",
    "        self.x_train = x_train\n",
    "        self.y_train = y_train\n",
    "    \n",
    "    def predict(self, x_test):\n",
    "        predictions = []\n",
    "        for row in x_test:\n",
    "            label = random.choice(self.y_train)\n",
    "            predictions.append(label)\n",
    "        return predictions\n",
    "\n",
    "from sklearn import datasets\n",
    "iris = datasets.load_iris()\n",
    "\n",
    "X = iris.data\n",
    "y = iris.target\n",
    "\n",
    "from sklearn.model_selection import train_test_split\n",
    "X_train, X_test, y_train, y_test = train_test_split(X, y, test_size = 0.5)\n",
    "\n",
    "from sklearn.neighbors import KNeighborsClassifier\n",
    "my_classifier = random_classifier()\n",
    "\n",
    "my_classifier.fit(X_train, y_train)\n",
    "\n",
    "predictions = my_classifier.predict(X_test)\n",
    "# print(predictions)\n",
    "\n",
    "from sklearn.metrics import accuracy_score\n",
    "print(accuracy_score(y_test, predictions))\n"
   ]
  },
  {
   "cell_type": "markdown",
   "id": "e3a24c91",
   "metadata": {},
   "source": [
    "### A simplified version of KNN classifier"
   ]
  },
  {
   "cell_type": "code",
   "execution_count": 22,
   "id": "65a8e8fc-0ddb-492f-83c7-4c83e50328b5",
   "metadata": {},
   "outputs": [
    {
     "name": "stdout",
     "output_type": "stream",
     "text": [
      "0.9466666666666667\n"
     ]
    }
   ],
   "source": [
    "#######################################\n",
    "# Simplified KNN classifier ###########\n",
    "\n",
    "from scipy.spatial import distance\n",
    "\n",
    "def dist(a,b):\n",
    "    return distance.euclidean(a,b)\n",
    "\n",
    "\n",
    "class KNN_classifier():\n",
    "    def fit(self, x_train, y_train):\n",
    "        self.x_train = x_train\n",
    "        self.y_train = y_train\n",
    "        \n",
    "    def closest(self, row):\n",
    "        min_dist = dist(row, self.x_train[0])\n",
    "        min_index = 0\n",
    "        for i in range(1, len(self.x_train)):\n",
    "            d = dist(row, self.x_train[i])\n",
    "            if d < min_dist:\n",
    "                min_dist = d\n",
    "                min_index = i\n",
    "        return self.y_train[min_index]\n",
    "    \n",
    "    def predict(self, x_test):\n",
    "        predictions = []\n",
    "        for row in x_test:\n",
    "            label = self.closest(row)\n",
    "            predictions.append(label)\n",
    "        return predictions\n",
    "\n",
    "from sklearn import datasets\n",
    "iris = datasets.load_iris()\n",
    "\n",
    "X = iris.data\n",
    "y = iris.target\n",
    "\n",
    "from sklearn.model_selection import train_test_split\n",
    "X_train, X_test, y_train, y_test = train_test_split(X, y, test_size = 0.5)\n",
    "\n",
    "from sklearn.neighbors import KNeighborsClassifier\n",
    "my_classifier = KNN_classifier()\n",
    "\n",
    "my_classifier.fit(X_train, y_train)\n",
    "\n",
    "predictions = my_classifier.predict(X_test)\n",
    "# print(predictions)\n",
    "\n",
    "from sklearn.metrics import accuracy_score\n",
    "print(accuracy_score(y_test, predictions))\n"
   ]
  }
 ],
 "metadata": {
  "kernelspec": {
   "display_name": "Python 3 (ipykernel)",
   "language": "python",
   "name": "python3"
  },
  "language_info": {
   "codemirror_mode": {
    "name": "ipython",
    "version": 3
   },
   "file_extension": ".py",
   "mimetype": "text/x-python",
   "name": "python",
   "nbconvert_exporter": "python",
   "pygments_lexer": "ipython3",
   "version": "3.9.7"
  }
 },
 "nbformat": 4,
 "nbformat_minor": 5
}
