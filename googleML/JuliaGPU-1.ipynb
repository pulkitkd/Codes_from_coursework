{
 "cells": [
  {
   "cell_type": "code",
   "execution_count": 1,
   "id": "d5fcdcbf",
   "metadata": {},
   "outputs": [
    {
     "data": {
      "text/plain": [
       "1048576-element Vector{Float32}:\n",
       " 3.0\n",
       " 3.0\n",
       " 3.0\n",
       " 3.0\n",
       " 3.0\n",
       " 3.0\n",
       " 3.0\n",
       " 3.0\n",
       " 3.0\n",
       " 3.0\n",
       " 3.0\n",
       " 3.0\n",
       " 3.0\n",
       " ⋮\n",
       " 3.0\n",
       " 3.0\n",
       " 3.0\n",
       " 3.0\n",
       " 3.0\n",
       " 3.0\n",
       " 3.0\n",
       " 3.0\n",
       " 3.0\n",
       " 3.0\n",
       " 3.0\n",
       " 3.0"
      ]
     },
     "execution_count": 1,
     "metadata": {},
     "output_type": "execute_result"
    }
   ],
   "source": [
    "N = 2^20\n",
    "x = fill(1.0f0, N)  # a vector filled with 1.0 (Float32)\n",
    "y = fill(2.0f0, N)  # a vector filled with 2.0\n",
    "\n",
    "y .+= x             # increment each element of y with the corresponding element of x"
   ]
  },
  {
   "cell_type": "code",
   "execution_count": 2,
   "id": "ee01bbeb",
   "metadata": {},
   "outputs": [
    {
     "data": {
      "text/plain": [
       "\u001b[32m\u001b[1mTest Passed\u001b[22m\u001b[39m\n",
       "  Expression: all(y .== 3.0f0)"
      ]
     },
     "execution_count": 2,
     "metadata": {},
     "output_type": "execute_result"
    }
   ],
   "source": [
    "using Test\n",
    "@test all(y .== 3.0f0)"
   ]
  },
  {
   "cell_type": "code",
   "execution_count": 3,
   "id": "4b7a17dc",
   "metadata": {},
   "outputs": [
    {
     "data": {
      "text/plain": [
       "\u001b[32m\u001b[1mTest Passed\u001b[22m\u001b[39m\n",
       "  Expression: all(y .== 3.0f0)"
      ]
     },
     "execution_count": 3,
     "metadata": {},
     "output_type": "execute_result"
    }
   ],
   "source": [
    "function sequential_add!(y, x)\n",
    "    for i in eachindex(y, x)\n",
    "        @inbounds y[i] += x[i]\n",
    "    end\n",
    "    return nothing\n",
    "end\n",
    "\n",
    "fill!(y, 2)\n",
    "sequential_add!(y, x)\n",
    "@test all(y .== 3.0f0)"
   ]
  },
  {
   "cell_type": "code",
   "execution_count": 4,
   "id": "d916acad",
   "metadata": {},
   "outputs": [
    {
     "data": {
      "text/plain": [
       "\u001b[32m\u001b[1mTest Passed\u001b[22m\u001b[39m\n",
       "  Expression: all(y .== 3.0f0)"
      ]
     },
     "execution_count": 4,
     "metadata": {},
     "output_type": "execute_result"
    }
   ],
   "source": [
    "function parallel_add!(y, x)\n",
    "    Threads.@threads for i in eachindex(y, x)\n",
    "        @inbounds y[i] += x[i]\n",
    "    end\n",
    "    return nothing\n",
    "end\n",
    "\n",
    "fill!(y, 2)\n",
    "parallel_add!(y, x)\n",
    "@test all(y .== 3.0f0)"
   ]
  },
  {
   "cell_type": "code",
   "execution_count": 5,
   "id": "660b7484",
   "metadata": {},
   "outputs": [
    {
     "name": "stdout",
     "output_type": "stream",
     "text": [
      "  156.200 μs (0 allocations: 0 bytes)\n"
     ]
    }
   ],
   "source": [
    "using BenchmarkTools\n",
    "@btime sequential_add!($y, $x)"
   ]
  },
  {
   "cell_type": "code",
   "execution_count": 6,
   "id": "c7ac6bc6",
   "metadata": {},
   "outputs": [
    {
     "name": "stdout",
     "output_type": "stream",
     "text": [
      "  163.600 μs (6 allocations: 672 bytes)\n"
     ]
    }
   ],
   "source": [
    "@btime parallel_add!($y, $x)"
   ]
  },
  {
   "cell_type": "code",
   "execution_count": 7,
   "id": "3438dfd8-e5c1-4b25-82bc-faef15de1236",
   "metadata": {},
   "outputs": [
    {
     "data": {
      "text/plain": [
       "1048576-element CuArray{Float32, 1, CUDA.Mem.DeviceBuffer}:\n",
       " 2.0\n",
       " 2.0\n",
       " 2.0\n",
       " 2.0\n",
       " 2.0\n",
       " 2.0\n",
       " 2.0\n",
       " 2.0\n",
       " 2.0\n",
       " 2.0\n",
       " 2.0\n",
       " 2.0\n",
       " 2.0\n",
       " ⋮\n",
       " 2.0\n",
       " 2.0\n",
       " 2.0\n",
       " 2.0\n",
       " 2.0\n",
       " 2.0\n",
       " 2.0\n",
       " 2.0\n",
       " 2.0\n",
       " 2.0\n",
       " 2.0\n",
       " 2.0"
      ]
     },
     "execution_count": 7,
     "metadata": {},
     "output_type": "execute_result"
    }
   ],
   "source": [
    "using CUDA\n",
    "\n",
    "x_d = CUDA.fill(1.0f0, N)  # a vector stored on the GPU filled with 1.0 (Float32)\n",
    "y_d = CUDA.fill(2.0f0, N)  # a vector stored on the GPU filled with 2.0"
   ]
  },
  {
   "cell_type": "code",
   "execution_count": 8,
   "id": "e7da42a7-9acc-437d-bf36-c1c084b59575",
   "metadata": {},
   "outputs": [
    {
     "data": {
      "text/plain": [
       "\u001b[32m\u001b[1mTest Passed\u001b[22m\u001b[39m\n",
       "  Expression: all(Array(y_d) .== 3.0f0)"
      ]
     },
     "execution_count": 8,
     "metadata": {},
     "output_type": "execute_result"
    }
   ],
   "source": [
    "y_d .+= x_d\n",
    "@test all(Array(y_d) .== 3.0f0)"
   ]
  },
  {
   "cell_type": "code",
   "execution_count": 9,
   "id": "5ce18305-4d0a-4457-bfa0-78a08d886f22",
   "metadata": {},
   "outputs": [
    {
     "data": {
      "text/plain": [
       "add_broadcast! (generic function with 1 method)"
      ]
     },
     "execution_count": 9,
     "metadata": {},
     "output_type": "execute_result"
    }
   ],
   "source": [
    "function add_broadcast!(y, x)\n",
    "    CUDA.@sync y .+= x\n",
    "    return\n",
    "end"
   ]
  },
  {
   "cell_type": "code",
   "execution_count": 10,
   "id": "f433880a-9d3c-4921-9e77-7a994578f354",
   "metadata": {},
   "outputs": [
    {
     "name": "stdout",
     "output_type": "stream",
     "text": [
      "  60.800 μs (23 allocations: 1.61 KiB)\n"
     ]
    }
   ],
   "source": [
    "@btime add_broadcast!($y_d, $x_d)"
   ]
  }
 ],
 "metadata": {
  "kernelspec": {
   "display_name": "Julia 1.7.2",
   "language": "julia",
   "name": "julia-1.7"
  },
  "language_info": {
   "file_extension": ".jl",
   "mimetype": "application/julia",
   "name": "julia",
   "version": "1.7.2"
  }
 },
 "nbformat": 4,
 "nbformat_minor": 5
}
